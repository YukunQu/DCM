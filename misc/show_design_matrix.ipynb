{
 "cells": [
  {
   "cell_type": "code",
   "execution_count": 22,
   "metadata": {
    "collapsed": true
   },
   "outputs": [],
   "source": [
    "import numpy as np\n",
    "import pandas as pd\n",
    "from matplotlib import pyplot as plt\n",
    "from scipy.io import loadmat\n",
    "from os.path import join as opj\n",
    "import os\n",
    "from scipy.stats import pearsonr\n",
    "\n",
    "spm_file1 = r'/mnt/data/DCM/result_backup/2022.11.27/game1/separate_hexagon_2phases_correct_trials/Setall/6fold/sub-032/SPM.mat' # a part of run which have error trials.\n",
    "spm_file2 = r'/mnt/data/DCM/result_backup/2022.11.8/game1/separate_hexagon_2phases_correct_trials/Setall/6fold/sub-032/SPM.mat'# all run\n",
    "\n",
    "spmmat1 = loadmat(spm_file1,struct_as_record=False)\n",
    "spmmat2 = loadmat(spm_file2,struct_as_record=False)"
   ]
  },
  {
   "cell_type": "code",
   "execution_count": 25,
   "outputs": [],
   "source": [
    "names1 = [i[0] for i in spmmat1['SPM'][0][0].xX[0][0].name[0]]\n",
    "names2 = [i[0] for i in spmmat2['SPM'][0][0].xX[0][0].name[0]]"
   ],
   "metadata": {
    "collapsed": false
   }
  },
  {
   "cell_type": "code",
   "execution_count": 26,
   "outputs": [
    {
     "name": "stderr",
     "output_type": "stream",
     "text": [
      "<ipython-input-26-0a2e07d11000>:10: DeprecationWarning: elementwise comparison failed; this will raise an error in the future.\n",
      "  print((designMatrix1==designMatrix2).all())\n"
     ]
    },
    {
     "ename": "AttributeError",
     "evalue": "'bool' object has no attribute 'all'",
     "output_type": "error",
     "traceback": [
      "\u001B[0;31m---------------------------------------------------------------------------\u001B[0m",
      "\u001B[0;31mAttributeError\u001B[0m                            Traceback (most recent call last)",
      "\u001B[0;32m<ipython-input-26-0a2e07d11000>\u001B[0m in \u001B[0;36m<module>\u001B[0;34m\u001B[0m\n\u001B[1;32m      8\u001B[0m \u001B[0mnames2\u001B[0m \u001B[0;34m=\u001B[0m \u001B[0;34m[\u001B[0m\u001B[0mi\u001B[0m\u001B[0;34m[\u001B[0m\u001B[0;36m0\u001B[0m\u001B[0;34m]\u001B[0m \u001B[0;32mfor\u001B[0m \u001B[0mi\u001B[0m \u001B[0;32min\u001B[0m \u001B[0mspmmat2\u001B[0m\u001B[0;34m[\u001B[0m\u001B[0;34m'SPM'\u001B[0m\u001B[0;34m]\u001B[0m\u001B[0;34m[\u001B[0m\u001B[0;36m0\u001B[0m\u001B[0;34m]\u001B[0m\u001B[0;34m[\u001B[0m\u001B[0;36m0\u001B[0m\u001B[0;34m]\u001B[0m\u001B[0;34m.\u001B[0m\u001B[0mxX\u001B[0m\u001B[0;34m[\u001B[0m\u001B[0;36m0\u001B[0m\u001B[0;34m]\u001B[0m\u001B[0;34m[\u001B[0m\u001B[0;36m0\u001B[0m\u001B[0;34m]\u001B[0m\u001B[0;34m.\u001B[0m\u001B[0mname\u001B[0m\u001B[0;34m[\u001B[0m\u001B[0;36m0\u001B[0m\u001B[0;34m]\u001B[0m\u001B[0;34m]\u001B[0m\u001B[0;34m\u001B[0m\u001B[0;34m\u001B[0m\u001B[0m\n\u001B[1;32m      9\u001B[0m \u001B[0;34m\u001B[0m\u001B[0m\n\u001B[0;32m---> 10\u001B[0;31m \u001B[0mprint\u001B[0m\u001B[0;34m(\u001B[0m\u001B[0;34m(\u001B[0m\u001B[0mdesignMatrix1\u001B[0m\u001B[0;34m==\u001B[0m\u001B[0mdesignMatrix2\u001B[0m\u001B[0;34m)\u001B[0m\u001B[0;34m.\u001B[0m\u001B[0mall\u001B[0m\u001B[0;34m(\u001B[0m\u001B[0;34m)\u001B[0m\u001B[0;34m)\u001B[0m\u001B[0;34m\u001B[0m\u001B[0;34m\u001B[0m\u001B[0m\n\u001B[0m\u001B[1;32m     11\u001B[0m \u001B[0;34m\u001B[0m\u001B[0m\n\u001B[1;32m     12\u001B[0m \u001B[0;32mfrom\u001B[0m \u001B[0mscipy\u001B[0m\u001B[0;34m.\u001B[0m\u001B[0mstats\u001B[0m \u001B[0;32mimport\u001B[0m \u001B[0mpearsonr\u001B[0m\u001B[0;34m\u001B[0m\u001B[0;34m\u001B[0m\u001B[0m\n",
      "\u001B[0;31mAttributeError\u001B[0m: 'bool' object has no attribute 'all'"
     ]
    }
   ],
   "source": [
    "designMatrix1 = spmmat1['SPM'][0][0].xX[0][0].X\n",
    "designMatrix2 = spmmat2['SPM'][0][0].xX[0][0].X\n",
    "\n",
    "designMatrix1 = np.round(designMatrix1.astype('float32'),decimals=5)\n",
    "designMatrix2 = np.round(designMatrix2.astype('float32'),decimals=5)\n",
    "\n",
    "names1 = [i[0] for i in spmmat1['SPM'][0][0].xX[0][0].name[0]]\n",
    "names2 = [i[0] for i in spmmat2['SPM'][0][0].xX[0][0].name[0]]\n",
    "\n",
    "print((designMatrix1==designMatrix2).all())\n",
    "\n",
    "from scipy.stats import pearsonr\n",
    "r,p = pearsonr(designMatrix1.reshape(-1),designMatrix2.reshape(-1))\n",
    "print(r,p)"
   ],
   "metadata": {
    "collapsed": false
   }
  },
  {
   "cell_type": "code",
   "execution_count": 14,
   "outputs": [
    {
     "name": "stderr",
     "output_type": "stream",
     "text": [
      "<ipython-input-14-718aab9df919>:10: DeprecationWarning: elementwise comparison failed; this will raise an error in the future.\n",
      "  print((designMatrix1==designMatrix2).all())\n"
     ]
    },
    {
     "ename": "AttributeError",
     "evalue": "'bool' object has no attribute 'all'",
     "output_type": "error",
     "traceback": [
      "\u001B[0;31m---------------------------------------------------------------------------\u001B[0m",
      "\u001B[0;31mAttributeError\u001B[0m                            Traceback (most recent call last)",
      "\u001B[0;32m<ipython-input-14-718aab9df919>\u001B[0m in \u001B[0;36m<module>\u001B[0;34m\u001B[0m\n\u001B[1;32m      8\u001B[0m \u001B[0mnames2\u001B[0m \u001B[0;34m=\u001B[0m \u001B[0;34m[\u001B[0m\u001B[0mi\u001B[0m\u001B[0;34m[\u001B[0m\u001B[0;36m0\u001B[0m\u001B[0;34m]\u001B[0m \u001B[0;32mfor\u001B[0m \u001B[0mi\u001B[0m \u001B[0;32min\u001B[0m \u001B[0mspmmat2\u001B[0m\u001B[0;34m[\u001B[0m\u001B[0;34m'SPM'\u001B[0m\u001B[0;34m]\u001B[0m\u001B[0;34m[\u001B[0m\u001B[0;36m0\u001B[0m\u001B[0;34m]\u001B[0m\u001B[0;34m[\u001B[0m\u001B[0;36m0\u001B[0m\u001B[0;34m]\u001B[0m\u001B[0;34m.\u001B[0m\u001B[0mxX\u001B[0m\u001B[0;34m[\u001B[0m\u001B[0;36m0\u001B[0m\u001B[0;34m]\u001B[0m\u001B[0;34m[\u001B[0m\u001B[0;36m0\u001B[0m\u001B[0;34m]\u001B[0m\u001B[0;34m.\u001B[0m\u001B[0mname\u001B[0m\u001B[0;34m[\u001B[0m\u001B[0;36m0\u001B[0m\u001B[0;34m]\u001B[0m\u001B[0;34m]\u001B[0m\u001B[0;34m\u001B[0m\u001B[0;34m\u001B[0m\u001B[0m\n\u001B[1;32m      9\u001B[0m \u001B[0;34m\u001B[0m\u001B[0m\n\u001B[0;32m---> 10\u001B[0;31m \u001B[0mprint\u001B[0m\u001B[0;34m(\u001B[0m\u001B[0;34m(\u001B[0m\u001B[0mdesignMatrix1\u001B[0m\u001B[0;34m==\u001B[0m\u001B[0mdesignMatrix2\u001B[0m\u001B[0;34m)\u001B[0m\u001B[0;34m.\u001B[0m\u001B[0mall\u001B[0m\u001B[0;34m(\u001B[0m\u001B[0;34m)\u001B[0m\u001B[0;34m)\u001B[0m\u001B[0;34m\u001B[0m\u001B[0;34m\u001B[0m\u001B[0m\n\u001B[0m\u001B[1;32m     11\u001B[0m \u001B[0mdesign_matrix1\u001B[0m \u001B[0;34m=\u001B[0m \u001B[0mpd\u001B[0m\u001B[0;34m.\u001B[0m\u001B[0mDataFrame\u001B[0m\u001B[0;34m(\u001B[0m\u001B[0mdesignMatrix1\u001B[0m\u001B[0;34m,\u001B[0m \u001B[0mcolumns\u001B[0m\u001B[0;34m=\u001B[0m\u001B[0mnames1\u001B[0m\u001B[0;34m)\u001B[0m\u001B[0;34m\u001B[0m\u001B[0;34m\u001B[0m\u001B[0m\n\u001B[1;32m     12\u001B[0m \u001B[0mdesign_matrix2\u001B[0m \u001B[0;34m=\u001B[0m \u001B[0mpd\u001B[0m\u001B[0;34m.\u001B[0m\u001B[0mDataFrame\u001B[0m\u001B[0;34m(\u001B[0m\u001B[0mdesignMatrix2\u001B[0m\u001B[0;34m,\u001B[0m \u001B[0mcolumns\u001B[0m\u001B[0;34m=\u001B[0m\u001B[0mnames2\u001B[0m\u001B[0;34m)\u001B[0m\u001B[0;34m\u001B[0m\u001B[0;34m\u001B[0m\u001B[0m\n",
      "\u001B[0;31mAttributeError\u001B[0m: 'bool' object has no attribute 'all'"
     ]
    }
   ],
   "source": [
    "designMatrix1 = spmmat1['SPM'][0][0].xX[0][0].nKX\n",
    "designMatrix2 = spmmat2['SPM'][0][0].xX[0][0].nKX\n",
    "\n",
    "designMatrix1 = np.round(designMatrix1.astype('float32'),decimals=5)\n",
    "designMatrix2 = np.round(designMatrix2.astype('float32'),decimals=5)\n",
    "\n",
    "names1 = [i[0] for i in spmmat1['SPM'][0][0].xX[0][0].name[0]]\n",
    "names2 = [i[0] for i in spmmat2['SPM'][0][0].xX[0][0].name[0]]\n",
    "\n",
    "print((designMatrix1==designMatrix2).all())\n",
    "design_matrix1 = pd.DataFrame(designMatrix1, columns=names1)\n",
    "design_matrix2 = pd.DataFrame(designMatrix2, columns=names2)\n",
    "\n",
    "r,p = pearsonr(designMatrix1.reshape(-1),designMatrix2.reshape(-1))\n",
    "print(r,p)"
   ],
   "metadata": {
    "collapsed": false
   }
  },
  {
   "cell_type": "code",
   "execution_count": 31,
   "outputs": [
    {
     "name": "stderr",
     "output_type": "stream",
     "text": [
      "<ipython-input-31-8494b0a1d3b3>:1: DeprecationWarning: elementwise comparison failed; this will raise an error in the future.\n",
      "  (designMatrix1==designMatrix2)\n"
     ]
    },
    {
     "data": {
      "text/plain": "False"
     },
     "execution_count": 31,
     "metadata": {},
     "output_type": "execute_result"
    }
   ],
   "source": [],
   "metadata": {
    "collapsed": false
   }
  },
  {
   "cell_type": "code",
   "execution_count": 3,
   "outputs": [
    {
     "name": "stderr",
     "output_type": "stream",
     "text": [
      "<ipython-input-3-0b39043ddc27>:1: DeprecationWarning: elementwise comparison failed; this will raise an error in the future.\n",
      "  diff_matrix = designMatrix1 == designMatrix2\n"
     ]
    },
    {
     "ename": "TypeError",
     "evalue": "'bool' object is not subscriptable",
     "output_type": "error",
     "traceback": [
      "\u001B[0;31m---------------------------------------------------------------------------\u001B[0m",
      "\u001B[0;31mTypeError\u001B[0m                                 Traceback (most recent call last)",
      "\u001B[0;32m<ipython-input-3-0b39043ddc27>\u001B[0m in \u001B[0;36m<module>\u001B[0;34m\u001B[0m\n\u001B[1;32m      1\u001B[0m \u001B[0mdiff_matrix\u001B[0m \u001B[0;34m=\u001B[0m \u001B[0mdesignMatrix1\u001B[0m \u001B[0;34m==\u001B[0m \u001B[0mdesignMatrix2\u001B[0m\u001B[0;34m\u001B[0m\u001B[0;34m\u001B[0m\u001B[0m\n\u001B[1;32m      2\u001B[0m \u001B[0;32mfor\u001B[0m \u001B[0mi\u001B[0m\u001B[0;34m,\u001B[0m\u001B[0mc\u001B[0m \u001B[0;32min\u001B[0m \u001B[0mzip\u001B[0m\u001B[0;34m(\u001B[0m\u001B[0mrange\u001B[0m\u001B[0;34m(\u001B[0m\u001B[0;36m102\u001B[0m\u001B[0;34m)\u001B[0m\u001B[0;34m,\u001B[0m\u001B[0mnames1\u001B[0m\u001B[0;34m)\u001B[0m\u001B[0;34m:\u001B[0m\u001B[0;34m\u001B[0m\u001B[0;34m\u001B[0m\u001B[0m\n\u001B[0;32m----> 3\u001B[0;31m     \u001B[0msum_num\u001B[0m \u001B[0;34m=\u001B[0m \u001B[0mdiff_matrix\u001B[0m\u001B[0;34m[\u001B[0m\u001B[0;34m:\u001B[0m\u001B[0;34m,\u001B[0m\u001B[0mi\u001B[0m\u001B[0;34m]\u001B[0m\u001B[0;34m.\u001B[0m\u001B[0msum\u001B[0m\u001B[0;34m(\u001B[0m\u001B[0;34m)\u001B[0m\u001B[0;34m\u001B[0m\u001B[0;34m\u001B[0m\u001B[0m\n\u001B[0m\u001B[1;32m      4\u001B[0m     \u001B[0;32mif\u001B[0m \u001B[0msum_num\u001B[0m \u001B[0;34m!=\u001B[0m \u001B[0;36m980\u001B[0m\u001B[0;34m:\u001B[0m\u001B[0;34m\u001B[0m\u001B[0;34m\u001B[0m\u001B[0m\n\u001B[1;32m      5\u001B[0m         \u001B[0mprint\u001B[0m\u001B[0;34m(\u001B[0m\u001B[0mc\u001B[0m\u001B[0;34m)\u001B[0m\u001B[0;34m\u001B[0m\u001B[0;34m\u001B[0m\u001B[0m\n",
      "\u001B[0;31mTypeError\u001B[0m: 'bool' object is not subscriptable"
     ]
    }
   ],
   "source": [
    "diff_matrix = designMatrix1 == designMatrix2\n",
    "for i,c in zip(range(102),names1):\n",
    "    sum_num = diff_matrix[:,i].sum()\n",
    "    if sum_num != 980:\n",
    "        print(c)\n",
    "        print(sum_num)"
   ],
   "metadata": {
    "collapsed": false
   }
  },
  {
   "cell_type": "code",
   "execution_count": 10,
   "outputs": [],
   "source": [
    "from misc.load_spm import SPMfile\n",
    "spm_file = SPMfile('/mnt/workdir/DCM/BIDS/derivatives/Nipype/working_dir/game1/distance_spct/Setall/6fold/work_1st/_subj_id_031/level1conest/SPM.mat')"
   ],
   "metadata": {
    "collapsed": false
   }
  },
  {
   "cell_type": "code",
   "execution_count": 11,
   "outputs": [
    {
     "data": {
      "text/plain": "     Sn(1) M1*bf(1)  Sn(1) M2_corr*bf(1)  Sn(1) M2_corrxdistance^1*bf(1)  \\\n0          0.000000                  0.0                             0.0   \n1          0.089908                  0.0                             0.0   \n2          0.615282                  0.0                             0.0   \n3          0.540060                  0.0                             0.0   \n4          0.151241                  0.0                             0.0   \n..              ...                  ...                             ...   \n975        0.000000                  0.0                             0.0   \n976        0.000000                  0.0                             0.0   \n977        0.000000                  0.0                             0.0   \n978        0.000000                  0.0                             0.0   \n979        0.000000                  0.0                             0.0   \n\n     Sn(1) M2_error*bf(1)  Sn(1) decision_corr*bf(1)  \\\n0                0.000000                        0.0   \n1                0.000000                        0.0   \n2                0.035692                        0.0   \n3                0.452444                        0.0   \n4                0.388090                        0.0   \n..                    ...                        ...   \n975              0.000000                        0.0   \n976              0.000000                        0.0   \n977              0.000000                        0.0   \n978              0.000000                        0.0   \n979              0.000000                        0.0   \n\n     Sn(1) decision_corrxdistance^1*bf(1)  Sn(1) decision_error*bf(1)  \\\n0                                     0.0                    0.000000   \n1                                     0.0                    0.000000   \n2                                     0.0                    0.000000   \n3                                     0.0                    0.000749   \n4                                     0.0                    0.169809   \n..                                    ...                         ...   \n975                                   0.0                    0.000000   \n976                                   0.0                    0.000000   \n977                                   0.0                    0.000000   \n978                                   0.0                    0.000000   \n979                                   0.0                    0.000000   \n\n     Sn(1) trans_x  Sn(1) trans_y  Sn(1) trans_z  ...  Sn(6) rot_y  \\\n0        -0.035761      -0.560449      -0.295481  ...     0.000000   \n1        -0.037098      -0.490463      -0.238083  ...     0.000000   \n2        -0.034421      -0.500075      -0.222549  ...     0.000000   \n3        -0.030035      -0.473559      -0.154853  ...     0.000000   \n4        -0.032727      -0.317535      -0.103417  ...     0.000000   \n..             ...            ...            ...  ...          ...   \n975       0.000000       0.000000       0.000000  ...    -0.000031   \n976       0.000000       0.000000       0.000000  ...     0.000263   \n977       0.000000       0.000000       0.000000  ...     0.000306   \n978       0.000000       0.000000       0.000000  ...    -0.000031   \n979       0.000000       0.000000       0.000000  ...     0.000013   \n\n     Sn(6) rot_z  Sn(6) csf  Sn(6) white_matter  Sn(1) constant  \\\n0       0.000000   0.000000            0.000000             1.0   \n1       0.000000   0.000000            0.000000             1.0   \n2       0.000000   0.000000            0.000000             1.0   \n3       0.000000   0.000000            0.000000             1.0   \n4       0.000000   0.000000            0.000000             1.0   \n..           ...        ...                 ...             ...   \n975     0.001445 -15.507247           -5.065361             0.0   \n976     0.001512  -2.013456           -7.029405             0.0   \n977     0.000942  -7.323095           16.875446             0.0   \n978     0.000487   0.398803           14.931156             0.0   \n979     0.000501 -28.368573            1.165158             0.0   \n\n     Sn(2) constant  Sn(3) constant  Sn(4) constant  Sn(5) constant  \\\n0               0.0             0.0             0.0             0.0   \n1               0.0             0.0             0.0             0.0   \n2               0.0             0.0             0.0             0.0   \n3               0.0             0.0             0.0             0.0   \n4               0.0             0.0             0.0             0.0   \n..              ...             ...             ...             ...   \n975             0.0             0.0             0.0             0.0   \n976             0.0             0.0             0.0             0.0   \n977             0.0             0.0             0.0             0.0   \n978             0.0             0.0             0.0             0.0   \n979             0.0             0.0             0.0             0.0   \n\n     Sn(6) constant  \n0               0.0  \n1               0.0  \n2               0.0  \n3               0.0  \n4               0.0  \n..              ...  \n975             1.0  \n976             1.0  \n977             1.0  \n978             1.0  \n979             1.0  \n\n[980 rows x 96 columns]",
      "text/html": "<div>\n<style scoped>\n    .dataframe tbody tr th:only-of-type {\n        vertical-align: middle;\n    }\n\n    .dataframe tbody tr th {\n        vertical-align: top;\n    }\n\n    .dataframe thead th {\n        text-align: right;\n    }\n</style>\n<table border=\"1\" class=\"dataframe\">\n  <thead>\n    <tr style=\"text-align: right;\">\n      <th></th>\n      <th>Sn(1) M1*bf(1)</th>\n      <th>Sn(1) M2_corr*bf(1)</th>\n      <th>Sn(1) M2_corrxdistance^1*bf(1)</th>\n      <th>Sn(1) M2_error*bf(1)</th>\n      <th>Sn(1) decision_corr*bf(1)</th>\n      <th>Sn(1) decision_corrxdistance^1*bf(1)</th>\n      <th>Sn(1) decision_error*bf(1)</th>\n      <th>Sn(1) trans_x</th>\n      <th>Sn(1) trans_y</th>\n      <th>Sn(1) trans_z</th>\n      <th>...</th>\n      <th>Sn(6) rot_y</th>\n      <th>Sn(6) rot_z</th>\n      <th>Sn(6) csf</th>\n      <th>Sn(6) white_matter</th>\n      <th>Sn(1) constant</th>\n      <th>Sn(2) constant</th>\n      <th>Sn(3) constant</th>\n      <th>Sn(4) constant</th>\n      <th>Sn(5) constant</th>\n      <th>Sn(6) constant</th>\n    </tr>\n  </thead>\n  <tbody>\n    <tr>\n      <th>0</th>\n      <td>0.000000</td>\n      <td>0.0</td>\n      <td>0.0</td>\n      <td>0.000000</td>\n      <td>0.0</td>\n      <td>0.0</td>\n      <td>0.000000</td>\n      <td>-0.035761</td>\n      <td>-0.560449</td>\n      <td>-0.295481</td>\n      <td>...</td>\n      <td>0.000000</td>\n      <td>0.000000</td>\n      <td>0.000000</td>\n      <td>0.000000</td>\n      <td>1.0</td>\n      <td>0.0</td>\n      <td>0.0</td>\n      <td>0.0</td>\n      <td>0.0</td>\n      <td>0.0</td>\n    </tr>\n    <tr>\n      <th>1</th>\n      <td>0.089908</td>\n      <td>0.0</td>\n      <td>0.0</td>\n      <td>0.000000</td>\n      <td>0.0</td>\n      <td>0.0</td>\n      <td>0.000000</td>\n      <td>-0.037098</td>\n      <td>-0.490463</td>\n      <td>-0.238083</td>\n      <td>...</td>\n      <td>0.000000</td>\n      <td>0.000000</td>\n      <td>0.000000</td>\n      <td>0.000000</td>\n      <td>1.0</td>\n      <td>0.0</td>\n      <td>0.0</td>\n      <td>0.0</td>\n      <td>0.0</td>\n      <td>0.0</td>\n    </tr>\n    <tr>\n      <th>2</th>\n      <td>0.615282</td>\n      <td>0.0</td>\n      <td>0.0</td>\n      <td>0.035692</td>\n      <td>0.0</td>\n      <td>0.0</td>\n      <td>0.000000</td>\n      <td>-0.034421</td>\n      <td>-0.500075</td>\n      <td>-0.222549</td>\n      <td>...</td>\n      <td>0.000000</td>\n      <td>0.000000</td>\n      <td>0.000000</td>\n      <td>0.000000</td>\n      <td>1.0</td>\n      <td>0.0</td>\n      <td>0.0</td>\n      <td>0.0</td>\n      <td>0.0</td>\n      <td>0.0</td>\n    </tr>\n    <tr>\n      <th>3</th>\n      <td>0.540060</td>\n      <td>0.0</td>\n      <td>0.0</td>\n      <td>0.452444</td>\n      <td>0.0</td>\n      <td>0.0</td>\n      <td>0.000749</td>\n      <td>-0.030035</td>\n      <td>-0.473559</td>\n      <td>-0.154853</td>\n      <td>...</td>\n      <td>0.000000</td>\n      <td>0.000000</td>\n      <td>0.000000</td>\n      <td>0.000000</td>\n      <td>1.0</td>\n      <td>0.0</td>\n      <td>0.0</td>\n      <td>0.0</td>\n      <td>0.0</td>\n      <td>0.0</td>\n    </tr>\n    <tr>\n      <th>4</th>\n      <td>0.151241</td>\n      <td>0.0</td>\n      <td>0.0</td>\n      <td>0.388090</td>\n      <td>0.0</td>\n      <td>0.0</td>\n      <td>0.169809</td>\n      <td>-0.032727</td>\n      <td>-0.317535</td>\n      <td>-0.103417</td>\n      <td>...</td>\n      <td>0.000000</td>\n      <td>0.000000</td>\n      <td>0.000000</td>\n      <td>0.000000</td>\n      <td>1.0</td>\n      <td>0.0</td>\n      <td>0.0</td>\n      <td>0.0</td>\n      <td>0.0</td>\n      <td>0.0</td>\n    </tr>\n    <tr>\n      <th>...</th>\n      <td>...</td>\n      <td>...</td>\n      <td>...</td>\n      <td>...</td>\n      <td>...</td>\n      <td>...</td>\n      <td>...</td>\n      <td>...</td>\n      <td>...</td>\n      <td>...</td>\n      <td>...</td>\n      <td>...</td>\n      <td>...</td>\n      <td>...</td>\n      <td>...</td>\n      <td>...</td>\n      <td>...</td>\n      <td>...</td>\n      <td>...</td>\n      <td>...</td>\n      <td>...</td>\n    </tr>\n    <tr>\n      <th>975</th>\n      <td>0.000000</td>\n      <td>0.0</td>\n      <td>0.0</td>\n      <td>0.000000</td>\n      <td>0.0</td>\n      <td>0.0</td>\n      <td>0.000000</td>\n      <td>0.000000</td>\n      <td>0.000000</td>\n      <td>0.000000</td>\n      <td>...</td>\n      <td>-0.000031</td>\n      <td>0.001445</td>\n      <td>-15.507247</td>\n      <td>-5.065361</td>\n      <td>0.0</td>\n      <td>0.0</td>\n      <td>0.0</td>\n      <td>0.0</td>\n      <td>0.0</td>\n      <td>1.0</td>\n    </tr>\n    <tr>\n      <th>976</th>\n      <td>0.000000</td>\n      <td>0.0</td>\n      <td>0.0</td>\n      <td>0.000000</td>\n      <td>0.0</td>\n      <td>0.0</td>\n      <td>0.000000</td>\n      <td>0.000000</td>\n      <td>0.000000</td>\n      <td>0.000000</td>\n      <td>...</td>\n      <td>0.000263</td>\n      <td>0.001512</td>\n      <td>-2.013456</td>\n      <td>-7.029405</td>\n      <td>0.0</td>\n      <td>0.0</td>\n      <td>0.0</td>\n      <td>0.0</td>\n      <td>0.0</td>\n      <td>1.0</td>\n    </tr>\n    <tr>\n      <th>977</th>\n      <td>0.000000</td>\n      <td>0.0</td>\n      <td>0.0</td>\n      <td>0.000000</td>\n      <td>0.0</td>\n      <td>0.0</td>\n      <td>0.000000</td>\n      <td>0.000000</td>\n      <td>0.000000</td>\n      <td>0.000000</td>\n      <td>...</td>\n      <td>0.000306</td>\n      <td>0.000942</td>\n      <td>-7.323095</td>\n      <td>16.875446</td>\n      <td>0.0</td>\n      <td>0.0</td>\n      <td>0.0</td>\n      <td>0.0</td>\n      <td>0.0</td>\n      <td>1.0</td>\n    </tr>\n    <tr>\n      <th>978</th>\n      <td>0.000000</td>\n      <td>0.0</td>\n      <td>0.0</td>\n      <td>0.000000</td>\n      <td>0.0</td>\n      <td>0.0</td>\n      <td>0.000000</td>\n      <td>0.000000</td>\n      <td>0.000000</td>\n      <td>0.000000</td>\n      <td>...</td>\n      <td>-0.000031</td>\n      <td>0.000487</td>\n      <td>0.398803</td>\n      <td>14.931156</td>\n      <td>0.0</td>\n      <td>0.0</td>\n      <td>0.0</td>\n      <td>0.0</td>\n      <td>0.0</td>\n      <td>1.0</td>\n    </tr>\n    <tr>\n      <th>979</th>\n      <td>0.000000</td>\n      <td>0.0</td>\n      <td>0.0</td>\n      <td>0.000000</td>\n      <td>0.0</td>\n      <td>0.0</td>\n      <td>0.000000</td>\n      <td>0.000000</td>\n      <td>0.000000</td>\n      <td>0.000000</td>\n      <td>...</td>\n      <td>0.000013</td>\n      <td>0.000501</td>\n      <td>-28.368573</td>\n      <td>1.165158</td>\n      <td>0.0</td>\n      <td>0.0</td>\n      <td>0.0</td>\n      <td>0.0</td>\n      <td>0.0</td>\n      <td>1.0</td>\n    </tr>\n  </tbody>\n</table>\n<p>980 rows × 96 columns</p>\n</div>"
     },
     "execution_count": 11,
     "metadata": {},
     "output_type": "execute_result"
    }
   ],
   "source": [
    "spm_file.design_matrix"
   ],
   "metadata": {
    "collapsed": false
   }
  }
 ],
 "metadata": {
  "kernelspec": {
   "display_name": "Python 3",
   "language": "python",
   "name": "python3"
  },
  "language_info": {
   "codemirror_mode": {
    "name": "ipython",
    "version": 2
   },
   "file_extension": ".py",
   "mimetype": "text/x-python",
   "name": "python",
   "nbconvert_exporter": "python",
   "pygments_lexer": "ipython2",
   "version": "2.7.6"
  }
 },
 "nbformat": 4,
 "nbformat_minor": 0
}
