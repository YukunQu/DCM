{
 "cells": [
  {
   "cell_type": "markdown",
   "id": "6bd36e13",
   "metadata": {},
   "source": [
    "## Copy data to new directory"
   ]
  },
  {
   "cell_type": "code",
   "execution_count": null,
   "outputs": [],
   "source": [
    "import matplotlib.pyplot as plt\n",
    "\n",
    "# Define the grid\n",
    "x = [0, 1, 2, 3, 4]\n",
    "y = [0, 1, 2, 3, 4]\n",
    "\n",
    "# Define the arrow endpoints\n",
    "arrow1_start = [0, 0]\n",
    "arrow1_end = [4, 4]\n",
    "arrow2_start = [0, 0]\n",
    "arrow2_end = [1, 1]\n",
    "\n",
    "# Create the plot\n",
    "fig, ax = plt.subplots()\n",
    "\n",
    "# Plot the grid\n",
    "for i in range(len(x)):\n",
    "    for j in range(len(y)):\n",
    "        ax.plot(x[i], y[j], 'o', color='white', markersize=5, mec='black', mew=2)\n",
    "\n",
    "# Add the arrows to the plot\n",
    "ax.arrow(arrow1_start[0], arrow1_start[1], arrow1_end[0]-arrow1_start[0], arrow1_end[1]-arrow1_start[1],\n",
    "         head_width=0.2, head_length=0.2, fc='red', ec='red')\n",
    "ax.arrow(arrow2_start[0], arrow2_start[1], arrow2_end[0]-arrow2_start[0], arrow2_end[1]-arrow2_start[1],\n",
    "         head_width=0.2, head_length=0.2, fc='blue', ec='blue')\n",
    "\n",
    "# Set the axis range and gridlines\n",
    "ax.set_xlim([-0.5, 4.5])\n",
    "ax.set_ylim([-0.5, 4.5])\n",
    "ax.set_xticks(x)\n",
    "ax.set_yticks(y)\n",
    "ax.grid(True)\n",
    "\n",
    "# Set the axis labels\n",
    "ax.set_xlabel('x-axis')\n",
    "ax.set_ylabel('y-axis')\n",
    "\n",
    "# Set the plot title\n",
    "ax.set_title('5x5 Square Grid with Arrows')\n",
    "\n",
    "plt.savefig(\"/home/dell/clash/demo.png\",dpi=300)\n",
    "# Show the plot\n",
    "plt.show()"
   ],
   "metadata": {
    "collapsed": false
   }
  },
  {
   "cell_type": "code",
   "execution_count": null,
   "outputs": [],
   "source": [
    "import numpy as np\n",
    "\n",
    "# Generate 1000 random 100x1 vectors\n",
    "x = np.random.rand(1000, 100)\n",
    "\n",
    "# Initialize vector d\n",
    "d = np.zeros((100, 1))\n",
    "\n",
    "# Define the target mean correlation\n",
    "target_mean_corr = -0.1\n",
    "\n",
    "# Iterate until the mean correlation is close enough to the target value\n",
    "i =0\n",
    "while i>10000:\n",
    "    print(i)\n",
    "    # Calculate the correlations between x and d\n",
    "    corrs = np.dot(x, d)\n",
    "\n",
    "    # Calculate the current mean correlation\n",
    "    mean_corr = np.mean(corrs)\n",
    "\n",
    "    # Calculate the correlation adjustment factor\n",
    "    corr_adjustment = target_mean_corr - mean_corr\n",
    "\n",
    "    # If the mean correlation is close enough to the target value, exit the loop\n",
    "    if abs(corr_adjustment) < 0.01:\n",
    "        break\n",
    "\n",
    "    # Update d by adjusting the correlations with the adjustment factor\n",
    "    d += (corr_adjustment * x.mean(axis=0)).reshape(-1, 1)\n",
    "    i+=1\n",
    "\n",
    "# Check that the final mean correlation is close enough to the target value\n",
    "final_mean_corr = np.mean(np.dot(x, d))\n",
    "print(\"Final mean correlation:\", final_mean_corr)"
   ],
   "metadata": {
    "collapsed": false
   }
  },
  {
   "cell_type": "code",
   "execution_count": null,
   "outputs": [],
   "source": [
    "import os\n",
    "import shutil\n",
    "import pandas as pd\n",
    "from os.path import join as opj\n",
    "\n",
    "source_dir = r'/mnt/data/Project/DCM/BIDS/BIDS'\n",
    "output_dir = r'/mnt/data/tmp/Data2Heli'\n",
    "# read data from source directory\n",
    "participants_tsv = r'/mnt/workdir/DCM/BIDS/participants.tsv'\n",
    "participants_data = pd.read_csv(participants_tsv, sep='\\t')\n",
    "\n",
    "# copy meg data\n",
    "data = participants_data.query('meg_neuro==1')\n",
    "pid = data['Participant_ID'].to_list()\n",
    "subject_list = pid\n",
    "subject_list = ['sub_'+str(id).zfill(3) for id in range(64,83)]\n",
    "\n",
    "# creat directory structure in output directory\n",
    "def copy_meg_resting(sub_id):\n",
    "    original_dir = r'/mnt/workdir/DCM/sourcedata'\n",
    "    output_dir = '/mnt/data/tmp/Data2Heli'\n",
    "\n",
    "    sourMegDir = opj(original_dir, sub_id, 'NeuroData','MEG')\n",
    "    targMegDir = opj(output_dir, sub_id, 'MEG')\n",
    "\n",
    "    if not os.path.exists(targMegDir):\n",
    "        os.makedirs(targMegDir)\n",
    "\n",
    "    file_list = os.listdir(sourMegDir)\n",
    "    target_files = []\n",
    "    for f in file_list:\n",
    "        if 'rest' in f:\n",
    "            target_files.append(f)\n",
    "        else:\n",
    "            continue\n",
    "\n",
    "    for target_file in target_files:\n",
    "        source_file_path = opj(sourMegDir,target_file)\n",
    "        target_file_path = opj(targMegDir,target_file)\n",
    "        if '.fif' in target_file:\n",
    "            shutil.copy(source_file_path,target_file_path)\n",
    "        elif '.ds' in target_file:\n",
    "            shutil.copytree(source_file_path,target_file_path)\n",
    "\n",
    "for sub in subject_list:\n",
    "    copy_meg_resting(sub)"
   ],
   "metadata": {
    "collapsed": false
   }
  },
  {
   "cell_type": "code",
   "execution_count": null,
   "outputs": [],
   "source": [
    "import os\n",
    "import shutil\n",
    "import pandas as pd\n",
    "from os.path import join as opj\n",
    "# copy fmri resting data and T1\n",
    "def copy_mri_resting(sub_id):\n",
    "    original_dir = r'/mnt/workdir/DCM/BIDS'\n",
    "    output_dir = '/mnt/data/tmp/Data2HNY'\n",
    "\n",
    "    sourMriDir = opj(original_dir, sub_id)\n",
    "    targMriDir = opj(output_dir, sub_id.replace('-','-'))\n",
    "\n",
    "    if not os.path.exists(targMriDir):\n",
    "        os.makedirs(targMriDir)\n",
    "    else:\n",
    "        return\n",
    "\n",
    "    mri_modes = ['anat','func','dwi']\n",
    "\n",
    "    for mode in mri_modes:\n",
    "        if mode in ['anat','dwi']:\n",
    "            source_file_path = opj(sourMriDir,mode)\n",
    "            target_file_path = opj(targMriDir,mode)\n",
    "            try:\n",
    "                shutil.copytree(source_file_path,target_file_path)\n",
    "            except:\n",
    "                print(\"The \",sub_id,\"didn't have\", mode)\n",
    "                continue\n",
    "\n",
    "        elif mode == 'func':\n",
    "            file_list = os.listdir(opj(sourMriDir,'func'))\n",
    "            target_files = []\n",
    "            for f in file_list:\n",
    "                if 'rest' in f:\n",
    "                    target_files.append(f)\n",
    "                    #print(f)\n",
    "                else:\n",
    "                    continue\n",
    "            for target_file in target_files:\n",
    "                source_file_path = opj(sourMriDir,mode,target_file)\n",
    "                target_file_path = opj(targMriDir,mode,target_file)\n",
    "                if not os.path.exists(opj(targMriDir,mode)):\n",
    "                    os.makedirs(opj(targMriDir,mode))\n",
    "                shutil.copy(source_file_path,target_file_path)\n",
    "\n",
    "participants_tsv = r'/mnt/workdir/DCM/BIDS/participants.tsv'\n",
    "participants_data = pd.read_csv(participants_tsv, sep='\\t')\n",
    "\n",
    "# copy meg data\n",
    "data = participants_data.query('game1_fmri>=0.5')\n",
    "subject_list = data['Participant_ID'].to_list()\n",
    "subject_list = [s.replace('-','-') for s in subject_list]\n",
    "subject_list.remove('sub-015')\n",
    "\n",
    "for sub in subject_list:\n",
    "    copy_mri_resting(sub)"
   ],
   "metadata": {
    "collapsed": false
   }
  },
  {
   "cell_type": "code",
   "execution_count": null,
   "outputs": [],
   "source": [
    "subject_list[0].rep"
   ],
   "metadata": {
    "collapsed": false
   }
  },
  {
   "cell_type": "markdown",
   "source": [
    "## copy event file to new directory"
   ],
   "metadata": {
    "collapsed": false
   }
  },
  {
   "cell_type": "code",
   "execution_count": null,
   "outputs": [],
   "source": [
    "import os\n",
    "import shutil\n",
    "from os.path import join as opj\n",
    "\n",
    "source_dir = r'/mnt/data/Project/DCM/BIDS/derivatives/fmriprep_surfer'\n",
    "output_dir = r'/mnt/data/Project/DCM/BIDS/derivatives/Events'\n",
    "# read data from source directory\n",
    "sub_list = ['sub-{}'.format(str(idx).zfill(3)) for idx in range(12,48)]\n",
    "# creat directory structure in output directory\n",
    "for i,sub in enumerate(sub_list):\n",
    "    if not os.path.exists(opj(source_dir, sub, 'events')):\n",
    "        print(sub, \" haven't event files.\")\n",
    "        continue\n",
    "    for event_type in ['hexonM2Long', 'hexonM2Short', 'hexonRule']:\n",
    "        souEvPath = opj(source_dir, sub, 'events',event_type)\n",
    "        tarSubdir = (opj(output_dir, sub))\n",
    "        if not os.path.exists(tarSubdir):\n",
    "            os.mkdir(tarSubdir)\n",
    "        tarEvPath = opj(output_dir, sub, event_type)\n",
    "        #shutil.move(souEvPath, tarEvPath)\n",
    "        \n",
    "        try:\n",
    "            shutil.move(souEvPath, tarEvPath)\n",
    "        except:\n",
    "            if os.path.exists(tarEvPath):\n",
    "                print(\"Error: {} file can't be moved!\".format(sub))\n",
    "            else:\n",
    "                print(\"{} haven't {}\".format(sub,event_type))\n",
    "\n",
    "    print(\"————————{} already been copyed. still have {} subject ————————\".format(sub,len(sub_list)-i-1))\n",
    "    os.rmdir(opj(source_dir, sub, 'events'))\n",
    "    "
   ],
   "metadata": {
    "collapsed": false
   }
  },
  {
   "cell_type": "markdown",
   "source": [
    "## Convert formate of event files to fsl format"
   ],
   "metadata": {
    "collapsed": false
   }
  },
  {
   "cell_type": "code",
   "execution_count": null,
   "outputs": [],
   "source": [
    "import os\n",
    "import numpy as np\n",
    "import pandas as pd \n",
    "from os.path import join as opj\n",
    "\n",
    "\n",
    "def ev2fsl(ev_file,save_dir,prefix):\n",
    "    ev_info = pd.read_csv(ev_file, sep='\\t')\n",
    "    for group in ev_info.groupby('trial_type'):\n",
    "        condition = group[0]\n",
    "        onsets = np.array(group[1].onset.tolist())\n",
    "        durations = np.array(group[1].duration.tolist())\n",
    "        if condition in ['sin','cos']:\n",
    "            amplitudes = np.array(group[1].modulation.tolist())\n",
    "        else:\n",
    "            amplitudes = np.array([1]*len(onsets))\n",
    "        fsl_ev = np.array([onsets,durations,amplitudes]).T.astype('float32')\n",
    "        #os.makedirs(save_dir)\n",
    "        np.savetxt(opj(save_dir,'{}_{}.txt'.format(prefix,condition)),fsl_ev,fmt='%.02f',delimiter='\\t') # dilimiter: Tab\n",
    "\n",
    "        \n",
    "        \n",
    "def game1tofsl(ev_dir,save_dir,ev_template):\n",
    "    for i in range(1,7):\n",
    "        ev_file = opj(ev_dir,ev_template.format(i))\n",
    "        ev2fsl(ev_file,save_dir,'run{}'.format(i))\n",
    "\n",
    "\n",
    "        \n",
    "ev_dir=  r'/mnt/data/Project/DCM/BIDS/derivatives/Events/sub-046/hexonM2Short/6fold'\n",
    "save_dir= r'/mnt/data/Project/DCM/BIDS/derivatives/Events/sub-046/fsl/hexonM2Short/6fold'\n",
    "os.makedirs(save_dir)\n",
    "ev_template= r'sub-046_task-game1_run-{}_events.tsv'\n",
    "\n",
    "game1tofsl(ev_dir,save_dir,ev_template)"
   ],
   "metadata": {
    "collapsed": false
   }
  },
  {
   "cell_type": "markdown",
   "source": [
    "## sum mask"
   ],
   "metadata": {
    "collapsed": false
   }
  },
  {
   "cell_type": "code",
   "execution_count": null,
   "outputs": [],
   "source": [
    "from nilearn.image import load_img,resample_to_img,math_img,new_img_like\n",
    "\n",
    "mask1 = load_img(r'/mnt/data/Template/EC_prob_roi.nii.gz')\n",
    "mask2 = load_img(r'/mnt/data/Template/EC_anatomy_roi.nii.gz')\n",
    "tar_img = load_img(r'/mnt/data/Project/DCM/BIDS/derivatives/fmriprep_surfer/sub-010/anat/sub-010_space-MNI152NLin2009cAsym_res-2_desc-preproc_T1w.nii.gz')\n",
    "mask1_tar = resample_to_img(mask1,tar_img,interpolation='nearest')\n",
    "mask2_tar = resample_to_img(mask2,tar_img,interpolation='nearest')\n",
    "\n",
    "mask1_data = mask1_tar.get_fdata()\n",
    "mask2_data = mask2_tar.get_fdata()\n",
    "mask_sum = mask1_data + mask2_data[:,:,:,0]\n",
    "mask_sum[mask_sum!=0]=1\n",
    "mask_sum_img = new_img_like(mask1_tar,mask_sum)\n",
    "mask_sum_img.to_filename(r'/mnt/data/Template/EC_roi_sum.nii.gz')"
   ],
   "metadata": {
    "collapsed": false
   }
  },
  {
   "cell_type": "markdown",
   "source": [
    "## extract EC mask from probabilistic atlas"
   ],
   "metadata": {
    "collapsed": false
   }
  },
  {
   "cell_type": "code",
   "execution_count": null,
   "outputs": [],
   "source": [
    "import numpy as np\n",
    "\n",
    "from nilearn.image import load_img,new_img_like\n",
    "\n",
    "\n",
    "def extract_sp_val(promap_data,sp_val):\n",
    "    '''extract special value map:\n",
    "    Parameters:\n",
    "    promap    :  3d array,1-3 repersents xyz coorodinates\n",
    "    sp_val :  special value will be extracted and binaryzed.'''\n",
    "    coordinate_shape = promap_data.shape\n",
    "    extract_map = np.zeros(coordinate_shape)\n",
    "    for i in sp_val:\n",
    "        extract_map[promap_data[:, :, :] == i] = 1\n",
    "    return extract_map\n",
    "\n",
    "\n",
    "atlas_path = r'/mnt/workdir/DCM/docs/Reference/EC_ROI/Juelich-maxprob-thr50-2mm.nii.gz'\n",
    "atlas = load_img(atlas_path)\n",
    "prob_map = atlas.get_fdata()\n",
    "\n",
    "ec_mask = extract_sp_val(prob_map,[19,20])\n",
    "ec = new_img_like(atlas,ec_mask,affine=atlas.affine)\n",
    "ec.to_filename(r'/mnt/workdir/DCM/docs/Reference/EC_ROI/EC-thr50-2mm.nii.gz')"
   ],
   "metadata": {
    "collapsed": false
   }
  },
  {
   "cell_type": "code",
   "execution_count": 1,
   "outputs": [
    {
     "ename": "ValueError",
     "evalue": "No files matching path: /mnt/workdir/DCM/BIDS/derivatives/fmriprep_surfer/sourcedata/freesurfer/fsaverage/surf/lh.white",
     "output_type": "error",
     "traceback": [
      "\u001B[0;31m---------------------------------------------------------------------------\u001B[0m",
      "\u001B[0;31mValueError\u001B[0m                                Traceback (most recent call last)",
      "\u001B[0;32m<ipython-input-1-3f11653d48cb>\u001B[0m in \u001B[0;36m<module>\u001B[0;34m\u001B[0m\n\u001B[1;32m      3\u001B[0m \u001B[0msurf_map\u001B[0m \u001B[0;34m=\u001B[0m \u001B[0;34mr'/mnt/workdir/DCM/docs/Reference/EC_ROI/surfer/Juelich_maxprob_thr0_2mm/1395.L.func.gii'\u001B[0m\u001B[0;34m\u001B[0m\u001B[0;34m\u001B[0m\u001B[0m\n\u001B[1;32m      4\u001B[0m \u001B[0;34m\u001B[0m\u001B[0m\n\u001B[0;32m----> 5\u001B[0;31m \u001B[0mplt_surf\u001B[0m \u001B[0;34m=\u001B[0m \u001B[0mplotting\u001B[0m\u001B[0;34m.\u001B[0m\u001B[0mview_surf\u001B[0m\u001B[0;34m(\u001B[0m\u001B[0msurf_mesh\u001B[0m\u001B[0;34m,\u001B[0m\u001B[0msurf_map\u001B[0m\u001B[0;34m,\u001B[0m\u001B[0msymmetric_cmap\u001B[0m\u001B[0;34m=\u001B[0m\u001B[0;32mFalse\u001B[0m\u001B[0;34m)\u001B[0m\u001B[0;34m\u001B[0m\u001B[0;34m\u001B[0m\u001B[0m\n\u001B[0m\u001B[1;32m      6\u001B[0m \u001B[0mplt_surf\u001B[0m\u001B[0;34m.\u001B[0m\u001B[0mopen_in_browser\u001B[0m\u001B[0;34m(\u001B[0m\u001B[0;34m)\u001B[0m\u001B[0;34m\u001B[0m\u001B[0;34m\u001B[0m\u001B[0m\n",
      "\u001B[0;32m~/Software/anaconda3/lib/python3.8/site-packages/nilearn/plotting/html_surface.py\u001B[0m in \u001B[0;36mview_surf\u001B[0;34m(surf_mesh, surf_map, bg_map, threshold, cmap, black_bg, vmax, vmin, symmetric_cmap, colorbar, colorbar_height, colorbar_fontsize, title, title_fontsize)\u001B[0m\n\u001B[1;32m    319\u001B[0m \u001B[0;34m\u001B[0m\u001B[0m\n\u001B[1;32m    320\u001B[0m     \"\"\"\n\u001B[0;32m--> 321\u001B[0;31m     \u001B[0msurf_mesh\u001B[0m \u001B[0;34m=\u001B[0m \u001B[0msurface\u001B[0m\u001B[0;34m.\u001B[0m\u001B[0mload_surf_mesh\u001B[0m\u001B[0;34m(\u001B[0m\u001B[0msurf_mesh\u001B[0m\u001B[0;34m)\u001B[0m\u001B[0;34m\u001B[0m\u001B[0;34m\u001B[0m\u001B[0m\n\u001B[0m\u001B[1;32m    322\u001B[0m     \u001B[0;32mif\u001B[0m \u001B[0msurf_map\u001B[0m \u001B[0;32mis\u001B[0m \u001B[0;32mNone\u001B[0m\u001B[0;34m:\u001B[0m\u001B[0;34m\u001B[0m\u001B[0;34m\u001B[0m\u001B[0m\n\u001B[1;32m    323\u001B[0m         \u001B[0msurf_map\u001B[0m \u001B[0;34m=\u001B[0m \u001B[0mnp\u001B[0m\u001B[0;34m.\u001B[0m\u001B[0mones\u001B[0m\u001B[0;34m(\u001B[0m\u001B[0mlen\u001B[0m\u001B[0;34m(\u001B[0m\u001B[0msurf_mesh\u001B[0m\u001B[0;34m[\u001B[0m\u001B[0;36m0\u001B[0m\u001B[0;34m]\u001B[0m\u001B[0;34m)\u001B[0m\u001B[0;34m)\u001B[0m\u001B[0;34m\u001B[0m\u001B[0;34m\u001B[0m\u001B[0m\n",
      "\u001B[0;32m~/Software/anaconda3/lib/python3.8/site-packages/nilearn/surface/surface.py\u001B[0m in \u001B[0;36mload_surf_mesh\u001B[0;34m(surf_mesh)\u001B[0m\n\u001B[1;32m    817\u001B[0m     \u001B[0;32mif\u001B[0m \u001B[0misinstance\u001B[0m\u001B[0;34m(\u001B[0m\u001B[0msurf_mesh\u001B[0m\u001B[0;34m,\u001B[0m \u001B[0mstr\u001B[0m\u001B[0;34m)\u001B[0m\u001B[0;34m:\u001B[0m\u001B[0;34m\u001B[0m\u001B[0;34m\u001B[0m\u001B[0m\n\u001B[1;32m    818\u001B[0m         \u001B[0;31m# resolve globbing\u001B[0m\u001B[0;34m\u001B[0m\u001B[0;34m\u001B[0m\u001B[0;34m\u001B[0m\u001B[0m\n\u001B[0;32m--> 819\u001B[0;31m         \u001B[0mfile_list\u001B[0m \u001B[0;34m=\u001B[0m \u001B[0m_resolve_globbing\u001B[0m\u001B[0;34m(\u001B[0m\u001B[0msurf_mesh\u001B[0m\u001B[0;34m)\u001B[0m\u001B[0;34m\u001B[0m\u001B[0;34m\u001B[0m\u001B[0m\n\u001B[0m\u001B[1;32m    820\u001B[0m         \u001B[0;32mif\u001B[0m \u001B[0mlen\u001B[0m\u001B[0;34m(\u001B[0m\u001B[0mfile_list\u001B[0m\u001B[0;34m)\u001B[0m \u001B[0;34m==\u001B[0m \u001B[0;36m1\u001B[0m\u001B[0;34m:\u001B[0m\u001B[0;34m\u001B[0m\u001B[0;34m\u001B[0m\u001B[0m\n\u001B[1;32m    821\u001B[0m             \u001B[0msurf_mesh\u001B[0m \u001B[0;34m=\u001B[0m \u001B[0mfile_list\u001B[0m\u001B[0;34m[\u001B[0m\u001B[0;36m0\u001B[0m\u001B[0;34m]\u001B[0m\u001B[0;34m\u001B[0m\u001B[0;34m\u001B[0m\u001B[0m\n",
      "\u001B[0;32m~/Software/anaconda3/lib/python3.8/site-packages/nilearn/_utils/path_finding.py\u001B[0m in \u001B[0;36m_resolve_globbing\u001B[0;34m(path)\u001B[0m\n\u001B[1;32m     14\u001B[0m         \u001B[0;31m# Raise an error in case the list is empty.\u001B[0m\u001B[0;34m\u001B[0m\u001B[0;34m\u001B[0m\u001B[0;34m\u001B[0m\u001B[0m\n\u001B[1;32m     15\u001B[0m         \u001B[0;32mif\u001B[0m \u001B[0mlen\u001B[0m\u001B[0;34m(\u001B[0m\u001B[0mpath_list\u001B[0m\u001B[0;34m)\u001B[0m \u001B[0;34m==\u001B[0m \u001B[0;36m0\u001B[0m\u001B[0;34m:\u001B[0m\u001B[0;34m\u001B[0m\u001B[0;34m\u001B[0m\u001B[0m\n\u001B[0;32m---> 16\u001B[0;31m             \u001B[0;32mraise\u001B[0m \u001B[0mValueError\u001B[0m\u001B[0;34m(\u001B[0m\u001B[0;34m\"No files matching path: %s\"\u001B[0m \u001B[0;34m%\u001B[0m \u001B[0mpath\u001B[0m\u001B[0;34m)\u001B[0m\u001B[0;34m\u001B[0m\u001B[0;34m\u001B[0m\u001B[0m\n\u001B[0m\u001B[1;32m     17\u001B[0m         \u001B[0mpath\u001B[0m \u001B[0;34m=\u001B[0m \u001B[0mpath_list\u001B[0m\u001B[0;34m\u001B[0m\u001B[0;34m\u001B[0m\u001B[0m\n\u001B[1;32m     18\u001B[0m \u001B[0;34m\u001B[0m\u001B[0m\n",
      "\u001B[0;31mValueError\u001B[0m: No files matching path: /mnt/workdir/DCM/BIDS/derivatives/fmriprep_surfer/sourcedata/freesurfer/fsaverage/surf/lh.white"
     ]
    }
   ],
   "source": [
    "from nilearn import plotting\n",
    "surf_mesh = r'/mnt/workdir/DCM/BIDS/derivatives/fmriprep_surfer/sourcedata/freesurfer/fsaverage/surf/lh.white'\n",
    "surf_map = r'/mnt/workdir/DCM/docs/Reference/EC_ROI/surfer/Juelich_maxprob_thr0_2mm/1395.L.func.gii'\n",
    "\n",
    "plt_surf = plotting.view_surf(surf_mesh,surf_map,symmetric_cmap=False)\n",
    "plt_surf.open_in_browser()"
   ],
   "metadata": {
    "collapsed": false,
    "ExecuteTime": {
     "end_time": "2023-05-29T07:24:55.382217329Z",
     "start_time": "2023-05-29T07:24:54.559996876Z"
    }
   }
  },
  {
   "cell_type": "code",
   "execution_count": null,
   "outputs": [],
   "source": [
    "import nibabel\n",
    "import os\n",
    "func_dir = r'/mnt/workdir/DCM/BIDS/derivatives/fmriprep_volume/sub-010/func'\n",
    "func_name = 'sub-010_task-game1_run-1_space-MNI152NLin2009cAsym_desc-preproc_bold.nii.gz'\n",
    "func_path = os.path.join(func_dir,func_name)\n",
    "func_img = nibabel.load(func_path)\n",
    "func_img.affine"
   ],
   "metadata": {
    "collapsed": false
   }
  },
  {
   "cell_type": "code",
   "execution_count": null,
   "outputs": [],
   "source": [
    "import nibabel\n",
    "import os\n",
    "func_dir = r'/mnt/workdir/DCM/BIDS/derivatives/fmriprep_volume/sub-010/func'\n",
    "func_name = 'sub-010_task-game1_run-1_space-MNI152NLin2009cAsym_res-2_desc-preproc_bold.nii.gz'\n",
    "\n",
    "func_path = os.path.join(func_dir,func_name)\n",
    "func_path = r'/mnt/data/Template/res-02_brainMask.nii'\n",
    "func_img = nibabel.load(func_path)\n",
    "func_img.get_fdata().max()"
   ],
   "metadata": {
    "collapsed": false
   }
  },
  {
   "cell_type": "code",
   "execution_count": null,
   "outputs": [],
   "source": [
    "import nibabel\n",
    "import os\n",
    "import numpy as np\n",
    "#func_dir = r'/mnt/workdir/DCM/BIDS/sub-010/func'\n",
    "#func_name = r'sub-010_task-game1_run-01_bold.nii.gz'\n",
    "#func_path = os.path.join(func_dir,func_name)\n",
    "func_path = r'/mnt/data/Template/tpl-MNI152NLin2009cAsym/tpl-MNI152NLin2009cAsym_res-02_desc-brain_mask.nii'\n",
    "func_img = nibabel.load(func_path)\n",
    "func_img.get_fdata().min()"
   ],
   "metadata": {
    "collapsed": false
   }
  },
  {
   "cell_type": "markdown",
   "source": [
    "# Show the MRI slices of the result"
   ],
   "metadata": {
    "collapsed": false
   }
  },
  {
   "cell_type": "code",
   "execution_count": null,
   "outputs": [],
   "source": [
    "import pandas as pd\n",
    "import seaborn as sns\n",
    "\n",
    "trainset1_phi = pd.read_csv(r'/mnt/workdir/DCM/BIDS/derivatives/Nipype/hexagon/specificTo6/Phi/trainset1_estPhi.csv').query('ifold==\"6fold\"')\n",
    "trainset2_phi = pd.read_csv(r'/mnt/workdir/DCM/BIDS/derivatives/Nipype/hexagon/specificTo6/Phi/trainset2_estPhi.csv').query('ifold==\"6fold\"')\n",
    "\n",
    "trainset1_phi['session'] = 'sess1'\n",
    "trainset2_phi['session'] = 'sess2'\n",
    "\n",
    "phi = pd.concat([trainset1_phi,trainset2_phi])\n",
    "phi['phi_diff'] = phi['ec_phi'] - phi['vmpfc_phi']\n",
    "sns.scatterplot(data=phi,x='session',y='phi_diff')\n",
    "\n",
    "phi_diff_sess1 = abs(phi.query(\"session=='sess1'\")['phi_diff']).to_list()\n",
    "phi_diff_sess2 = abs(phi.query(\"session=='sess2'\")['phi_diff']).to_list()\n",
    "from scipy.stats import ttest_ind\n",
    "\n",
    "t,p = ttest_ind(phi_diff_sess1,phi_diff_sess2)\n",
    "print('p:',round(p,3))"
   ],
   "metadata": {
    "collapsed": false
   }
  },
  {
   "cell_type": "markdown",
   "source": [
    "# add covariate:Age"
   ],
   "metadata": {
    "collapsed": false
   }
  },
  {
   "cell_type": "code",
   "execution_count": null,
   "outputs": [],
   "source": [
    "from nilearn.plotting import plot_stat_map,plot_glass_brain\n",
    "from nilearn.image import load_img,math_img\n",
    "import matplotlib.pyplot as plt\n",
    "\n",
    "fig,ax = plt.subplots(1,4,figsize=[20,4])\n",
    "stat_map = load_img(r'/mnt/workdir/DCM/BIDS/derivatives/Nipype/hexagon/specificTo6/training_set/trainsetall/group/all/'\n",
    "                    r'Age/2ndLevel/_contrast_id_ZF_0004/spmT_0002.nii')\n",
    "\n",
    "bg_img = load_img(r'/mnt/data/Template/tpl-MNI152NLin2009cAsym/tpl-MNI152NLin2009cAsym_res-01_desc-brain_T1w.nii.gz')\n",
    "\n",
    "#plot_stat_map(stat_map_img=stat_map,bg_img=bg_img,cut_coords=[11],threshold=2.3,symmetric_cbar=1,display_mode='x',black_bg=0,figure=fig,\n",
    "#              axes=ax[0],colorbar=False)\n",
    "plot_stat_map(stat_map_img=stat_map,bg_img=bg_img,cut_coords=[-4],threshold=2.3,vmax=5,symmetric_cbar=1,display_mode='x',black_bg=0,figure=fig,\n",
    "              axes=ax[0],colorbar=False)\n",
    "plot_stat_map(stat_map_img=stat_map,bg_img=bg_img,cut_coords=[-8],threshold=2.3,vmax=5,symmetric_cbar=1,display_mode='y',black_bg=0,figure=fig,\n",
    "              axes=ax[1],colorbar=False)\n",
    "plot_stat_map(stat_map_img=stat_map,bg_img=bg_img,cut_coords=[0],threshold=2.3,vmax=5,symmetric_cbar=1,display_mode='y',black_bg=0,figure=fig,\n",
    "              axes=ax[2],colorbar=False)\n",
    "plot_stat_map(stat_map_img=stat_map,bg_img=bg_img,cut_coords=[-18],threshold=2.3,vmax=5,symmetric_cbar=1,display_mode='z',black_bg=0,figure=fig,\n",
    "              axes=ax[3],colorbar=True)"
   ],
   "metadata": {
    "collapsed": false
   }
  },
  {
   "cell_type": "markdown",
   "source": [
    "# add covariate:2D acc"
   ],
   "metadata": {
    "collapsed": false
   }
  },
  {
   "cell_type": "markdown",
   "source": [
    "# add covariates: age and acc"
   ],
   "metadata": {
    "collapsed": false
   }
  },
  {
   "cell_type": "markdown",
   "source": [
    "### Age"
   ],
   "metadata": {
    "collapsed": false
   }
  },
  {
   "cell_type": "markdown",
   "source": [
    "### Acc"
   ],
   "metadata": {
    "collapsed": false
   }
  },
  {
   "cell_type": "markdown",
   "source": [
    "# EC"
   ],
   "metadata": {
    "collapsed": false
   }
  },
  {
   "cell_type": "markdown",
   "source": [
    "## copy data for he li"
   ],
   "metadata": {
    "collapsed": false
   }
  },
  {
   "cell_type": "markdown",
   "source": [
    "# Show the MRI slices of the result"
   ],
   "metadata": {
    "collapsed": false
   }
  },
  {
   "cell_type": "code",
   "execution_count": null,
   "outputs": [],
   "source": [
    "import pandas as pd\n",
    "import seaborn as sns\n",
    "\n",
    "trainset1_phi = pd.read_csv(r'/mnt/workdir/DCM/BIDS/derivatives/Nipype/hexagon/specificTo6/Phi/trainset1_estPhi.csv').query('ifold==\"6fold\"')\n",
    "trainset2_phi = pd.read_csv(r'/mnt/workdir/DCM/BIDS/derivatives/Nipype/hexagon/specificTo6/Phi/trainset2_estPhi.csv').query('ifold==\"6fold\"')\n",
    "\n",
    "trainset1_phi['session'] = 'sess1'\n",
    "trainset2_phi['session'] = 'sess2'\n",
    "\n",
    "phi = pd.concat([trainset1_phi,trainset2_phi])\n",
    "phi['phi_diff'] = phi['ec_phi'] - phi['vmpfc_phi']\n",
    "sns.scatterplot(data=phi,x='session',y='phi_diff')\n",
    "\n",
    "phi_diff_sess1 = abs(phi.query(\"session=='sess1'\")['phi_diff']).to_list()\n",
    "phi_diff_sess2 = abs(phi.query(\"session=='sess2'\")['phi_diff']).to_list()\n",
    "from scipy.stats import ttest_ind\n",
    "\n",
    "t,p = ttest_ind(phi_diff_sess1,phi_diff_sess2)\n",
    "print('p:',round(p,3))"
   ],
   "metadata": {
    "collapsed": false
   }
  },
  {
   "cell_type": "markdown",
   "source": [
    "# add covariate:Age"
   ],
   "metadata": {
    "collapsed": false
   }
  },
  {
   "cell_type": "code",
   "execution_count": null,
   "outputs": [],
   "source": [
    "from nilearn.plotting import plot_stat_map,plot_glass_brain\n",
    "from nilearn.image import load_img,math_img\n",
    "import matplotlib.pyplot as plt\n",
    "\n",
    "fig,ax = plt.subplots(1,4,figsize=[20,4])\n",
    "stat_map = load_img(r'/mnt/workdir/DCM/BIDS/derivatives/Nipype/hexagon/specificTo6/training_set/trainsetall/group/all/'\n",
    "                    r'Age/2ndLevel/_contrast_id_ZF_0004/spmT_0002.nii')\n",
    "\n",
    "bg_img = load_img(r'/mnt/data/Template/tpl-MNI152NLin2009cAsym/tpl-MNI152NLin2009cAsym_res-01_desc-brain_T1w.nii.gz')\n",
    "\n",
    "#plot_stat_map(stat_map_img=stat_map,bg_img=bg_img,cut_coords=[11],threshold=2.3,symmetric_cbar=1,display_mode='x',black_bg=0,figure=fig,\n",
    "#              axes=ax[0],colorbar=False)\n",
    "plot_stat_map(stat_map_img=stat_map,bg_img=bg_img,cut_coords=[-4],threshold=2.3,vmax=5,symmetric_cbar=1,display_mode='x',black_bg=0,figure=fig,\n",
    "              axes=ax[0],colorbar=False)\n",
    "plot_stat_map(stat_map_img=stat_map,bg_img=bg_img,cut_coords=[-8],threshold=2.3,vmax=5,symmetric_cbar=1,display_mode='y',black_bg=0,figure=fig,\n",
    "              axes=ax[1],colorbar=False)\n",
    "plot_stat_map(stat_map_img=stat_map,bg_img=bg_img,cut_coords=[0],threshold=2.3,vmax=5,symmetric_cbar=1,display_mode='y',black_bg=0,figure=fig,\n",
    "              axes=ax[2],colorbar=False)\n",
    "plot_stat_map(stat_map_img=stat_map,bg_img=bg_img,cut_coords=[-18],threshold=2.3,vmax=5,symmetric_cbar=1,display_mode='z',black_bg=0,figure=fig,\n",
    "              axes=ax[3],colorbar=True)"
   ],
   "metadata": {
    "collapsed": false
   }
  },
  {
   "cell_type": "markdown",
   "source": [
    "# add covariate:2D acc"
   ],
   "metadata": {
    "collapsed": false
   }
  },
  {
   "cell_type": "code",
   "execution_count": null,
   "outputs": [],
   "source": [
    "from nilearn.plotting import plot_stat_map,plot_glass_brain\n",
    "from nilearn.image import load_img,math_img\n",
    "import matplotlib.pyplot as plt\n",
    "\n",
    "fig,ax = plt.subplots(1,4,figsize=[20,4])\n",
    "stat_map = load_img(r'/mnt/workdir/DCM/BIDS/derivatives/Nipype/hexagon/specificTo6/training_set/trainsetall/group/all/'\n",
    "                    r'Acc/2ndLevel/_contrast_id_ZF_0004/spmT_0002.nii')\n",
    "\n",
    "bg_img = load_img(r'/mnt/data/Template/tpl-MNI152NLin2009cAsym/tpl-MNI152NLin2009cAsym_res-01_desc-brain_T1w.nii.gz')\n",
    "\n",
    "#plot_stat_map(stat_map_img=stat_map,bg_img=bg_img,cut_coords=[11],threshold=2.3,symmetric_cbar=1,display_mode='x',black_bg=0,figure=fig,\n",
    "#              axes=ax[0],colorbar=False)\n",
    "plot_stat_map(stat_map_img=stat_map,bg_img=bg_img,cut_coords=[6],threshold=2.3,vmax=5,symmetric_cbar=1,display_mode='x',black_bg=0,figure=fig,\n",
    "              axes=ax[0],colorbar=False)\n",
    "plot_stat_map(stat_map_img=stat_map,bg_img=bg_img,cut_coords=[24],threshold=2.3,vmax=5,symmetric_cbar=1,display_mode='x',black_bg=0,figure=fig,\n",
    "              axes=ax[1],colorbar=False)\n",
    "plot_stat_map(stat_map_img=stat_map,bg_img=bg_img,cut_coords=[-12],threshold=2.3,vmax=5,symmetric_cbar=1,display_mode='y',black_bg=0,figure=fig,\n",
    "              axes=ax[2],colorbar=False)\n",
    "plot_stat_map(stat_map_img=stat_map,bg_img=bg_img,cut_coords=[-24],threshold=2.3,vmax=5,symmetric_cbar=1,display_mode='z',black_bg=0,figure=fig,\n",
    "              axes=ax[3],colorbar=True)"
   ],
   "metadata": {
    "collapsed": false
   }
  },
  {
   "cell_type": "markdown",
   "source": [
    "# add covariates: age and acc"
   ],
   "metadata": {
    "collapsed": false
   }
  },
  {
   "cell_type": "markdown",
   "source": [
    "### Age"
   ],
   "metadata": {
    "collapsed": false
   }
  },
  {
   "cell_type": "code",
   "execution_count": null,
   "outputs": [],
   "source": [
    "from nilearn.plotting import plot_stat_map,plot_glass_brain\n",
    "from nilearn.image import load_img,math_img\n",
    "import matplotlib.pyplot as plt\n",
    "\n",
    "fig,ax = plt.subplots(1,4,figsize=[20,4])\n",
    "stat_map = load_img(r'/mnt/workdir/DCM/BIDS/derivatives/Nipype/hexagon/specificTo6/training_set/trainsetall/group/all/'\n",
    "                    r'Age_plus_Acc/2ndLevel/_contrast_id_ZF_0004/spmT_0002.nii')\n",
    "\n",
    "bg_img = load_img(r'/mnt/data/Template/tpl-MNI152NLin2009cAsym/tpl-MNI152NLin2009cAsym_res-01_desc-brain_T1w.nii.gz')\n",
    "\n",
    "cut_coords = [-4,2,-18]\n",
    "\n",
    "#plot_stat_map(stat_map_img=stat_map,bg_img=bg_img,cut_coords=[11],threshold=2.3,symmetric_cbar=1,display_mode='x',black_bg=0,figure=fig,\n",
    "#              axes=ax[0],colorbar=False)\n",
    "plot_stat_map(stat_map_img=stat_map,bg_img=bg_img,cut_coords=[-4],threshold=2.3,vmax=5,symmetric_cbar=1,display_mode='x',black_bg=0,figure=fig,\n",
    "              axes=ax[0],colorbar=False)\n",
    "plot_stat_map(stat_map_img=stat_map,bg_img=bg_img,cut_coords=[-8],threshold=2.3,vmax=5,symmetric_cbar=1,display_mode='y',black_bg=0,figure=fig,\n",
    "              axes=ax[1],colorbar=False)\n",
    "plot_stat_map(stat_map_img=stat_map,bg_img=bg_img,cut_coords=[0],threshold=2.3,vmax=5,symmetric_cbar=1,display_mode='y',black_bg=0,figure=fig,\n",
    "              axes=ax[2],colorbar=False)\n",
    "plot_stat_map(stat_map_img=stat_map,bg_img=bg_img,cut_coords=[-18],threshold=2.3,vmax=5,symmetric_cbar=1,display_mode='z',black_bg=0,figure=fig,\n",
    "              axes=ax[3],colorbar=True)"
   ],
   "metadata": {
    "collapsed": false
   }
  },
  {
   "cell_type": "markdown",
   "source": [
    "### Acc"
   ],
   "metadata": {
    "collapsed": false
   }
  },
  {
   "cell_type": "code",
   "execution_count": null,
   "outputs": [],
   "source": [
    "from nilearn.plotting import plot_stat_map,plot_glass_brain\n",
    "from nilearn.image import load_img,math_img\n",
    "import matplotlib.pyplot as plt\n",
    "\n",
    "fig,ax = plt.subplots(1,4,figsize=[20,4])\n",
    "stat_map = load_img(r'/mnt/workdir/DCM/BIDS/derivatives/Nipype/hexagon/specificTo6/training_set/trainsetall/group/all/'\n",
    "                    r'Age_plus_Acc/2ndLevel/_contrast_id_ZF_0004/spmT_0003.nii')\n",
    "\n",
    "bg_img = load_img(r'/mnt/data/Template/tpl-MNI152NLin2009cAsym/tpl-MNI152NLin2009cAsym_res-01_desc-brain_T1w.nii.gz')\n",
    "\n",
    "plot_stat_map(stat_map_img=stat_map,bg_img=bg_img,cut_coords=[6],threshold=2.3,vmax=5,symmetric_cbar=1,display_mode='x',black_bg=0,figure=fig,\n",
    "              axes=ax[0],colorbar=False)\n",
    "plot_stat_map(stat_map_img=stat_map,bg_img=bg_img,cut_coords=[24],threshold=2.3,vmax=5,symmetric_cbar=1,display_mode='x',black_bg=0,figure=fig,\n",
    "              axes=ax[1],colorbar=False)\n",
    "plot_stat_map(stat_map_img=stat_map,bg_img=bg_img,cut_coords=[-12],threshold=2.3,vmax=5,symmetric_cbar=1,display_mode='y',black_bg=0,figure=fig,\n",
    "              axes=ax[2],colorbar=False)\n",
    "plot_stat_map(stat_map_img=stat_map,bg_img=bg_img,cut_coords=[-24],threshold=2.3,vmax=5,symmetric_cbar=1,display_mode='z',black_bg=0,figure=fig,\n",
    "              axes=ax[3],colorbar=True)"
   ],
   "metadata": {
    "collapsed": false
   }
  },
  {
   "cell_type": "code",
   "execution_count": null,
   "outputs": [],
   "source": [
    "import numpy as np\n",
    "from nilearn.plotting import plot_stat_map,plot_roi\n",
    "from nilearn.image import load_img,math_img,new_img_like\n",
    "import matplotlib.pyplot as plt\n",
    "\n",
    "fig,ax = plt.subplots(1,4,figsize=[20,4])\n",
    "stat_map = load_img(r'/mnt/workdir/DCM/BIDS/derivatives/Nipype/hexagon/specificTo6/training_set/trainsetall/group/'\n",
    "                    r'hp/2ndLevel/_contrast_id_ZF_0004/spmT_0001.nii')\n",
    "\n",
    "bg_img = load_img(r'/mnt/data/Template/tpl-MNI152NLin2009cAsym/tpl-MNI152NLin2009cAsym_res-01_desc-brain_T1w.nii.gz')\n",
    "\n",
    "vmpfc_mask = load_img(r'/mnt/workdir/DCM/docs/Reference/Park_Grid_Coding/osfstorage-archive/data/Analysis_ROI_nii/mPFC_Grid_roi.nii')\n",
    "\n",
    "stat_data = stat_map.get_fdata()\n",
    "stat_data[stat_data<=0]  = np.float64('NaN')\n",
    "stat_map = new_img_like(stat_map, stat_data)\n",
    "\n",
    "plot_stat_map(stat_map_img=stat_map,bg_img=bg_img,cut_coords=[-8],threshold=1.6,vmax=4,symmetric_cbar=1,display_mode='x',black_bg=0,figure=fig,\n",
    "              axes=ax[0],colorbar=False)\n",
    "plot_stat_map(stat_map_img=stat_map,bg_img=bg_img,cut_coords=[-8],threshold=1.6,vmax=4,symmetric_cbar=1,display_mode='y',black_bg=0,figure=fig,\n",
    "              axes=ax[1],colorbar=False)\n",
    "plot_stat_map(stat_map_img=stat_map,bg_img=bg_img,cut_coords=[-4],threshold=1.6,vmax=4,symmetric_cbar=1,display_mode='y',black_bg=0,figure=fig,\n",
    "              axes=ax[2],colorbar=False)\n",
    "plot_stat_map(stat_map_img=stat_map,bg_img=bg_img,cut_coords=[3],threshold=1.6,vmax=4,symmetric_cbar=1,display_mode='y',black_bg=0,figure=fig,\n",
    "              axes=ax[3],colorbar=True)"
   ],
   "metadata": {
    "collapsed": false
   }
  },
  {
   "cell_type": "markdown",
   "source": [
    "# EC"
   ],
   "metadata": {
    "collapsed": false
   }
  },
  {
   "cell_type": "code",
   "execution_count": null,
   "outputs": [],
   "source": [
    "import numpy as np\n",
    "from nilearn.plotting import plot_stat_map,plot_glass_brain\n",
    "from nilearn.image import load_img,math_img,new_img_like\n",
    "import matplotlib.pyplot as plt\n",
    "\n",
    "fig,ax = plt.subplots(1,4,figsize=[20,4])\n",
    "stat_map = load_img(r'/mnt/workdir/DCM/BIDS/derivatives/Nipype/hexagon/specificTo6/test_set/EC/group/hp/mean_spmT_align_EC_Phi.nii')\n",
    "\n",
    "bg_img = load_img(r'/mnt/data/Template/tpl-MNI152NLin2009cAsym/tpl-MNI152NLin2009cAsym_res-01_desc-brain_T1w.nii.gz')\n",
    "\n",
    "\n",
    "stat_data = stat_map.get_fdata()\n",
    "stat_data[stat_data<=0]  = np.float64('NaN')\n",
    "stat_map = new_img_like(stat_map, stat_data)\n",
    "\n",
    "plot_stat_map(stat_map_img=stat_map,bg_img=bg_img,cut_coords=[-8],threshold=2.3,vmax=5,symmetric_cbar=1,display_mode='x',black_bg=0,figure=fig,\n",
    "              axes=ax[0],colorbar=False)\n",
    "plot_stat_map(stat_map_img=stat_map,bg_img=bg_img,cut_coords=[-8],threshold=2.3,vmax=5,symmetric_cbar=1,display_mode='y',black_bg=0,figure=fig,\n",
    "              axes=ax[1],colorbar=False)\n",
    "plot_stat_map(stat_map_img=stat_map,bg_img=bg_img,cut_coords=[-19],threshold=2.3,vmax=5,symmetric_cbar=1,display_mode='z',black_bg=0,figure=fig,\n",
    "              axes=ax[2],colorbar=False)\n",
    "plot_stat_map(stat_map_img=stat_map,bg_img=bg_img,cut_coords=[31],threshold=2.3,vmax=5,symmetric_cbar=1,display_mode='z',black_bg=0,figure=fig,\n",
    "              axes=ax[3],colorbar=True)\n",
    "% md\n",
    "# vmpfc"
   ],
   "metadata": {
    "collapsed": false
   }
  },
  {
   "cell_type": "code",
   "execution_count": null,
   "outputs": [],
   "source": [
    "import numpy as np\n",
    "from nilearn.plotting import plot_stat_map,plot_glass_brain\n",
    "from nilearn.image import load_img,math_img,new_img_like\n",
    "import matplotlib.pyplot as plt\n",
    "\n",
    "fig,ax = plt.subplots(1,4,figsize=[20,4])\n",
    "stat_map = load_img(r'/mnt/workdir/DCM/BIDS/derivatives/Nipype/hexagon/specificTo6/test_set/vmpfc/group/hp/mean_spmT_align_vmpfc_Phi.nii')\n",
    "\n",
    "bg_img = load_img(r'/mnt/data/Template/tpl-MNI152NLin2009cAsym/tpl-MNI152NLin2009cAsym_res-01_desc-brain_T1w.nii.gz')\n",
    "\n",
    "\n",
    "stat_data = stat_map.get_fdata()\n",
    "stat_data[stat_data<=0]  = np.float64('NaN')\n",
    "stat_map = new_img_like(stat_map, stat_data)\n",
    "\n",
    "plot_stat_map(stat_map_img=stat_map,bg_img=bg_img,cut_coords=[4],threshold=2.3,vmax=5,symmetric_cbar=1,display_mode='x',black_bg=0,figure=fig,\n",
    "              axes=ax[0],colorbar=False)\n",
    "plot_stat_map(stat_map_img=stat_map,bg_img=bg_img,cut_coords=[-33],threshold=2.3,vmax=5,symmetric_cbar=1,display_mode='x',black_bg=0,figure=fig,\n",
    "              axes=ax[1],colorbar=False)\n",
    "plot_stat_map(stat_map_img=stat_map,bg_img=bg_img,cut_coords=[3],threshold=2.3,vmax=5,symmetric_cbar=1,display_mode='y',black_bg=0,figure=fig,\n",
    "              axes=ax[2],colorbar=False)\n",
    "plot_stat_map(stat_map_img=stat_map,bg_img=bg_img,cut_coords=[-19],threshold=2.3,vmax=5,symmetric_cbar=1,display_mode='z',black_bg=0,figure=fig,\n",
    "              axes=ax[3],colorbar=True)"
   ],
   "metadata": {
    "collapsed": false
   }
  },
  {
   "cell_type": "markdown",
   "source": [
    "## copy data for he li"
   ],
   "metadata": {
    "collapsed": false
   }
  },
  {
   "cell_type": "code",
   "execution_count": null,
   "outputs": [],
   "source": [
    "from nilearn.plotting import plot_stat_map,plot_glass_brain\n",
    "from nilearn.image import load_img,math_img\n",
    "import matplotlib.pyplot as plt\n",
    "\n",
    "fig,ax = plt.subplots(1,5,figsize=[20,4])\n",
    "stat_map = load_img(r'/mnt/workdir/DCM/BIDS/derivatives/Nipype/hexagon/specificTo6/training_set/trainsetall/group/adult/2ndLevel/_contrast_id_ZF_0004/spmT_0001.nii')\n",
    "\n",
    "bg_img = load_img(r'/mnt/data/Template/tpl-MNI152NLin2009cAsym/tpl-MNI152NLin2009cAsym_res-01_desc-brain_T1w.nii.gz')\n",
    "stat_map = math_img(\"np.where(img<0,0,img)\",img=stat_map)\n",
    "\n",
    "plot_stat_map(stat_map_img=stat_map,bg_img=bg_img,cut_coords=[11],threshold=1.69,symmetric_cbar=1,display_mode='x',black_bg=0,figure=fig,\n",
    "              axes=ax[0],colorbar=False)\n",
    "#plot_stat_map(stat_map_img=stat_map,bg_img=bg_img,cut_coords=[6],threshold=1.69,vmax=5,symmetric_cbar=1,display_mode='x',black_bg=0,figure=fig,\n",
    "#              axes=ax[0],colorbar=False)\n",
    "plot_stat_map(stat_map_img=stat_map,bg_img=bg_img,cut_coords=[24],threshold=1.69,vmax=5,symmetric_cbar=1,display_mode='x',black_bg=0,figure=fig,\n",
    "              axes=ax[1],colorbar=False)\n",
    "plot_stat_map(stat_map_img=stat_map,bg_img=bg_img,cut_coords=[-8],threshold=1.69,vmax=5,symmetric_cbar=1,display_mode='y',black_bg=0,figure=fig,\n",
    "              axes=ax[2],colorbar=False)\n",
    "plot_stat_map(stat_map_img=stat_map,bg_img=bg_img,cut_coords=[0],threshold=1.69,vmax=5,symmetric_cbar=1,display_mode='y',black_bg=0,figure=fig,\n",
    "              axes=ax[3],colorbar=False)\n",
    "plot_stat_map(stat_map_img=stat_map,bg_img=bg_img,cut_coords=[-24],threshold=1.69,vmax=5,symmetric_cbar=1,display_mode='z',black_bg=0,figure=fig,\n",
    "              axes=ax[4],colorbar=True)"
   ],
   "metadata": {
    "collapsed": false
   }
  },
  {
   "cell_type": "code",
   "execution_count": null,
   "outputs": [],
   "source": [
    "from scipy.io import loadmat\n",
    "def plotDesignMatrix(matFile):\n",
    "    import numpy as np\n",
    "    import seaborn as sns\n",
    "    from matplotlib import pyplot as plt\n",
    "    from scipy.io import loadmat\n",
    "    from os.path import join as opj\n",
    "    import os\n",
    "\n",
    "    fig_filename_full = opj(os.getcwd(), 'spm_mat.png')      # create filename\n",
    "\n",
    "    spmmat = loadmat(matFile,                           # Using scipy's loadmat function we can access SPM.mat\n",
    "struct_as_record=False)\n",
    "\n",
    "    # normalize data\n",
    "    designMatrix = spmmat['SPM'][0][0].xX[0][0].X[:,:]\n",
    "    names = [i[0] for i in spmmat['SPM'][0][0].xX[0][0].name[0]][:]\n",
    "\n",
    "    normed_design = designMatrix / np.abs(designMatrix).max(axis=0)\n",
    "\n",
    "    # save figure\n",
    "    fig_f, ax_f = plt.subplots(figsize=(30, 30))\n",
    "    plt.imshow(normed_design, aspect='auto', cmap='gray', interpolation='none')\n",
    "    ax_f.set_ylabel('Volume id')\n",
    "    ax_f.set_xticks(np.arange(len(names)))\n",
    "    ax_f.set_xticklabels(names, rotation=30)\n",
    "    plt.show()\n",
    "    #fig_f.savefig(r'/mnt/workdir/DCM/tmp/design_matrix.png')\n",
    "    plt.close(fig_f)\n",
    "\n",
    "    return fig_filename_full\n",
    "spm_file = r'/mnt/workdir/DCM/BIDS/derivatives/Nipype/working_dir/game2/separate_hexagon_2phases_correct_trials/Setall/6fold/work_1st/_subj_id_193/level1estimate/SPM.mat'\n",
    "plotDesignMatrix(spm_file)"
   ],
   "metadata": {
    "collapsed": false
   }
  },
  {
   "cell_type": "code",
   "execution_count": null,
   "outputs": [],
   "source": [
    "import numpy as np\n",
    "import pandas as pd\n",
    "from matplotlib import pyplot as plt\n",
    "from scipy.io import loadmat\n",
    "from os.path import join as opj\n",
    "import os\n",
    "\n",
    "spm_file = r'/mnt/workdir/DCM/BIDS/derivatives/SPM/sub-099/SPM.mat'\n",
    "\n",
    "spmmat = loadmat(spm_file,struct_as_record=False)\n",
    "designMatrix = spmmat['SPM'][0][0].xX[0][0].nKX\n",
    "names = [i[0] for i in spmmat['SPM'][0][0].xX[0][0].name[0]]\n",
    "\n",
    "design_matrix = pd.DataFrame(designMatrix,columns=names)\n",
    "design_matrix"
   ],
   "metadata": {
    "collapsed": false
   }
  },
  {
   "cell_type": "code",
   "execution_count": null,
   "outputs": [],
   "source": [
    "import numpy as np\n",
    "import pandas as pd\n",
    "from matplotlib import pyplot as plt\n",
    "from scipy.io import loadmat\n",
    "from os.path import join as opj\n",
    "import os\n",
    "\n",
    "spmmat = loadmat('/mnt/workdir/DCM/BIDS/derivatives/Nipype/working_dir/game1/separate_hexagon_2phases_correct_trials/Setall/6fold/work_1st/_subj_id_180/level1estimate/SPM.mat',\n",
    "                 struct_as_record=False)\n",
    "\n",
    "designMatrix = spmmat['SPM'][0][0].xX[0][0].X\n",
    "names = [i[0] for i in spmmat['SPM'][0][0].xX[0][0].name[0]]\n",
    "\n",
    "design_matrix = pd.DataFrame(designMatrix,columns=names)\n",
    "design_matrix"
   ],
   "metadata": {
    "collapsed": false
   }
  },
  {
   "cell_type": "code",
   "execution_count": null,
   "outputs": [],
   "source": [
    "import pandas as pd\n",
    "from scipy.io import loadmat\n",
    "import matplotlib.pyplot as plt\n",
    "import seaborn as sns\n",
    "# Using scipy's loadmat function we can access SPM.mat\n",
    "spmmat = loadmat('/mnt/workdir/DCM/BIDS/derivatives/Nipype/working_dir/game1/cv_train3/Setall/6fold/work_1st/_subj_id_010/level1estimate/SPM.mat',\n",
    "                 struct_as_record=False)\n",
    "run = 0\n",
    "designMatrix = spmmat['SPM'][0][0].xX[0][0].X[:164,0+run*15:10+run*15]\n",
    "names = [i[0] for i in spmmat['SPM'][0][0].xX[0][0].name[0]][0+run*15:10+run*15]\n",
    "\n",
    "fix,ax = plt.subplots(figsize=(15,7))\n",
    "designMatrix_df = pd.DataFrame(designMatrix,columns=names)\n",
    "g = sns.heatmap(designMatrix_df.corr(),annot=True,vmax=1,vmin=-1,cmap='coolwarm')\n",
    "g.set_xticklabels(g.get_xticklabels(),rotation=20)\n",
    "plt.show()"
   ],
   "metadata": {
    "collapsed": false
   }
  },
  {
   "cell_type": "code",
   "execution_count": null,
   "outputs": [],
   "source": [
    "import os\n",
    "\n",
    "def get_dir_size(path='.'):\n",
    "    total = 0\n",
    "    with os.scandir(path) as it:\n",
    "        for entry in it:\n",
    "            if entry.is_file():\n",
    "                total += entry.stat().st_size\n",
    "            elif entry.is_dir():\n",
    "                total += get_dir_size(entry.path)\n",
    "    return total\n",
    "\n",
    "\n",
    "def get_directory_sizes(directory_path):\n",
    "    # Get the list of directories in the specified directory\n",
    "    directory_list = os.listdir(directory_path)\n",
    "    directory_sizes = {}\n",
    "    # Loop through the list of directories\n",
    "    for directory in directory_list:\n",
    "        # Get the size of the directory\n",
    "        directory_size =  get_dir_size(os.path.join(directory_path, directory))\n",
    "        # convert size to GB\n",
    "        directory_size = directory_size / 1024 / 1024 / 1024\n",
    "        directory_sizes[directory] = directory_size\n",
    "    return directory_sizes\n",
    "\n",
    "directory_path = r'/mnt/data/DCM/tmp/ToLuoYao/MEG/CTF'\n",
    "directory_sizes = get_directory_sizes(directory_path)\n",
    "# sort the dictionary by value\n",
    "directory_sizes = {k: v for k, v in sorted(directory_sizes.items(), key=lambda item: item[1],reverse=True)}"
   ],
   "metadata": {
    "collapsed": false
   }
  },
  {
   "cell_type": "code",
   "execution_count": null,
   "outputs": [],
   "source": [
    "from nilearn import image\n",
    "\n",
    "roi1 = image.load_img(r'/mnt/workdir/DCM/Docs/Mask/hippocampus/harvardoxford-subcortical_prob_Left Hippocampus.nii.gz')\n",
    "roi2 = image.load_img(r'/mnt/workdir/DCM/Docs/Mask/hippocampus/')\n",
    "\n",
    "# merge two masks into one mask\n",
    "roi = image.math_img('np.logical_or(img1,img2)', img1=roi1, img2=roi2)\n",
    "roi.to_filename(r'/mnt/workdir/DCM/Docs/Mask/VMPFC/VMPFC_merge_MNI152NL.nii.gz')"
   ],
   "metadata": {
    "collapsed": false
   }
  },
  {
   "cell_type": "code",
   "execution_count": null,
   "outputs": [],
   "source": [
    "from nilearn import image\n",
    "\n",
    "roi = image.load_img(r'/mnt/workdir/DCM/Docs/Mask/hippocampus/harvardoxford-subcortical_prob_Right Hippocampus.nii.gz')\n",
    "roi = image.binarize_img(roi,5)\n",
    "roi.to_filename(r'/mnt/workdir/DCM/Docs/Mask/hippocampus/rHC.nii.gz')"
   ],
   "metadata": {
    "collapsed": false
   }
  },
  {
   "cell_type": "code",
   "execution_count": null,
   "outputs": [],
   "source": [
    "from nilearn import image\n",
    "import numpy as np\n",
    "from scipy.ndimage import binary_closing,binary_dilation\n",
    "\n",
    "bn_atlas = image.load_img(r'/mnt/workdir/DCM/Docs/Mask/dmPFC/MNINonL_BN_Atlas_246_2mm.nii.gz')\n",
    "bn_data = bn_atlas.get_fdata()\n",
    "\n",
    "bn_data[~np.isin(bn_data, [1,2,11, 12])] = 0\n",
    "bn_data[bn_data>0] = 1\n",
    "bin_bn_data = binary_closing(bn_data,iterations=1)\n",
    "bn_atlas_new = image.new_img_like(bn_atlas,bin_bn_data)\n",
    "bn_atlas_new.to_filename(r'/mnt/workdir/DCM/Docs/Mask/dmPFC/BN_dmPFC_middle.nii.gz')"
   ],
   "metadata": {
    "collapsed": false
   }
  },
  {
   "cell_type": "code",
   "execution_count": null,
   "outputs": [],
   "source": [
    "import os\n",
    "import numpy as np\n",
    "import pandas as pd\n",
    "from os.path import join\n",
    "from analysis.mri.event.base import GAME1EV\n",
    "\n",
    "\n",
    "# get the angle distribution of dogfall trials\n",
    "\n",
    "class GAME1EV_tmp(GAME1EV):\n",
    "    def __init__(self, behDataPath):\n",
    "        GAME1EV.__init__(self, behDataPath)\n",
    "\n",
    "    def label_trial_corr(self):\n",
    "        self.behData = self.behData.fillna('None')\n",
    "        if self.dformat == 'trial_by_trial':\n",
    "            keyResp_list = self.behData['resp.keys']\n",
    "        elif self.dformat == 'summary':\n",
    "            keyResp_tmp = self.behData['resp.keys_raw']\n",
    "            keyResp_list = []\n",
    "            for k in keyResp_tmp:\n",
    "                if k == 'None':\n",
    "                    keyResp_list.append(k)\n",
    "                else:\n",
    "                    keyResp_list.append(k[1])\n",
    "        else:\n",
    "            raise Exception(\"You need specify behavioral data format.\")\n",
    "\n",
    "        angle = self.behData['angles']\n",
    "        trial_corr = []\n",
    "        fr = []\n",
    "        fresult = []\n",
    "        for keyResp, row in zip(keyResp_list, self.behData.itertuples()):\n",
    "            rule = row.fightRule\n",
    "            fr.append(rule)\n",
    "            if rule == '1A2D':\n",
    "                fight_result = row.pic1_ap - row.pic2_dp\n",
    "                if fight_result > 0:\n",
    "                    correctAns = 1\n",
    "                elif fight_result < 0:\n",
    "                    correctAns = 2\n",
    "                elif fight_result == 0:\n",
    "                    correctAns = -1\n",
    "                else:\n",
    "                    raise Exception(\"fight result is not a number.\")\n",
    "            elif rule == '1D2A':\n",
    "                fight_result = row.pic2_ap - row.pic1_dp\n",
    "                if fight_result > 0:\n",
    "                    correctAns = 2\n",
    "                elif fight_result < 0:\n",
    "                    correctAns = 1\n",
    "                elif fight_result == 0:\n",
    "                    correctAns = -1\n",
    "                else:\n",
    "                    raise Exception(\"fight result is not a number.\")\n",
    "            else:\n",
    "                raise Exception(\"None of rule have been found in the file.\")\n",
    "            fresult.append(fight_result)\n",
    "        return fr, fresult, angle\n",
    "\n",
    "\n",
    "ifolds = [6]\n",
    "task = 'game1'\n",
    "glm_type = 'hexagon_spct'\n",
    "template = {'save_dir': r'/mnt/workdir/DCM/BIDS/derivatives/Events/{}/' + glm_type + '/sub-{}/{}fold',\n",
    "            'event_file': 'sub-{}_task-{}_run-{}_events.tsv'}\n",
    "\n",
    "if task == 'game1':\n",
    "    runs = range(1, 7)\n",
    "    template['behav_path'] = '/mnt/workdir/DCM/sourcedata/sub_{}/Behaviour/' \\\n",
    "                             'fmri_task-game1/sub-{}_task-{}_run-{}.csv'\n",
    "\n",
    "participants_data = pd.read_csv('/mnt/workdir/DCM/BIDS/participants.tsv', sep='\\t')\n",
    "subjects = participants_data.query(f'{task}_fmri>=0.5')['Participant_ID'].str.split('-').str[-1].str.zfill(3)\n",
    "\n",
    "df = pd.DataFrame()\n",
    "for subj in subjects:\n",
    "    print(f'----sub-{subj}----')\n",
    "\n",
    "    for ifold in ifolds:\n",
    "        save_dir = template['save_dir'].format(task, subj, ifold)\n",
    "        os.makedirs(save_dir, exist_ok=True)\n",
    "\n",
    "        for idx in runs:\n",
    "            run_id = str(idx)\n",
    "            behav_path = template['behav_path'].format(subj, subj, task, run_id)\n",
    "            game1ev = GAME1EV_tmp(behav_path)\n",
    "            fr, fresult, angle = game1ev.label_trial_corr()\n",
    "            df = df.append(pd.DataFrame({'sub_id': subj, 'fightRule': fr, 'fightResult': fresult, 'angle': angle}),\n",
    "                           ignore_index=True)\n",
    "df.to_csv('/mnt/workdir/DCM/Result/validation_trial_bias/dogfall.csv', index=False)\n",
    "\n",
    "# get the angle distribution of dogfall trials\n",
    "\n",
    "df_dog_fall = df[df['fightResult'] == 0]\n",
    "angles = df_dog_fall['angle'].to_list()\n",
    "#plotAngleHist(angles)\n",
    "#plotAngleRadar(angles)"
   ],
   "metadata": {
    "collapsed": false
   }
  },
  {
   "cell_type": "code",
   "execution_count": null,
   "outputs": [],
   "source": [
    "import plotly.express as px\n",
    "\n",
    "df_dog_fall['frequency'] = df_dog_fall.groupby('angle')['angle'].transform('count')\n",
    "fig = px.line_polar(df_dog_fall, r='frequency', theta='angle', line_close=False)\n",
    "fig.update_layout(\n",
    "    polar=dict(\n",
    "        radialaxis=dict(\n",
    "            visible=True,\n",
    "            range=[0, df_dog_fall['frequency'].max()]\n",
    "        )),\n",
    "    showlegend=False\n",
    ")\n",
    "\n",
    "fig.update_traces(fill='toself')\n",
    "fig.update_layout(title='Angle Distribution')\n",
    "fig.show()\n"
   ],
   "metadata": {
    "collapsed": false
   }
  },
  {
   "cell_type": "code",
   "execution_count": 5,
   "outputs": [
    {
     "ename": "ValueError",
     "evalue": "x and y must have the same length.",
     "output_type": "error",
     "traceback": [
      "\u001B[0;31m---------------------------------------------------------------------------\u001B[0m",
      "\u001B[0;31mValueError\u001B[0m                                Traceback (most recent call last)",
      "\u001B[0;32m<ipython-input-5-a001afad9536>\u001B[0m in \u001B[0;36m<module>\u001B[0;34m\u001B[0m\n\u001B[1;32m     11\u001B[0m \u001B[0mold_odd_phis\u001B[0m \u001B[0;34m=\u001B[0m \u001B[0mold_phis_data\u001B[0m\u001B[0;34m.\u001B[0m\u001B[0mquery\u001B[0m\u001B[0;34m(\u001B[0m\u001B[0;34mf'(ifold==\"{ifold}fold\")and(trial_type==\"odd\")'\u001B[0m\u001B[0;34m)\u001B[0m\u001B[0;34m[\u001B[0m\u001B[0;34m'Phi_mean'\u001B[0m\u001B[0;34m]\u001B[0m\u001B[0;34m\u001B[0m\u001B[0;34m\u001B[0m\u001B[0m\n\u001B[1;32m     12\u001B[0m \u001B[0mnew_odd_phis\u001B[0m \u001B[0;34m=\u001B[0m \u001B[0mnew_phis_data\u001B[0m\u001B[0;34m.\u001B[0m\u001B[0mquery\u001B[0m\u001B[0;34m(\u001B[0m\u001B[0;34mf'(ifold==\"{ifold}fold\")and(trial_type==\"odd\")'\u001B[0m\u001B[0;34m)\u001B[0m\u001B[0;34m[\u001B[0m\u001B[0;34m'Phi_mean'\u001B[0m\u001B[0;34m]\u001B[0m\u001B[0;34m\u001B[0m\u001B[0;34m\u001B[0m\u001B[0m\n\u001B[0;32m---> 13\u001B[0;31m \u001B[0mr\u001B[0m\u001B[0;34m,\u001B[0m\u001B[0mp\u001B[0m \u001B[0;34m=\u001B[0m \u001B[0mpearsonr\u001B[0m\u001B[0;34m(\u001B[0m\u001B[0mold_odd_phis\u001B[0m\u001B[0;34m,\u001B[0m\u001B[0mnew_odd_phis\u001B[0m\u001B[0;34m)\u001B[0m\u001B[0;34m\u001B[0m\u001B[0;34m\u001B[0m\u001B[0m\n\u001B[0m\u001B[1;32m     14\u001B[0m \u001B[0mprint\u001B[0m\u001B[0;34m(\u001B[0m\u001B[0mr\u001B[0m\u001B[0;34m,\u001B[0m\u001B[0mp\u001B[0m\u001B[0;34m)\u001B[0m\u001B[0;34m\u001B[0m\u001B[0;34m\u001B[0m\u001B[0m\n\u001B[1;32m     15\u001B[0m \u001B[0mold_odd_phis\u001B[0m\u001B[0;34m\u001B[0m\u001B[0;34m\u001B[0m\u001B[0m\n",
      "\u001B[0;32m~/Software/anaconda3/lib/python3.8/site-packages/scipy/stats/stats.py\u001B[0m in \u001B[0;36mpearsonr\u001B[0;34m(x, y)\u001B[0m\n\u001B[1;32m   4011\u001B[0m     \u001B[0mn\u001B[0m \u001B[0;34m=\u001B[0m \u001B[0mlen\u001B[0m\u001B[0;34m(\u001B[0m\u001B[0mx\u001B[0m\u001B[0;34m)\u001B[0m\u001B[0;34m\u001B[0m\u001B[0;34m\u001B[0m\u001B[0m\n\u001B[1;32m   4012\u001B[0m     \u001B[0;32mif\u001B[0m \u001B[0mn\u001B[0m \u001B[0;34m!=\u001B[0m \u001B[0mlen\u001B[0m\u001B[0;34m(\u001B[0m\u001B[0my\u001B[0m\u001B[0;34m)\u001B[0m\u001B[0;34m:\u001B[0m\u001B[0;34m\u001B[0m\u001B[0;34m\u001B[0m\u001B[0m\n\u001B[0;32m-> 4013\u001B[0;31m         \u001B[0;32mraise\u001B[0m \u001B[0mValueError\u001B[0m\u001B[0;34m(\u001B[0m\u001B[0;34m'x and y must have the same length.'\u001B[0m\u001B[0;34m)\u001B[0m\u001B[0;34m\u001B[0m\u001B[0;34m\u001B[0m\u001B[0m\n\u001B[0m\u001B[1;32m   4014\u001B[0m \u001B[0;34m\u001B[0m\u001B[0m\n\u001B[1;32m   4015\u001B[0m     \u001B[0;32mif\u001B[0m \u001B[0mn\u001B[0m \u001B[0;34m<\u001B[0m \u001B[0;36m2\u001B[0m\u001B[0;34m:\u001B[0m\u001B[0;34m\u001B[0m\u001B[0;34m\u001B[0m\u001B[0m\n",
      "\u001B[0;31mValueError\u001B[0m: x and y must have the same length."
     ]
    }
   ],
   "source": [
    "import pandas as pd\n",
    "from scipy.stats import pearsonr\n",
    "ifold=6\n",
    "phis_file = r'/mnt/data/DCM/result_backup/2023.5.14/Nilearn/game1/cv_train_hexagon_spct/' \\\n",
    "            r'estPhi_ROI-EC_circmean_cv.csv'  # look out\n",
    "old_phis_data = pd.read_csv(phis_file)\n",
    "\n",
    "phis_file = r'/mnt/workdir/DCM/BIDS/derivatives/Nilearn/game1/cv_train_hexagon_spct/estPhi_ROI-EC_circmean_cv.csv'\n",
    "new_phis_data = pd.read_csv(phis_file)\n",
    "\n",
    "old_odd_phis = old_phis_data.query(f'(ifold==\"{ifold}fold\")and(trial_type==\"odd\")')['Phi_mean']\n",
    "new_odd_phis = new_phis_data.query(f'(ifold==\"{ifold}fold\")and(trial_type==\"odd\")')['Phi_mean']\n",
    "r,p = pearsonr(old_odd_phis,new_odd_phis)\n",
    "print(r,p)"
   ],
   "metadata": {
    "collapsed": false,
    "ExecuteTime": {
     "end_time": "2023-05-15T05:25:31.121077178Z",
     "start_time": "2023-05-15T05:25:31.080085998Z"
    }
   }
  },
  {
   "cell_type": "code",
   "execution_count": 1,
   "outputs": [],
   "source": [
    "from nilearn import image\n",
    "import numpy as np\n",
    "from scipy.ndimage import binary_closing, binary_dilation\n",
    "\n",
    "bn_atlas = image.load_img(r'/mnt/workdir/DCM/Docs/Mask/dmPFC/MNINonL_BN_Atlas_246_2mm.nii.gz')\n",
    "bn_data = bn_atlas.get_fdata()\n",
    "\n",
    "bn_data[~np.isin(bn_data, [175])] = 0\n",
    "bn_data[bn_data > 0] = 1\n",
    "bin_bn_data = binary_closing(bn_data, iterations=1)\n",
    "bn_atlas_new = image.new_img_like(bn_atlas, bin_bn_data)\n",
    "bn_atlas_new.to_filename(r'/mnt/workdir/DCM/Docs/Mask/RSC/BN_Atlas_PCC.nii.gz')"
   ],
   "metadata": {
    "collapsed": false,
    "ExecuteTime": {
     "end_time": "2023-06-26T14:29:16.545801514Z",
     "start_time": "2023-06-26T14:29:16.132137282Z"
    }
   }
  },
  {
   "cell_type": "code",
   "execution_count": 9,
   "outputs": [],
   "source": [
    "import numpy as np\n",
    "from nilearn import image\n",
    "from nilearn.masking import apply_mask\n",
    "\n",
    "ori_img = image.load_img(r'/mnt/workdir/DCM/Result/an alysis/MRI/Conjunction_analysis/hexagon/2023.4.16backup/conj_hexagon_zmap_thr.nii.gz')\n",
    "mask = image.get_data(r'/mnt/workdir/DCM/Docs/Mask/cortex_mask_MNI152NL.nii.gz')\n",
    "data =ori_img.get_fdata()\n",
    "data[mask==0] = 0\n",
    "out_img = image.new_img_like(ori_img, data)\n",
    "out_img.to_filename(r'/mnt/workdir/DCM/Result/analysis/MRI/Conjunction_analysis/hexagon/2023.4.16backup/conj_hexagon_zmap_thr.nii.gz')"
   ],
   "metadata": {
    "collapsed": false,
    "ExecuteTime": {
     "end_time": "2023-06-03T14:12:11.397365503Z",
     "start_time": "2023-06-03T14:12:11.302366147Z"
    }
   }
  },
  {
   "cell_type": "code",
   "execution_count": null,
   "outputs": [],
   "source": [
    "from nilearn import image\n",
    "\n",
    "a = image.load_img(r'/')"
   ],
   "metadata": {
    "collapsed": false
   }
  }
 ],
 "metadata": {
  "kernelspec": {
   "display_name": "Python 3",
   "language": "python",
   "name": "python3"
  },
  "language_info": {
   "codemirror_mode": {
    "name": "ipython",
    "version": 3
   },
   "file_extension": ".py",
   "mimetype": "text/x-python",
   "name": "python",
   "nbconvert_exporter": "python",
   "pygments_lexer": "ipython3",
   "version": "3.8.8"
  }
 },
 "nbformat": 4,
 "nbformat_minor": 5
}
