{
 "cells": [
  {
   "cell_type": "markdown",
   "id": "6bd36e13",
   "metadata": {},
   "source": [
    "## Copy data to new directory"
   ]
  },
  {
   "cell_type": "code",
   "execution_count": 4,
   "outputs": [
    {
     "data": {
      "text/plain": "<Figure size 432x288 with 1 Axes>",
      "image/png": "[encoded data removed]"
     },
     "metadata": {
      "needs_background": "light"
     },
     "output_type": "display_data"
    }
   ],
   "source": [
    "import matplotlib.pyplot as plt\n",
    "\n",
    "# Define the grid\n",
    "x = [0, 1, 2, 3, 4]\n",
    "y = [0, 1, 2, 3, 4]\n",
    "\n",
    "# Define the arrow endpoints\n",
    "arrow1_start = [0, 0]\n",
    "arrow1_end = [4, 4]\n",
    "arrow2_start = [0, 0]\n",
    "arrow2_end = [1, 1]\n",
    "\n",
    "# Create the plot\n",
    "fig, ax = plt.subplots()\n",
    "\n",
    "# Plot the grid\n",
    "for i in range(len(x)):\n",
    "    for j in range(len(y)):\n",
    "        ax.plot(x[i], y[j], 'o', color='white', markersize=5, mec='black', mew=2)\n",
    "\n",
    "# Add the arrows to the plot\n",
    "ax.arrow(arrow1_start[0], arrow1_start[1], arrow1_end[0]-arrow1_start[0], arrow1_end[1]-arrow1_start[1],\n",
    "         head_width=0.2, head_length=0.2, fc='red', ec='red')\n",
    "ax.arrow(arrow2_start[0], arrow2_start[1], arrow2_end[0]-arrow2_start[0], arrow2_end[1]-arrow2_start[1],\n",
    "         head_width=0.2, head_length=0.2, fc='blue', ec='blue')\n",
    "\n",
    "# Set the axis range and gridlines\n",
    "ax.set_xlim([-0.5, 4.5])\n",
    "ax.set_ylim([-0.5, 4.5])\n",
    "ax.set_xticks(x)\n",
    "ax.set_yticks(y)\n",
    "ax.grid(True)\n",
    "\n",
    "# Set the axis labels\n",
    "ax.set_xlabel('x-axis')\n",
    "ax.set_ylabel('y-axis')\n",
    "\n",
    "# Set the plot title\n",
    "ax.set_title('5x5 Square Grid with Arrows')\n",
    "\n",
    "plt.savefig(\"/home/dell/clash/demo.png\",dpi=300)\n",
    "# Show the plot\n",
    "plt.show()"
   ],
   "metadata": {
    "collapsed": false,
    "ExecuteTime": {
     "end_time": "2023-07-18T03:21:12.373290429Z",
     "start_time": "2023-07-18T03:21:11.520938421Z"
    }
   },
   "id": "be3230231500be57"
  },
  {
   "cell_type": "code",
   "execution_count": 5,
   "outputs": [
    {
     "name": "stdout",
     "output_type": "stream",
     "text": [
      "Final mean correlation: 0.0\n"
     ]
    }
   ],
   "source": [
    "import numpy as np\n",
    "\n",
    "# Generate 1000 random 100x1 vectors\n",
    "x = np.random.rand(1000, 100)\n",
    "\n",
    "# Initialize vector d\n",
    "d = np.zeros((100, 1))\n",
    "\n",
    "# Define the target mean correlation\n",
    "target_mean_corr = -0.1\n",
    "\n",
    "# Iterate until the mean correlation is close enough to the target value\n",
    "i =0\n",
    "while i>10000:\n",
    "    print(i)\n",
    "    # Calculate the correlations between x and d\n",
    "    corrs = np.dot(x, d)\n",
    "\n",
    "    # Calculate the current mean correlation\n",
    "    mean_corr = np.mean(corrs)\n",
    "\n",
    "    # Calculate the correlation adjustment factor\n",
    "    corr_adjustment = target_mean_corr - mean_corr\n",
    "\n",
    "    # If the mean correlation is close enough to the target value, exit the loop\n",
    "    if abs(corr_adjustment) < 0.01:\n",
    "        break\n",
    "\n",
    "    # Update d by adjusting the correlations with the adjustment factor\n",
    "    d += (corr_adjustment * x.mean(axis=0)).reshape(-1, 1)\n",
    "    i+=1\n",
    "\n",
    "# Check that the final mean correlation is close enough to the target value\n",
    "final_mean_corr = np.mean(np.dot(x, d))\n",
    "print(\"Final mean correlation:\", final_mean_corr)"
   ],
   "metadata": {
    "collapsed": false,
    "ExecuteTime": {
     "end_time": "2023-07-18T03:21:12.408268529Z",
     "start_time": "2023-07-18T03:21:12.022897248Z"
    }
   },
   "id": "61211f7da753daa9"
  },
  {
   "cell_type": "code",
   "execution_count": 6,
   "outputs": [],
   "source": [
    "import os\n",
    "import shutil\n",
    "import pandas as pd\n",
    "from os.path import join as opj\n",
    "\n",
    "source_dir = r'/mnt/data/Project/DCM/BIDS/BIDS'\n",
    "output_dir = r'/mnt/data/tmp/Data2Heli'\n",
    "# read data from source directory\n",
    "participants_tsv = r'/mnt/workdir/DCM/BIDS/participants.tsv'\n",
    "participants_data = pd.read_csv(participants_tsv, sep='\\t')\n",
    "\n",
    "# copy meg data\n",
    "data = participants_data.query('meg_neuro==1')\n",
    "pid = data['Participant_ID'].to_list()\n",
    "subject_list = pid\n",
    "subject_list = ['sub_'+str(id).zfill(3) for id in range(64,83)]\n",
    "\n",
    "# creat directory structure in output directory\n",
    "def copy_meg_resting(sub_id):\n",
    "    original_dir = r'/mnt/workdir/DCM/sourcedata'\n",
    "    output_dir = '/mnt/data/tmp/Data2Heli'\n",
    "\n",
    "    sourMegDir = opj(original_dir, sub_id, 'NeuroData','MEG')\n",
    "    targMegDir = opj(output_dir, sub_id, 'MEG')\n",
    "\n",
    "    if not os.path.exists(targMegDir):\n",
    "        os.makedirs(targMegDir)\n",
    "\n",
    "    file_list = os.listdir(sourMegDir)\n",
    "    target_files = []\n",
    "    for f in file_list:\n",
    "        if 'rest' in f:\n",
    "            target_files.append(f)\n",
    "        else:\n",
    "            continue\n",
    "\n",
    "    for target_file in target_files:\n",
    "        source_file_path = opj(sourMegDir,target_file)\n",
    "        target_file_path = opj(targMegDir,target_file)\n",
    "        if '.fif' in target_file:\n",
    "            shutil.copy(source_file_path,target_file_path)\n",
    "        elif '.ds' in target_file:\n",
    "            shutil.copytree(source_file_path,target_file_path)\n",
    "\n",
    "for sub in subject_list:\n",
    "    copy_meg_resting(sub)"
   ],
   "metadata": {
    "collapsed": false,
    "ExecuteTime": {
     "end_time": "2023-07-18T03:22:18.647101241Z",
     "start_time": "2023-07-18T03:21:12.075990133Z"
    }
   },
   "id": "fedaaeea9aa4a61e"
  },
  {
   "cell_type": "code",
   "execution_count": 7,
   "outputs": [
    {
     "name": "stdout",
     "output_type": "stream",
     "text": [
      "The  sub-010 didn't have dwi\n",
      "The  sub-011 didn't have dwi\n",
      "The  sub-012 didn't have dwi\n",
      "The  sub-016 didn't have dwi\n",
      "The  sub-018 didn't have dwi\n",
      "The  sub-022 didn't have dwi\n",
      "The  sub-023 didn't have dwi\n",
      "The  sub-024 didn't have dwi\n",
      "The  sub-025 didn't have dwi\n",
      "The  sub-029 didn't have dwi\n",
      "The  sub-031 didn't have dwi\n",
      "The  sub-032 didn't have dwi\n",
      "The  sub-036 didn't have dwi\n",
      "The  sub-037 didn't have dwi\n",
      "The  sub-043 didn't have dwi\n",
      "The  sub-046 didn't have dwi\n",
      "The  sub-049 didn't have dwi\n",
      "The  sub-050 didn't have dwi\n",
      "The  sub-053 didn't have dwi\n",
      "The  sub-055 didn't have dwi\n",
      "The  sub-059 didn't have dwi\n",
      "The  sub-060 didn't have dwi\n",
      "The  sub-061 didn't have dwi\n",
      "The  sub-062 didn't have dwi\n",
      "The  sub-063 didn't have dwi\n",
      "The  sub-064 didn't have dwi\n",
      "The  sub-065 didn't have dwi\n",
      "The  sub-067 didn't have dwi\n",
      "The  sub-068 didn't have dwi\n",
      "The  sub-069 didn't have dwi\n",
      "The  sub-070 didn't have dwi\n",
      "The  sub-071 didn't have dwi\n",
      "The  sub-072 didn't have dwi\n",
      "The  sub-073 didn't have dwi\n",
      "The  sub-074 didn't have dwi\n",
      "The  sub-075 didn't have dwi\n",
      "The  sub-076 didn't have dwi\n",
      "The  sub-077 didn't have dwi\n",
      "The  sub-078 didn't have dwi\n",
      "The  sub-079 didn't have dwi\n",
      "The  sub-080 didn't have dwi\n",
      "The  sub-082 didn't have dwi\n",
      "The  sub-084 didn't have dwi\n",
      "The  sub-085 didn't have dwi\n",
      "The  sub-086 didn't have dwi\n",
      "The  sub-088 didn't have dwi\n",
      "The  sub-090 didn't have dwi\n",
      "The  sub-091 didn't have dwi\n",
      "The  sub-092 didn't have dwi\n",
      "The  sub-093 didn't have dwi\n",
      "The  sub-094 didn't have dwi\n",
      "The  sub-095 didn't have dwi\n",
      "The  sub-096 didn't have dwi\n",
      "The  sub-097 didn't have dwi\n",
      "The  sub-098 didn't have dwi\n",
      "The  sub-099 didn't have dwi\n",
      "The  sub-100 didn't have dwi\n",
      "The  sub-101 didn't have dwi\n",
      "The  sub-102 didn't have dwi\n",
      "The  sub-103 didn't have dwi\n",
      "The  sub-104 didn't have dwi\n",
      "The  sub-105 didn't have dwi\n",
      "The  sub-106 didn't have dwi\n",
      "The  sub-107 didn't have dwi\n",
      "The  sub-108 didn't have dwi\n",
      "The  sub-109 didn't have dwi\n",
      "The  sub-110 didn't have dwi\n",
      "The  sub-111 didn't have dwi\n",
      "The  sub-112 didn't have dwi\n",
      "The  sub-113 didn't have dwi\n",
      "The  sub-114 didn't have dwi\n",
      "The  sub-115 didn't have dwi\n",
      "The  sub-116 didn't have dwi\n",
      "The  sub-118 didn't have dwi\n",
      "The  sub-119 didn't have dwi\n",
      "The  sub-120 didn't have dwi\n",
      "The  sub-121 didn't have dwi\n",
      "The  sub-122 didn't have dwi\n",
      "The  sub-126 didn't have dwi\n",
      "The  sub-127 didn't have dwi\n",
      "The  sub-128 didn't have dwi\n",
      "The  sub-129 didn't have dwi\n",
      "The  sub-130 didn't have dwi\n",
      "The  sub-131 didn't have dwi\n",
      "The  sub-132 didn't have dwi\n",
      "The  sub-133 didn't have dwi\n",
      "The  sub-134 didn't have dwi\n",
      "The  sub-135 didn't have dwi\n",
      "The  sub-137 didn't have dwi\n",
      "The  sub-138 didn't have dwi\n",
      "The  sub-143 didn't have dwi\n",
      "The  sub-144 didn't have dwi\n",
      "The  sub-145 didn't have dwi\n",
      "The  sub-146 didn't have dwi\n",
      "The  sub-148 didn't have dwi\n",
      "The  sub-149 didn't have dwi\n",
      "The  sub-150 didn't have dwi\n",
      "The  sub-151 didn't have dwi\n",
      "The  sub-152 didn't have dwi\n",
      "The  sub-153 didn't have dwi\n",
      "The  sub-154 didn't have dwi\n",
      "The  sub-155 didn't have dwi\n",
      "The  sub-156 didn't have dwi\n",
      "The  sub-157 didn't have dwi\n",
      "The  sub-159 didn't have dwi\n",
      "The  sub-160 didn't have dwi\n",
      "The  sub-161 didn't have dwi\n",
      "The  sub-162 didn't have dwi\n",
      "The  sub-163 didn't have dwi\n",
      "The  sub-164 didn't have dwi\n",
      "The  sub-165 didn't have dwi\n",
      "The  sub-166 didn't have dwi\n",
      "The  sub-167 didn't have dwi\n",
      "The  sub-168 didn't have dwi\n",
      "The  sub-169 didn't have dwi\n",
      "The  sub-170 didn't have dwi\n",
      "The  sub-171 didn't have dwi\n",
      "The  sub-172 didn't have dwi\n",
      "The  sub-174 didn't have dwi\n",
      "The  sub-175 didn't have dwi\n",
      "The  sub-176 didn't have dwi\n",
      "The  sub-177 didn't have dwi\n",
      "The  sub-178 didn't have dwi\n",
      "The  sub-179 didn't have dwi\n",
      "The  sub-180 didn't have dwi\n",
      "The  sub-181 didn't have dwi\n",
      "The  sub-182 didn't have dwi\n",
      "The  sub-183 didn't have dwi\n",
      "The  sub-184 didn't have dwi\n",
      "The  sub-185 didn't have dwi\n",
      "The  sub-186 didn't have dwi\n",
      "The  sub-187 didn't have dwi\n",
      "The  sub-188 didn't have dwi\n",
      "The  sub-189 didn't have dwi\n",
      "The  sub-190 didn't have dwi\n",
      "The  sub-191 didn't have dwi\n",
      "The  sub-192 didn't have dwi\n",
      "The  sub-193 didn't have dwi\n",
      "The  sub-194 didn't have dwi\n",
      "The  sub-195 didn't have dwi\n",
      "The  sub-196 didn't have dwi\n",
      "The  sub-198 didn't have dwi\n",
      "The  sub-199 didn't have dwi\n",
      "The  sub-200 didn't have dwi\n",
      "The  sub-201 didn't have dwi\n",
      "The  sub-202 didn't have dwi\n",
      "The  sub-203 didn't have dwi\n",
      "The  sub-204 didn't have dwi\n",
      "The  sub-205 didn't have dwi\n"
     ]
    }
   ],
   "source": [
    "import os\n",
    "import shutil\n",
    "import pandas as pd\n",
    "from os.path import join as opj\n",
    "# copy fmri resting data and T1\n",
    "def copy_mri_resting(sub_id):\n",
    "    original_dir = r'/mnt/workdir/DCM/BIDS'\n",
    "    output_dir = '/mnt/data/tmp/Data2HNY'\n",
    "\n",
    "    sourMriDir = opj(original_dir, sub_id)\n",
    "    targMriDir = opj(output_dir, sub_id.replace('-','-'))\n",
    "\n",
    "    if not os.path.exists(targMriDir):\n",
    "        os.makedirs(targMriDir)\n",
    "    else:\n",
    "        return\n",
    "\n",
    "    mri_modes = ['anat','func','dwi']\n",
    "\n",
    "    for mode in mri_modes:\n",
    "        if mode in ['anat','dwi']:\n",
    "            source_file_path = opj(sourMriDir,mode)\n",
    "            target_file_path = opj(targMriDir,mode)\n",
    "            try:\n",
    "                shutil.copytree(source_file_path,target_file_path)\n",
    "            except:\n",
    "                print(\"The \",sub_id,\"didn't have\", mode)\n",
    "                continue\n",
    "\n",
    "        elif mode == 'func':\n",
    "            file_list = os.listdir(opj(sourMriDir,'func'))\n",
    "            target_files = []\n",
    "            for f in file_list:\n",
    "                if 'rest' in f:\n",
    "                    target_files.append(f)\n",
    "                    #print(f)\n",
    "                else:\n",
    "                    continue\n",
    "            for target_file in target_files:\n",
    "                source_file_path = opj(sourMriDir,mode,target_file)\n",
    "                target_file_path = opj(targMriDir,mode,target_file)\n",
    "                if not os.path.exists(opj(targMriDir,mode)):\n",
    "                    os.makedirs(opj(targMriDir,mode))\n",
    "                shutil.copy(source_file_path,target_file_path)\n",
    "\n",
    "participants_tsv = r'/mnt/workdir/DCM/BIDS/participants.tsv'\n",
    "participants_data = pd.read_csv(participants_tsv, sep='\\t')\n",
    "\n",
    "# copy meg data\n",
    "data = participants_data.query('game1_fmri>=0.5')\n",
    "subject_list = data['Participant_ID'].to_list()\n",
    "subject_list = [s.replace('-','-') for s in subject_list]\n",
    "subject_list.remove('sub-015')\n",
    "\n",
    "for sub in subject_list:\n",
    "    copy_mri_resting(sub)"
   ],
   "metadata": {
    "collapsed": false,
    "ExecuteTime": {
     "start_time": "2023-07-18T03:22:18.658377450Z"
    }
   },
   "id": "ef200f84e984b65f"
  },
  {
   "cell_type": "code",
   "execution_count": 8,
   "outputs": [
    {
     "ename": "AttributeError",
     "evalue": "'str' object has no attribute 'rep'",
     "output_type": "error",
     "traceback": [
      "\u001B[0;31m---------------------------------------------------------------------------\u001B[0m",
      "\u001B[0;31mAttributeError\u001B[0m                            Traceback (most recent call last)",
      "\u001B[0;32m<ipython-input-8-27a895617156>\u001B[0m in \u001B[0;36m<module>\u001B[0;34m\u001B[0m\n\u001B[0;32m----> 1\u001B[0;31m \u001B[0msubject_list\u001B[0m\u001B[0;34m[\u001B[0m\u001B[0;36m0\u001B[0m\u001B[0;34m]\u001B[0m\u001B[0;34m.\u001B[0m\u001B[0mrep\u001B[0m\u001B[0;34m\u001B[0m\u001B[0;34m\u001B[0m\u001B[0m\n\u001B[0m",
      "\u001B[0;31mAttributeError\u001B[0m: 'str' object has no attribute 'rep'"
     ]
    }
   ],
   "source": [
    "subject_list[0].rep"
   ],
   "metadata": {
    "collapsed": false
   },
   "id": "48a6a2842d84ccfb"
  },
  {
   "cell_type": "markdown",
   "source": [
    "## copy event file to new directory"
   ],
   "metadata": {
    "collapsed": false
   },
   "id": "95791b689982c2af"
  },
  {
   "cell_type": "code",
   "execution_count": null,
   "outputs": [],
   "source": [
    "import os\n",
    "import shutil\n",
    "from os.path import join as opj\n",
    "\n",
    "source_dir = r'/mnt/data/Project/DCM/BIDS/derivatives/fmriprep_surfer'\n",
    "output_dir = r'/mnt/data/Project/DCM/BIDS/derivatives/Events'\n",
    "# read data from source directory\n",
    "sub_list = ['sub-{}'.format(str(idx).zfill(3)) for idx in range(12,48)]\n",
    "# creat directory structure in output directory\n",
    "for i,sub in enumerate(sub_list):\n",
    "    if not os.path.exists(opj(source_dir, sub, 'events')):\n",
    "        print(sub, \" haven't event files.\")\n",
    "        continue\n",
    "    for event_type in ['hexonM2Long', 'hexonM2Short', 'hexonRule']:\n",
    "        souEvPath = opj(source_dir, sub, 'events',event_type)\n",
    "        tarSubdir = (opj(output_dir, sub))\n",
    "        if not os.path.exists(tarSubdir):\n",
    "            os.mkdir(tarSubdir)\n",
    "        tarEvPath = opj(output_dir, sub, event_type)\n",
    "        #shutil.move(souEvPath, tarEvPath)\n",
    "        \n",
    "        try:\n",
    "            shutil.move(souEvPath, tarEvPath)\n",
    "        except:\n",
    "            if os.path.exists(tarEvPath):\n",
    "                print(\"Error: {} file can't be moved!\".format(sub))\n",
    "            else:\n",
    "                print(\"{} haven't {}\".format(sub,event_type))\n",
    "\n",
    "    print(\"————————{} already been copyed. still have {} subject ————————\".format(sub,len(sub_list)-i-1))\n",
    "    os.rmdir(opj(source_dir, sub, 'events'))\n",
    "    "
   ],
   "metadata": {
    "collapsed": false
   },
   "id": "2d1b895b7bcfd090"
  },
  {
   "cell_type": "markdown",
   "source": [
    "## Convert formate of event files to fsl format"
   ],
   "metadata": {
    "collapsed": false
   },
   "id": "2af49cfb7887509f"
  },
  {
   "cell_type": "code",
   "execution_count": null,
   "outputs": [],
   "source": [
    "import os\n",
    "import numpy as np\n",
    "import pandas as pd \n",
    "from os.path import join as opj\n",
    "\n",
    "\n",
    "def ev2fsl(ev_file,save_dir,prefix):\n",
    "    ev_info = pd.read_csv(ev_file, sep='\\t')\n",
    "    for group in ev_info.groupby('trial_type'):\n",
    "        condition = group[0]\n",
    "        onsets = np.array(group[1].onset.tolist())\n",
    "        durations = np.array(group[1].duration.tolist())\n",
    "        if condition in ['sin','cos']:\n",
    "            amplitudes = np.array(group[1].modulation.tolist())\n",
    "        else:\n",
    "            amplitudes = np.array([1]*len(onsets))\n",
    "        fsl_ev = np.array([onsets,durations,amplitudes]).T.astype('float32')\n",
    "        #os.makedirs(save_dir)\n",
    "        np.savetxt(opj(save_dir,'{}_{}.txt'.format(prefix,condition)),fsl_ev,fmt='%.02f',delimiter='\\t') # dilimiter: Tab\n",
    "\n",
    "        \n",
    "        \n",
    "def game1tofsl(ev_dir,save_dir,ev_template):\n",
    "    for i in range(1,7):\n",
    "        ev_file = opj(ev_dir,ev_template.format(i))\n",
    "        ev2fsl(ev_file,save_dir,'run{}'.format(i))\n",
    "\n",
    "\n",
    "        \n",
    "ev_dir=  r'/mnt/data/Project/DCM/BIDS/derivatives/Events/sub-046/hexonM2Short/6fold'\n",
    "save_dir= r'/mnt/data/Project/DCM/BIDS/derivatives/Events/sub-046/fsl/hexonM2Short/6fold'\n",
    "os.makedirs(save_dir)\n",
    "ev_template= r'sub-046_task-game1_run-{}_events.tsv'\n",
    "\n",
    "game1tofsl(ev_dir,save_dir,ev_template)"
   ],
   "metadata": {
    "collapsed": false
   },
   "id": "aaca91cc556d17d5"
  },
  {
   "cell_type": "markdown",
   "source": [
    "## sum mask"
   ],
   "metadata": {
    "collapsed": false
   },
   "id": "75a9de232f43ba47"
  },
  {
   "cell_type": "code",
   "execution_count": null,
   "outputs": [],
   "source": [
    "from nilearn.image import load_img,resample_to_img,math_img,new_img_like\n",
    "\n",
    "mask1 = load_img(r'/mnt/data/Template/EC_prob_roi.nii.gz')\n",
    "mask2 = load_img(r'/mnt/data/Template/EC_anatomy_roi.nii.gz')\n",
    "tar_img = load_img(r'/mnt/data/Project/DCM/BIDS/derivatives/fmriprep_surfer/sub-010/anat/sub-010_space-MNI152NLin2009cAsym_res-2_desc-preproc_T1w.nii.gz')\n",
    "mask1_tar = resample_to_img(mask1,tar_img,interpolation='nearest')\n",
    "mask2_tar = resample_to_img(mask2,tar_img,interpolation='nearest')\n",
    "\n",
    "mask1_data = mask1_tar.get_fdata()\n",
    "mask2_data = mask2_tar.get_fdata()\n",
    "mask_sum = mask1_data + mask2_data[:,:,:,0]\n",
    "mask_sum[mask_sum!=0]=1\n",
    "mask_sum_img = new_img_like(mask1_tar,mask_sum)\n",
    "mask_sum_img.to_filename(r'/mnt/data/Template/EC_roi_sum.nii.gz')"
   ],
   "metadata": {
    "collapsed": false
   },
   "id": "3d1b65f379f7be29"
  },
  {
   "cell_type": "markdown",
   "source": [
    "## extract EC mask from probabilistic atlas"
   ],
   "metadata": {
    "collapsed": false
   },
   "id": "bf360ea47ec0db00"
  },
  {
   "cell_type": "code",
   "execution_count": null,
   "outputs": [],
   "source": [
    "import numpy as np\n",
    "\n",
    "from nilearn.image import load_img,new_img_like\n",
    "\n",
    "\n",
    "def extract_sp_val(promap_data,sp_val):\n",
    "    '''extract special value map:\n",
    "    Parameters:\n",
    "    promap    :  3d array,1-3 repersents xyz coorodinates\n",
    "    sp_val :  special value will be extracted and binaryzed.'''\n",
    "    coordinate_shape = promap_data.shape\n",
    "    extract_map = np.zeros(coordinate_shape)\n",
    "    for i in sp_val:\n",
    "        extract_map[promap_data[:, :, :] == i] = 1\n",
    "    return extract_map\n",
    "\n",
    "\n",
    "atlas_path = r'/mnt/workdir/DCM/docs/Reference/EC_ROI/Juelich-maxprob-thr50-2mm.nii.gz'\n",
    "atlas = load_img(atlas_path)\n",
    "prob_map = atlas.get_fdata()\n",
    "\n",
    "ec_mask = extract_sp_val(prob_map,[19,20])\n",
    "ec = new_img_like(atlas,ec_mask,affine=atlas.affine)\n",
    "ec.to_filename(r'/mnt/workdir/DCM/docs/Reference/EC_ROI/EC-thr50-2mm.nii.gz')"
   ],
   "metadata": {
    "collapsed": false
   },
   "id": "9999657b5029e3ea"
  },
  {
   "cell_type": "code",
   "execution_count": null,
   "outputs": [],
   "source": [
    "from nilearn import plotting\n",
    "surf_mesh = r'/mnt/workdir/DCM/BIDS/derivatives/fmriprep_surfer/sourcedata/freesurfer/fsaverage/surf/lh.white'\n",
    "surf_map = r'/mnt/workdir/DCM/docs/Reference/EC_ROI/surfer/Juelich_maxprob_thr0_2mm/1395.L.func.gii'\n",
    "\n",
    "plt_surf = plotting.view_surf(surf_mesh,surf_map,symmetric_cmap=False)\n",
    "plt_surf.open_in_browser()"
   ],
   "metadata": {
    "collapsed": false
   },
   "id": "7ed10cf261b0c07f"
  },
  {
   "cell_type": "code",
   "execution_count": null,
   "outputs": [],
   "source": [
    "import nibabel\n",
    "import os\n",
    "func_dir = r'/mnt/workdir/DCM/BIDS/derivatives/fmriprep_volume/sub-010/func'\n",
    "func_name = 'sub-010_task-game1_run-1_space-MNI152NLin2009cAsym_desc-preproc_bold.nii.gz'\n",
    "func_path = os.path.join(func_dir,func_name)\n",
    "func_img = nibabel.load(func_path)\n",
    "func_img.affine"
   ],
   "metadata": {
    "collapsed": false
   },
   "id": "af8254a425dd25bf"
  },
  {
   "cell_type": "code",
   "execution_count": null,
   "outputs": [],
   "source": [
    "import nibabel\n",
    "import os\n",
    "func_dir = r'/mnt/workdir/DCM/BIDS/derivatives/fmriprep_volume/sub-010/func'\n",
    "func_name = 'sub-010_task-game1_run-1_space-MNI152NLin2009cAsym_res-2_desc-preproc_bold.nii.gz'\n",
    "\n",
    "func_path = os.path.join(func_dir,func_name)\n",
    "func_path = r'/mnt/data/Template/res-02_brainMask.nii'\n",
    "func_img = nibabel.load(func_path)\n",
    "func_img.get_fdata().max()"
   ],
   "metadata": {
    "collapsed": false
   },
   "id": "683b7840f0c2cc2e"
  },
  {
   "cell_type": "code",
   "execution_count": null,
   "outputs": [],
   "source": [
    "import nibabel\n",
    "import os\n",
    "import numpy as np\n",
    "#func_dir = r'/mnt/workdir/DCM/BIDS/sub-010/func'\n",
    "#func_name = r'sub-010_task-game1_run-01_bold.nii.gz'\n",
    "#func_path = os.path.join(func_dir,func_name)\n",
    "func_path = r'/mnt/data/Template/tpl-MNI152NLin2009cAsym/tpl-MNI152NLin2009cAsym_res-02_desc-brain_mask.nii'\n",
    "func_img = nibabel.load(func_path)\n",
    "func_img.get_fdata().min()"
   ],
   "metadata": {
    "collapsed": false
   },
   "id": "7d054b7d429790ae"
  },
  {
   "cell_type": "markdown",
   "source": [
    "# Show the MRI slices of the result"
   ],
   "metadata": {
    "collapsed": false
   },
   "id": "f1a1ac80d3cad980"
  },
  {
   "cell_type": "code",
   "execution_count": null,
   "outputs": [],
   "source": [
    "import pandas as pd\n",
    "import seaborn as sns\n",
    "\n",
    "trainset1_phi = pd.read_csv(r'/mnt/workdir/DCM/BIDS/derivatives/Nipype/hexagon/specificTo6/Phi/trainset1_estPhi.csv').query('ifold==\"6fold\"')\n",
    "trainset2_phi = pd.read_csv(r'/mnt/workdir/DCM/BIDS/derivatives/Nipype/hexagon/specificTo6/Phi/trainset2_estPhi.csv').query('ifold==\"6fold\"')\n",
    "\n",
    "trainset1_phi['session'] = 'sess1'\n",
    "trainset2_phi['session'] = 'sess2'\n",
    "\n",
    "phi = pd.concat([trainset1_phi,trainset2_phi])\n",
    "phi['phi_diff'] = phi['ec_phi'] - phi['vmpfc_phi']\n",
    "sns.scatterplot(data=phi,x='session',y='phi_diff')\n",
    "\n",
    "phi_diff_sess1 = abs(phi.query(\"session=='sess1'\")['phi_diff']).to_list()\n",
    "phi_diff_sess2 = abs(phi.query(\"session=='sess2'\")['phi_diff']).to_list()\n",
    "from scipy.stats import ttest_ind\n",
    "\n",
    "t,p = ttest_ind(phi_diff_sess1,phi_diff_sess2)\n",
    "print('p:',round(p,3))"
   ],
   "metadata": {
    "collapsed": false
   },
   "id": "6363c15d960eb87a"
  },
  {
   "cell_type": "markdown",
   "source": [
    "# add covariate:Age"
   ],
   "metadata": {
    "collapsed": false
   },
   "id": "3bd3526d8210437f"
  },
  {
   "cell_type": "code",
   "execution_count": null,
   "outputs": [],
   "source": [
    "from nilearn.plotting import plot_stat_map,plot_glass_brain\n",
    "from nilearn.image import load_img,math_img\n",
    "import matplotlib.pyplot as plt\n",
    "\n",
    "fig,ax = plt.subplots(1,4,figsize=[20,4])\n",
    "stat_map = load_img(r'/mnt/workdir/DCM/BIDS/derivatives/Nipype/hexagon/specificTo6/training_set/trainsetall/group/all/'\n",
    "                    r'Age/2ndLevel/_contrast_id_ZF_0004/spmT_0002.nii')\n",
    "\n",
    "bg_img = load_img(r'/mnt/data/Template/tpl-MNI152NLin2009cAsym/tpl-MNI152NLin2009cAsym_res-01_desc-brain_T1w.nii.gz')\n",
    "\n",
    "#plot_stat_map(stat_map_img=stat_map,bg_img=bg_img,cut_coords=[11],threshold=2.3,symmetric_cbar=1,display_mode='x',black_bg=0,figure=fig,\n",
    "#              axes=ax[0],colorbar=False)\n",
    "plot_stat_map(stat_map_img=stat_map,bg_img=bg_img,cut_coords=[-4],threshold=2.3,vmax=5,symmetric_cbar=1,display_mode='x',black_bg=0,figure=fig,\n",
    "              axes=ax[0],colorbar=False)\n",
    "plot_stat_map(stat_map_img=stat_map,bg_img=bg_img,cut_coords=[-8],threshold=2.3,vmax=5,symmetric_cbar=1,display_mode='y',black_bg=0,figure=fig,\n",
    "              axes=ax[1],colorbar=False)\n",
    "plot_stat_map(stat_map_img=stat_map,bg_img=bg_img,cut_coords=[0],threshold=2.3,vmax=5,symmetric_cbar=1,display_mode='y',black_bg=0,figure=fig,\n",
    "              axes=ax[2],colorbar=False)\n",
    "plot_stat_map(stat_map_img=stat_map,bg_img=bg_img,cut_coords=[-18],threshold=2.3,vmax=5,symmetric_cbar=1,display_mode='z',black_bg=0,figure=fig,\n",
    "              axes=ax[3],colorbar=True)"
   ],
   "metadata": {
    "collapsed": false
   },
   "id": "112c5930c7372b3c"
  },
  {
   "cell_type": "markdown",
   "source": [
    "# add covariate:2D acc"
   ],
   "metadata": {
    "collapsed": false
   },
   "id": "fcf54b8f013ee50a"
  },
  {
   "cell_type": "markdown",
   "source": [
    "# add covariates: age and acc"
   ],
   "metadata": {
    "collapsed": false
   },
   "id": "71f9b40419067d2b"
  },
  {
   "cell_type": "markdown",
   "source": [
    "### Age"
   ],
   "metadata": {
    "collapsed": false
   },
   "id": "25e90eafd9c7dafc"
  },
  {
   "cell_type": "markdown",
   "source": [
    "### Acc"
   ],
   "metadata": {
    "collapsed": false
   },
   "id": "9b81cec8c87ef8a9"
  },
  {
   "cell_type": "markdown",
   "source": [
    "# EC"
   ],
   "metadata": {
    "collapsed": false
   },
   "id": "560601157231489f"
  },
  {
   "cell_type": "markdown",
   "source": [
    "## copy data for he li"
   ],
   "metadata": {
    "collapsed": false
   },
   "id": "165c5cce9c75373d"
  },
  {
   "cell_type": "markdown",
   "source": [
    "# Show the MRI slices of the result"
   ],
   "metadata": {
    "collapsed": false
   },
   "id": "3a38b2f37709fe35"
  },
  {
   "cell_type": "code",
   "execution_count": null,
   "outputs": [],
   "source": [
    "import pandas as pd\n",
    "import seaborn as sns\n",
    "\n",
    "trainset1_phi = pd.read_csv(r'/mnt/workdir/DCM/BIDS/derivatives/Nipype/hexagon/specificTo6/Phi/trainset1_estPhi.csv').query('ifold==\"6fold\"')\n",
    "trainset2_phi = pd.read_csv(r'/mnt/workdir/DCM/BIDS/derivatives/Nipype/hexagon/specificTo6/Phi/trainset2_estPhi.csv').query('ifold==\"6fold\"')\n",
    "\n",
    "trainset1_phi['session'] = 'sess1'\n",
    "trainset2_phi['session'] = 'sess2'\n",
    "\n",
    "phi = pd.concat([trainset1_phi,trainset2_phi])\n",
    "phi['phi_diff'] = phi['ec_phi'] - phi['vmpfc_phi']\n",
    "sns.scatterplot(data=phi,x='session',y='phi_diff')\n",
    "\n",
    "phi_diff_sess1 = abs(phi.query(\"session=='sess1'\")['phi_diff']).to_list()\n",
    "phi_diff_sess2 = abs(phi.query(\"session=='sess2'\")['phi_diff']).to_list()\n",
    "from scipy.stats import ttest_ind\n",
    "\n",
    "t,p = ttest_ind(phi_diff_sess1,phi_diff_sess2)\n",
    "print('p:',round(p,3))"
   ],
   "metadata": {
    "collapsed": false
   },
   "id": "51f47b0ad9d399be"
  },
  {
   "cell_type": "markdown",
   "source": [
    "# add covariate:Age"
   ],
   "metadata": {
    "collapsed": false
   },
   "id": "5e07801edc99629e"
  },
  {
   "cell_type": "code",
   "execution_count": null,
   "outputs": [],
   "source": [
    "from nilearn.plotting import plot_stat_map,plot_glass_brain\n",
    "from nilearn.image import load_img,math_img\n",
    "import matplotlib.pyplot as plt\n",
    "\n",
    "fig,ax = plt.subplots(1,4,figsize=[20,4])\n",
    "stat_map = load_img(r'/mnt/workdir/DCM/BIDS/derivatives/Nipype/hexagon/specificTo6/training_set/trainsetall/group/all/'\n",
    "                    r'Age/2ndLevel/_contrast_id_ZF_0004/spmT_0002.nii')\n",
    "\n",
    "bg_img = load_img(r'/mnt/data/Template/tpl-MNI152NLin2009cAsym/tpl-MNI152NLin2009cAsym_res-01_desc-brain_T1w.nii.gz')\n",
    "\n",
    "#plot_stat_map(stat_map_img=stat_map,bg_img=bg_img,cut_coords=[11],threshold=2.3,symmetric_cbar=1,display_mode='x',black_bg=0,figure=fig,\n",
    "#              axes=ax[0],colorbar=False)\n",
    "plot_stat_map(stat_map_img=stat_map,bg_img=bg_img,cut_coords=[-4],threshold=2.3,vmax=5,symmetric_cbar=1,display_mode='x',black_bg=0,figure=fig,\n",
    "              axes=ax[0],colorbar=False)\n",
    "plot_stat_map(stat_map_img=stat_map,bg_img=bg_img,cut_coords=[-8],threshold=2.3,vmax=5,symmetric_cbar=1,display_mode='y',black_bg=0,figure=fig,\n",
    "              axes=ax[1],colorbar=False)\n",
    "plot_stat_map(stat_map_img=stat_map,bg_img=bg_img,cut_coords=[0],threshold=2.3,vmax=5,symmetric_cbar=1,display_mode='y',black_bg=0,figure=fig,\n",
    "              axes=ax[2],colorbar=False)\n",
    "plot_stat_map(stat_map_img=stat_map,bg_img=bg_img,cut_coords=[-18],threshold=2.3,vmax=5,symmetric_cbar=1,display_mode='z',black_bg=0,figure=fig,\n",
    "              axes=ax[3],colorbar=True)"
   ],
   "metadata": {
    "collapsed": false
   },
   "id": "916366c78b7b1905"
  },
  {
   "cell_type": "markdown",
   "source": [
    "# add covariate:2D acc"
   ],
   "metadata": {
    "collapsed": false
   },
   "id": "11374141f8e64b4c"
  },
  {
   "cell_type": "code",
   "execution_count": null,
   "outputs": [],
   "source": [
    "from nilearn.plotting import plot_stat_map,plot_glass_brain\n",
    "from nilearn.image import load_img,math_img\n",
    "import matplotlib.pyplot as plt\n",
    "\n",
    "fig,ax = plt.subplots(1,4,figsize=[20,4])\n",
    "stat_map = load_img(r'/mnt/workdir/DCM/BIDS/derivatives/Nipype/hexagon/specificTo6/training_set/trainsetall/group/all/'\n",
    "                    r'Acc/2ndLevel/_contrast_id_ZF_0004/spmT_0002.nii')\n",
    "\n",
    "bg_img = load_img(r'/mnt/data/Template/tpl-MNI152NLin2009cAsym/tpl-MNI152NLin2009cAsym_res-01_desc-brain_T1w.nii.gz')\n",
    "\n",
    "#plot_stat_map(stat_map_img=stat_map,bg_img=bg_img,cut_coords=[11],threshold=2.3,symmetric_cbar=1,display_mode='x',black_bg=0,figure=fig,\n",
    "#              axes=ax[0],colorbar=False)\n",
    "plot_stat_map(stat_map_img=stat_map,bg_img=bg_img,cut_coords=[6],threshold=2.3,vmax=5,symmetric_cbar=1,display_mode='x',black_bg=0,figure=fig,\n",
    "              axes=ax[0],colorbar=False)\n",
    "plot_stat_map(stat_map_img=stat_map,bg_img=bg_img,cut_coords=[24],threshold=2.3,vmax=5,symmetric_cbar=1,display_mode='x',black_bg=0,figure=fig,\n",
    "              axes=ax[1],colorbar=False)\n",
    "plot_stat_map(stat_map_img=stat_map,bg_img=bg_img,cut_coords=[-12],threshold=2.3,vmax=5,symmetric_cbar=1,display_mode='y',black_bg=0,figure=fig,\n",
    "              axes=ax[2],colorbar=False)\n",
    "plot_stat_map(stat_map_img=stat_map,bg_img=bg_img,cut_coords=[-24],threshold=2.3,vmax=5,symmetric_cbar=1,display_mode='z',black_bg=0,figure=fig,\n",
    "              axes=ax[3],colorbar=True)"
   ],
   "metadata": {
    "collapsed": false
   },
   "id": "201ea3ada9dc899"
  },
  {
   "cell_type": "markdown",
   "source": [
    "# add covariates: age and acc"
   ],
   "metadata": {
    "collapsed": false
   },
   "id": "cb962e73c6b6cf4f"
  },
  {
   "cell_type": "markdown",
   "source": [
    "### Age"
   ],
   "metadata": {
    "collapsed": false
   },
   "id": "b587478c86680440"
  },
  {
   "cell_type": "code",
   "execution_count": null,
   "outputs": [],
   "source": [
    "from nilearn.plotting import plot_stat_map,plot_glass_brain\n",
    "from nilearn.image import load_img,math_img\n",
    "import matplotlib.pyplot as plt\n",
    "\n",
    "fig,ax = plt.subplots(1,4,figsize=[20,4])\n",
    "stat_map = load_img(r'/mnt/workdir/DCM/BIDS/derivatives/Nipype/hexagon/specificTo6/training_set/trainsetall/group/all/'\n",
    "                    r'Age_plus_Acc/2ndLevel/_contrast_id_ZF_0004/spmT_0002.nii')\n",
    "\n",
    "bg_img = load_img(r'/mnt/data/Template/tpl-MNI152NLin2009cAsym/tpl-MNI152NLin2009cAsym_res-01_desc-brain_T1w.nii.gz')\n",
    "\n",
    "cut_coords = [-4,2,-18]\n",
    "\n",
    "#plot_stat_map(stat_map_img=stat_map,bg_img=bg_img,cut_coords=[11],threshold=2.3,symmetric_cbar=1,display_mode='x',black_bg=0,figure=fig,\n",
    "#              axes=ax[0],colorbar=False)\n",
    "plot_stat_map(stat_map_img=stat_map,bg_img=bg_img,cut_coords=[-4],threshold=2.3,vmax=5,symmetric_cbar=1,display_mode='x',black_bg=0,figure=fig,\n",
    "              axes=ax[0],colorbar=False)\n",
    "plot_stat_map(stat_map_img=stat_map,bg_img=bg_img,cut_coords=[-8],threshold=2.3,vmax=5,symmetric_cbar=1,display_mode='y',black_bg=0,figure=fig,\n",
    "              axes=ax[1],colorbar=False)\n",
    "plot_stat_map(stat_map_img=stat_map,bg_img=bg_img,cut_coords=[0],threshold=2.3,vmax=5,symmetric_cbar=1,display_mode='y',black_bg=0,figure=fig,\n",
    "              axes=ax[2],colorbar=False)\n",
    "plot_stat_map(stat_map_img=stat_map,bg_img=bg_img,cut_coords=[-18],threshold=2.3,vmax=5,symmetric_cbar=1,display_mode='z',black_bg=0,figure=fig,\n",
    "              axes=ax[3],colorbar=True)"
   ],
   "metadata": {
    "collapsed": false
   },
   "id": "d5da16c50760248a"
  },
  {
   "cell_type": "markdown",
   "source": [
    "### Acc"
   ],
   "metadata": {
    "collapsed": false
   },
   "id": "cb3e83c01ab2296f"
  },
  {
   "cell_type": "code",
   "execution_count": null,
   "outputs": [],
   "source": [
    "from nilearn.plotting import plot_stat_map,plot_glass_brain\n",
    "from nilearn.image import load_img,math_img\n",
    "import matplotlib.pyplot as plt\n",
    "\n",
    "fig,ax = plt.subplots(1,4,figsize=[20,4])\n",
    "stat_map = load_img(r'/mnt/workdir/DCM/BIDS/derivatives/Nipype/hexagon/specificTo6/training_set/trainsetall/group/all/'\n",
    "                    r'Age_plus_Acc/2ndLevel/_contrast_id_ZF_0004/spmT_0003.nii')\n",
    "\n",
    "bg_img = load_img(r'/mnt/data/Template/tpl-MNI152NLin2009cAsym/tpl-MNI152NLin2009cAsym_res-01_desc-brain_T1w.nii.gz')\n",
    "\n",
    "plot_stat_map(stat_map_img=stat_map,bg_img=bg_img,cut_coords=[6],threshold=2.3,vmax=5,symmetric_cbar=1,display_mode='x',black_bg=0,figure=fig,\n",
    "              axes=ax[0],colorbar=False)\n",
    "plot_stat_map(stat_map_img=stat_map,bg_img=bg_img,cut_coords=[24],threshold=2.3,vmax=5,symmetric_cbar=1,display_mode='x',black_bg=0,figure=fig,\n",
    "              axes=ax[1],colorbar=False)\n",
    "plot_stat_map(stat_map_img=stat_map,bg_img=bg_img,cut_coords=[-12],threshold=2.3,vmax=5,symmetric_cbar=1,display_mode='y',black_bg=0,figure=fig,\n",
    "              axes=ax[2],colorbar=False)\n",
    "plot_stat_map(stat_map_img=stat_map,bg_img=bg_img,cut_coords=[-24],threshold=2.3,vmax=5,symmetric_cbar=1,display_mode='z',black_bg=0,figure=fig,\n",
    "              axes=ax[3],colorbar=True)"
   ],
   "metadata": {
    "collapsed": false
   },
   "id": "c3e97d32d9e5c946"
  },
  {
   "cell_type": "code",
   "execution_count": null,
   "outputs": [],
   "source": [
    "import numpy as np\n",
    "from nilearn.plotting import plot_stat_map,plot_roi\n",
    "from nilearn.image import load_img,math_img,new_img_like\n",
    "import matplotlib.pyplot as plt\n",
    "\n",
    "fig,ax = plt.subplots(1,4,figsize=[20,4])\n",
    "stat_map = load_img(r'/mnt/workdir/DCM/BIDS/derivatives/Nipype/hexagon/specificTo6/training_set/trainsetall/group/'\n",
    "                    r'hp/2ndLevel/_contrast_id_ZF_0004/spmT_0001.nii')\n",
    "\n",
    "bg_img = load_img(r'/mnt/data/Template/tpl-MNI152NLin2009cAsym/tpl-MNI152NLin2009cAsym_res-01_desc-brain_T1w.nii.gz')\n",
    "\n",
    "vmpfc_mask = load_img(r'/mnt/workdir/DCM/docs/Reference/Park_Grid_Coding/osfstorage-archive/data/Analysis_ROI_nii/mPFC_Grid_roi.nii')\n",
    "\n",
    "stat_data = stat_map.get_fdata()\n",
    "stat_data[stat_data<=0]  = np.float64('NaN')\n",
    "stat_map = new_img_like(stat_map, stat_data)\n",
    "\n",
    "plot_stat_map(stat_map_img=stat_map,bg_img=bg_img,cut_coords=[-8],threshold=1.6,vmax=4,symmetric_cbar=1,display_mode='x',black_bg=0,figure=fig,\n",
    "              axes=ax[0],colorbar=False)\n",
    "plot_stat_map(stat_map_img=stat_map,bg_img=bg_img,cut_coords=[-8],threshold=1.6,vmax=4,symmetric_cbar=1,display_mode='y',black_bg=0,figure=fig,\n",
    "              axes=ax[1],colorbar=False)\n",
    "plot_stat_map(stat_map_img=stat_map,bg_img=bg_img,cut_coords=[-4],threshold=1.6,vmax=4,symmetric_cbar=1,display_mode='y',black_bg=0,figure=fig,\n",
    "              axes=ax[2],colorbar=False)\n",
    "plot_stat_map(stat_map_img=stat_map,bg_img=bg_img,cut_coords=[3],threshold=1.6,vmax=4,symmetric_cbar=1,display_mode='y',black_bg=0,figure=fig,\n",
    "              axes=ax[3],colorbar=True)"
   ],
   "metadata": {
    "collapsed": false
   },
   "id": "d9b02cce434711f7"
  },
  {
   "cell_type": "markdown",
   "source": [
    "# EC"
   ],
   "metadata": {
    "collapsed": false
   },
   "id": "9c5dc74d4459ad91"
  },
  {
   "cell_type": "code",
   "execution_count": null,
   "outputs": [],
   "source": [
    "import numpy as np\n",
    "from nilearn.plotting import plot_stat_map,plot_glass_brain\n",
    "from nilearn.image import load_img,math_img,new_img_like\n",
    "import matplotlib.pyplot as plt\n",
    "\n",
    "fig,ax = plt.subplots(1,4,figsize=[20,4])\n",
    "stat_map = load_img(r'/mnt/workdir/DCM/BIDS/derivatives/Nipype/hexagon/specificTo6/test_set/EC/group/hp/mean_spmT_align_EC_Phi.nii')\n",
    "\n",
    "bg_img = load_img(r'/mnt/data/Template/tpl-MNI152NLin2009cAsym/tpl-MNI152NLin2009cAsym_res-01_desc-brain_T1w.nii.gz')\n",
    "\n",
    "\n",
    "stat_data = stat_map.get_fdata()\n",
    "stat_data[stat_data<=0]  = np.float64('NaN')\n",
    "stat_map = new_img_like(stat_map, stat_data)\n",
    "\n",
    "plot_stat_map(stat_map_img=stat_map,bg_img=bg_img,cut_coords=[-8],threshold=2.3,vmax=5,symmetric_cbar=1,display_mode='x',black_bg=0,figure=fig,\n",
    "              axes=ax[0],colorbar=False)\n",
    "plot_stat_map(stat_map_img=stat_map,bg_img=bg_img,cut_coords=[-8],threshold=2.3,vmax=5,symmetric_cbar=1,display_mode='y',black_bg=0,figure=fig,\n",
    "              axes=ax[1],colorbar=False)\n",
    "plot_stat_map(stat_map_img=stat_map,bg_img=bg_img,cut_coords=[-19],threshold=2.3,vmax=5,symmetric_cbar=1,display_mode='z',black_bg=0,figure=fig,\n",
    "              axes=ax[2],colorbar=False)\n",
    "plot_stat_map(stat_map_img=stat_map,bg_img=bg_img,cut_coords=[31],threshold=2.3,vmax=5,symmetric_cbar=1,display_mode='z',black_bg=0,figure=fig,\n",
    "              axes=ax[3],colorbar=True)\n",
    "% md\n",
    "# vmpfc"
   ],
   "metadata": {
    "collapsed": false
   },
   "id": "1364312dc0847a9a"
  },
  {
   "cell_type": "code",
   "execution_count": null,
   "outputs": [],
   "source": [
    "import numpy as np\n",
    "from nilearn.plotting import plot_stat_map,plot_glass_brain\n",
    "from nilearn.image import load_img,math_img,new_img_like\n",
    "import matplotlib.pyplot as plt\n",
    "\n",
    "fig,ax = plt.subplots(1,4,figsize=[20,4])\n",
    "stat_map = load_img(r'/mnt/workdir/DCM/BIDS/derivatives/Nipype/hexagon/specificTo6/test_set/vmpfc/group/hp/mean_spmT_align_vmpfc_Phi.nii')\n",
    "\n",
    "bg_img = load_img(r'/mnt/data/Template/tpl-MNI152NLin2009cAsym/tpl-MNI152NLin2009cAsym_res-01_desc-brain_T1w.nii.gz')\n",
    "\n",
    "\n",
    "stat_data = stat_map.get_fdata()\n",
    "stat_data[stat_data<=0]  = np.float64('NaN')\n",
    "stat_map = new_img_like(stat_map, stat_data)\n",
    "\n",
    "plot_stat_map(stat_map_img=stat_map,bg_img=bg_img,cut_coords=[4],threshold=2.3,vmax=5,symmetric_cbar=1,display_mode='x',black_bg=0,figure=fig,\n",
    "              axes=ax[0],colorbar=False)\n",
    "plot_stat_map(stat_map_img=stat_map,bg_img=bg_img,cut_coords=[-33],threshold=2.3,vmax=5,symmetric_cbar=1,display_mode='x',black_bg=0,figure=fig,\n",
    "              axes=ax[1],colorbar=False)\n",
    "plot_stat_map(stat_map_img=stat_map,bg_img=bg_img,cut_coords=[3],threshold=2.3,vmax=5,symmetric_cbar=1,display_mode='y',black_bg=0,figure=fig,\n",
    "              axes=ax[2],colorbar=False)\n",
    "plot_stat_map(stat_map_img=stat_map,bg_img=bg_img,cut_coords=[-19],threshold=2.3,vmax=5,symmetric_cbar=1,display_mode='z',black_bg=0,figure=fig,\n",
    "              axes=ax[3],colorbar=True)"
   ],
   "metadata": {
    "collapsed": false
   },
   "id": "129f481e218b04a9"
  },
  {
   "cell_type": "markdown",
   "source": [
    "## copy data for he li"
   ],
   "metadata": {
    "collapsed": false
   },
   "id": "9e901f1f1c188ab4"
  },
  {
   "cell_type": "code",
   "execution_count": null,
   "outputs": [],
   "source": [
    "from nilearn.plotting import plot_stat_map,plot_glass_brain\n",
    "from nilearn.image import load_img,math_img\n",
    "import matplotlib.pyplot as plt\n",
    "\n",
    "fig,ax = plt.subplots(1,5,figsize=[20,4])\n",
    "stat_map = load_img(r'/mnt/workdir/DCM/BIDS/derivatives/Nipype/hexagon/specificTo6/training_set/trainsetall/group/adult/2ndLevel/_contrast_id_ZF_0004/spmT_0001.nii')\n",
    "\n",
    "bg_img = load_img(r'/mnt/data/Template/tpl-MNI152NLin2009cAsym/tpl-MNI152NLin2009cAsym_res-01_desc-brain_T1w.nii.gz')\n",
    "stat_map = math_img(\"np.where(img<0,0,img)\",img=stat_map)\n",
    "\n",
    "plot_stat_map(stat_map_img=stat_map,bg_img=bg_img,cut_coords=[11],threshold=1.69,symmetric_cbar=1,display_mode='x',black_bg=0,figure=fig,\n",
    "              axes=ax[0],colorbar=False)\n",
    "#plot_stat_map(stat_map_img=stat_map,bg_img=bg_img,cut_coords=[6],threshold=1.69,vmax=5,symmetric_cbar=1,display_mode='x',black_bg=0,figure=fig,\n",
    "#              axes=ax[0],colorbar=False)\n",
    "plot_stat_map(stat_map_img=stat_map,bg_img=bg_img,cut_coords=[24],threshold=1.69,vmax=5,symmetric_cbar=1,display_mode='x',black_bg=0,figure=fig,\n",
    "              axes=ax[1],colorbar=False)\n",
    "plot_stat_map(stat_map_img=stat_map,bg_img=bg_img,cut_coords=[-8],threshold=1.69,vmax=5,symmetric_cbar=1,display_mode='y',black_bg=0,figure=fig,\n",
    "              axes=ax[2],colorbar=False)\n",
    "plot_stat_map(stat_map_img=stat_map,bg_img=bg_img,cut_coords=[0],threshold=1.69,vmax=5,symmetric_cbar=1,display_mode='y',black_bg=0,figure=fig,\n",
    "              axes=ax[3],colorbar=False)\n",
    "plot_stat_map(stat_map_img=stat_map,bg_img=bg_img,cut_coords=[-24],threshold=1.69,vmax=5,symmetric_cbar=1,display_mode='z',black_bg=0,figure=fig,\n",
    "              axes=ax[4],colorbar=True)"
   ],
   "metadata": {
    "collapsed": false
   },
   "id": "117c93f39d69cb73"
  },
  {
   "cell_type": "code",
   "execution_count": null,
   "outputs": [],
   "source": [
    "from scipy.io import loadmat\n",
    "def plotDesignMatrix(matFile):\n",
    "    import numpy as np\n",
    "    import seaborn as sns\n",
    "    from matplotlib import pyplot as plt\n",
    "    from scipy.io import loadmat\n",
    "    from os.path import join as opj\n",
    "    import os\n",
    "\n",
    "    fig_filename_full = opj(os.getcwd(), 'spm_mat.png')      # create filename\n",
    "\n",
    "    spmmat = loadmat(matFile,                           # Using scipy's loadmat function we can access SPM.mat\n",
    "struct_as_record=False)\n",
    "\n",
    "    # normalize data\n",
    "    designMatrix = spmmat['SPM'][0][0].xX[0][0].X[:,:]\n",
    "    names = [i[0] for i in spmmat['SPM'][0][0].xX[0][0].name[0]][:]\n",
    "\n",
    "    normed_design = designMatrix / np.abs(designMatrix).max(axis=0)\n",
    "\n",
    "    # save figure\n",
    "    fig_f, ax_f = plt.subplots(figsize=(30, 30))\n",
    "    plt.imshow(normed_design, aspect='auto', cmap='gray', interpolation='none')\n",
    "    ax_f.set_ylabel('Volume id')\n",
    "    ax_f.set_xticks(np.arange(len(names)))\n",
    "    ax_f.set_xticklabels(names, rotation=30)\n",
    "    plt.show()\n",
    "    #fig_f.savefig(r'/mnt/workdir/DCM/tmp/design_matrix.png')\n",
    "    plt.close(fig_f)\n",
    "\n",
    "    return fig_filename_full\n",
    "spm_file = r'/mnt/workdir/DCM/BIDS/derivatives/Nipype/working_dir/game2/separate_hexagon_2phases_correct_trials/Setall/6fold/work_1st/_subj_id_193/level1estimate/SPM.mat'\n",
    "plotDesignMatrix(spm_file)"
   ],
   "metadata": {
    "collapsed": false
   },
   "id": "ecbe8ffa77471d8c"
  },
  {
   "cell_type": "code",
   "execution_count": null,
   "outputs": [],
   "source": [
    "import numpy as np\n",
    "import pandas as pd\n",
    "from matplotlib import pyplot as plt\n",
    "from scipy.io import loadmat\n",
    "from os.path import join as opj\n",
    "import os\n",
    "\n",
    "spm_file = r'/mnt/workdir/DCM/BIDS/derivatives/SPM/sub-099/SPM.mat'\n",
    "\n",
    "spmmat = loadmat(spm_file,struct_as_record=False)\n",
    "designMatrix = spmmat['SPM'][0][0].xX[0][0].nKX\n",
    "names = [i[0] for i in spmmat['SPM'][0][0].xX[0][0].name[0]]\n",
    "\n",
    "design_matrix = pd.DataFrame(designMatrix,columns=names)\n",
    "design_matrix"
   ],
   "metadata": {
    "collapsed": false
   },
   "id": "e2a6acc183fbd0e1"
  },
  {
   "cell_type": "code",
   "execution_count": null,
   "outputs": [],
   "source": [
    "import numpy as np\n",
    "import pandas as pd\n",
    "from matplotlib import pyplot as plt\n",
    "from scipy.io import loadmat\n",
    "from os.path import join as opj\n",
    "import os\n",
    "\n",
    "spmmat = loadmat('/mnt/workdir/DCM/BIDS/derivatives/Nipype/working_dir/game1/separate_hexagon_2phases_correct_trials/Setall/6fold/work_1st/_subj_id_180/level1estimate/SPM.mat',\n",
    "                 struct_as_record=False)\n",
    "\n",
    "designMatrix = spmmat['SPM'][0][0].xX[0][0].X\n",
    "names = [i[0] for i in spmmat['SPM'][0][0].xX[0][0].name[0]]\n",
    "\n",
    "design_matrix = pd.DataFrame(designMatrix,columns=names)\n",
    "design_matrix"
   ],
   "metadata": {
    "collapsed": false
   },
   "id": "b81cd154343c666c"
  },
  {
   "cell_type": "code",
   "execution_count": null,
   "outputs": [],
   "source": [
    "import pandas as pd\n",
    "from scipy.io import loadmat\n",
    "import matplotlib.pyplot as plt\n",
    "import seaborn as sns\n",
    "# Using scipy's loadmat function we can access SPM.mat\n",
    "spmmat = loadmat('/mnt/workdir/DCM/BIDS/derivatives/Nipype/working_dir/game1/cv_train3/Setall/6fold/work_1st/_subj_id_010/level1estimate/SPM.mat',\n",
    "                 struct_as_record=False)\n",
    "run = 0\n",
    "designMatrix = spmmat['SPM'][0][0].xX[0][0].X[:164,0+run*15:10+run*15]\n",
    "names = [i[0] for i in spmmat['SPM'][0][0].xX[0][0].name[0]][0+run*15:10+run*15]\n",
    "\n",
    "fix,ax = plt.subplots(figsize=(15,7))\n",
    "designMatrix_df = pd.DataFrame(designMatrix,columns=names)\n",
    "g = sns.heatmap(designMatrix_df.corr(),annot=True,vmax=1,vmin=-1,cmap='coolwarm')\n",
    "g.set_xticklabels(g.get_xticklabels(),rotation=20)\n",
    "plt.show()"
   ],
   "metadata": {
    "collapsed": false
   },
   "id": "9d1276fdfbc44e4d"
  },
  {
   "cell_type": "code",
   "execution_count": null,
   "outputs": [],
   "source": [
    "import os\n",
    "\n",
    "def get_dir_size(path='.'):\n",
    "    total = 0\n",
    "    with os.scandir(path) as it:\n",
    "        for entry in it:\n",
    "            if entry.is_file():\n",
    "                total += entry.stat().st_size\n",
    "            elif entry.is_dir():\n",
    "                total += get_dir_size(entry.path)\n",
    "    return total\n",
    "\n",
    "\n",
    "def get_directory_sizes(directory_path):\n",
    "    # Get the list of directories in the specified directory\n",
    "    directory_list = os.listdir(directory_path)\n",
    "    directory_sizes = {}\n",
    "    # Loop through the list of directories\n",
    "    for directory in directory_list:\n",
    "        # Get the size of the directory\n",
    "        directory_size =  get_dir_size(os.path.join(directory_path, directory))\n",
    "        # convert size to GB\n",
    "        directory_size = directory_size / 1024 / 1024 / 1024\n",
    "        directory_sizes[directory] = directory_size\n",
    "    return directory_sizes\n",
    "\n",
    "directory_path = r'/mnt/data/DCM/tmp/ToLuoYao/MEG/CTF'\n",
    "directory_sizes = get_directory_sizes(directory_path)\n",
    "# sort the dictionary by value\n",
    "directory_sizes = {k: v for k, v in sorted(directory_sizes.items(), key=lambda item: item[1],reverse=True)}"
   ],
   "metadata": {
    "collapsed": false
   },
   "id": "2e37b95439c115af"
  },
  {
   "cell_type": "code",
   "execution_count": null,
   "outputs": [],
   "source": [
    "from nilearn import image\n",
    "\n",
    "roi1 = image.load_img(r'/mnt/workdir/DCM/Docs/Mask/hippocampus/harvardoxford-subcortical_prob_Left Hippocampus.nii.gz')\n",
    "roi2 = image.load_img(r'/mnt/workdir/DCM/Docs/Mask/hippocampus/')\n",
    "\n",
    "# merge two masks into one mask\n",
    "roi = image.math_img('np.logical_or(img1,img2)', img1=roi1, img2=roi2)\n",
    "roi.to_filename(r'/mnt/workdir/DCM/Docs/Mask/VMPFC/VMPFC_merge_MNI152NL.nii.gz')"
   ],
   "metadata": {
    "collapsed": false
   },
   "id": "59bb891400eae1a4"
  },
  {
   "cell_type": "code",
   "execution_count": null,
   "outputs": [],
   "source": [
    "from nilearn import image\n",
    "\n",
    "roi = image.load_img(r'/mnt/workdir/DCM/Docs/Mask/hippocampus/harvardoxford-subcortical_prob_Right Hippocampus.nii.gz')\n",
    "roi = image.binarize_img(roi,5)\n",
    "roi.to_filename(r'/mnt/workdir/DCM/Docs/Mask/hippocampus/rHC.nii.gz')"
   ],
   "metadata": {
    "collapsed": false
   },
   "id": "b69369c02a212402"
  },
  {
   "cell_type": "code",
   "execution_count": null,
   "outputs": [],
   "source": [
    "from nilearn import image\n",
    "import numpy as np\n",
    "from scipy.ndimage import binary_closing,binary_dilation\n",
    "\n",
    "bn_atlas = image.load_img(r'/mnt/workdir/DCM/Docs/Mask/dmPFC/MNINonL_BN_Atlas_246_2mm.nii.gz')\n",
    "bn_data = bn_atlas.get_fdata()\n",
    "\n",
    "bn_data[~np.isin(bn_data, [1,2,11, 12])] = 0\n",
    "bn_data[bn_data>0] = 1\n",
    "bin_bn_data = binary_closing(bn_data,iterations=1)\n",
    "bn_atlas_new = image.new_img_like(bn_atlas,bin_bn_data)\n",
    "bn_atlas_new.to_filename(r'/mnt/workdir/DCM/Docs/Mask/dmPFC/BN_dmPFC_middle.nii.gz')"
   ],
   "metadata": {
    "collapsed": false
   },
   "id": "e32556fc8a223f76"
  },
  {
   "cell_type": "code",
   "execution_count": null,
   "outputs": [],
   "source": [
    "import os\n",
    "import numpy as np\n",
    "import pandas as pd\n",
    "from os.path import join\n",
    "from analysis.mri.event.base import GAME1EV\n",
    "\n",
    "\n",
    "# get the angle distribution of dogfall trials\n",
    "\n",
    "class GAME1EV_tmp(GAME1EV):\n",
    "    def __init__(self, behDataPath):\n",
    "        GAME1EV.__init__(self, behDataPath)\n",
    "\n",
    "    def label_trial_corr(self):\n",
    "        self.behData = self.behData.fillna('None')\n",
    "        if self.dformat == 'trial_by_trial':\n",
    "            keyResp_list = self.behData['resp.keys']\n",
    "        elif self.dformat == 'summary':\n",
    "            keyResp_tmp = self.behData['resp.keys_raw']\n",
    "            keyResp_list = []\n",
    "            for k in keyResp_tmp:\n",
    "                if k == 'None':\n",
    "                    keyResp_list.append(k)\n",
    "                else:\n",
    "                    keyResp_list.append(k[1])\n",
    "        else:\n",
    "            raise Exception(\"You need specify behavioral data format.\")\n",
    "\n",
    "        angle = self.behData['angles']\n",
    "        trial_corr = []\n",
    "        fr = []\n",
    "        fresult = []\n",
    "        for keyResp, row in zip(keyResp_list, self.behData.itertuples()):\n",
    "            rule = row.fightRule\n",
    "            fr.append(rule)\n",
    "            if rule == '1A2D':\n",
    "                fight_result = row.pic1_ap - row.pic2_dp\n",
    "                if fight_result > 0:\n",
    "                    correctAns = 1\n",
    "                elif fight_result < 0:\n",
    "                    correctAns = 2\n",
    "                elif fight_result == 0:\n",
    "                    correctAns = -1\n",
    "                else:\n",
    "                    raise Exception(\"fight result is not a number.\")\n",
    "            elif rule == '1D2A':\n",
    "                fight_result = row.pic2_ap - row.pic1_dp\n",
    "                if fight_result > 0:\n",
    "                    correctAns = 2\n",
    "                elif fight_result < 0:\n",
    "                    correctAns = 1\n",
    "                elif fight_result == 0:\n",
    "                    correctAns = -1\n",
    "                else:\n",
    "                    raise Exception(\"fight result is not a number.\")\n",
    "            else:\n",
    "                raise Exception(\"None of rule have been found in the file.\")\n",
    "            fresult.append(fight_result)\n",
    "        return fr, fresult, angle\n",
    "\n",
    "\n",
    "ifolds = [6]\n",
    "task = 'game1'\n",
    "glm_type = 'hexagon_spct'\n",
    "template = {'save_dir': r'/mnt/workdir/DCM/BIDS/derivatives/Events/{}/' + glm_type + '/sub-{}/{}fold',\n",
    "            'event_file': 'sub-{}_task-{}_run-{}_events.tsv'}\n",
    "\n",
    "if task == 'game1':\n",
    "    runs = range(1, 7)\n",
    "    template['behav_path'] = '/mnt/workdir/DCM/sourcedata/sub_{}/Behaviour/' \\\n",
    "                             'fmri_task-game1/sub-{}_task-{}_run-{}.csv'\n",
    "\n",
    "participants_data = pd.read_csv('/mnt/workdir/DCM/BIDS/participants.tsv', sep='\\t')\n",
    "subjects = participants_data.query(f'{task}_fmri>=0.5')['Participant_ID'].str.split('-').str[-1].str.zfill(3)\n",
    "\n",
    "df = pd.DataFrame()\n",
    "for subj in subjects:\n",
    "    print(f'----sub-{subj}----')\n",
    "\n",
    "    for ifold in ifolds:\n",
    "        save_dir = template['save_dir'].format(task, subj, ifold)\n",
    "        os.makedirs(save_dir, exist_ok=True)\n",
    "\n",
    "        for idx in runs:\n",
    "            run_id = str(idx)\n",
    "            behav_path = template['behav_path'].format(subj, subj, task, run_id)\n",
    "            game1ev = GAME1EV_tmp(behav_path)\n",
    "            fr, fresult, angle = game1ev.label_trial_corr()\n",
    "            df = df.append(pd.DataFrame({'sub_id': subj, 'fightRule': fr, 'fightResult': fresult, 'angle': angle}),\n",
    "                           ignore_index=True)\n",
    "df.to_csv('/mnt/workdir/DCM/Result/validation_trial_bias/dogfall.csv', index=False)\n",
    "\n",
    "# get the angle distribution of dogfall trials\n",
    "\n",
    "df_dog_fall = df[df['fightResult'] == 0]\n",
    "angles = df_dog_fall['angle'].to_list()\n",
    "#plotAngleHist(angles)\n",
    "#plotAngleRadar(angles)"
   ],
   "metadata": {
    "collapsed": false
   },
   "id": "a2faed755e7c85b5"
  },
  {
   "cell_type": "code",
   "execution_count": null,
   "outputs": [],
   "source": [
    "import plotly.express as px\n",
    "\n",
    "df_dog_fall['frequency'] = df_dog_fall.groupby('angle')['angle'].transform('count')\n",
    "fig = px.line_polar(df_dog_fall, r='frequency', theta='angle', line_close=False)\n",
    "fig.update_layout(\n",
    "    polar=dict(\n",
    "        radialaxis=dict(\n",
    "            visible=True,\n",
    "            range=[0, df_dog_fall['frequency'].max()]\n",
    "        )),\n",
    "    showlegend=False\n",
    ")\n",
    "\n",
    "fig.update_traces(fill='toself')\n",
    "fig.update_layout(title='Angle Distribution')\n",
    "fig.show()\n"
   ],
   "metadata": {
    "collapsed": false
   },
   "id": "2f1a4f77aeedf553"
  },
  {
   "cell_type": "code",
   "execution_count": null,
   "outputs": [],
   "source": [
    "import pandas as pd\n",
    "from scipy.stats import pearsonr\n",
    "ifold=6\n",
    "phis_file = r'/mnt/data/DCM/result_backup/2023.5.14/Nilearn/game1/cv_train_hexagon_spct/' \\\n",
    "            r'estPhi_ROI-EC_circmean_cv.csv'  # look out\n",
    "old_phis_data = pd.read_csv(phis_file)\n",
    "\n",
    "phis_file = r'/mnt/workdir/DCM/BIDS/derivatives/Nilearn/game1/cv_train_hexagon_spct/estPhi_ROI-EC_circmean_cv.csv'\n",
    "new_phis_data = pd.read_csv(phis_file)\n",
    "\n",
    "old_odd_phis = old_phis_data.query(f'(ifold==\"{ifold}fold\")and(trial_type==\"odd\")')['Phi_mean']\n",
    "new_odd_phis = new_phis_data.query(f'(ifold==\"{ifold}fold\")and(trial_type==\"odd\")')['Phi_mean']\n",
    "r,p = pearsonr(old_odd_phis,new_odd_phis)\n",
    "print(r,p)"
   ],
   "metadata": {
    "collapsed": false
   },
   "id": "4219ef746123af18"
  },
  {
   "cell_type": "code",
   "execution_count": null,
   "outputs": [],
   "source": [
    "from nilearn import image\n",
    "import numpy as np\n",
    "from scipy.ndimage import binary_closing, binary_dilation\n",
    "\n",
    "bn_atlas = image.load_img(r'/mnt/workdir/DCM/Docs/Mask/dmPFC/MNINonL_BN_Atlas_246_2mm.nii.gz')\n",
    "bn_data = bn_atlas.get_fdata()\n",
    "\n",
    "bn_data[~np.isin(bn_data, [175])] = 0\n",
    "bn_data[bn_data > 0] = 1\n",
    "bin_bn_data = binary_closing(bn_data, iterations=1)\n",
    "bn_atlas_new = image.new_img_like(bn_atlas, bin_bn_data)\n",
    "bn_atlas_new.to_filename(r'/mnt/workdir/DCM/Docs/Mask/RSC/BN_Atlas_PCC.nii.gz')"
   ],
   "metadata": {
    "collapsed": false
   },
   "id": "bf28d0655726fe19"
  },
  {
   "cell_type": "code",
   "execution_count": null,
   "outputs": [],
   "source": [
    "import numpy as np\n",
    "from nilearn import image\n",
    "from nilearn.masking import apply_mask\n",
    "\n",
    "ori_img = image.load_img(r'/mnt/workdir/DCM/BIDS/derivatives/Nilearn/game1/grid_rsa/Setall/6fold/group_zmap/game1_hp_all/thr3.1_rsa_zscore_img_coarse_6fold_zmap.nii.gz')\n",
    "mask = image.get_data(r'/mnt/workdir/DCM/Docs/Mask/cortex_mask_MNI152NL.nii.gz')\n",
    "data =ori_img.get_fdata()\n",
    "data[mask==0] = 0\n",
    "out_img = image.new_img_like(ori_img, data)\n",
    "out_img.to_filename(r'/mnt/workdir/DCM/BIDS/derivatives/Nilearn/game1/grid_rsa/Setall/6fold/group_zmap/game1_hp_all/thr3.1_rsa_zscore_img_coarse_6fold_zmap.nii.gz')"
   ],
   "metadata": {
    "collapsed": false
   },
   "id": "bbff333f927245c2"
  },
  {
   "cell_type": "code",
   "execution_count": null,
   "outputs": [],
   "source": [
    "import numpy as np\n",
    "import matplotlib.pyplot as plt\n",
    "from mpl_toolkits.mplot3d import Axes3D\n",
    "\n",
    "# Create the x1 and x2 values\n",
    "x1 = np.linspace(-5, 5, 100)\n",
    "x2 = np.linspace(-5, 5, 100)\n",
    "x1, x2 = np.meshgrid(x1, x2)\n",
    "\n",
    "# Define the functions\n",
    "y1 = np.sqrt(np.abs(x1) + np.abs(x2))\n",
    "y2 = np.sqrt(x1**2 + x2**2)\n",
    "\n",
    "# Compute the gradients\n",
    "grad_y1 = np.sqrt(np.gradient(y1, axis=0)**2 + np.gradient(y1, axis=1)**2)\n",
    "grad_y2 = np.sqrt(np.gradient(y2, axis=0)**2 + np.gradient(y2, axis=1)**2)\n",
    "\n",
    "# Normalize the gradients with a threshold\n",
    "thresh = np.percentile(grad_y1, 70)\n",
    "norm_grad_y1 = np.clip(grad_y1 / thresh, 0, 1)\n",
    "\n",
    "thresh = np.percentile(grad_y2, 50)\n",
    "norm_grad_y2 = np.clip(grad_y2 / thresh, 0, 1)\n",
    "\n",
    "# Create a figure for the plots\n",
    "fig = plt.figure(figsize=(14, 14))\n",
    "\n",
    "# Create the first subplot for y = np.sqrt(|x1| + |x2|)\n",
    "ax1 = fig.add_subplot(221, projection='3d')\n",
    "ax1.plot_surface(x1, x2, y1)\n",
    "ax1.set_title('y = np.sqrt(|x1| + |x2|)')\n",
    "ax1.set_xlabel('x1')\n",
    "ax1.set_ylabel('x2')\n",
    "ax1.set_zlabel('y')\n",
    "\n",
    "# Create the second subplot for y = np.sqrt(x1^2 + x2^2)\n",
    "ax2 = fig.add_subplot(222, projection='3d')\n",
    "ax2.plot_surface(x1, x2, y2)\n",
    "ax2.set_title('y = np.sqrt(x1^2 + x2^2)')\n",
    "ax2.set_xlabel('x1')\n",
    "ax2.set_ylabel('x2')\n",
    "ax2.set_zlabel('y')\n",
    "\n",
    "# Create the third subplot for gradient y = np.sqrt(|x1| + |x2|)\n",
    "ax3 = fig.add_subplot(223, projection='3d')\n",
    "ax3.plot_surface(x1, x2, y1, facecolors=plt.cm.viridis(norm_grad_y1))\n",
    "ax3.set_title('Gradient of y = np.sqrt(|x1| + |x2|)')\n",
    "ax3.set_xlabel('x1')\n",
    "ax3.set_ylabel('x2')\n",
    "ax3.set_zlabel('y')\n",
    "\n",
    "# Create the fourth subplot for gradient y = np.sqrt(x1^2 + x2^2)\n",
    "ax4 = fig.add_subplot(224, projection='3d')\n",
    "ax4.plot_surface(x1, x2, y2, facecolors=plt.cm.viridis(norm_grad_y2))\n",
    "ax4.set_title('Gradient of y = np.sqrt(x1^2 + x2^2)')\n",
    "ax4.set_xlabel('x1')\n",
    "ax4.set_ylabel('x2')\n",
    "ax4.set_zlabel('y')\n",
    "\n",
    "plt.tight_layout()\n",
    "plt.show()"
   ],
   "metadata": {
    "collapsed": false
   },
   "id": "74f4ef50b98fc893"
  },
  {
   "cell_type": "code",
   "execution_count": 90,
   "outputs": [],
   "source": [
    "import os\n",
    "import numpy as np\n",
    "import pandas as pd\n",
    "from nilearn import masking, image\n",
    "from scipy.stats import ttest_1samp, pearsonr,ttest_ind\n",
    "import statsmodels.api as sm\n",
    "import statsmodels.formula.api as smf\n",
    "import seaborn as sns\n",
    "import matplotlib\n",
    "import matplotlib as mpl\n",
    "import matplotlib.pyplot as plt\n",
    "from sklearn.preprocessing import StandardScaler\n",
    "from analysis.mri.game2 import circular\n",
    "\n",
    "# Set the default plots style\n",
    "sns.set_theme(style=\"white\")\n",
    "\n",
    "mpl.rcParams['pdf.fonttype'] = 42\n",
    "mpl.rcParams['ps.fonttype'] = 42\n",
    "\n",
    "mpl.rcParams['axes.spines.top'] = False\n",
    "mpl.rcParams['axes.spines.right'] = False\n",
    "mpl.rcParams['axes.spines.bottom'] = True\n",
    "mpl.rcParams['axes.spines.left'] = True\n",
    "\n",
    "# Set the default tick_params options for all axes\n",
    "mpl.rcParams['xtick.bottom'] = True\n",
    "mpl.rcParams['xtick.top'] = False\n",
    "mpl.rcParams['xtick.direction'] = 'out'\n",
    "mpl.rcParams['ytick.left'] = True\n",
    "mpl.rcParams['ytick.right'] = False\n",
    "mpl.rcParams['ytick.direction'] = 'out'\n",
    "\n",
    "\n",
    "ec_phi_file = pd.read_csv(r'/mnt/data/DCM/result_backup/2023.5.14/Nilearn/game1/cv_train_hexagon_spct/estPhi_ROI-EC_circmean_trial-all.csv')\n",
    "ofc_phi_file = pd.read_csv(r'/mnt/data/DCM/result_backup/2023.5.14/Nilearn/game1/cv_train_hexagon_spct/estPhi_ROI-OFC_circmean_trial-all.csv')\n",
    "dmpfc_phi_file = pd.read_csv(r'/mnt/data/DCM/result_backup/2023.5.14/Nilearn/game1/cv_train_hexagon_spct/estPhi_ROI-dmPFC_circmean_trial-all.csv')\n",
    "\n",
    "subs_id = ofc_phi_file['sub_id'].unique()  # Extract unique sub_id values\n",
    "\n",
    "ec_phi_file = ec_phi_file[ec_phi_file['sub_id'].isin(subs_id)]\n",
    "\n",
    "ec_phi = ec_phi_file.query(\"(ifold=='6fold')&(trial_type=='all')\")['Phi_mean'].to_list()\n",
    "ofc_phi = ofc_phi_file.query(\"(ifold=='6fold')&(trial_type=='all')\")['Phi_mean'].to_list()\n",
    "dmpfc_phi = dmpfc_phi_file.query(\"(ifold=='6fold')&(trial_type=='all')\")['Phi_mean'].to_list()\n",
    "\n",
    "# fig, ax = plt.subplots(figsize=(4,6))\n",
    "# sns.scatterplot(x=ec_phi, y=ofc_phi, s=50, alpha=1)\n",
    "# sns.regplot(x=ec_phi, y=ofc_phi, order=1, scatter=True,line_kws={'linewidth': 4})\n",
    "# ax.set_xlabel(\"EC's Phi\", fontsize=20)\n",
    "# ax.set_ylabel(\"OFC's Phi\", fontsize=20)\n",
    "# \n",
    "# r, p = pearsonr(ec_phi, ofc_phi)\n",
    "# print('r', round(r,4), 'p', round(p,4))"
   ],
   "metadata": {
    "collapsed": false,
    "ExecuteTime": {
     "end_time": "2023-08-09T09:02:14.046148459Z",
     "start_time": "2023-08-09T09:02:13.986125796Z"
    }
   },
   "id": "da97ed5891d86f35"
  },
  {
   "cell_type": "code",
   "execution_count": 91,
   "outputs": [
    {
     "data": {
      "text/plain": "<Figure size 576x432 with 2 Axes>",
      "image/png": "[encoded data removed]"
     },
     "metadata": {},
     "output_type": "display_data"
    },
    {
     "name": "stdout",
     "output_type": "stream",
     "text": [
      "Correlation Matrix:\n",
      "             EC Phi   OFC Phi  DMPFC Phi\n",
      "EC Phi     1.000000  0.270484   0.066698\n",
      "OFC Phi    0.270484  1.000000   0.119970\n",
      "DMPFC Phi  0.066698  0.119970   1.000000\n",
      "\n",
      "P-values:\n",
      "             EC Phi   OFC Phi  DMPFC Phi\n",
      "EC Phi     1.000000  0.000095   0.344409\n",
      "OFC Phi    0.000095  1.000000   0.088210\n",
      "DMPFC Phi  0.344409  0.088210   1.000000\n"
     ]
    }
   ],
   "source": [
    "# Create a DataFrame with the phi values\n",
    "data = pd.DataFrame({'EC Phi': ec_phi, 'OFC Phi': ofc_phi, 'DMPFC Phi': dmpfc_phi})\n",
    "\n",
    "# Calculate the correlation matrix\n",
    "corr_matrix = data.corr()\n",
    "\n",
    "# Plot the correlation matrix as a heatmap\n",
    "plt.figure(figsize=(8, 6))\n",
    "sns.set(font_scale=1.2)\n",
    "sns.heatmap(corr_matrix, annot=True, cmap='coolwarm', vmin=-1, vmax=1)\n",
    "plt.title(\"Correlation Matrix\")\n",
    "plt.show()\n",
    "\n",
    "# Calculate the correlation matrix and p-values\n",
    "corr_matrix, p_matrix = data.corr(), data.corr(method=lambda x, y: pearsonr(x, y)[1])\n",
    "# Print the correlation coefficients and p-values\n",
    "print(\"Correlation Matrix:\")\n",
    "print(corr_matrix)\n",
    "print(\"\\nP-values:\")\n",
    "print(p_matrix)"
   ],
   "metadata": {
    "collapsed": false,
    "ExecuteTime": {
     "end_time": "2023-08-09T09:02:16.364977621Z",
     "start_time": "2023-08-09T09:02:16.101185084Z"
    }
   },
   "id": "4802c1a4f0bd3e3"
  },
  {
   "cell_type": "code",
   "execution_count": 85,
   "outputs": [
    {
     "data": {
      "text/plain": "<Figure size 576x432 with 2 Axes>",
      "image/png": "[encoded data removed]"
     },
     "metadata": {},
     "output_type": "display_data"
    },
    {
     "name": "stdout",
     "output_type": "stream",
     "text": [
      "Correlation Matrix:\n",
      "             EC Phi   OFC Phi  DMPFC Phi\n",
      "EC Phi     1.000000  0.255611   0.116478\n",
      "OFC Phi    0.255611  1.000000  -0.013076\n",
      "DMPFC Phi  0.116478 -0.013076   1.000000\n",
      "\n",
      "P-values:\n",
      "             EC Phi   OFC Phi  DMPFC Phi\n",
      "EC Phi     1.000000  0.000233   0.097935\n",
      "OFC Phi    0.000233  1.000000   0.853106\n",
      "DMPFC Phi  0.097935  0.853106   1.000000\n"
     ]
    }
   ],
   "source": [
    "\n",
    "\n",
    "# Create a custom triangle plot with p-value stars\n",
    "plt.figure(figsize=(8, 6))\n",
    "plt.title(\"Correlation Matrix\")\n",
    "\n",
    "sns.heatmap(corr_matrix, annot=True, cmap='coolwarm', vmin=-1, vmax=1, mask=mask)\n",
    "\n",
    "# Annotate with stars indicating significance levels\n",
    "for i in range(corr_matrix.shape[0]):\n",
    "    for j in range(i + 1, corr_matrix.shape[1]):\n",
    "        p_value = p_matrix.iloc[i, j]\n",
    "        if p_value < 0.01:\n",
    "            plt.text(j + 0.5, i + 0.5, \"**\", ha='center', va='center', color='black')\n",
    "        elif p_value < 0.05:\n",
    "            plt.text(j + 0.5, i + 0.5, \"*\", ha='center', va='center', color='black')\n",
    "\n",
    "plt.show()\n",
    "\n",
    "# Print the correlation coefficients and p-values\n",
    "print(\"Correlation Matrix:\")\n",
    "print(corr_matrix)\n",
    "print(\"\\nP-values:\")\n",
    "print(p_matrix)"
   ],
   "metadata": {
    "collapsed": false,
    "ExecuteTime": {
     "end_time": "2023-08-09T08:52:47.006404895Z",
     "start_time": "2023-08-09T08:52:46.812362500Z"
    }
   },
   "id": "76d910fae7676a0f"
  },
  {
   "cell_type": "code",
   "execution_count": 70,
   "outputs": [
    {
     "data": {
      "text/plain": "1       1.514550\n3      44.854631\n5       7.726586\n7      16.572618\n9      53.920805\n         ...    \n397    18.487781\n399     0.461651\n401    22.185199\n403    12.819628\n405    18.343076\nName: Phi_mean, Length: 203, dtype: float64"
     },
     "execution_count": 70,
     "metadata": {},
     "output_type": "execute_result"
    }
   ],
   "source": [
    "ofc_phi"
   ],
   "metadata": {
    "collapsed": false,
    "ExecuteTime": {
     "end_time": "2023-08-09T08:47:49.577159314Z",
     "start_time": "2023-08-09T08:47:49.545217057Z"
    }
   },
   "id": "b6e6398f0a6235e4"
  }
 ],
 "metadata": {
  "kernelspec": {
   "display_name": "Python 3",
   "language": "python",
   "name": "python3"
  },
  "language_info": {
   "codemirror_mode": {
    "name": "ipython",
    "version": 3
   },
   "file_extension": ".py",
   "mimetype": "text/x-python",
   "name": "python",
   "nbconvert_exporter": "python",
   "pygments_lexer": "ipython3",
   "version": "3.8.8"
  }
 },
 "nbformat": 4,
 "nbformat_minor": 5
}
