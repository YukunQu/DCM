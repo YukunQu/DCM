{
 "cells": [
  {
   "cell_type": "markdown",
   "source": [
    "# Statistics of subjects' state"
   ],
   "metadata": {
    "collapsed": false
   }
  },
  {
   "cell_type": "code",
   "execution_count": null,
   "outputs": [],
   "source": [
    "import warnings\n",
    "import pandas as pd\n",
    "import matplotlib.pyplot as plt\n",
    "import seaborn as sns\n",
    "\n",
    "sns.set_style(\"darkgrid\")\n",
    "#plt.rcParams['font.sans-serif']=['Noto Sans CJK HK']  # 用来正常显示中文标签\n",
    "plt.rcParams['axes.unicode_minus']=False    # 用来正常显示负号"
   ],
   "metadata": {
    "collapsed": false
   }
  },
  {
   "cell_type": "markdown",
   "source": [
    "## Subject recruit\n",
    "\n",
    "- Number of children enrolled\n",
    "- Number of subjects who passed the initial screening\n",
    "    - Number of subjects exited\n",
    "    - Number of subjects who have been trained\n",
    "    - Number of subjects who are completed experiment.\n",
    "    - Number of subjects waiting to training"
   ],
   "metadata": {
    "collapsed": false
   }
  },
  {
   "cell_type": "code",
   "execution_count": null,
   "outputs": [],
   "source": [
    "# load subject pool\n",
    "with warnings.catch_warnings(record=True):\n",
    "    warnings.simplefilter(\"always\")\n",
    "    sub_pool1 = pd.read_excel(r'/mnt/workdir/DCM/docs/被试招募及训练/认知图谱-被试库.xlsx',sheet_name='2021-儿童',engine=\"openpyxl\")[['姓名','年龄','状态']].dropna(subset=['年龄'])\n",
    "    sub_pool2 = pd.read_excel(r'/mnt/workdir/DCM/docs/被试招募及训练/认知图谱-被试库.xlsx',sheet_name='2022-儿童',engine=\"openpyxl\")[['姓名','年龄','状态']].dropna(subset=['年龄'])\n",
    "sub_pool = pd.concat((sub_pool1,sub_pool2),axis=0)\n",
    "\n",
    "with warnings.catch_warnings(record=True):\n",
    "    warnings.simplefilter(\"always\")\n",
    "    participants = pd.read_csv(r'/mnt/workdir/DCM/BIDS/participants.tsv',sep='\\t')[['Name','Age','usable']].dropna(subset=['Age'])\n",
    "participants_age = participants.query('(Age<=18)and(usable==1)')['Age'].values"
   ],
   "metadata": {
    "collapsed": false
   }
  },
  {
   "cell_type": "code",
   "execution_count": null,
   "outputs": [],
   "source": [
    "# Number of subjects enrolled across different ages\n",
    "fig,ax = plt.subplots(4,1,figsize=(7,28))\n",
    "sub_age = sub_pool['年龄'].values\n",
    "ax[0].hist(sub_age)\n",
    "ax[0].set_title(\"Number of subjects enrolled\",size=16)\n",
    "\n",
    "# Number of subjects who have been trained across different ages\n",
    "sub_age = sub_pool.query(\"(状态=='已完成')or(状态=='训练中')\")['年龄'].values\n",
    "ax[1].hist(sub_age)\n",
    "ax[1].set_title(\"Number of subjects who have been trained\",size=16)\n",
    "\n",
    "# Number of subjects who are completed experiment.\n",
    "print(\"Number of subjects who are completed experiment:\",len(participants_age))\n",
    "ax[2].hist(participants_age)\n",
    "ax[2].set_ylim((0,20))\n",
    "ax[2].set_title(\"Number of subjects who have completed experiment.\",size=16)\n",
    "\n",
    "# Number of subjects waiting to train\n",
    "sub_age = sub_pool.query(\"(状态=='未训练')\")['年龄'].values\n",
    "ax[3].hist(sub_age)\n",
    "ax[3].set_ylim((0,20))\n",
    "ax[3].set_title(\"Number of subjects waiting to train\",size=16)"
   ],
   "metadata": {
    "collapsed": false
   }
  },
  {
   "cell_type": "code",
   "execution_count": null,
   "outputs": [],
   "source": [
    "sub_state = sub_pool['状态'].value_counts()\n",
    "print(sub_state)\n",
    "fig,ax = plt.subplots()\n",
    "plt.pie(sub_state,labels=sub_state.index,autopct='%1.1f%%')"
   ],
   "metadata": {
    "collapsed": false
   }
  },
  {
   "cell_type": "markdown",
   "source": [
    "## 各年龄段可用被试数据"
   ],
   "metadata": {
    "collapsed": false
   }
  },
  {
   "cell_type": "code",
   "execution_count": 48,
   "outputs": [
    {
     "name": "stdout",
     "output_type": "stream",
     "text": [
      "Participants: 150\n"
     ]
    },
    {
     "data": {
      "text/plain": "<Figure size 864x576 with 1 Axes>",
      "image/png": "[encoded data removed]"
     },
     "metadata": {},
     "output_type": "display_data"
    }
   ],
   "source": [
    "import pandas as pd\n",
    "import seaborn as sns\n",
    "import matplotlib.pyplot as plt\n",
    "sns.set_theme(style=\"darkgrid\")\n",
    "\n",
    "participants_file = r'/mnt/workdir/DCM/BIDS/participants.tsv'\n",
    "data = pd.read_csv(participants_file,sep='\\t')\n",
    "data = data[data['game1_fmri']>0.5]\n",
    "print(\"Participants:\", len(data))\n",
    "\n",
    "# extract subject's number in each group\n",
    "ages = []\n",
    "nums = []\n",
    "for subs in data.groupby('Age'):\n",
    "    ages.append(subs[0])\n",
    "    nums.append(len(subs[1]))\n",
    "\n",
    "# plot bar chart of subject's number with labels\n",
    "fig,ax = plt.subplots(figsize=(12,8))\n",
    "ax.plot([7.5,18.5],[10,10],color='r')\n",
    "ax.plot([18.5,28.5],[4,4],color='r')\n",
    "rects = ax.bar(ages,nums,color='b')\n",
    "\n",
    "# add some text for labels, title and custom x-axis tick labels, etc\n",
    "ax.set_xlabel(\"Age\",size=16)\n",
    "ax.set_ylabel(\"Number\",size=16)\n",
    "ax.set_xticks(range(8,29))\n",
    "ax.set_title(\"Number of subjects per age.\",size=20)\n",
    "ax.bar_label(rects,padding=3,size=14)\n",
    "\n",
    "fig.tight_layout()\n",
    "plt.show()"
   ],
   "metadata": {
    "collapsed": false
   }
  }
 ],
 "metadata": {
  "kernelspec": {
   "display_name": "Python 3",
   "language": "python",
   "name": "python3"
  },
  "language_info": {
   "codemirror_mode": {
    "name": "ipython",
    "version": 2
   },
   "file_extension": ".py",
   "mimetype": "text/x-python",
   "name": "python",
   "nbconvert_exporter": "python",
   "pygments_lexer": "ipython2",
   "version": "2.7.6"
  }
 },
 "nbformat": 4,
 "nbformat_minor": 0
}
