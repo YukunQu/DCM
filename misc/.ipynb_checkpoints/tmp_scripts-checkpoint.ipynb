{
 "cells": [
  {
   "cell_type": "markdown",
   "id": "6bd36e13",
   "metadata": {},
   "source": [
    "## Copy data to new directory"
   ]
  },
  {
   "cell_type": "code",
   "execution_count": 17,
   "id": "05f4ba31",
   "metadata": {},
   "outputs": [],
   "source": [
    "import os\n",
    "import shutil\n",
    "from os.path import join as opj\n",
    "\n",
    "source_dir = r'/mnt/data/Project/DCM/BIDS/sourcedata'\n",
    "output_dir = r'/mnt/data/Project/DCM/tmp/MEGtoJianXin'\n",
    "# read data from source directory\n",
    "sub_list = ['sub_{}'.format(str(idx).zfill(3)) for idx in range(5,48)]\n",
    "sub_list.remove('sub_005')\n",
    "sub_list.remove('sub_006')\n",
    "sub_list.remove('sub_044')\n",
    "sub_list.remove('sub_045')\n",
    "\n",
    "# creat directory structure in output directory\n",
    "for i,sub in enumerate(sub_list):\n",
    "    sub_tar_dir = opj(output_dir, sub)\n",
    "    if not os.path.exists(sub_tar_dir):\n",
    "        os.mkdir(opj(output_dir, sub))\n",
    "        \n",
    "    souMegPath = opj(source_dir, sub, 'NeuroData','MEG')\n",
    "    tarMegPath = opj(output_dir, sub, 'MEG')\n",
    "    \n",
    "    shutil.copytree(souMegPath, tarMegPath)\n",
    "    \n",
    "    souBehPath = opj(source_dir, sub, 'Behaviour','meg_task-1DInfer')\n",
    "    tarBehPath = opj(output_dir, sub, 'meg_task-1DInfer')\n",
    "    shutil.copytree(souBehPath, tarBehPath)\n",
    "    print(\"————————{} already been copyed. still have {} subject ————————\".format(sub,len(sub_list)-i))"
   ]
  },
  {
   "cell_type": "markdown",
   "id": "0a208e47",
   "metadata": {
    "scrolled": true
   },
   "source": [
    "## copy event file to new directory"
   ]
  },
  {
   "cell_type": "code",
   "execution_count": 20,
   "id": "cfa1b390",
   "metadata": {},
   "outputs": [
    {
     "name": "stdout",
     "output_type": "stream",
     "text": [
      "sub-012  haven't event files.\n",
      "sub-013  haven't event files.\n",
      "————————sub-014 already been copyed. still have 33 subject ————————\n",
      "————————sub-014 already been copyed. still have 33 subject ————————\n",
      "————————sub-014 already been copyed. still have 33 subject ————————\n",
      "————————sub-015 already been copyed. still have 32 subject ————————\n",
      "sub-015 haven't hexonM2Short\n",
      "————————sub-015 already been copyed. still have 32 subject ————————\n",
      "————————sub-016 already been copyed. still have 31 subject ————————\n",
      "sub-016 haven't hexonM2Short\n",
      "————————sub-016 already been copyed. still have 31 subject ————————\n",
      "————————sub-017 already been copyed. still have 30 subject ————————\n",
      "————————sub-017 already been copyed. still have 30 subject ————————\n",
      "————————sub-017 already been copyed. still have 30 subject ————————\n",
      "————————sub-018 already been copyed. still have 29 subject ————————\n",
      "————————sub-018 already been copyed. still have 29 subject ————————\n",
      "————————sub-018 already been copyed. still have 29 subject ————————\n",
      "sub-019  haven't event files.\n",
      "sub-020  haven't event files.\n",
      "————————sub-021 already been copyed. still have 26 subject ————————\n",
      "————————sub-021 already been copyed. still have 26 subject ————————\n",
      "————————sub-021 already been copyed. still have 26 subject ————————\n",
      "————————sub-022 already been copyed. still have 25 subject ————————\n",
      "————————sub-022 already been copyed. still have 25 subject ————————\n",
      "————————sub-022 already been copyed. still have 25 subject ————————\n",
      "sub-023  haven't event files.\n",
      "————————sub-024 already been copyed. still have 23 subject ————————\n",
      "————————sub-024 already been copyed. still have 23 subject ————————\n",
      "————————sub-024 already been copyed. still have 23 subject ————————\n",
      "sub-025  haven't event files.\n",
      "sub-026  haven't event files.\n",
      "sub-027  haven't event files.\n",
      "sub-028  haven't event files.\n",
      "————————sub-029 already been copyed. still have 18 subject ————————\n",
      "sub-029 haven't hexonM2Short\n",
      "————————sub-029 already been copyed. still have 18 subject ————————\n",
      "sub-030  haven't event files.\n",
      "sub-031  haven't event files.\n",
      "————————sub-032 already been copyed. still have 15 subject ————————\n",
      "sub-032 haven't hexonM2Short\n",
      "————————sub-032 already been copyed. still have 15 subject ————————\n",
      "sub-033  haven't event files.\n",
      "sub-034  haven't event files.\n",
      "sub-035  haven't event files.\n",
      "————————sub-036 already been copyed. still have 11 subject ————————\n",
      "————————sub-036 already been copyed. still have 11 subject ————————\n",
      "————————sub-036 already been copyed. still have 11 subject ————————\n",
      "sub-037  haven't event files.\n",
      "sub-038  haven't event files.\n",
      "sub-039  haven't event files.\n",
      "sub-040  haven't event files.\n",
      "sub-041  haven't event files.\n",
      "sub-042  haven't event files.\n",
      "————————sub-043 already been copyed. still have 4 subject ————————\n",
      "sub-043 haven't hexonM2Short\n",
      "————————sub-043 already been copyed. still have 4 subject ————————\n",
      "sub-044  haven't event files.\n",
      "sub-045  haven't event files.\n",
      "————————sub-046 already been copyed. still have 1 subject ————————\n",
      "————————sub-046 already been copyed. still have 1 subject ————————\n",
      "————————sub-046 already been copyed. still have 1 subject ————————\n",
      "————————sub-047 already been copyed. still have 0 subject ————————\n",
      "sub-047 haven't hexonM2Short\n",
      "————————sub-047 already been copyed. still have 0 subject ————————\n"
     ]
    }
   ],
   "source": [
    "import os\n",
    "import shutil\n",
    "from os.path import join as opj\n",
    "\n",
    "source_dir = r'/mnt/data/Project/DCM/BIDS/derivatives/fmriprep_surfer'\n",
    "output_dir = r'/mnt/data/Project/DCM/BIDS/derivatives/Events'\n",
    "# read data from source directory\n",
    "sub_list = ['sub-{}'.format(str(idx).zfill(3)) for idx in range(12,48)]\n",
    "# creat directory structure in output directory\n",
    "for i,sub in enumerate(sub_list):\n",
    "    if not os.path.exists(opj(source_dir, sub, 'events')):\n",
    "        print(sub, \" haven't event files.\")\n",
    "        continue\n",
    "    for event_type in ['hexonM2Long', 'hexonM2Short', 'hexonRule']:\n",
    "        souEvPath = opj(source_dir, sub, 'events',event_type)\n",
    "        tarSubdir = (opj(output_dir, sub))\n",
    "        if not os.path.exists(tarSubdir):\n",
    "            os.mkdir(tarSubdir)\n",
    "        tarEvPath = opj(output_dir, sub, event_type)\n",
    "        #shutil.move(souEvPath, tarEvPath)\n",
    "        \n",
    "        try:\n",
    "            shutil.move(souEvPath, tarEvPath)\n",
    "        except:\n",
    "            if os.path.exists(tarEvPath):\n",
    "                print(\"Error: {} file can't be moved!\".format(sub))\n",
    "            else:\n",
    "                print(\"{} haven't {}\".format(sub,event_type))\n",
    "\n",
    "    print(\"————————{} already been copyed. still have {} subject ————————\".format(sub,len(sub_list)-i-1))\n",
    "    os.rmdir(opj(source_dir, sub, 'events'))\n",
    "    "
   ]
  },
  {
   "cell_type": "markdown",
   "id": "5dda6062",
   "metadata": {},
   "source": [
    "## Convert formate of event files to fsl format"
   ]
  },
  {
   "cell_type": "code",
   "execution_count": 55,
   "id": "07951430",
   "metadata": {},
   "outputs": [],
   "source": [
    "import numpy as np\n",
    "import pandas as pd \n",
    "from os.path import join as opj\n",
    "\n",
    "\n",
    "def ev2fsl(ev_file,save_dir,prefix):\n",
    "    ev_info = pd.read_csv(ev_file, sep='\\t')\n",
    "    for group in ev_info.groupby('trial_type'):\n",
    "        condition = group[0]\n",
    "        onsets = np.array(group[1].onset.tolist())\n",
    "        durations = np.array(group[1].duration.tolist())\n",
    "        if condition in ['sin','cos']:\n",
    "            amplitudes = np.array(group[1].modulation.tolist())\n",
    "        else:\n",
    "            amplitudes = np.array([1]*len(onsets))\n",
    "        fsl_ev = np.array([onsets,durations,amplitudes]).T.astype('float32')\n",
    "        #os.makedirs(save_dir)\n",
    "        np.savetxt(opj(save_dir,'{}_{}.txt'.format(prefix,condition)),fsl_ev,fmt='%.02f',delimiter='\\t') # dilimiter: Tab\n",
    "\n",
    "        \n",
    "        \n",
    "def game1tofsl(ev_dir,save_dir,ev_template):\n",
    "    for i in range(1,7):\n",
    "        ev_file = opj(ev_dir,ev_template.format(i))\n",
    "        ev2fsl(ev_file,save_dir,'run{}'.format(i))\n",
    "\n",
    "\n",
    "        \n",
    "ev_dir=  r'/mnt/data/Project/DCM/BIDS/derivatives/Events/sub-046/hexonM2Short/6fold'\n",
    "save_dir= r'/mnt/data/Project/DCM/BIDS/derivatives/Events/sub-046/fsl/hexonM2Short/6fold'\n",
    "os.makedir(save_dir)\n",
    "ev_template= r'sub-046_task-game1_run-{}_events.tsv'\n",
    "\n",
    "game1tofsl(ev_dir,save_dir,ev_template)"
   ]
  },
  {
   "cell_type": "markdown",
   "id": "39e7e2df",
   "metadata": {},
   "source": [
    "## sum mask"
   ]
  },
  {
   "cell_type": "code",
   "execution_count": 43,
   "id": "3967646a",
   "metadata": {},
   "outputs": [],
   "source": [
    "from nilearn.image import load_img,resample_to_img,math_img,new_img_like\n",
    "\n",
    "mask1 = load_img(r'/mnt/data/Template/EC_prob_roi.nii.gz')\n",
    "mask2 = load_img(r'/mnt/data/Template/EC_anatomy_roi.nii.gz')\n",
    "tar_img = load_img(r'/mnt/data/Project/DCM/BIDS/derivatives/fmriprep_surfer/sub-010/anat/sub-010_space-MNI152NLin2009cAsym_res-2_desc-preproc_T1w.nii.gz')\n",
    "mask1_tar = resample_to_img(mask1,tar_img,interpolation='nearest')\n",
    "mask2_tar = resample_to_img(mask2,tar_img,interpolation='nearest')\n",
    "\n",
    "mask1_data = mask1_tar.get_fdata()\n",
    "mask2_data = mask2_tar.get_fdata()\n",
    "mask_sum = mask1_data + mask2_data[:,:,:,0]\n",
    "mask_sum[mask_sum!=0]=1\n",
    "mask_sum_img = new_img_like(mask1_tar,mask_sum)\n",
    "mask_sum_img.to_filename(r'/mnt/data/Template/EC_roi_sum.nii.gz')"
   ]
  },
  {
   "cell_type": "markdown",
   "id": "81e4030b",
   "metadata": {},
   "source": [
    "## simple processing for peristimulus plot"
   ]
  },
  {
   "cell_type": "code",
   "execution_count": 45,
   "id": "6f025633",
   "metadata": {},
   "outputs": [
    {
     "ename": "NameError",
     "evalue": "name 'selectfiles' is not defined",
     "output_type": "error",
     "traceback": [
      "\u001b[0;31m---------------------------------------------------------------------------\u001b[0m",
      "\u001b[0;31mNameError\u001b[0m                                 Traceback (most recent call last)",
      "\u001b[0;32m<ipython-input-45-89b1bf3993a4>\u001b[0m in \u001b[0;36m<module>\u001b[0;34m\u001b[0m\n\u001b[1;32m     36\u001b[0m \u001b[0;34m\u001b[0m\u001b[0m\n\u001b[1;32m     37\u001b[0m \u001b[0;34m\u001b[0m\u001b[0m\n\u001b[0;32m---> 38\u001b[0;31m preproc.connect([(selectfiles, gunzip_func, [('func','in_file')]),\n\u001b[0m\u001b[1;32m     39\u001b[0m                  \u001b[0;34m(\u001b[0m\u001b[0mgunzip_func\u001b[0m\u001b[0;34m,\u001b[0m \u001b[0msmooth\u001b[0m\u001b[0;34m,\u001b[0m      \u001b[0;34m[\u001b[0m\u001b[0;34m(\u001b[0m\u001b[0;34m'out_file'\u001b[0m\u001b[0;34m,\u001b[0m\u001b[0;34m'in_files'\u001b[0m\u001b[0;34m)\u001b[0m\u001b[0;34m]\u001b[0m\u001b[0;34m)\u001b[0m\u001b[0;34m,\u001b[0m\u001b[0;34m\u001b[0m\u001b[0;34m\u001b[0m\u001b[0m\n\u001b[1;32m     40\u001b[0m                  \u001b[0;34m(\u001b[0m\u001b[0mmcflirt\u001b[0m\u001b[0;34m,\u001b[0m \u001b[0msmooth\u001b[0m\u001b[0;34m,\u001b[0m \u001b[0;34m[\u001b[0m\u001b[0;34m(\u001b[0m\u001b[0;34m'out_file'\u001b[0m\u001b[0;34m,\u001b[0m \u001b[0;34m'in_files'\u001b[0m\u001b[0;34m)\u001b[0m\u001b[0;34m]\u001b[0m\u001b[0;34m)\u001b[0m\u001b[0;34m,\u001b[0m\u001b[0;34m\u001b[0m\u001b[0;34m\u001b[0m\u001b[0m\n",
      "\u001b[0;31mNameError\u001b[0m: name 'selectfiles' is not defined"
     ]
    }
   ],
   "source": [
    "from nipype import Node, Workflow\n",
    "from nipype.algorithms.misc import Gunzip\n",
    "from nipype.interfaces.fsl import MCFLIRT\n",
    "from nipype.interfaces.spm import Smooth\n",
    "\n",
    "from nipype import SelectFiles\n",
    "from nipype.interfaces.io import DataSink\n",
    "\n",
    "from nipype.interfaces import spm\n",
    "spm.SPMCommand().set_mlab_paths(paths='/usr/local/MATLAB/R2020b/toolbox/spm12/')\n",
    "\n",
    "\n",
    "preproc = Workflow(name='simple_preproc', base_dir='/mnt/data/Project/DCM/BIDS/derivatives/Nipype/working_dir')\n",
    "\n",
    "\n",
    "# input output stream flow\n",
    "# String template with {}-based strings\n",
    "templates = {'func': '/mnt/data/Project/DCM/BIDS/derivatives/fmriprep_surfer/sub-010/func/sub-010_task-game1_run-{run_id}_space-MNI152NLin2009cAsym_res-2_desc-preproc_bold.nii.gz'}\n",
    "\n",
    "# Create SelectFiles node\n",
    "sf = Node(SelectFiles(templates,\n",
    "                      base_directory='/mnt/data/Project/DCM/BIDS/derivatives/fmriprep_surfer/sub-010/func',\n",
    "                      sort_filelist=True),\n",
    "          name='selectfiles')\n",
    "run_list = ['1','2','3','4','5','6']\n",
    "sf.iterables = [('run_id', run_list)]\n",
    "\n",
    "output_folder = 'periplot'\n",
    "datasink = Node(DataSink(base_directory='/mnt/data/Project/DCM/BIDS/derivatives/Nipype/',\n",
    "                         container='result'),\n",
    "                name=\"datasink\")\n",
    "\n",
    "# initilize node\n",
    "mcflirt = Node(MCFLIRT(mean_vol=True, save_plots=True),name=\"mcflirt\")\n",
    "smooth = Node(Smooth(fwhm=[8.,8.,8.]), name=\"smooth\")\n",
    "\n",
    "\n",
    "preproc.connect([(selectfiles, gunzip_func, [('func','in_file')]),\n",
    "                 (gunzip_func, mcflirt,     [('out_file','in_file')]),\n",
    "                 (mcflirt, smooth, [('mean_img', 'in_files')]),\n",
    "                 (smooth, datasink,[('smoothed_files','sprocess.@sprocess')])\n",
    "                 ])\n",
    "preproc.run('MultiProc', plugin_args={'n_procs': 4})"
   ]
  },
  {
   "cell_type": "code",
   "execution_count": 3,
   "id": "fc326f07",
   "metadata": {},
   "outputs": [
    {
     "name": "stdout",
     "output_type": "stream",
     "text": [
      "1\n",
      "046-_1\n",
      "2\n",
      "046-_2\n",
      "3\n",
      "046-_3\n",
      "4\n",
      "046-_4\n",
      "5\n",
      "046-_5\n",
      "6\n",
      "046-_6\n"
     ]
    }
   ],
   "source": [
    "import os\n",
    "from os.path import join\n",
    "from nilearn.image import smooth_img,load_img\n",
    "\n",
    "run_list = range(1,7)\n",
    "func_dir = r'/mnt/data/Project/DCM/BIDS/derivatives/fmriprep_surfer/sub-046/func'\n",
    "func_name = r'sub-046_task-game1_run-{}_space-MNI152NLin2009cAsym_res-2_desc-preproc_bold.nii.gz'\n",
    "for i,run_id in enumerate(run_list):\n",
    "    # load image\n",
    "    print(run_id)\n",
    "    func_path = join(func_dir,func_name.format(run_id))\n",
    "    func_img = load_img(func_path)\n",
    "    func_img = smooth_img(func_path,8)\n",
    "    save_path = os.path.join(r'/mnt/data/Project/DCM/tmp/periplot/sub-046','sub-046_task-game1_run-{}_space-MNI152NLin2009cAsym_res-2_desc-preproc_bold_smooth8.nii.gz'.format(run_id))\n",
    "    func_img.to_filename(save_path)\n",
    "    print('{}_{}'.format('046-',run_id))"
   ]
  },
  {
   "cell_type": "code",
   "execution_count": 50,
   "id": "3e5fd480",
   "metadata": {},
   "outputs": [
    {
     "ename": "NameError",
     "evalue": "name 'run_id' is not defined",
     "output_type": "error",
     "traceback": [
      "\u001b[0;31m---------------------------------------------------------------------------\u001b[0m",
      "\u001b[0;31mNameError\u001b[0m                                 Traceback (most recent call last)",
      "\u001b[0;32m<ipython-input-50-1ccf0a82c9af>\u001b[0m in \u001b[0;36m<module>\u001b[0;34m\u001b[0m\n\u001b[0;32m----> 1\u001b[0;31m \u001b[0mrun_id\u001b[0m\u001b[0;34m\u001b[0m\u001b[0;34m\u001b[0m\u001b[0m\n\u001b[0m",
      "\u001b[0;31mNameError\u001b[0m: name 'run_id' is not defined"
     ]
    }
   ],
   "source": [
    "run_id"
   ]
  }
 ],
 "metadata": {
  "kernelspec": {
   "display_name": "Python 3",
   "language": "python",
   "name": "python3"
  },
  "language_info": {
   "codemirror_mode": {
    "name": "ipython",
    "version": 3
   },
   "file_extension": ".py",
   "mimetype": "text/x-python",
   "name": "python",
   "nbconvert_exporter": "python",
   "pygments_lexer": "ipython3",
   "version": "3.8.8"
  }
 },
 "nbformat": 4,
 "nbformat_minor": 5
}
