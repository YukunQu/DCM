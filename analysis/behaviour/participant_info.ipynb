{
 "cells": [
  {
   "cell_type": "markdown",
   "id": "5ffda9e5",
   "metadata": {},
   "source": [
    "###  清点被试数据"
   ]
  },
  {
   "cell_type": "code",
   "execution_count": 6,
   "id": "00e0be03",
   "metadata": {},
   "outputs": [],
   "source": [
    "import pandas as pd\n",
    "\n",
    "subject_info = pd.read_excel(r'/mnt/data/Project/DCM/participants_exp.xlsx')\n",
    "subject_info = subject_info.query('usable==1')"
   ]
  },
  {
   "cell_type": "code",
   "execution_count": 8,
   "id": "56cad735",
   "metadata": {
    "scrolled": true
   },
   "outputs": [
    {
     "data": {
      "text/plain": [
       "Unnamed: 0          26.444444\n",
       "Age                 24.944444\n",
       "train_ap             0.864167\n",
       "train_dp             0.872222\n",
       "1D_ap                0.758889\n",
       "1D_dp                0.803333\n",
       "1D_acc               0.783667\n",
       "pilot_acc                 NaN\n",
       "game1_acc            0.671278\n",
       "game2_train_ap       0.890667\n",
       "game2_train_dp       0.848889\n",
       "game2_test_acc       0.715556\n",
       "usable               1.000000\n",
       "field_mapping2_1          NaN\n",
       "dtype: float64"
      ]
     },
     "execution_count": 8,
     "metadata": {},
     "output_type": "execute_result"
    }
   ],
   "source": [
    "sub_adult = subject_info.query(\"Age>18\")\n",
    "adult_list = sub_adult['Participant_ID'].to_list()"
   ]
  },
  {
   "cell_type": "code",
   "execution_count": 10,
   "id": "6fae9a34",
   "metadata": {
    "scrolled": true
   },
   "outputs": [
    {
     "data": {
      "text/plain": [
       "['sub_006', 'sub_009', 'sub_016', 'sub_022', 'sub_031', 'sub_032', 'sub_036']"
      ]
     },
     "execution_count": 10,
     "metadata": {},
     "output_type": "execute_result"
    }
   ],
   "source": [
    "sub_ado = subject_info.query(\"18>=Age>12\")\n",
    "adol_list = sub_ado['Participant_ID'].to_list()\n",
    "adol_list"
   ]
  },
  {
   "cell_type": "code",
   "execution_count": 8,
   "id": "d3d9ff52",
   "metadata": {
    "scrolled": false
   },
   "outputs": [
    {
     "data": {
      "text/plain": [
       "['sub_011', 'sub_012', 'sub_015', 'sub_017', 'sub_025', 'sub_040']"
      ]
     },
     "execution_count": 8,
     "metadata": {},
     "output_type": "execute_result"
    }
   ],
   "source": [
    "sub_child = subject_info.query(\"Age<=12\")\n",
    "child_list = sub_child['Participant_ID'].to_list()\n",
    "child_list"
   ]
  },
  {
   "cell_type": "code",
   "execution_count": 5,
   "id": "f4013b69",
   "metadata": {
    "scrolled": true
   },
   "outputs": [
    {
     "data": {
      "text/html": [
       "<div>\n",
       "<style scoped>\n",
       "    .dataframe tbody tr th:only-of-type {\n",
       "        vertical-align: middle;\n",
       "    }\n",
       "\n",
       "    .dataframe tbody tr th {\n",
       "        vertical-align: top;\n",
       "    }\n",
       "\n",
       "    .dataframe thead th {\n",
       "        text-align: right;\n",
       "    }\n",
       "</style>\n",
       "<table border=\"1\" class=\"dataframe\">\n",
       "  <thead>\n",
       "    <tr style=\"text-align: right;\">\n",
       "      <th></th>\n",
       "      <th>Unnamed: 0</th>\n",
       "      <th>Participant_ID</th>\n",
       "      <th>Exp_ID</th>\n",
       "      <th>Name</th>\n",
       "      <th>Date(预约日期)</th>\n",
       "      <th>Age</th>\n",
       "      <th>train_ap</th>\n",
       "      <th>train_dp</th>\n",
       "      <th>1D_ap</th>\n",
       "      <th>1D_dp</th>\n",
       "      <th>...</th>\n",
       "      <th>game2_test_acc</th>\n",
       "      <th>usable</th>\n",
       "      <th>Sex</th>\n",
       "      <th>Group</th>\n",
       "      <th>训练主试</th>\n",
       "      <th>field_mapping1</th>\n",
       "      <th>field_mapping2</th>\n",
       "      <th>field_mapping3</th>\n",
       "      <th>field_mapping2_1</th>\n",
       "      <th>Location</th>\n",
       "    </tr>\n",
       "  </thead>\n",
       "  <tbody>\n",
       "    <tr>\n",
       "      <th>8</th>\n",
       "      <td>8</td>\n",
       "      <td>sub_011</td>\n",
       "      <td>E11</td>\n",
       "      <td>曾典</td>\n",
       "      <td>2021.11.28</td>\n",
       "      <td>11</td>\n",
       "      <td>0.965</td>\n",
       "      <td>0.94</td>\n",
       "      <td>0.650</td>\n",
       "      <td>0.650</td>\n",
       "      <td>...</td>\n",
       "      <td>0.583</td>\n",
       "      <td>1.0</td>\n",
       "      <td>male</td>\n",
       "      <td>child</td>\n",
       "      <td>王海腾</td>\n",
       "      <td>NaN</td>\n",
       "      <td>NaN</td>\n",
       "      <td>NaN</td>\n",
       "      <td>NaN</td>\n",
       "      <td>北大</td>\n",
       "    </tr>\n",
       "    <tr>\n",
       "      <th>9</th>\n",
       "      <td>9</td>\n",
       "      <td>sub_012</td>\n",
       "      <td>E2</td>\n",
       "      <td>曾源</td>\n",
       "      <td>2021.11.28</td>\n",
       "      <td>11</td>\n",
       "      <td>0.865</td>\n",
       "      <td>0.89</td>\n",
       "      <td>0.642</td>\n",
       "      <td>0.758</td>\n",
       "      <td>...</td>\n",
       "      <td>0.516</td>\n",
       "      <td>1.0</td>\n",
       "      <td>male</td>\n",
       "      <td>child</td>\n",
       "      <td>王海腾</td>\n",
       "      <td>NaN</td>\n",
       "      <td>NaN</td>\n",
       "      <td>NaN</td>\n",
       "      <td>NaN</td>\n",
       "      <td>北大</td>\n",
       "    </tr>\n",
       "    <tr>\n",
       "      <th>14</th>\n",
       "      <td>14</td>\n",
       "      <td>sub_017</td>\n",
       "      <td>C11</td>\n",
       "      <td>胡鸣萱</td>\n",
       "      <td>2021.12.11</td>\n",
       "      <td>10</td>\n",
       "      <td>0.865</td>\n",
       "      <td>0.86</td>\n",
       "      <td>0.542</td>\n",
       "      <td>0.655</td>\n",
       "      <td>...</td>\n",
       "      <td>0.583</td>\n",
       "      <td>1.0</td>\n",
       "      <td>female</td>\n",
       "      <td>child</td>\n",
       "      <td>陈率</td>\n",
       "      <td>1,2,3</td>\n",
       "      <td>4,5,6</td>\n",
       "      <td>7,8,9,10</td>\n",
       "      <td>NaN</td>\n",
       "      <td>生物物理所</td>\n",
       "    </tr>\n",
       "    <tr>\n",
       "      <th>36</th>\n",
       "      <td>36</td>\n",
       "      <td>sub_040</td>\n",
       "      <td>A2</td>\n",
       "      <td>张钰东</td>\n",
       "      <td>2022.1.8</td>\n",
       "      <td>8</td>\n",
       "      <td>0.865</td>\n",
       "      <td>0.91</td>\n",
       "      <td>0.558</td>\n",
       "      <td>0.425</td>\n",
       "      <td>...</td>\n",
       "      <td>NaN</td>\n",
       "      <td>1.0</td>\n",
       "      <td>male</td>\n",
       "      <td>child</td>\n",
       "      <td>王海腾</td>\n",
       "      <td>NaN</td>\n",
       "      <td>NaN</td>\n",
       "      <td>NaN</td>\n",
       "      <td>NaN</td>\n",
       "      <td>生物物理所</td>\n",
       "    </tr>\n",
       "  </tbody>\n",
       "</table>\n",
       "<p>4 rows × 25 columns</p>\n",
       "</div>"
      ],
      "text/plain": [
       "    Unnamed: 0 Participant_ID Exp_ID Name  Date(预约日期)  Age  train_ap  \\\n",
       "8            8        sub_011    E11   曾典  2021.11.28   11     0.965   \n",
       "9            9        sub_012     E2   曾源  2021.11.28   11     0.865   \n",
       "14          14        sub_017    C11  胡鸣萱  2021.12.11   10     0.865   \n",
       "36          36        sub_040     A2  张钰东    2022.1.8    8     0.865   \n",
       "\n",
       "    train_dp  1D_ap  1D_dp  ...  game2_test_acc  usable    Sex   Group  训练主试  \\\n",
       "8       0.94  0.650  0.650  ...           0.583     1.0    male  child   王海腾   \n",
       "9       0.89  0.642  0.758  ...           0.516     1.0    male  child   王海腾   \n",
       "14      0.86  0.542  0.655  ...           0.583     1.0  female  child    陈率   \n",
       "36      0.91  0.558  0.425  ...             NaN     1.0    male  child   王海腾   \n",
       "\n",
       "    field_mapping1  field_mapping2 field_mapping3 field_mapping2_1 Location  \n",
       "8              NaN             NaN            NaN              NaN       北大  \n",
       "9              NaN             NaN            NaN              NaN       北大  \n",
       "14           1,2,3           4,5,6       7,8,9,10              NaN    生物物理所  \n",
       "36             NaN             NaN            NaN              NaN    生物物理所  \n",
       "\n",
       "[4 rows x 25 columns]"
      ]
     },
     "execution_count": 5,
     "metadata": {},
     "output_type": "execute_result"
    }
   ],
   "source": [
    "sub_child"
   ]
  },
  {
   "cell_type": "code",
   "execution_count": null,
   "id": "0a4931fb",
   "metadata": {},
   "outputs": [],
   "source": [
    "adult_list = ['010','014','018','021','023','024',\n",
    "              '026','027','028','029','030','033',\n",
    "              '037','038','042','043','046','047']\n",
    "\n",
    "ado_list =  ['006', '009', '016', '022', '031', '032', '036']\n",
    "\n",
    "child_list = ['011', '012', '015', '017', '025', '040']"
   ]
  },
  {
   "cell_type": "code",
   "execution_count": 14,
   "id": "fd4a5d58",
   "metadata": {},
   "outputs": [
    {
     "data": {
      "image/png": "[encoded data removed]",
      "text/plain": [
       "<Figure size 432x432 with 1 Axes>"
      ]
     },
     "metadata": {},
     "output_type": "display_data"
    }
   ],
   "source": [
    "import pandas as pd\n",
    "import seaborn as sns\n",
    "\n",
    "sns.set_theme(style=\"whitegrid\")\n",
    "\n",
    "subject_info = pd.read_excel(r'/mnt/data/Project/DCM/participants_exp.xlsx')\n",
    "subject_info = subject_info.query('usable==1')\n",
    "sub_data = subject_info[['game1_acc','group']]\n",
    "\n",
    "# Draw a nested barplot by species and sex\n",
    "g = sns.catplot(\n",
    "    data=sub_data, kind=\"bar\",\n",
    "    x=\"group\", y=\"game1_acc\",\n",
    "    ci=\"sd\", palette=\"dark\", alpha=.6, height=6\n",
    ")\n",
    "g.despine(left=True)\n",
    "g.set_axis_labels(\"\", \"game1 accuracy\")\n",
    "savepath = r'/mnt/data/Project/DCM/BIDS/derivatives/behaviour/result/analysis/age-group_game1acc.png'\n",
    "g.savefig(savepath,bbox_inches='tight',pad_inches=0,dpi=300)"
   ]
  }
 ],
 "metadata": {
  "kernelspec": {
   "display_name": "Python 3",
   "language": "python",
   "name": "python3"
  },
  "language_info": {
   "codemirror_mode": {
    "name": "ipython",
    "version": 3
   },
   "file_extension": ".py",
   "mimetype": "text/x-python",
   "name": "python",
   "nbconvert_exporter": "python",
   "pygments_lexer": "ipython3",
   "version": "3.8.8"
  }
 },
 "nbformat": 4,
 "nbformat_minor": 5
}
