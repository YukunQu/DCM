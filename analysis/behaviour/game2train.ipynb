{
 "cells": [
  {
   "cell_type": "markdown",
   "id": "e1adc427",
   "metadata": {
    "pycharm": {
     "name": "#%% md\n"
    }
   },
   "source": [
    "# Calculate the training accuracy from total_test file"
   ]
  },
  {
   "cell_type": "code",
   "execution_count": 32,
   "id": "c98ef8a2",
   "metadata": {
    "ExecuteTime": {
     "end_time": "2022-03-03T14:21:13.243604Z",
     "start_time": "2022-03-03T14:21:13.208097Z"
    },
    "scrolled": false,
    "pycharm": {
     "name": "#%%\n"
    }
   },
   "outputs": [
    {
     "ename": "FileNotFoundError",
     "evalue": "[Errno 2] No such file or directory: '/mnt/data/Project/DCM/BIDS/sourcedata/sub_029/Behaviour/total_test'",
     "output_type": "error",
     "traceback": [
      "\u001B[0;31m---------------------------------------------------------------------------\u001B[0m",
      "\u001B[0;31mFileNotFoundError\u001B[0m                         Traceback (most recent call last)",
      "\u001B[0;32m<ipython-input-32-f09a205009ef>\u001B[0m in \u001B[0;36m<module>\u001B[0;34m\u001B[0m\n\u001B[1;32m     38\u001B[0m \u001B[0msubjests\u001B[0m \u001B[0;34m=\u001B[0m \u001B[0;34m[\u001B[0m\u001B[0mstr\u001B[0m\u001B[0;34m(\u001B[0m\u001B[0mi\u001B[0m\u001B[0;34m)\u001B[0m\u001B[0;34m.\u001B[0m\u001B[0mzfill\u001B[0m\u001B[0;34m(\u001B[0m\u001B[0;36m3\u001B[0m\u001B[0;34m)\u001B[0m \u001B[0;32mfor\u001B[0m \u001B[0mi\u001B[0m \u001B[0;32min\u001B[0m \u001B[0mrange\u001B[0m\u001B[0;34m(\u001B[0m\u001B[0;36m29\u001B[0m\u001B[0;34m,\u001B[0m\u001B[0;36m50\u001B[0m\u001B[0;34m)\u001B[0m\u001B[0;34m]\u001B[0m\u001B[0;34m\u001B[0m\u001B[0;34m\u001B[0m\u001B[0m\n\u001B[1;32m     39\u001B[0m \u001B[0;32mfor\u001B[0m \u001B[0msubj\u001B[0m \u001B[0;32min\u001B[0m \u001B[0msubjests\u001B[0m\u001B[0;34m:\u001B[0m\u001B[0;34m\u001B[0m\u001B[0;34m\u001B[0m\u001B[0m\n\u001B[0;32m---> 40\u001B[0;31m     \u001B[0msub_data\u001B[0m \u001B[0;34m=\u001B[0m \u001B[0mtotal_test_acc\u001B[0m\u001B[0;34m(\u001B[0m\u001B[0msubj\u001B[0m\u001B[0;34m)\u001B[0m\u001B[0;34m\u001B[0m\u001B[0;34m\u001B[0m\u001B[0m\n\u001B[0m\u001B[1;32m     41\u001B[0m     \u001B[0;32mif\u001B[0m \u001B[0misinstance\u001B[0m\u001B[0;34m(\u001B[0m\u001B[0msub_data\u001B[0m\u001B[0;34m,\u001B[0m \u001B[0mlist\u001B[0m\u001B[0;34m)\u001B[0m\u001B[0;34m:\u001B[0m\u001B[0;34m\u001B[0m\u001B[0;34m\u001B[0m\u001B[0m\n\u001B[1;32m     42\u001B[0m         \u001B[0mtotal_data\u001B[0m\u001B[0;34m.\u001B[0m\u001B[0mextend\u001B[0m\u001B[0;34m(\u001B[0m\u001B[0msub_data\u001B[0m\u001B[0;34m)\u001B[0m\u001B[0;34m\u001B[0m\u001B[0;34m\u001B[0m\u001B[0m\n",
      "\u001B[0;32m<ipython-input-32-f09a205009ef>\u001B[0m in \u001B[0;36mtotal_test_acc\u001B[0;34m(subj)\u001B[0m\n\u001B[1;32m      6\u001B[0m     \u001B[0mtotal_data\u001B[0m \u001B[0;34m=\u001B[0m \u001B[0;34m[\u001B[0m\u001B[0;34m]\u001B[0m\u001B[0;34m\u001B[0m\u001B[0;34m\u001B[0m\u001B[0m\n\u001B[1;32m      7\u001B[0m     \u001B[0mdata_dir\u001B[0m \u001B[0;34m=\u001B[0m \u001B[0;34mr'/mnt/data/Project/DCM/BIDS/sourcedata/sub_{}/Behaviour/total_test'\u001B[0m\u001B[0;34m.\u001B[0m\u001B[0mformat\u001B[0m\u001B[0;34m(\u001B[0m\u001B[0msubj\u001B[0m\u001B[0;34m)\u001B[0m\u001B[0;34m\u001B[0m\u001B[0;34m\u001B[0m\u001B[0m\n\u001B[0;32m----> 8\u001B[0;31m     \u001B[0mtottest_tmp\u001B[0m \u001B[0;34m=\u001B[0m \u001B[0mos\u001B[0m\u001B[0;34m.\u001B[0m\u001B[0mlistdir\u001B[0m\u001B[0;34m(\u001B[0m\u001B[0mdata_dir\u001B[0m\u001B[0;34m)\u001B[0m\u001B[0;34m\u001B[0m\u001B[0;34m\u001B[0m\u001B[0m\n\u001B[0m\u001B[1;32m      9\u001B[0m     \u001B[0mtottest_list\u001B[0m \u001B[0;34m=\u001B[0m \u001B[0;34m[\u001B[0m\u001B[0;34m]\u001B[0m\u001B[0;34m\u001B[0m\u001B[0;34m\u001B[0m\u001B[0m\n\u001B[1;32m     10\u001B[0m     \u001B[0;32mfor\u001B[0m \u001B[0mtot\u001B[0m \u001B[0;32min\u001B[0m \u001B[0mtottest_tmp\u001B[0m\u001B[0;34m:\u001B[0m\u001B[0;34m\u001B[0m\u001B[0;34m\u001B[0m\u001B[0m\n",
      "\u001B[0;31mFileNotFoundError\u001B[0m: [Errno 2] No such file or directory: '/mnt/data/Project/DCM/BIDS/sourcedata/sub_029/Behaviour/total_test'"
     ]
    }
   ],
   "source": [
    "import os\n",
    "import pandas as pd\n",
    "\n",
    "\n",
    "def total_test_acc(subj):\n",
    "    total_data = []\n",
    "    data_dir = r'/mnt/data/Project/DCM/BIDS/sourcedata/sub_{}/Behaviour/total_test'.format(subj)\n",
    "    tottest_tmp = os.listdir(data_dir)\n",
    "    tottest_list = []\n",
    "    for tot in tottest_tmp:\n",
    "        if '.csv' in tot:\n",
    "            tottest_list.append(tot)\n",
    "\n",
    "    for tot in tottest_list:\n",
    "        data_path = os.path.join(data_dir, tot)\n",
    "        print(subj,tot)\n",
    "        if os.path.getsize(data_path) > 8190:\n",
    "            tot_data = pd.read_csv(data_path)\n",
    "            if 'apaccuracy' in tot_data.columns:\n",
    "                if 'dpaccuracy' in tot_data.columns:\n",
    "                    tot_acc = tot_data.dropna(subset=['apaccuracy','dpaccuracy'],how='all')\n",
    "                    tot_acc = tot_acc[['姓名','date','apaccuracy','dpaccuracy']]\n",
    "                    total_data.append(tot_acc)\n",
    "                else:\n",
    "                    tot_acc = tot_data.dropna(subset=['apaccuracy'],how='all')\n",
    "                    tot_acc = tot_acc[['姓名','date','apaccuracy']]\n",
    "                    total_data.append(tot_acc)\n",
    "            elif 'dpaccuracy' in tot_data.columns:\n",
    "                    tot_acc = tot_data.dropna(subset=['dpaccuracy'],how='all')\n",
    "                    tot_acc = tot_acc[['姓名','date','dpaccuracy']]\n",
    "                    total_data.append(tot_acc)\n",
    "            else:\n",
    "                print(\"The {} do not have acc info\".format(tot)) \n",
    "    return total_data\n",
    "\n",
    "\n",
    "total_data = [] \n",
    "subjests = [str(i).zfill(3) for i in range(29,50)]\n",
    "for subj in subjests:\n",
    "    sub_data = total_test_acc(subj)\n",
    "    if isinstance(sub_data, list):\n",
    "        total_data.extend(sub_data)\n",
    "        \n",
    "total_data = pd.concat(total_data,axis=0)\n",
    "\n",
    "i = 1\n",
    "save_path = r'/mnt/data/Project/DCM/BIDS/derivatives/behaviour/result/training/{}_total_data.csv'.format(i)\n",
    "while os.path.exists(save_path):\n",
    "    i += 1\n",
    "    save_path = r'/mnt/data/Project/DCM/BIDS/derivatives/behaviour/result/training/{}_total_data.csv'.format(i)\n",
    "    \n",
    "total_data.to_csv(save_path)\n",
    "total_data"
   ]
  },
  {
   "cell_type": "markdown",
   "id": "890eda0c",
   "metadata": {
    "pycharm": {
     "name": "#%% md\n"
    }
   },
   "source": [
    "# Calculate the training accuracy from game2 training file"
   ]
  },
  {
   "cell_type": "code",
   "execution_count": 1,
   "id": "fcc88063",
   "metadata": {
    "ExecuteTime": {
     "end_time": "2022-03-03T14:35:47.465838Z",
     "start_time": "2022-03-03T14:35:47.375138Z"
    },
    "scrolled": false,
    "pycharm": {
     "name": "#%%\n"
    }
   },
   "outputs": [
    {
     "name": "stdout",
     "output_type": "stream",
     "text": [
      "['Z65_task-game2train_2022_Apr_17_1245.csv']\n",
      "074 Z65_task-game2train_2022_Apr_17_1245.csv\n",
      "block 1\n",
      "block 2\n",
      "block 3\n",
      "block 4\n",
      "['B22_task-game2train_2022_Apr_17_1524.csv', 'B22_task-game2train_2022_Apr_17_1445.csv']\n",
      "075 B22_task-game2train_2022_Apr_17_1524.csv\n",
      "block 1\n",
      "block 2\n",
      "075 B22_task-game2train_2022_Apr_17_1445.csv\n",
      "block 1\n",
      "block 2\n",
      "block 3\n",
      "block 4\n",
      "['Z10_task-game2train_2022_Apr_24_1453.csv']\n",
      "076 Z10_task-game2train_2022_Apr_24_1453.csv\n",
      "block 1\n",
      "block 2\n",
      "block 3\n",
      "block 4\n",
      "['Z67_task-game2train_2022_Apr_24_1256.csv']\n",
      "077 Z67_task-game2train_2022_Apr_24_1256.csv\n",
      "block 1\n",
      "block 2\n",
      "block 3\n",
      "block 4\n",
      "['Z13_task-game2train_2022_Apr_24_1556.csv']\n",
      "078 Z13_task-game2train_2022_Apr_24_1556.csv\n",
      "block 1\n",
      "block 2\n",
      "block 3\n",
      "block 4\n"
     ]
    },
    {
     "data": {
      "text/plain": "             姓名 participant              date dim  train_accuracy\n64          王旭茹         Z65  2022_Apr_17_1245  ap           0.844\n128         王旭茹         Z65  2022_Apr_17_1245  dp           0.875\n192         王旭茹         Z65  2022_Apr_17_1245  dp           1.000\n256         王旭茹         Z65  2022_Apr_17_1245  ap           0.938\n64          刘悦天         B22  2022_Apr_17_1524  ap           0.938\n128         刘悦天         B22  2022_Apr_17_1524  dp           0.844\n64   liuyuetian         B22  2022_Apr_17_1445  ap           0.781\n128  liuyuetian         B22  2022_Apr_17_1445  dp           0.844\n192  liuyuetian         B22  2022_Apr_17_1445  dp           0.875\n256  liuyuetian         B22  2022_Apr_17_1445  ap           0.719\n64   lichunpeng         Z10  2022_Apr_24_1453  ap           1.000\n128  lichunpeng         Z10  2022_Apr_24_1453  dp           0.938\n192  lichunpeng         Z10  2022_Apr_24_1453  dp           0.906\n256  lichunpeng         Z10  2022_Apr_24_1453  ap           0.938\n64     mayunhao         Z67  2022_Apr_24_1256  ap           1.000\n128    mayunhao         Z67  2022_Apr_24_1256  dp           0.875\n192    mayunhao         Z67  2022_Apr_24_1256  dp           1.000\n256    mayunhao         Z67  2022_Apr_24_1256  ap           0.906\n64   bizhanying         Z13  2022_Apr_24_1556  ap           0.812\n128  bizhanying         Z13  2022_Apr_24_1556  dp           0.938\n192  bizhanying         Z13  2022_Apr_24_1556  dp           0.969\n256  bizhanying         Z13  2022_Apr_24_1556  ap           0.938",
      "text/html": "<div>\n<style scoped>\n    .dataframe tbody tr th:only-of-type {\n        vertical-align: middle;\n    }\n\n    .dataframe tbody tr th {\n        vertical-align: top;\n    }\n\n    .dataframe thead th {\n        text-align: right;\n    }\n</style>\n<table border=\"1\" class=\"dataframe\">\n  <thead>\n    <tr style=\"text-align: right;\">\n      <th></th>\n      <th>姓名</th>\n      <th>participant</th>\n      <th>date</th>\n      <th>dim</th>\n      <th>train_accuracy</th>\n    </tr>\n  </thead>\n  <tbody>\n    <tr>\n      <th>64</th>\n      <td>王旭茹</td>\n      <td>Z65</td>\n      <td>2022_Apr_17_1245</td>\n      <td>ap</td>\n      <td>0.844</td>\n    </tr>\n    <tr>\n      <th>128</th>\n      <td>王旭茹</td>\n      <td>Z65</td>\n      <td>2022_Apr_17_1245</td>\n      <td>dp</td>\n      <td>0.875</td>\n    </tr>\n    <tr>\n      <th>192</th>\n      <td>王旭茹</td>\n      <td>Z65</td>\n      <td>2022_Apr_17_1245</td>\n      <td>dp</td>\n      <td>1.000</td>\n    </tr>\n    <tr>\n      <th>256</th>\n      <td>王旭茹</td>\n      <td>Z65</td>\n      <td>2022_Apr_17_1245</td>\n      <td>ap</td>\n      <td>0.938</td>\n    </tr>\n    <tr>\n      <th>64</th>\n      <td>刘悦天</td>\n      <td>B22</td>\n      <td>2022_Apr_17_1524</td>\n      <td>ap</td>\n      <td>0.938</td>\n    </tr>\n    <tr>\n      <th>128</th>\n      <td>刘悦天</td>\n      <td>B22</td>\n      <td>2022_Apr_17_1524</td>\n      <td>dp</td>\n      <td>0.844</td>\n    </tr>\n    <tr>\n      <th>64</th>\n      <td>liuyuetian</td>\n      <td>B22</td>\n      <td>2022_Apr_17_1445</td>\n      <td>ap</td>\n      <td>0.781</td>\n    </tr>\n    <tr>\n      <th>128</th>\n      <td>liuyuetian</td>\n      <td>B22</td>\n      <td>2022_Apr_17_1445</td>\n      <td>dp</td>\n      <td>0.844</td>\n    </tr>\n    <tr>\n      <th>192</th>\n      <td>liuyuetian</td>\n      <td>B22</td>\n      <td>2022_Apr_17_1445</td>\n      <td>dp</td>\n      <td>0.875</td>\n    </tr>\n    <tr>\n      <th>256</th>\n      <td>liuyuetian</td>\n      <td>B22</td>\n      <td>2022_Apr_17_1445</td>\n      <td>ap</td>\n      <td>0.719</td>\n    </tr>\n    <tr>\n      <th>64</th>\n      <td>lichunpeng</td>\n      <td>Z10</td>\n      <td>2022_Apr_24_1453</td>\n      <td>ap</td>\n      <td>1.000</td>\n    </tr>\n    <tr>\n      <th>128</th>\n      <td>lichunpeng</td>\n      <td>Z10</td>\n      <td>2022_Apr_24_1453</td>\n      <td>dp</td>\n      <td>0.938</td>\n    </tr>\n    <tr>\n      <th>192</th>\n      <td>lichunpeng</td>\n      <td>Z10</td>\n      <td>2022_Apr_24_1453</td>\n      <td>dp</td>\n      <td>0.906</td>\n    </tr>\n    <tr>\n      <th>256</th>\n      <td>lichunpeng</td>\n      <td>Z10</td>\n      <td>2022_Apr_24_1453</td>\n      <td>ap</td>\n      <td>0.938</td>\n    </tr>\n    <tr>\n      <th>64</th>\n      <td>mayunhao</td>\n      <td>Z67</td>\n      <td>2022_Apr_24_1256</td>\n      <td>ap</td>\n      <td>1.000</td>\n    </tr>\n    <tr>\n      <th>128</th>\n      <td>mayunhao</td>\n      <td>Z67</td>\n      <td>2022_Apr_24_1256</td>\n      <td>dp</td>\n      <td>0.875</td>\n    </tr>\n    <tr>\n      <th>192</th>\n      <td>mayunhao</td>\n      <td>Z67</td>\n      <td>2022_Apr_24_1256</td>\n      <td>dp</td>\n      <td>1.000</td>\n    </tr>\n    <tr>\n      <th>256</th>\n      <td>mayunhao</td>\n      <td>Z67</td>\n      <td>2022_Apr_24_1256</td>\n      <td>ap</td>\n      <td>0.906</td>\n    </tr>\n    <tr>\n      <th>64</th>\n      <td>bizhanying</td>\n      <td>Z13</td>\n      <td>2022_Apr_24_1556</td>\n      <td>ap</td>\n      <td>0.812</td>\n    </tr>\n    <tr>\n      <th>128</th>\n      <td>bizhanying</td>\n      <td>Z13</td>\n      <td>2022_Apr_24_1556</td>\n      <td>dp</td>\n      <td>0.938</td>\n    </tr>\n    <tr>\n      <th>192</th>\n      <td>bizhanying</td>\n      <td>Z13</td>\n      <td>2022_Apr_24_1556</td>\n      <td>dp</td>\n      <td>0.969</td>\n    </tr>\n    <tr>\n      <th>256</th>\n      <td>bizhanying</td>\n      <td>Z13</td>\n      <td>2022_Apr_24_1556</td>\n      <td>ap</td>\n      <td>0.938</td>\n    </tr>\n  </tbody>\n</table>\n</div>"
     },
     "execution_count": 1,
     "metadata": {},
     "output_type": "execute_result"
    }
   ],
   "source": [
    "import os\n",
    "import pandas as pd\n",
    "\n",
    "\n",
    "def game2trian_acc(subj):\n",
    "    data_dir = r'/mnt/workdir/DCM/sourcedata/sub_{}/Behaviour/fmri_task-game2-train'.format(subj)\n",
    "    game2train_tmp = os.listdir(data_dir)\n",
    "    game2train_list = []\n",
    "    for g2t in game2train_tmp:\n",
    "        if '.csv' in g2t:\n",
    "            game2train_list.append(g2t)\n",
    "            \n",
    "    print(game2train_list)\n",
    "    train_data_blocked = [] \n",
    "    for g2t in game2train_list:\n",
    "        data_path = os.path.join(data_dir, g2t)\n",
    "        print(subj,g2t)\n",
    "\n",
    "        if os.path.getsize(data_path) > 12190:\n",
    "            game2data = pd.read_csv(data_path)\n",
    "            train_data = game2data.dropna(subset=['train_accuracy'])\n",
    "            data_len = len(train_data)\n",
    "            block_num = int(data_len/32)\n",
    "            for i in range(block_num):\n",
    "                print('block',i+1)\n",
    "                if i < (block_num-1):\n",
    "                    block_data = train_data[i*32:(i+1)*32].copy()    \n",
    "                else:\n",
    "                    block_data = train_data[i*32:].copy()\n",
    "\n",
    "                # 假设这个block是攻击力\n",
    "                block_ap_diff = block_data['ap_diff']\n",
    "                block_dp_diff = block_data['dp_diff']\n",
    "\n",
    "                corrAns_ap = [1 if a < 0 else 2 for a in block_ap_diff]\n",
    "                corrAns_dp = [1 if a < 0 else 2 for a in block_dp_diff]\n",
    "                corrAns = block_data['correctAns'].to_list()\n",
    "\n",
    "                if corrAns == corrAns_ap:\n",
    "                    block_data.loc[:,'dim'] = 'ap'\n",
    "                elif corrAns == corrAns_dp:\n",
    "                    block_data.loc[:,'dim'] = 'dp'\n",
    "                else:\n",
    "                    print(\"The code is wrong! \")\n",
    "\n",
    "                train_data_blocked.append(block_data.iloc[-1,:][['姓名','participant','date','dim','train_accuracy']])\n",
    "\n",
    "    return train_data_blocked\n",
    "    \n",
    "\n",
    "game2train_result = [] \n",
    "subjests = [str(i).zfill(3) for i in range(74,79)]\n",
    "for subj in subjests:\n",
    "    sub_result = game2trian_acc(subj)\n",
    "    if isinstance(sub_result, list):\n",
    "        game2train_result.extend(sub_result)\n",
    "        \n",
    "i = 1\n",
    "save_path = r'/mnt/workdir/DCM/BIDS/derivatives/behaviour/result/training/{}_game2train_result.csv'.format(i)\n",
    "while os.path.exists(save_path):\n",
    "    i += 1\n",
    "    save_path = r'/mnt/workdir/DCM/BIDS/derivatives/behaviour/result/training/{}_game2train_result.csv'.format(i)\n",
    "\n",
    "game2train_result = pd.DataFrame(game2train_result)  \n",
    "game2train_result.to_csv(save_path)\n",
    "game2train_result"
   ]
  },
  {
   "cell_type": "code",
   "execution_count": 27,
   "id": "4a801efb",
   "metadata": {
    "ExecuteTime": {
     "end_time": "2022-03-03T10:43:50.903756Z",
     "start_time": "2022-03-03T10:43:50.894543Z"
    },
    "pycharm": {
     "name": "#%%\n"
    }
   },
   "outputs": [],
   "source": []
  }
 ],
 "metadata": {
  "kernelspec": {
   "display_name": "Python 3",
   "language": "python",
   "name": "python3"
  },
  "language_info": {
   "codemirror_mode": {
    "name": "ipython",
    "version": 3
   },
   "file_extension": ".py",
   "mimetype": "text/x-python",
   "name": "python",
   "nbconvert_exporter": "python",
   "pygments_lexer": "ipython3",
   "version": "3.8.8"
  }
 },
 "nbformat": 4,
 "nbformat_minor": 5
}