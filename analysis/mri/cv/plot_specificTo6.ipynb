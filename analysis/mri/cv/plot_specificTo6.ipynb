{
 "cells": [
  {
   "cell_type": "markdown",
   "source": [
    "## Plot hexagon modulation align EC mean orientation across 4-8 folds"
   ],
   "metadata": {
    "collapsed": false
   }
  },
  {
   "cell_type": "code",
   "execution_count": 78,
   "outputs": [],
   "source": [
    "import numpy as np\n",
    "import pandas as pd\n",
    "import seaborn as sns\n",
    "import matplotlib.pyplot as plt\n",
    "\n",
    "sns.set_style(\"white\")\n",
    "custom_params = {\"axes.spines.right\": False, \"axes.spines.top\": False}\n",
    "sns.set_theme(style=\"ticks\", rc=custom_params)\n",
    "#data = pd.read_csv(r'/mnt/workdir/DCM/Result/Specificity_to_6/nilearn_cv/sub_stats-z_roi-ec_trial-even.csv')\n",
    "data = pd.read_csv(r'/mnt/data/DCM/result_backup/2023.5.14/Nilearn/game1/cv_test_hexagon_spct/sub_stats-z_roi-ec_trial-even_anat_EC.csv')"
   ],
   "metadata": {
    "collapsed": false,
    "ExecuteTime": {
     "end_time": "2023-06-02T03:15:02.265807215Z",
     "start_time": "2023-06-02T03:15:02.242940178Z"
    }
   }
  },
  {
   "cell_type": "code",
   "execution_count": 79,
   "outputs": [],
   "source": [
    "# high performance filter\n",
    "participants_tsv = r'/mnt/workdir/DCM/BIDS/participants.tsv'\n",
    "participants_data = pd.read_csv(participants_tsv, sep='\\t')\n",
    "hp_info = participants_data.query(f'(game1_fmri>=0.5)and(game1_acc>0.8)')  # look out\n",
    "hp_sub = hp_info['Participant_ID'].to_list()\n",
    "data = data.loc[data['sub_id'].isin(hp_sub)]"
   ],
   "metadata": {
    "collapsed": false,
    "ExecuteTime": {
     "end_time": "2023-06-02T03:15:04.428558008Z",
     "start_time": "2023-06-02T03:15:04.402847385Z"
    }
   }
  },
  {
   "cell_type": "code",
   "execution_count": 80,
   "outputs": [
    {
     "data": {
      "text/plain": "<Figure size 432x288 with 1 Axes>",
      "image/png": "[encoded data removed]"
     },
     "metadata": {},
     "output_type": "display_data"
    }
   ],
   "source": [
    "fig, ax = plt.subplots()\n",
    "sns.boxplot(x='ifold', y=\"statistic\", data=data, width=.5,\n",
    "            palette=[\"lightgray\", \"lightgray\", \"steelblue\", \"lightgray\", \"lightgray\"],\n",
    "            boxprops={'edgecolor':'None'},showfliers=False\n",
    "            )\n",
    "sns.stripplot(x='ifold', y=\"statistic\", data=data, size=1.5, color='.01', linewidth=0,alpha=0.7)\n",
    "ax.tick_params(axis='both', length=0)\n",
    "x = [0,1,2,3,4]\n",
    "y = [0]*len(x)\n",
    "plt.plot(x, y, linestyle='--', color='black',alpha=0.6)\n",
    "plt.xticks(size=16)\n",
    "plt.xlabel('fold',size=16)\n",
    "plt.ylabel('Zscore')\n",
    "# remove the box lines of the axis\n",
    "ax.spines['top'].set_visible(False)\n",
    "ax.spines['right'].set_visible(False)\n",
    "ax.spines['bottom'].set_visible(False)\n",
    "ax.spines['left'].set_visible(False)\n",
    "\n",
    "# Add asterisks on top of each bar\n",
    "vmean = np.max(data['ifold']=='6fold')\n",
    "#ax.text(2, vmean+0.55, '***',ha='center', va='bottom',weight='bold',size=15)\n",
    "\n",
    "sub_num = len(set(data['sub_id']))\n",
    "plt.title(\"HP participants(num={})\".format(sub_num),size=16)\n",
    "#plt.savefig(r'/mnt/workdir/DCM/Result/Specificity_to_6/nilearn_cv/Specificity_to_6fold.svg',bbox_inches='tight',pad_inches=0,dpi=300,transparent=True)\n",
    "plt.show()"
   ],
   "metadata": {
    "collapsed": false,
    "ExecuteTime": {
     "end_time": "2023-06-02T03:15:07.742011343Z",
     "start_time": "2023-06-02T03:15:07.535107084Z"
    }
   }
  },
  {
   "cell_type": "code",
   "execution_count": 81,
   "outputs": [
    {
     "name": "stdout",
     "output_type": "stream",
     "text": [
      "one sample t-test for 4fold: pvalue=0.66194\n",
      "one sample t-test for 5fold: pvalue=0.18051\n",
      "one sample t-test for 6fold: pvalue=0.0016\n",
      "one sample t-test for 7fold: pvalue=0.02445\n",
      "one sample t-test for 8fold: pvalue=0.21271\n"
     ]
    }
   ],
   "source": [
    "from scipy.stats import ttest_1samp\n",
    "ifold_p = []\n",
    "for i in range(4,9):\n",
    "    ifold = str(i)+'fold'\n",
    "    fold6_act = data[data['ifold']==ifold]['statistic'].to_list()\n",
    "    _,p = ttest_1samp(fold6_act,0,alternative='greater')\n",
    "    ifold_p.append(p)\n",
    "    p = round(p,5)\n",
    "    print('one sample t-test for {}fold: pvalue={}'.format(i,str(p).zfill(3)))"
   ],
   "metadata": {
    "collapsed": false,
    "ExecuteTime": {
     "end_time": "2023-06-02T03:15:16.502878820Z",
     "start_time": "2023-06-02T03:15:16.434736061Z"
    }
   }
  },
  {
   "cell_type": "code",
   "execution_count": 76,
   "outputs": [
    {
     "name": "stdout",
     "output_type": "stream",
     "text": [
      "pair t-test result: pvalue=0.565933\n"
     ]
    }
   ],
   "source": [
    "from scipy.stats import ttest_rel\n",
    "\n",
    "act1 = data[data['ifold']==\"6fold\"]['statistic'].to_list()\n",
    "act2 = data[data['ifold']==\"5fold\"]['statistic'].to_list()\n",
    "_,p = ttest_rel(act1,act2)\n",
    "p = round(p,6)\n",
    "print('pair t-test result: pvalue={}'.format(p))"
   ],
   "metadata": {
    "collapsed": false
   }
  }
 ],
 "metadata": {
  "kernelspec": {
   "display_name": "Python 3",
   "language": "python",
   "name": "python3"
  },
  "language_info": {
   "codemirror_mode": {
    "name": "ipython",
    "version": 2
   },
   "file_extension": ".py",
   "mimetype": "text/x-python",
   "name": "python",
   "nbconvert_exporter": "python",
   "pygments_lexer": "ipython2",
   "version": "2.7.6"
  }
 },
 "nbformat": 4,
 "nbformat_minor": 0
}
