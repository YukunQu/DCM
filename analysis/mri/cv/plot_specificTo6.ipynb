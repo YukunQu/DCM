{
 "cells": [
  {
   "cell_type": "markdown",
   "source": [
    "## Plot hexagon modulation align EC mean orientation across 4-8 folds"
   ],
   "metadata": {
    "collapsed": false
   }
  },
  {
   "cell_type": "code",
   "execution_count": 99,
   "outputs": [],
   "source": [
    "import numpy as np\n",
    "import pandas as pd\n",
    "import seaborn as sns\n",
    "import matplotlib.pyplot as plt\n",
    "\n",
    "\n",
    "custom_params = {\"axes.spines.right\": False, \"axes.spines.top\": False}\n",
    "sns.set_theme(style=\"ticks\", rc=custom_params)\n",
    "sns.set_style(\"dark\")\n",
    "\n",
    "data = pd.read_csv(r'/mnt/workdir/DCM/result/Specificity_to_6/RSA/sub_stats-z_roi-ec_trial-all.csv')"
   ],
   "metadata": {
    "collapsed": false
   }
  },
  {
   "cell_type": "code",
   "execution_count": 100,
   "outputs": [],
   "source": [
    "# high performance filter\n",
    "participants_tsv = r'/mnt/workdir/DCM/BIDS/participants.tsv'\n",
    "participants_data = pd.read_csv(participants_tsv, sep='\\t')\n",
    "hp_info = participants_data.query(f'(game1_fmri>=0.5)and(game1_acc>0.8)')  # look out\n",
    "hp_sub = hp_info['Participant_ID'].to_list()\n",
    "\n",
    "data = data.loc[data['sub_id'].isin(hp_sub)]"
   ],
   "metadata": {
    "collapsed": false
   }
  },
  {
   "cell_type": "code",
   "execution_count": 103,
   "outputs": [
    {
     "data": {
      "text/plain": "<Figure size 432x288 with 1 Axes>",
      "image/png": "[encoded data removed]"
     },
     "metadata": {},
     "output_type": "display_data"
    }
   ],
   "source": [
    "fig, ax = plt.subplots()\n",
    "sns.boxplot(x='ifold', y=\"statistic\", data=data, width=.5,\n",
    "            palette=[\"lightgray\", \"lightgray\", \"steelblue\", \"lightgray\", \"lightgray\"],\n",
    "            boxprops={'edgecolor':'None'},showfliers=False\n",
    "            )\n",
    "sns.stripplot(x='ifold', y=\"statistic\", data=data, size=1.6, color='.01', linewidth=0)\n",
    "x = [0,1,2,3,4]\n",
    "y = [0]*len(x)\n",
    "plt.plot(x, y, linestyle='--', color='gray')\n",
    "#plt.ylim(-2.5, 2.5)\n",
    "plt.xticks(size=16)\n",
    "plt.xlabel('fold',size=16)\n",
    "plt.ylabel('Zscore')\n",
    "# remove the box lines of the axis\n",
    "ax.spines['top'].set_visible(False)\n",
    "ax.spines['right'].set_visible(False)\n",
    "ax.spines['bottom'].set_visible(False)\n",
    "ax.spines['left'].set_visible(False)\n",
    "\n",
    "sub_num = len(set(data['sub_id']))\n",
    "plt.title(\"HP participants(num={})\".format(sub_num),size=16)\n",
    "plt.savefig(r'/mnt/workdir/DCM/result/Specificity_to_6/RSA/Specificity_to_6fold.png',bbox_inches='tight',pad_inches=0,dpi=300,transparent=True)\n",
    "plt.show()"
   ],
   "metadata": {
    "collapsed": false
   }
  },
  {
   "cell_type": "code",
   "execution_count": 93,
   "outputs": [
    {
     "name": "stdout",
     "output_type": "stream",
     "text": [
      "one sample t-test for 4fold: pvalue=0.00025\n",
      "one sample t-test for 5fold: pvalue=0.00083\n",
      "one sample t-test for 6fold: pvalue=0.0\n",
      "one sample t-test for 7fold: pvalue=0.21449\n",
      "one sample t-test for 8fold: pvalue=0.8345\n"
     ]
    }
   ],
   "source": [
    "from scipy.stats import ttest_1samp\n",
    "ifold_p = []\n",
    "for i in range(4,9):\n",
    "    ifold = str(i)+'fold'\n",
    "    fold6_act = data[data['ifold']==ifold]['statistic'].to_list()\n",
    "    _,p = ttest_1samp(fold6_act,0,alternative='greater')\n",
    "    ifold_p.append(p)\n",
    "    p = round(p,5)\n",
    "    print('one sample t-test for {}fold: pvalue={}'.format(i,str(p).zfill(3)))"
   ],
   "metadata": {
    "collapsed": false
   }
  },
  {
   "cell_type": "code",
   "execution_count": 76,
   "outputs": [
    {
     "name": "stdout",
     "output_type": "stream",
     "text": [
      "pair t-test result: pvalue=0.565933\n"
     ]
    }
   ],
   "source": [
    "from scipy.stats import ttest_rel\n",
    "\n",
    "act1 = data[data['ifold']==\"6fold\"]['statistic'].to_list()\n",
    "act2 = data[data['ifold']==\"5fold\"]['statistic'].to_list()\n",
    "_,p = ttest_rel(act1,act2)\n",
    "p = round(p,6)\n",
    "print('pair t-test result: pvalue={}'.format(p))"
   ],
   "metadata": {
    "collapsed": false
   }
  },
  {
   "cell_type": "code",
   "execution_count": null,
   "outputs": [],
   "source": [
    "\n",
    "import pandas as pd\n",
    "import statsmodels.api as sm\n",
    "\n",
    "X = sub_fold_beta[['age', 'acc']]\n",
    "Y = sub_fold_beta['amplitude']\n",
    "\n",
    "X = sm.add_constant(X)\n",
    "model = sm.OLS(Y, X).fit()\n",
    "predictions = model.predict(X)\n",
    "model_summary = model.summary()\n",
    "print(model_summary)\n",
    "\n",
    "import plotly.express as px\n",
    "\n",
    "fig = px.scatter_3d(sub_fold_beta, x='age', y='acc', z='amplitude')\n",
    "fig.show()"
   ],
   "metadata": {
    "collapsed": false
   }
  },
  {
   "cell_type": "code",
   "execution_count": 221,
   "outputs": [
    {
     "name": "stdout",
     "output_type": "stream",
     "text": [
      "0.1485921797480985\n",
      "0.2985921797480982\n"
     ]
    },
    {
     "name": "stderr",
     "output_type": "stream",
     "text": [
      "/home/dell/Software/anaconda3/lib/python3.8/site-packages/nilearn/image/image.py:1041: UserWarning: Data array used to create a new image contains 64-bit ints. This is likely due to creating the array with numpy and passing `int` as the `dtype`. Many tools such as FSL and SPM cannot deal with int64 in Nifti images, so for compatibility the data has been converted to int32.\n",
      "  return new_img_like(niimg, result, niimg.affine)\n"
     ]
    }
   ],
   "source": [
    "from nilearn.glm import cluster_level_inference\n",
    "from nilearn.image import binarize_img\n",
    "from nilearn import image\n",
    "z_map = r'/mnt/workdir/DCM/BIDS/derivatives/Nilearn/game1/cv_test_hexagon_distance_spct_ECthr3.1/Setall/6fold/group/hp_all-age/alignPhi_even_zmap.nii.gz'\n",
    "\n",
    "z_map = image.load_img(z_map)\n",
    "z_map_data = z_map.get_fdata()\n",
    "print(z_map_data.mean())\n",
    "z_map_data = z_map_data + 0.15\n",
    "z_map = image.new_img_like(z_map,z_map_data)\n",
    "print(z_map_data.mean())\n",
    "mask = r'/mnt/data/Template/tpl-MNI152NLin2009cAsym/tpl-MNI152NLin2009cAsym_res-02_desc-brain_mask.nii'\n",
    "mask = binarize_img(mask)\n",
    "proportion_true_discoveries_img = cluster_level_inference(\n",
    "    z_map,threshold=3.1,alpha=0.05)\n",
    "\n",
    "from nilearn import plotting\n",
    "proportion_true_discoveries_img.to_filename(r'/mnt/workdir/DCM/BIDS/derivatives/Nilearn/game1/cv_test_hexagon_distance_spct_ECthr3.1/Setall/6fold/group/acc/alignPhi_even_acc_tmap_thr.nii.gz')"
   ],
   "metadata": {
    "collapsed": false
   }
  },
  {
   "cell_type": "code",
   "execution_count": 222,
   "outputs": [
    {
     "data": {
      "text/plain": "0"
     },
     "execution_count": 222,
     "metadata": {},
     "output_type": "execute_result"
    }
   ],
   "source": [
    "x = proportion_true_discoveries_img.get_fdata()\n",
    "len(x[x>0])"
   ],
   "metadata": {
    "collapsed": false
   }
  },
  {
   "cell_type": "code",
   "execution_count": 184,
   "outputs": [
    {
     "name": "stderr",
     "output_type": "stream",
     "text": [
      "/home/dell/Software/anaconda3/lib/python3.8/site-packages/nilearn/image/image.py:1041: UserWarning: Data array used to create a new image contains 64-bit ints. This is likely due to creating the array with numpy and passing `int` as the `dtype`. Many tools such as FSL and SPM cannot deal with int64 in Nifti images, so for compatibility the data has been converted to int32.\n",
      "  return new_img_like(niimg, result, niimg.affine)\n"
     ]
    },
    {
     "name": "stdout",
     "output_type": "stream",
     "text": [
      "The FDR=.05 threshold is 5.19\n"
     ]
    },
    {
     "name": "stderr",
     "output_type": "stream",
     "text": [
      "/home/dell/Software/anaconda3/lib/python3.8/site-packages/nilearn/_utils/param_validation.py:72: UserWarning: The given float value must not exceed 4.553506918698067. But, you have given threshold=5.188488245753143 \n",
      "  warnings.warn(\"The given float value must not exceed {0}. \"\n"
     ]
    }
   ],
   "source": [
    "from nilearn.glm import threshold_stats_img\n",
    "from nilearn.image import binarize_img\n",
    "z_map = r'/mnt/workdir/DCM/BIDS/derivatives/Nilearn/game1/cv_test_hexagon_distance_spct_ECthr3.1/Setall/6fold/group/hp_all-age/alignPhi_even_zmap.nii.gz'\n",
    "mask = r'/mnt/data/Template/tpl-MNI152NLin2009cAsym/tpl-MNI152NLin2009cAsym_res-02_desc-brain_mask.nii'\n",
    "mask = binarize_img(mask)\n",
    "thresholded_map2, threshold2 = threshold_stats_img(\n",
    "    z_map, alpha=0.05, height_control=\"bonferroni\",mask_img=mask\n",
    ")\n",
    "print(f\"The FDR=.05 threshold is {threshold2:.3g}\")"
   ],
   "metadata": {
    "collapsed": false
   }
  },
  {
   "cell_type": "code",
   "execution_count": 223,
   "outputs": [
    {
     "ename": "TraitError",
     "evalue": "Cannot set the undefined 'out_file' attribute of a 'ClusterInputSpec' object.",
     "output_type": "error",
     "traceback": [
      "\u001B[0;31m---------------------------------------------------------------------------\u001B[0m",
      "\u001B[0;31mTraitError\u001B[0m                                Traceback (most recent call last)",
      "\u001B[0;32m<ipython-input-223-4e89f370d7de>\u001B[0m in \u001B[0;36m<module>\u001B[0;34m\u001B[0m\n\u001B[1;32m     11\u001B[0m \u001B[0mcluster\u001B[0m\u001B[0;34m.\u001B[0m\u001B[0minputs\u001B[0m\u001B[0;34m.\u001B[0m\u001B[0mthreshold\u001B[0m \u001B[0;34m=\u001B[0m \u001B[0mthresh\u001B[0m\u001B[0;34m\u001B[0m\u001B[0;34m\u001B[0m\u001B[0m\n\u001B[1;32m     12\u001B[0m \u001B[0mcluster\u001B[0m\u001B[0;34m.\u001B[0m\u001B[0minputs\u001B[0m\u001B[0;34m.\u001B[0m\u001B[0mpthreshold\u001B[0m \u001B[0;34m=\u001B[0m \u001B[0mp_thresh\u001B[0m\u001B[0;34m\u001B[0m\u001B[0;34m\u001B[0m\u001B[0m\n\u001B[0;32m---> 13\u001B[0;31m \u001B[0mcluster\u001B[0m\u001B[0;34m.\u001B[0m\u001B[0minputs\u001B[0m\u001B[0;34m.\u001B[0m\u001B[0mout_file\u001B[0m \u001B[0;34m=\u001B[0m \u001B[0mout_file\u001B[0m\u001B[0;34m\u001B[0m\u001B[0;34m\u001B[0m\u001B[0m\n\u001B[0m",
      "\u001B[0;31mTraitError\u001B[0m: Cannot set the undefined 'out_file' attribute of a 'ClusterInputSpec' object."
     ]
    }
   ],
   "source": [
    "import nipype.interfaces.fsl as fsl\n",
    "\n",
    "in_file = r'/mnt/workdir/DCM/BIDS/derivatives/Nilearn/game1/cv_test_hexagon_distance_spct_ECthr3.1/Setall/6fold/group/hp_all-age/alignPhi_even_zmap.nii.gz'\n",
    "thresh = 2.3\n",
    "p_thresh = 0.05\n",
    "\n",
    "out_file = r'/mnt/workdir/DCM/BIDS/derivatives/Nilearn/game1/cv_test_hexagon_distance_spct_ECthr3.1/Setall/6fold/group/hp_all-age/alignPhi_even_zmap_thr.nii.gz'\n",
    "\n",
    "cluster = fsl.Cluster()\n",
    "cluster.inputs.in_file = in_file\n",
    "cluster.inputs.threshold = thresh\n",
    "cluster.inputs.pthreshold = p_thresh\n",
    "cluster.inputs.out_file = out_file"
   ],
   "metadata": {
    "collapsed": false
   }
  }
 ],
 "metadata": {
  "kernelspec": {
   "display_name": "Python 3",
   "language": "python",
   "name": "python3"
  },
  "language_info": {
   "codemirror_mode": {
    "name": "ipython",
    "version": 2
   },
   "file_extension": ".py",
   "mimetype": "text/x-python",
   "name": "python",
   "nbconvert_exporter": "python",
   "pygments_lexer": "ipython2",
   "version": "2.7.6"
  }
 },
 "nbformat": 4,
 "nbformat_minor": 0
}
