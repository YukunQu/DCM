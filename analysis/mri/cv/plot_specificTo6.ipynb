{
 "cells": [
  {
   "cell_type": "markdown",
   "source": [
    "## Plot hexagon modulation align EC mean orientation across 4-8 folds"
   ],
   "metadata": {
    "collapsed": false
   }
  },
  {
   "cell_type": "code",
   "execution_count": 93,
   "outputs": [],
   "source": [
    "import numpy as np\n",
    "import pandas as pd\n",
    "import seaborn as sns\n",
    "import matplotlib.pyplot as plt\n",
    "\n",
    "sns.set_style(\"white\")\n",
    "custom_params = {\"axes.spines.right\": False, \"axes.spines.top\": False}\n",
    "sns.set_theme(style=\"ticks\", rc=custom_params)\n",
    "#data = pd.read_csv(r'/mnt/workdir/DCM/Result/Specificity_to_6/nilearn_cv/sub_stats-z_roi-ec_trial-even.csv')\n",
    "data = pd.read_csv(r'/mnt/data/DCM/result_backup/2023.5.14/Nilearn/game1/cv_test_hexagon_spct/sub_stats-z_roi-ec_trial-even_anat_EC_thr0.csv')"
   ],
   "metadata": {
    "collapsed": false,
    "ExecuteTime": {
     "end_time": "2023-06-02T13:18:26.828280438Z",
     "start_time": "2023-06-02T13:18:26.809394129Z"
    }
   }
  },
  {
   "cell_type": "code",
   "execution_count": 94,
   "outputs": [],
   "source": [
    "# high performance filter\n",
    "participants_tsv = r'/mnt/workdir/DCM/BIDS/participants.tsv'\n",
    "participants_data = pd.read_csv(participants_tsv, sep='\\t')\n",
    "hp_info = participants_data.query(f'(game1_fmri>=0.5)and(game1_acc>0.8)')  # look out\n",
    "hp_sub = hp_info['Participant_ID'].to_list()\n",
    "data = data.loc[data['sub_id'].isin(hp_sub)]"
   ],
   "metadata": {
    "collapsed": false,
    "ExecuteTime": {
     "end_time": "2023-06-02T13:18:27.864714708Z",
     "start_time": "2023-06-02T13:18:27.828117571Z"
    }
   }
  },
  {
   "cell_type": "code",
   "execution_count": 95,
   "outputs": [
    {
     "data": {
      "text/plain": "<Figure size 432x432 with 1 Axes>",
      "image/png": "[encoded data removed]"
     },
     "metadata": {},
     "output_type": "display_data"
    }
   ],
   "source": [
    "fig, ax = plt.subplots(figsize=(6, 6))\n",
    "sns.barplot(x='ifold', y=\"statistic\", data=data, width=.5,\n",
    "            palette=[\"lightgray\", \"lightgray\", \"steelblue\", \"lightgray\", \"lightgray\"]\n",
    "            )\n",
    "sns.stripplot(x='ifold', y=\"statistic\", data=data, size=1.5, color='.01', linewidth=0,alpha=0.7)\n",
    "ax.tick_params(axis='both', length=0)\n",
    "x = [0,1,2,3,4]\n",
    "y = [0]*len(x)\n",
    "plt.plot(x, y, linestyle='--', color='black',alpha=0.6)\n",
    "plt.xticks(size=16)\n",
    "plt.xlabel('fold',size=16)\n",
    "plt.ylabel('Zscore')\n",
    "# remove the box lines of the axis\n",
    "ax.spines['top'].set_visible(False)\n",
    "ax.spines['right'].set_visible(False)\n",
    "ax.spines['bottom'].set_visible(False)\n",
    "ax.spines['left'].set_visible(False)\n",
    "\n",
    "# Add asterisks on top of each bar\n",
    "vmean = np.max(data['ifold']=='6fold')\n",
    "#ax.text(2, vmean+0.55, '***',ha='center', va='bottom',weight='bold',size=15)\n",
    "\n",
    "sub_num = len(set(data['sub_id']))\n",
    "plt.title(\"HP participants(num={})\".format(sub_num),size=16)\n",
    "#plt.savefig(r'/mnt/workdir/DCM/Result/Specificity_to_6/nilearn_cv/Specificity_to_6fold.svg',bbox_inches='tight',pad_inches=0,dpi=300,transparent=True)\n",
    "plt.show()"
   ],
   "metadata": {
    "collapsed": false,
    "ExecuteTime": {
     "end_time": "2023-06-02T13:18:29.519590477Z",
     "start_time": "2023-06-02T13:18:29.205989802Z"
    }
   }
  },
  {
   "cell_type": "code",
   "execution_count": 97,
   "outputs": [
    {
     "name": "stdout",
     "output_type": "stream",
     "text": [
      "one sample t-test for 4fold: pvalue=0.65603\n",
      "one sample t-test for 5fold: pvalue=0.17071\n",
      "one sample t-test for 6fold: pvalue=0.00107\n",
      "one sample t-test for 7fold: pvalue=0.02839\n",
      "one sample t-test for 8fold: pvalue=0.20216\n"
     ]
    }
   ],
   "source": [
    "from scipy.stats import ttest_1samp\n",
    "ifold_p = []\n",
    "for i in range(4,9):\n",
    "    ifold = str(i)+'fold'\n",
    "    fold6_act = data[data['ifold']==ifold]['statistic'].to_list()\n",
    "    #print(np.mean(fold6_act))\n",
    "    #print(np.std(fold6_act))\n",
    "    _,p = ttest_1samp(fold6_act,0,alternative='greater')\n",
    "    ifold_p.append(p)\n",
    "    p = round(p,5)\n",
    "    print('one sample t-test for {}fold: pvalue={}'.format(i,str(p).zfill(3)))"
   ],
   "metadata": {
    "collapsed": false,
    "ExecuteTime": {
     "end_time": "2023-06-02T13:18:54.400747171Z",
     "start_time": "2023-06-02T13:18:54.359610858Z"
    }
   }
  },
  {
   "cell_type": "code",
   "execution_count": 57,
   "outputs": [
    {
     "name": "stdout",
     "output_type": "stream",
     "text": [
      "pair t-test result: pvalue=0.106145\n"
     ]
    }
   ],
   "source": [
    "from scipy.stats import ttest_rel\n",
    "\n",
    "act1 = data[data['ifold']==\"6fold\"]['statistic'].to_list()\n",
    "act2 = data[data['ifold']==\"5fold\"]['statistic'].to_list()\n",
    "_,p = ttest_rel(act1,act2)\n",
    "p = round(p,6)\n",
    "print('pair t-test result: pvalue={}'.format(p))"
   ],
   "metadata": {
    "collapsed": false,
    "ExecuteTime": {
     "end_time": "2023-06-02T12:19:26.868298521Z",
     "start_time": "2023-06-02T12:19:26.859081216Z"
    }
   }
  },
  {
   "cell_type": "code",
   "execution_count": 1,
   "outputs": [
    {
     "ename": "ModuleNotFoundError",
     "evalue": "No module named 'circstat'",
     "output_type": "error",
     "traceback": [
      "\u001B[0;31m---------------------------------------------------------------------------\u001B[0m",
      "\u001B[0;31mModuleNotFoundError\u001B[0m                       Traceback (most recent call last)",
      "\u001B[0;32m<ipython-input-1-af3944082ca6>\u001B[0m in \u001B[0;36m<module>\u001B[0;34m\u001B[0m\n\u001B[0;32m----> 1\u001B[0;31m \u001B[0;32mfrom\u001B[0m \u001B[0mcircstat\u001B[0m \u001B[0;32mimport\u001B[0m \u001B[0mcircular_correlation\u001B[0m\u001B[0;34m\u001B[0m\u001B[0;34m\u001B[0m\u001B[0m\n\u001B[0m",
      "\u001B[0;31mModuleNotFoundError\u001B[0m: No module named 'circstat'"
     ]
    }
   ],
   "source": [
    "from circstat import circular_correlation"
   ],
   "metadata": {
    "collapsed": false,
    "ExecuteTime": {
     "end_time": "2023-08-09T08:29:08.949933836Z",
     "start_time": "2023-08-09T08:29:08.879220208Z"
    }
   }
  }
 ],
 "metadata": {
  "kernelspec": {
   "display_name": "Python 3",
   "language": "python",
   "name": "python3"
  },
  "language_info": {
   "codemirror_mode": {
    "name": "ipython",
    "version": 2
   },
   "file_extension": ".py",
   "mimetype": "text/x-python",
   "name": "python",
   "nbconvert_exporter": "python",
   "pygments_lexer": "ipython2",
   "version": "2.7.6"
  }
 },
 "nbformat": 4,
 "nbformat_minor": 0
}
