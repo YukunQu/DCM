{
 "cells": [
  {
   "cell_type": "markdown",
   "metadata": {},
   "source": [
    "# View"
   ]
  },
  {
   "cell_type": "code",
   "execution_count": 13,
   "metadata": {
    "scrolled": false
   },
   "outputs": [
    {
     "name": "stdout",
     "output_type": "stream",
     "text": [
      "1.9599639845400545\n"
     ]
    }
   ],
   "source": [
    "import pandas as pd\n",
    "from nilearn.image import load_img,math_img,threshold_img\n",
    "from nilearn.glm import threshold_stats_img\n",
    "from nilearn import plotting\n",
    "import matplotlib.pyplot as plt\n",
    "\n",
    "stat_map = load_img(r'/mnt/data/DCM/result_backup/2022.11.27/game1/separate_hexagon_2phases_correct_trials/Setall/6fold/group_nilearn/age/zstats_0011_Age_tmap.nii.gz')\n",
    "bg_img = load_img(r'/mnt/data/Template/tpl-MNI152NLin2009cAsym/tpl-MNI152NLin2009cAsym_res-01_desc-brain_T1w.nii.gz')\n",
    "#stat_map = math_img(\"np.where(img<0,0,img)\", img=stat_map)\n",
    "\n",
    "#stat_map = threshold_img(\n",
    "#    stat_map,\n",
    "#    threshold=2,\n",
    "#    cluster_threshold=120)\n",
    "\n",
    "thresholded_map1, threshold1 = threshold_stats_img(\n",
    "    stat_map,\n",
    "    alpha=0.05,\n",
    "    height_control='fpr',\n",
    "    cluster_threshold=700,\n",
    "    two_sided=True,\n",
    ")\n",
    "print(threshold1)\n",
    "v = plotting.view_img(stat_map_img=thresholded_map1,bg_img=bg_img,threshold=1.68,vmax=5,symmetric_cbar=0,black_bg=None,draw_cross=False)\n",
    "v.save_as_html(r'/mnt/data/DCM/result_backup/2022.11.27/game1/separate_hexagon_2phases_correct_trials/Setall/6fold/group_nilearn/age/zstats_0011_Age_tmap_fpr-0.05.html')"
   ]
  },
  {
   "cell_type": "markdown",
   "metadata": {},
   "source": [
    "# RSA-HP"
   ]
  },
  {
   "cell_type": "code",
   "execution_count": null,
   "metadata": {},
   "outputs": [],
   "source": [
    "from nilearn.plotting import plot_stat_map\n",
    "from nilearn.image import load_img, math_img, threshold_img\n",
    "import matplotlib.pyplot as plt\n",
    "\n",
    "fig,ax = plt.subplots(1,2,figsize=[20,7])\n",
    "stat_map = load_img(r'/mnt/data/DCM/result_backup/2023.1.2/game1/grid_rsa_8mm/Setall/6fold/group/hp-adult/2ndLevel/_contrast_id_rs-corr_ztransf_map_coarse_6fold/spmT_0001_thr.nii')\n",
    "#stat_map = math_img(\"np.where(img<0,0,img)\", img=stat_map)\n",
    "\n",
    "#stat_map = threshold_img(\n",
    "#    stat_map,\n",
    "#    threshold=2.3,\n",
    "#    cluster_threshold=30)\n",
    "\n",
    "plot_stat_map(stat_map_img=stat_map,bg_img=bg_img,cut_coords=[-20],threshold=2.3,vmax=5,symmetric_cbar=0,display_mode='x',black_bg=0,figure=fig,axes=ax[0],colorbar=False)\n",
    "plot_stat_map(stat_map_img=stat_map,bg_img=bg_img,cut_coords=[-8],threshold=2.3,vmax=5,symmetric_cbar=0,display_mode='y',black_bg=0,figure=fig,axes=ax[1],colorbar=True)\n",
    "#plot_stat_map(stat_map_img=stat_map,bg_img=bg_img,cut_coords=[6],threshold=2.3,vmax=5,symmetric_cbar=1,display_mode='y',black_bg=0,#figure=fig,axes=ax[4])\n",
    "plt.savefig(r\"/mnt/workdir/DCM/result/game1/RSA/game1-RSA_subject-hp.svg\",bbox_inches='tight',pad_inches=0,dpi=300)"
   ]
  },
  {
   "cell_type": "code",
   "execution_count": null,
   "outputs": [],
   "source": [
    "# distance whole brain\n",
    "from nilearn.plotting import plot_stat_map\n",
    "from nilearn.image import load_img, math_img, threshold_img\n",
    "import matplotlib.pyplot as plt\n",
    "\n",
    "fig,ax = plt.subplots(figsize=[10,7])\n",
    "stat_map = load_img(r'/mnt/data/DCM/result_backup/2022.12.28/distance/Setall/6fold/group/hp-adult/2ndLevel/_contrast_id_con_0005/spmT_0001_thr.nii')\n",
    "#stat_map = math_img(\"np.where(img<0,0,img)\", img=stat_map)\n",
    "\n",
    "#stat_map = threshold_img(\n",
    "#    stat_map,\n",
    "#    threshold=2.3,\n",
    "#    cluster_threshold=30)\n",
    "\n",
    "plot_stat_map(stat_map_img=stat_map,bg_img=bg_img,cut_coords=[-2],threshold=2.3,vmax=5,symmetric_cbar=0,display_mode='x',black_bg=0,figure=fig,axes=ax,colorbar=True)\n",
    "#plot_stat_map(stat_map_img=stat_map,bg_img=bg_img,cut_coords=[-8],threshold=2.3,vmax=5,symmetric_cbar=0,display_mode='y',\n",
    "#black_bg=0,figure=fig,axes=ax[1],colorbar=True)\n",
    "#plot_stat_map(stat_map_img=stat_map,bg_img=bg_img,cut_coords=[6],threshold=2.3,vmax=5,symmetric_cbar=1,display_mode='y',black_bg=0,#figure=fig,axes=ax[4])\n",
    "plt.savefig(r\"/mnt/workdir/DCM/result/game1/RSA/game1-distance_subject-hp2.svg\",bbox_inches='tight',pad_inches=0,dpi=300)"
   ],
   "metadata": {
    "collapsed": false
   }
  },
  {
   "cell_type": "code",
   "execution_count": null,
   "outputs": [],
   "source": [
    "# RSA-covariate-acc\n",
    "from nilearn.plotting import plot_stat_map\n",
    "from nilearn.image import load_img, math_img, threshold_img\n",
    "import matplotlib.pyplot as plt\n",
    "\n",
    "fig,ax = plt.subplots(1,3,figsize=[20,7])\n",
    "stat_map = load_img(r'/mnt/data/DCM/result_backup/2022.11.27/game1/separate_hexagon_2phases_correct_trials/Setall/6fold/group/covariates/age/2ndLevel/_contrast_id_ZF_0011/spmT_0002.nii')\n",
    "bg_img = load_img(r'/mnt/data/Template/tpl-MNI152NLin2009cAsym/tpl-MNI152NLin2009cAsym_res-01_desc-brain_T1w.nii.gz')\n",
    "#stat_map = math_img(\"np.where(img<0,0,img)\", img=stat_map)\n",
    "\n",
    "stat_map = threshold_img(\n",
    "    stat_map,\n",
    "    threshold=2.3,\n",
    "    cluster_threshold=72)\n",
    "\n",
    "plot_stat_map(stat_map_img=stat_map,bg_img=bg_img,cut_coords=[-10],threshold=2.3,vmax=5,symmetric_cbar=0,display_mode='x',black_bg=0,figure=fig,axes=ax[0],colorbar=False)\n",
    "stat_map = math_img(\"np.where(img<0,0,img)\", img=stat_map)\n",
    "plot_stat_map(stat_map_img=stat_map,bg_img=bg_img,cut_coords=[-12],threshold=2.3,vmax=5,symmetric_cbar=0,display_mode='y',black_bg=0,figure=fig,axes=ax[1],colorbar=False)\n",
    "plot_stat_map(stat_map_img=stat_map,bg_img=bg_img,cut_coords=[-18],threshold=2.3,vmax=5,symmetric_cbar=0,display_mode='z',black_bg=0,figure=fig,axes=ax[2],colorbar=True)\n",
    "plt.savefig(r\"/mnt/workdir/DCM/result/game1/RSA/game1-F-test_subject-all_covariate-age.svg\",bbox_inches='tight',pad_inches=0,dpi=300)"
   ],
   "metadata": {
    "collapsed": false
   }
  },
  {
   "cell_type": "code",
   "execution_count": null,
   "outputs": [],
   "source": [
    "from nilearn.glm import threshold_stats_img\n",
    "from nilearn.image import load_img\n",
    "stat_map = load_img(r'/mnt/workdir/DCM/BIDS/derivatives/Nipype/game1/separate_hexagon/Setall/group/covariates/acc/2ndLevel/_contrast_id_ZF_0006/spmT_0002.nii')\n",
    "#zmap = zscore_img(stat_map)\n",
    "thresholded_map2, threshold2 = threshold_stats_img(stat_map, alpha=0.05, height_control='fdr')\n",
    "print('The FDR=.05 threshold is %.3g' % threshold2)"
   ],
   "metadata": {
    "collapsed": false
   }
  },
  {
   "cell_type": "code",
   "execution_count": null,
   "outputs": [],
   "source": [
    "stat_map.get_fdata().max()"
   ],
   "metadata": {
    "collapsed": false
   }
  },
  {
   "cell_type": "markdown",
   "metadata": {},
   "source": [
    "# Mean_zmap of two data set"
   ]
  },
  {
   "cell_type": "code",
   "execution_count": null,
   "metadata": {
    "collapsed": true
   },
   "outputs": [],
   "source": [
    "import pandas as pd\n",
    "from nilearn.image import load_img,math_img\n",
    "from nilearn.plotting import view_img\n",
    "\n",
    "stat_map = load_img(r'/mnt/workdir/DCM/BIDS/derivatives/Nipype/game1/separate_hexagon/Setall/group/covariates/acc/2ndLevel/_contrast_id_ZF_0006/spmT_0002.nii')\n",
    "bg_img = load_img(r'/mnt/data/Template/tpl-MNI152NLin2009cAsym/tpl-MNI152NLin2009cAsym_res-01_desc-brain_T1w.nii.gz')\n",
    "#stat_map = math_img(\"np.where(img<0,0,img)\", img=stat_map)\n",
    "view_img(stat_map_img=stat_map,bg_img=bg_img,threshold=2.3,symmetric_cbar=0,black_bg=None)"
   ]
  },
  {
   "cell_type": "code",
   "execution_count": null,
   "metadata": {},
   "outputs": [],
   "source": [
    "from nilearn.image import mean_img\n",
    "zmaps = [r'D:\\Project\\Development cognitive map\\Result\\defROI\\set1\\hp\\2ndLevel\\_contrast_id_ZF_0011/ZT_0001.nii',\n",
    "         r'D:\\Project\\Development cognitive map\\Result\\defROI\\set2\\hp\\2ndLevel\\_contrast_id_ZF_0011/ZT_0001.nii']\n",
    "mean_zmap = mean_img(zmaps)\n",
    "mean_zmap_path = r'D:\\Project\\Development cognitive map\\Result\\defROI/mean_zmap_3.nii.gz'\n",
    "mean_zmap.to_filename(mean_zmap_path)"
   ]
  },
  {
   "cell_type": "code",
   "execution_count": null,
   "metadata": {
    "scrolled": true
   },
   "outputs": [],
   "source": [
    "import os\n",
    "import numpy as np\n",
    "from nilearn.image import load_img,math_img,new_img_like\n",
    "from  nilearn.masking import apply_mask\n",
    "\n",
    "def zscore_nii(source_dir,file,prefix):\n",
    "    filepath = os.path.join(source_dir,file)\n",
    "    mask = load_img(r'D:\\Project\\Common\\Template\\tpl-MNI152NLin2009cAsym\\tpl-MNI152NLin2009cAsym_res-02_desc-brain_mask.nii.gz')\n",
    "    #mask = load_img(r'/mnt/data/Template/tpl-MNI152NLin6Asym/tpl-MNI152NLin6Asym_res-02_desc-brain_mask.nii.gz')\n",
    "    fmap = load_img(filepath)\n",
    "    \n",
    "    fmap_mean = apply_mask(fmap, mask).mean()\n",
    "    fmap_std = apply_mask(fmap, mask).std()\n",
    "    fmap_zscore = math_img(\"(img- {})/{}\".format(fmap_mean,fmap_std),img=fmap)\n",
    "    \n",
    "    fmap_data = fmap_zscore.get_fdata()\n",
    "    mask_data = mask.get_fdata()\n",
    "    fmap_data[mask_data == 0] = np.float64('NaN')\n",
    "    map_zscore = new_img_like(fmap_zscore, fmap_data)\n",
    "    map_zscore.to_filename(os.path.join(source_dir,prefix+file[3:]))\n",
    "\n",
    "zscore_nii(r'D:\\Project\\Development cognitive map\\Result\\defROI\\set1\\hp\\2ndLevel\\_contrast_id_ZF_0011','spmT_0001.nii','Z')"
   ]
  }
 ],
 "metadata": {
  "kernelspec": {
   "display_name": "Python 3",
   "language": "python",
   "name": "python3"
  },
  "language_info": {
   "codemirror_mode": {
    "name": "ipython",
    "version": 3
   },
   "file_extension": ".py",
   "mimetype": "text/x-python",
   "name": "python",
   "nbconvert_exporter": "python",
   "pygments_lexer": "ipython3",
   "version": "3.8.8"
  }
 },
 "nbformat": 4,
 "nbformat_minor": 1
}
