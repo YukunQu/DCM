{
 "cells": [
  {
   "cell_type": "code",
   "execution_count": 1,
   "metadata": {
    "collapsed": true,
    "pycharm": {
     "name": "#%%\n"
    }
   },
   "outputs": [],
   "source": [
    "import numpy as np\n",
    "import pandas as pd\n",
    "from nilearn.image import load_img,resample_to_img,mean_img\n",
    "from nilearn.masking import apply_mask\n",
    "import statsmodels.api as sm"
   ]
  },
  {
   "cell_type": "markdown",
   "source": [
    "**提取个体ROI下EC 和VMPFC的激活，然后加上年龄和成绩，做一个中介分析**"
   ],
   "metadata": {
    "collapsed": false,
    "pycharm": {
     "name": "#%% md\n"
    }
   }
  },
  {
   "cell_type": "code",
   "execution_count": 56,
   "outputs": [],
   "source": [
    "# load participant information\n",
    "participants_tsv = r'/mnt/workdir/DCM/BIDS/participants.tsv'\n",
    "participants_data = pd.read_csv(participants_tsv,sep='\\t')\n",
    "data = participants_data.query('game1_fmri==1')  # look out\n",
    "subject = data['Participant_ID']\n",
    "sub_age = data['Age']  # age\n",
    "sub_acc = data['game1_acc']  # game1_acc\n",
    "\n",
    "# load activity of EC and vmPFC\n",
    "# EC\n",
    "sub_EC_activity = []\n",
    "for sub in subject:\n",
    "    sub = sub.replace('_','-')\n",
    "    roi = load_img(r'/mnt/workdir/DCM/BIDS/derivatives/Nipype/hexagon/defROI/None_test_func_roi_group.nii'.format(sub))\n",
    "    zmap = load_img(r'/mnt/workdir/DCM/BIDS/derivatives/Nipype/hexagon/specificTo6/training_set/trainsetall/6fold/{}/spmF_0004.nii'.format(sub))\n",
    "    roi = resample_to_img(roi, zmap,interpolation='nearest')\n",
    "    activity = np.nanmean(apply_mask(imgs=zmap,mask_img=roi))\n",
    "    sub_EC_activity.append(activity)\n",
    "\n",
    "# vmPFC\n",
    "sub_vmPFC_activity = []\n",
    "for sub in subject:\n",
    "    sub = sub.replace('_','-')\n",
    "    roi = load_img(r'/mnt/workdir/DCM/BIDS/derivatives/Nipype/hexagon/defROI/vmpfc/vmpfc_func_roi_group.nii'.format(sub))\n",
    "    zmap = load_img(r'/mnt/workdir/DCM/BIDS/derivatives/Nipype/hexagon/specificTo6/training_set/trainsetall/6fold/{}/ZF_0004.nii'.format(sub))\n",
    "    roi = resample_to_img(roi, zmap,interpolation='nearest')\n",
    "    activity = np.nanmean(apply_mask(imgs=zmap,mask_img=roi))\n",
    "    sub_vmPFC_activity.append(activity)"
   ],
   "metadata": {
    "collapsed": false,
    "pycharm": {
     "name": "#%%\n"
    }
   }
  },
  {
   "cell_type": "code",
   "execution_count": 58,
   "outputs": [
    {
     "name": "stdout",
     "output_type": "stream",
     "text": [
      "                            OLS Regression Results                            \n",
      "==============================================================================\n",
      "Dep. Variable:         vmPFC_activity   R-squared:                       0.105\n",
      "Model:                            OLS   Adj. R-squared:                  0.059\n",
      "Method:                 Least Squares   F-statistic:                     2.284\n",
      "Date:                Sat, 23 Apr 2022   Prob (F-statistic):              0.115\n",
      "Time:                        00:29:48   Log-Likelihood:                -66.928\n",
      "No. Observations:                  42   AIC:                             139.9\n",
      "Df Residuals:                      39   BIC:                             145.1\n",
      "Df Model:                           2                                         \n",
      "Covariance Type:            nonrobust                                         \n",
      "==============================================================================\n",
      "                 coef    std err          t      P>|t|      [0.025      0.975]\n",
      "------------------------------------------------------------------------------\n",
      "const         -0.3283      1.104     -0.297      0.768      -2.562       1.905\n",
      "Age            0.0769      0.039      1.974      0.056      -0.002       0.156\n",
      "game1_acc     -1.1056      1.985     -0.557      0.581      -5.121       2.909\n",
      "==============================================================================\n",
      "Omnibus:                       18.001   Durbin-Watson:                   1.765\n",
      "Prob(Omnibus):                  0.000   Jarque-Bera (JB):               22.927\n",
      "Skew:                           1.395   Prob(JB):                     1.05e-05\n",
      "Kurtosis:                       5.306   Cond. No.                         216.\n",
      "==============================================================================\n",
      "\n",
      "Notes:\n",
      "[1] Standard Errors assume that the covariance matrix of the errors is correctly specified.\n"
     ]
    },
    {
     "name": "stderr",
     "output_type": "stream",
     "text": [
      "<ipython-input-58-b2bf70ee23bb>:2: SettingWithCopyWarning: \n",
      "A value is trying to be set on a copy of a slice from a DataFrame.\n",
      "Try using .loc[row_indexer,col_indexer] = value instead\n",
      "\n",
      "See the caveats in the documentation: https://pandas.pydata.org/pandas-docs/stable/user_guide/indexing.html#returning-a-view-versus-a-copy\n",
      "  data['EC_activity'] = sub_EC_activity\n",
      "<ipython-input-58-b2bf70ee23bb>:3: SettingWithCopyWarning: \n",
      "A value is trying to be set on a copy of a slice from a DataFrame.\n",
      "Try using .loc[row_indexer,col_indexer] = value instead\n",
      "\n",
      "See the caveats in the documentation: https://pandas.pydata.org/pandas-docs/stable/user_guide/indexing.html#returning-a-view-versus-a-copy\n",
      "  data['vmPFC_activity'] = sub_vmPFC_activity\n",
      "<ipython-input-58-b2bf70ee23bb>:4: SettingWithCopyWarning: \n",
      "A value is trying to be set on a copy of a slice from a DataFrame.\n",
      "Try using .loc[row_indexer,col_indexer] = value instead\n",
      "\n",
      "See the caveats in the documentation: https://pandas.pydata.org/pandas-docs/stable/user_guide/indexing.html#returning-a-view-versus-a-copy\n",
      "  data['training_acc'] = (data['train_ap'] + data['train_dp'])/2\n"
     ]
    },
    {
     "data": {
      "text/plain": "SpearmanrResult(correlation=0.03290646879574268, pvalue=0.8361048489565979)"
     },
     "execution_count": 58,
     "metadata": {},
     "output_type": "execute_result"
    },
    {
     "data": {
      "text/plain": "<Figure size 432x288 with 1 Axes>",
      "image/png": "[encoded data removed]"
     },
     "metadata": {},
     "output_type": "display_data"
    }
   ],
   "source": [
    "# mediation analysis\n",
    "data['EC_activity'] = sub_EC_activity\n",
    "data['vmPFC_activity'] = sub_vmPFC_activity\n",
    "data['training_acc'] = (data['train_ap'] + data['train_dp'])/2\n",
    "X = data[['Age','game1_acc']]\n",
    "Y = data['vmPFC_activity']\n",
    "\n",
    "X = sm.add_constant(X)\n",
    "model = sm.OLS(Y, X).fit()\n",
    "predictions = model.predict(X)\n",
    "model_summary = model.summary()\n",
    "print(model_summary)\n",
    "import matplotlib.pyplot as plt\n",
    "import seaborn as sns\n",
    "\n",
    "sns.scatterplot(data=data,x='game1_acc',y='EC_activity')\n",
    "\"\"\"\n",
    "import statsmodels.api as sm\n",
    "from statsmodels.stats.mediation import Mediation\n",
    "import statsmodels.genmod.families.links as links\n",
    "probit = links.probit\n",
    "outcome_model = sm.GLM.from_formula(\"game1_acc ~ vmPFC_activity + Age \",data, family=sm.families.Binomial(link=probit()))\n",
    "mediator_model = sm.OLS.from_formula(\"vmPFC_activity ~ Age\", data)\n",
    "med = Mediation(outcome_model, mediator_model, \"Age\", \"vmPFC_activity\").fit()\n",
    "print(med.summary())\n",
    "\"\"\"\n",
    "from scipy.stats import spearmanr\n",
    "spearmanr(data['game1_acc'],data['EC_activity'])"
   ],
   "metadata": {
    "collapsed": false,
    "pycharm": {
     "name": "#%%\n"
    }
   }
  },
  {
   "cell_type": "markdown",
   "source": [
    "**提取Park's ROI下EC 和VMPFC的激活，然后加上年龄和成绩，做一个中介分析**"
   ],
   "metadata": {
    "collapsed": false,
    "pycharm": {
     "name": "#%% md\n"
    }
   }
  },
  {
   "cell_type": "code",
   "execution_count": 63,
   "outputs": [],
   "source": [
    "# load participant information\n",
    "participants_tsv = r'/mnt/workdir/DCM/BIDS/participants.tsv'\n",
    "participants_data = pd.read_csv(participants_tsv,sep='\\t')\n",
    "data = participants_data.query('game1_fmri==1')  # look out\n",
    "subject = data['Participant_ID']\n",
    "sub_age = data['Age']  # age\n",
    "sub_acc = data['game1_acc']  # game1_acc\n",
    "\n",
    "# load activity of EC and vmPFC\n",
    "# EC\n",
    "sub_EC_activity = []\n",
    "for sub in subject:\n",
    "    sub = sub.replace('_','-')\n",
    "    roi = load_img(r'/mnt/workdir/DCM/BIDS/derivatives/Nipype/hexagon/defROI/EC_func_roi_group.nii')\n",
    "    zmap = load_img(r'/mnt/workdir/DCM/BIDS/derivatives/Nipype/hexagon/specificTo6/training_set/trainsetall/6fold/{}/ZF_0004.nii'.format(sub))\n",
    "    roi = resample_to_img(roi, zmap,interpolation='nearest')\n",
    "    activity = np.nanmean(apply_mask(imgs=zmap,mask_img=roi))\n",
    "    sub_EC_activity.append(activity)\n",
    "\n",
    "# vmPFC\n",
    "sub_vmPFC_activity = []\n",
    "for sub in subject:\n",
    "    sub = sub.replace('_','-')\n",
    "    roi = load_img(r'/mnt/workdir/DCM/BIDS/derivatives/Nipype/hexagon/defROI/vmpfc_func_roi_group.nii')\n",
    "    zmap = load_img(r'/mnt/workdir/DCM/BIDS/derivatives/Nipype/hexagon/specificTo6/training_set/trainsetall/6fold/{}/ZF_0004.nii'.format(sub))\n",
    "    roi = resample_to_img(roi, zmap,interpolation='nearest')\n",
    "    activity = np.nanmean(apply_mask(imgs=zmap,mask_img=roi))\n",
    "    sub_vmPFC_activity.append(activity)"
   ],
   "metadata": {
    "collapsed": false,
    "pycharm": {
     "name": "#%%\n"
    }
   }
  },
  {
   "cell_type": "code",
   "execution_count": 65,
   "outputs": [
    {
     "name": "stderr",
     "output_type": "stream",
     "text": [
      "/home/dell/Software/anaconda3/lib/python3.8/site-packages/pandas/core/indexing.py:1676: SettingWithCopyWarning: \n",
      "A value is trying to be set on a copy of a slice from a DataFrame.\n",
      "Try using .loc[row_indexer,col_indexer] = value instead\n",
      "\n",
      "See the caveats in the documentation: https://pandas.pydata.org/pandas-docs/stable/user_guide/indexing.html#returning-a-view-versus-a-copy\n",
      "  self._setitem_single_column(ilocs[0], value, pi)\n"
     ]
    },
    {
     "name": "stdout",
     "output_type": "stream",
     "text": [
      "                            OLS Regression Results                            \n",
      "==============================================================================\n",
      "Dep. Variable:              game1_acc   R-squared:                       0.104\n",
      "Model:                            OLS   Adj. R-squared:                  0.082\n",
      "Method:                 Least Squares   F-statistic:                     4.659\n",
      "Date:                Sat, 23 Apr 2022   Prob (F-statistic):             0.0370\n",
      "Time:                        01:58:00   Log-Likelihood:                 31.291\n",
      "No. Observations:                  42   AIC:                            -58.58\n",
      "Df Residuals:                      40   BIC:                            -55.11\n",
      "Df Model:                           1                                         \n",
      "Covariance Type:            nonrobust                                         \n",
      "===============================================================================\n",
      "                  coef    std err          t      P>|t|      [0.025      0.975]\n",
      "-------------------------------------------------------------------------------\n",
      "const           0.6994      0.019     36.317      0.000       0.660       0.738\n",
      "EC_activity     0.0583      0.027      2.158      0.037       0.004       0.113\n",
      "==============================================================================\n",
      "Omnibus:                        2.750   Durbin-Watson:                   2.207\n",
      "Prob(Omnibus):                  0.253   Jarque-Bera (JB):                1.673\n",
      "Skew:                          -0.229   Prob(JB):                        0.433\n",
      "Kurtosis:                       2.136   Cond. No.                         1.63\n",
      "==============================================================================\n",
      "\n",
      "Notes:\n",
      "[1] Standard Errors assume that the covariance matrix of the errors is correctly specified.\n"
     ]
    },
    {
     "data": {
      "text/plain": "                   path      coef        se      pval  CI[2.5%]  CI[97.5%]  \\\n0               Age ~ X  1.869425  0.883951  0.040722  0.082894   3.655956   \n1       EC_activity ~ X -0.094540  0.100151  0.350851 -0.296954   0.107873   \n2               Y ~ Age  0.011871  0.002288  0.000007  0.007243   0.016499   \n3       Y ~ EC_activity  0.056116  0.021061  0.011156  0.013516   0.098716   \n4                 Total  0.003470  0.018284  0.850450 -0.033483   0.040422   \n5                Direct -0.015322  0.014386  0.293558 -0.044445   0.013801   \n6          Indirect Age  0.023749  0.014316  0.064000  0.001169   0.055310   \n7  Indirect EC_activity -0.004957  0.004557  0.220000 -0.016413   0.002234   \n\n   sig  \n0  Yes  \n1   No  \n2  Yes  \n3  Yes  \n4   No  \n5   No  \n6   No  \n7   No  ",
      "text/html": "<div>\n<style scoped>\n    .dataframe tbody tr th:only-of-type {\n        vertical-align: middle;\n    }\n\n    .dataframe tbody tr th {\n        vertical-align: top;\n    }\n\n    .dataframe thead th {\n        text-align: right;\n    }\n</style>\n<table border=\"1\" class=\"dataframe\">\n  <thead>\n    <tr style=\"text-align: right;\">\n      <th></th>\n      <th>path</th>\n      <th>coef</th>\n      <th>se</th>\n      <th>pval</th>\n      <th>CI[2.5%]</th>\n      <th>CI[97.5%]</th>\n      <th>sig</th>\n    </tr>\n  </thead>\n  <tbody>\n    <tr>\n      <th>0</th>\n      <td>Age ~ X</td>\n      <td>1.869425</td>\n      <td>0.883951</td>\n      <td>0.040722</td>\n      <td>0.082894</td>\n      <td>3.655956</td>\n      <td>Yes</td>\n    </tr>\n    <tr>\n      <th>1</th>\n      <td>EC_activity ~ X</td>\n      <td>-0.094540</td>\n      <td>0.100151</td>\n      <td>0.350851</td>\n      <td>-0.296954</td>\n      <td>0.107873</td>\n      <td>No</td>\n    </tr>\n    <tr>\n      <th>2</th>\n      <td>Y ~ Age</td>\n      <td>0.011871</td>\n      <td>0.002288</td>\n      <td>0.000007</td>\n      <td>0.007243</td>\n      <td>0.016499</td>\n      <td>Yes</td>\n    </tr>\n    <tr>\n      <th>3</th>\n      <td>Y ~ EC_activity</td>\n      <td>0.056116</td>\n      <td>0.021061</td>\n      <td>0.011156</td>\n      <td>0.013516</td>\n      <td>0.098716</td>\n      <td>Yes</td>\n    </tr>\n    <tr>\n      <th>4</th>\n      <td>Total</td>\n      <td>0.003470</td>\n      <td>0.018284</td>\n      <td>0.850450</td>\n      <td>-0.033483</td>\n      <td>0.040422</td>\n      <td>No</td>\n    </tr>\n    <tr>\n      <th>5</th>\n      <td>Direct</td>\n      <td>-0.015322</td>\n      <td>0.014386</td>\n      <td>0.293558</td>\n      <td>-0.044445</td>\n      <td>0.013801</td>\n      <td>No</td>\n    </tr>\n    <tr>\n      <th>6</th>\n      <td>Indirect Age</td>\n      <td>0.023749</td>\n      <td>0.014316</td>\n      <td>0.064000</td>\n      <td>0.001169</td>\n      <td>0.055310</td>\n      <td>No</td>\n    </tr>\n    <tr>\n      <th>7</th>\n      <td>Indirect EC_activity</td>\n      <td>-0.004957</td>\n      <td>0.004557</td>\n      <td>0.220000</td>\n      <td>-0.016413</td>\n      <td>0.002234</td>\n      <td>No</td>\n    </tr>\n  </tbody>\n</table>\n</div>"
     },
     "execution_count": 65,
     "metadata": {},
     "output_type": "execute_result"
    },
    {
     "data": {
      "text/plain": "<Figure size 432x288 with 1 Axes>",
      "image/png": "[encoded data removed]"
     },
     "metadata": {},
     "output_type": "display_data"
    }
   ],
   "source": [
    "# mediation analysis\n",
    "data.loc[:,'EC_activity'] = sub_EC_activity\n",
    "data.loc[:,'vmPFC_activity'] = sub_vmPFC_activity\n",
    "data.loc[:,'training_acc'] = (data['train_ap'] + data['train_dp'])/2\n",
    "data.loc[:,'Age'] = data['Age'] - data['Age'].mean()\n",
    "X = data[['EC_activity']]\n",
    "Y = data['game1_acc']\n",
    "\n",
    "X = sm.add_constant(X)\n",
    "model = sm.OLS(Y, X).fit()\n",
    "predictions = model.predict(X)\n",
    "model_summary = model.summary()\n",
    "print(model_summary)\n",
    "import matplotlib.pyplot as plt\n",
    "import seaborn as sns\n",
    "\n",
    "sns.scatterplot(data=data,x='vmPFC_activity',y='game1_acc')\n",
    "\n",
    "from pingouin import mediation_analysis\n",
    "mediation_analysis(data=data, x='vmPFC_activity', m=['Age','EC_activity'], y='game1_acc', alpha=0.05,\n",
    "                   seed=42)"
   ],
   "metadata": {
    "collapsed": false,
    "pycharm": {
     "name": "#%%\n"
    }
   }
  },
  {
   "cell_type": "markdown",
   "source": [
    "**extract the align phi result**"
   ],
   "metadata": {
    "collapsed": false,
    "pycharm": {
     "name": "#%% md\n"
    }
   }
  },
  {
   "cell_type": "code",
   "execution_count": 36,
   "outputs": [
    {
     "name": "stderr",
     "output_type": "stream",
     "text": [
      "/home/dell/Software/anaconda3/lib/python3.8/site-packages/pandas/core/indexing.py:1597: SettingWithCopyWarning: \n",
      "A value is trying to be set on a copy of a slice from a DataFrame.\n",
      "Try using .loc[row_indexer,col_indexer] = value instead\n",
      "\n",
      "See the caveats in the documentation: https://pandas.pydata.org/pandas-docs/stable/user_guide/indexing.html#returning-a-view-versus-a-copy\n",
      "  self.obj[key] = value\n",
      "/home/dell/Software/anaconda3/lib/python3.8/site-packages/pandas/core/indexing.py:1676: SettingWithCopyWarning: \n",
      "A value is trying to be set on a copy of a slice from a DataFrame.\n",
      "Try using .loc[row_indexer,col_indexer] = value instead\n",
      "\n",
      "See the caveats in the documentation: https://pandas.pydata.org/pandas-docs/stable/user_guide/indexing.html#returning-a-view-versus-a-copy\n",
      "  self._setitem_single_column(ilocs[0], value, pi)\n"
     ]
    }
   ],
   "source": [
    "# load participant information\n",
    "participants_tsv = r'/mnt/workdir/DCM/BIDS/participants.tsv'\n",
    "participants_data = pd.read_csv(participants_tsv,sep='\\t')\n",
    "data = participants_data.query('game1_fmri==1')  # look out\n",
    "subject = data['Participant_ID']\n",
    "sub_age = data['Age']  # age\n",
    "sub_acc = data['game1_acc']  # game1_acc\n",
    "\n",
    "# load activity of EC and vmPFC\n",
    "# EC\n",
    "sub_EC_activity = []\n",
    "for sub in subject:\n",
    "    sub = sub.replace('_','-')\n",
    "    roi = load_img(r'/mnt/workdir/DCM/BIDS/derivatives/Nipype/hexagon/defROI/EC/{}_EC_func_roi.nii'.format(sub))\n",
    "    img1 = load_img(r'/mnt/workdir/DCM/BIDS/derivatives/Nipype/hexagon/specificTo6/test_set/EC/testset1/6fold/{}/spmT_0001.nii'.format(sub))\n",
    "    img2 = load_img(r'/mnt/workdir/DCM/BIDS/derivatives/Nipype/hexagon/specificTo6/test_set/EC/testset2/6fold/{}/spmT_0001.nii'.format(sub))\n",
    "    mimg = mean_img([img1,img2])\n",
    "    roi = resample_to_img(roi, mimg,interpolation='nearest')\n",
    "    activity = np.nanmean(apply_mask(imgs=mimg,mask_img=roi))\n",
    "    sub_EC_activity.append(activity)\n",
    "\n",
    "# vmPFC\n",
    "sub_vmPFC_activity = []\n",
    "for sub in subject:\n",
    "    sub = sub.replace('_','-')\n",
    "    roi = load_img(r'/mnt/workdir/DCM/BIDS/derivatives/Nipype/hexagon/defROI/vmpfc/{}_vmpfc_func_roi.nii'.format(sub))\n",
    "    img1 = load_img(r'/mnt/workdir/DCM/BIDS/derivatives/Nipype/hexagon/specificTo6/test_set/EC/testset1/6fold/{}/spmT_0001.nii'.format(sub))\n",
    "    img2 = load_img(r'/mnt/workdir/DCM/BIDS/derivatives/Nipype/hexagon/specificTo6/test_set/EC/testset2/6fold/{}/spmT_0001.nii'.format(sub))\n",
    "    mimg = mean_img([img1,img2])\n",
    "    roi = resample_to_img(roi, mimg,interpolation='nearest')\n",
    "    activity = np.nanmean(apply_mask(imgs=mimg,mask_img=roi))\n",
    "    sub_vmPFC_activity.append(activity)\n",
    "\n",
    "data.loc[:,'EC_activity'] = sub_EC_activity\n",
    "data.loc[:,'vmPFC_activity'] = sub_vmPFC_activity\n",
    "data.loc[:,'training_acc'] = (data['train_ap'] + data['train_dp'])/2"
   ],
   "metadata": {
    "collapsed": false,
    "pycharm": {
     "name": "#%%\n"
    }
   }
  },
  {
   "cell_type": "code",
   "execution_count": 51,
   "outputs": [
    {
     "data": {
      "text/plain": "<AxesSubplot:xlabel='game1_acc', ylabel='vmPFC_activity'>"
     },
     "execution_count": 51,
     "metadata": {},
     "output_type": "execute_result"
    },
    {
     "data": {
      "text/plain": "<Figure size 432x288 with 1 Axes>",
      "image/png": "[encoded data removed]"
     },
     "metadata": {},
     "output_type": "display_data"
    }
   ],
   "source": [
    "sns.scatterplot(data=data,x='game1_acc',y='vmPFC_activity')"
   ],
   "metadata": {
    "collapsed": false,
    "pycharm": {
     "name": "#%%\n"
    }
   }
  }
 ],
 "metadata": {
  "kernelspec": {
   "display_name": "Python 3",
   "language": "python",
   "name": "python3"
  },
  "language_info": {
   "codemirror_mode": {
    "name": "ipython",
    "version": 2
   },
   "file_extension": ".py",
   "mimetype": "text/x-python",
   "name": "python",
   "nbconvert_exporter": "python",
   "pygments_lexer": "ipython2",
   "version": "2.7.6"
  }
 },
 "nbformat": 4,
 "nbformat_minor": 0
}