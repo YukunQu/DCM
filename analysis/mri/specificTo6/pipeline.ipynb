{
 "cells": [
  {
   "cell_type": "markdown",
   "metadata": {
    "collapsed": true,
    "pycharm": {
     "name": "#%% md\n"
    }
   },
   "source": [
    "# Pipeline\n",
    "\n",
    "### 1. Define ROI\n",
    "\n",
    "1. 1stLevel_defROI: using all game1 runs of each subject to execute F-test analysis(cos(6*theta) + sin(6*theta))\n",
    "2. 2ndLeven_defROI: using adult/high performance/all subjects data to execute 2nd one-sample t-test\n",
    "3. makeMask: find maximum activities voxels of 2nd t-test map in previous ROI to define target ROIs(EC and vmPFC)\n",
    "\n"
   ]
  },
  {
   "cell_type": "markdown",
   "metadata": {
    "pycharm": {
     "name": "#%% md\n"
    }
   },
   "source": [
    "### 2. Estimate Phi using a cross-validation approach\n",
    "\n",
    "1. 1stLevel_estPhi: split 6 runs of game1 into 2 training set to execute F-test analysis(cos(ifold * theta) + sin(ifold * theta)) separately.\n",
    "\n",
    "2. estPhi:\n",
    "    - estimate Phi from sin_beta_map, cos_beta_map of two training sets separately.\n",
    "    - output: train_set1_phi.csv train_set2_phi.csv\n",
    "\n",
    "\n",
    "3. testPhi_Event: generate the align phi event files according to Phi estimated from different ifold model.\n",
    "\n",
    "4. 1stLevel_alignPhi: test beta effect of cos6*(theat-Phi) cross the different ifold.\n",
    "\n",
    "5. extractBeta： extract beta in target ROI across different subjects across different ifold.\n",
    "                 output: sub_id ifold ec_beta vmpfc_beta\n",
    "\n",
    "6. plot 5   x= ifold, y= ec_beta / vmpfc_beta"
   ]
  }
 ],
 "metadata": {
  "kernelspec": {
   "display_name": "Python 3",
   "language": "python",
   "name": "python3"
  },
  "language_info": {
   "codemirror_mode": {
    "name": "ipython",
    "version": 3
   },
   "file_extension": ".py",
   "mimetype": "text/x-python",
   "name": "python",
   "nbconvert_exporter": "python",
   "pygments_lexer": "ipython3",
   "version": "3.8.8"
  }
 },
 "nbformat": 4,
 "nbformat_minor": 1
}