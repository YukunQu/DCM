{
 "cells": [
  {
   "cell_type": "markdown",
   "metadata": {
    "collapsed": true,
    "pycharm": {
     "name": "#%% md\n"
    }
   },
   "source": [
    "# Whole brian analysis\n",
    "\n",
    "\n"
   ]
  },
  {
   "cell_type": "markdown",
   "source": [
    "# ROI analysis\n",
    "\n",
    "1. Define ROI:\n",
    "- Execute F-test analysis(cos(6*theta) + sin(6*theta)) across 6 run for each subject —> con_sin.nii, con_cos.nii, Ftest.nii\n",
    "- Zscore the F-test result\n",
    "- Define ROI: find the peak voxel in prior EC ROI in Ftest result for each subject, and use it as seed point to generate a 5 mm sphere ROI\n",
    "\n",
    "2. Estimate mean orientation from two training dataset:\n",
    "- Execute F-test analysis of different i-fold for two training dataset —> con_sin.nii, con_cos.nii, Ftest.nii\n",
    "- Masking cmap: use a 2mm whole-brain mask to exclude the signal out of the brain\n",
    "- Estimate mean orientation of target ROI from step-1\n",
    "\n",
    "3. Test the hexagonal modulation effect of different fold for test sets\n",
    "- 1st_level alignPhi analysis\n",
    "- Zscore the contrast map\n",
    "- 2nd_level group analysis\n",
    "\n",
    "4. Plot the specificity of 6 fold effect"
   ],
   "metadata": {
    "collapsed": false,
    "pycharm": {
     "name": "#%% md\n"
    }
   }
  },
  {
   "cell_type": "markdown",
   "source": [
    "# Game2 analysis\n",
    "\n",
    "### Mean orientation change\n",
    "##### Method1:\n",
    "\n",
    "1. Estimate mean orientation from game 1\n",
    "- Execute F-test analysis(cos(6*theta) + sin(6*theta)) across 6 run for each subject —> con_sin.nii, con_cos.nii, Ftest.nii\n",
    "- Masking cmap: use a 2mm whole-brain mask to exclude the signal out of the brain for those contrast images\n",
    "- Define ROI: find the peak voxel in prior EC ROI in Ftest result for each subject, and use it as seed point to generate a 5 mm sphere ROI\n",
    "- Estimate mean orientation of target ROI based on the masked_con_sin.nii and masked_con_cos.nii\n",
    "\n",
    "2. Generate game2's event files\n",
    "- using the mean orientation from game1 to generate the game2's event files\n",
    "\n",
    "3. Detect game2's hexagonal modulation effect in alignment of game1's mean orientation\n",
    "- 1st_level alignPhi analysis\n",
    "- 2nd_level group analysis\n",
    "\n",
    "##### Method2:\n",
    "1. Estimate mean orientation from game 1\n",
    "- 1st Level analysis across 6 run for each subject —> con_sin.nii, con_cos.nii, Ftest.nii\n",
    "- masking cmap: use a 2mm whole-brain mask to exclude the signal out of the brain for those contrast images\n",
    "- define ROI: find the peak voxel in prior EC ROI in Ftest result for each subject, and use it as seed point to generate a 5 mm sphere ROI\n",
    "- estimate mean orientation of target ROI based on the masked_con_sin.nii and masked_con_cos.nii\n",
    "\n",
    "2. Estimate mean orientation from game 2\n",
    "- 1st Level analysis across 2 run for each subject —> con_sin.nii, con_cos.nii, Ftest.nii\n",
    "- masking cmap: use a 2mm whole-brain mask to exclude the signal out of the brain for those contrast images\n",
    "- define ROI: find the peak voxel in prior EC ROI in Ftest result for each subject, and use it as seed point to generate a 5 mm sphere ROI\n",
    "- estimate mean orientation of target ROI based on the masked_con_sin.nii and masked_con_cos.nii\n",
    "\n",
    "3. Compare the difference between the two mean orientations estimated from game1 and game2\n",
    "\n",
    "### RSA"
   ],
   "metadata": {
    "collapsed": false,
    "pycharm": {
     "name": "#%% md\n"
    }
   }
  },
  {
   "cell_type": "markdown",
   "metadata": {
    "pycharm": {
     "name": "#%% md\n"
    }
   },
   "source": []
  }
 ],
 "metadata": {
  "kernelspec": {
   "display_name": "Python 3",
   "language": "python",
   "name": "python3"
  },
  "language_info": {
   "codemirror_mode": {
    "name": "ipython",
    "version": 3
   },
   "file_extension": ".py",
   "mimetype": "text/x-python",
   "name": "python",
   "nbconvert_exporter": "python",
   "pygments_lexer": "ipython3",
   "version": "3.8.8"
  }
 },
 "nbformat": 4,
 "nbformat_minor": 1
}