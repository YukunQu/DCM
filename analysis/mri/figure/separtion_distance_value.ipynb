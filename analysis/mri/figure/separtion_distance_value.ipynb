{
 "cells": [
  {
   "cell_type": "code",
   "execution_count": 1,
   "outputs": [
    {
     "name": "stderr",
     "output_type": "stream",
     "text": [
      "<ipython-input-1-5b30190e18a4>:11: MatplotlibDeprecationWarning: The seaborn styles shipped by Matplotlib are deprecated since 3.6, as they no longer correspond to the styles shipped by seaborn. However, they will remain available as 'seaborn-v0_8-<style>'. Alternatively, directly use the seaborn API instead.\n",
      "  plt.style.use('seaborn-pastel')\n"
     ]
    }
   ],
   "source": [
    "import numpy as np\n",
    "import pandas as pd\n",
    "from nilearn import masking, image\n",
    "from scipy.stats import ttest_1samp, pearsonr,ttest_ind,ttest_rel\n",
    "import statsmodels.api as sm\n",
    "\n",
    "import statsmodels.formula.api as smf\n",
    "import seaborn as sns\n",
    "import matplotlib\n",
    "import matplotlib.pyplot as plt\n",
    "plt.style.use('seaborn-pastel')\n",
    "sns.set_style('white')\n",
    "matplotlib.rcParams['pdf.fonttype'] = 42\n",
    "matplotlib.rcParams['ps.fonttype'] = 42\n",
    "plt.rcParams.update({'font.size': 16})"
   ],
   "metadata": {
    "collapsed": false,
    "ExecuteTime": {
     "end_time": "2023-05-31T03:02:45.579768395Z",
     "start_time": "2023-05-31T03:02:45.016877495Z"
    }
   }
  },
  {
   "cell_type": "code",
   "execution_count": 40,
   "outputs": [],
   "source": [
    "# specify subjects\n",
    "participants_tsv = r'/mnt/workdir/DCM/BIDS/participants.tsv'\n",
    "participants_data = pd.read_csv(participants_tsv, sep='\\t')\n",
    "participants_data =  participants_data.query(\"(game1_fmri>=0.5)\")\n",
    "subjects_id = participants_data['Participant_ID'].to_list()\n",
    "\n",
    "# set cmp template\n",
    "distance_cmap = r'/mnt/data/DCM/result_backup/2023.5.14/Nilearn/game1/distance_spct/Setall/6fold/{}/cmap/{}_corrxdistance_cmap.nii.gz'\n",
    "value_cmap = r'/mnt/data/DCM/result_backup/2023.5.14/Nilearn/game1/value_spct/Setall/6fold/{}/cmap/value_cmap.nii.gz'\n",
    "\n",
    "# set subjects cmap path\n",
    "subs_distance = [distance_cmap.format(sub, 'M2') for sub in subjects_id]\n",
    "subs_decision_distance = [distance_cmap.format(sub, 'decision') for sub in subjects_id]\n",
    "subs_value = [value_cmap.format(sub) for sub in subjects_id]\n",
    "\n",
    "# set roi\n",
    "dmpfc = image.load_img(r'/mnt/workdir/DCM/Docs/Mask/dmPFC/dmPFC_distance.nii.gz')\n",
    "vmpfc = image.load_img(r'/mnt/workdir/DCM/Docs/Mask/VMPFC/vmPFC_value.nii.gz')\n",
    "# roi1 = image.load_img(r'/mnt/data/DCM/tmp/aparc/mask/lh.lateralorbitofrontal.nii.gz')\n",
    "# roi2 = image.load_img(r'/mnt/data/DCM/tmp/aparc/mask/rh.lateralorbitofrontal.nii.gz')\n",
    "# lofc = image.math_img('np.logical_or(img1,img2)', img1=roi1, img2=roi2)\n",
    "\n",
    "# extract mean activity of ROI for each subjects\n",
    "data = pd.DataFrame()\n",
    "for effect in ['distance','value']:\n",
    "    for roi_name in ['vmpfc','dmpfc']:\n",
    "        #for onset in ['M2','decision']:\n",
    "            subs_cmap = eval(f'subs_{effect}')\n",
    "            roi = eval(roi_name)\n",
    "            act = np.mean(masking.apply_mask(subs_cmap,roi), axis=1)\n",
    "            data = data.append(pd.DataFrame({'sub':subjects_id,'act':act,'effect':effect,'ROI':roi_name,'onset':onset}))"
   ],
   "metadata": {
    "collapsed": false,
    "ExecuteTime": {
     "end_time": "2023-05-24T08:07:44.998372767Z",
     "start_time": "2023-05-24T08:06:37.610522722Z"
    }
   }
  },
  {
   "cell_type": "code",
   "execution_count": 41,
   "outputs": [
    {
     "data": {
      "text/plain": "<Figure size 582.5x504 with 1 Axes>",
      "image/png": "[encoded data removed]"
     },
     "metadata": {
      "needs_background": "light"
     },
     "output_type": "display_data"
    }
   ],
   "source": [
    "def p2sign(p):\n",
    "    if  p<=0.001:\n",
    "        sign='***'\n",
    "    elif p<=0.01:\n",
    "        sign='**'\n",
    "    elif p<=0.05:\n",
    "        sign='*'\n",
    "    else:\n",
    "        sign='n.s.'\n",
    "    return sign\n",
    "\n",
    "# create the bar plot using seaborn\n",
    "g = sns.catplot(x=\"ROI\", y=\"act\", hue=\"effect\",\n",
    "                data=data, kind=\"bar\", errorbar='se', height=7)\n",
    "# set the title of the plot\n",
    "plt.subplots_adjust(top=0.8)\n",
    "plt.suptitle('ROI Effect on Distance and Value')\n",
    "\n",
    "plt.show()"
   ],
   "metadata": {
    "collapsed": false,
    "ExecuteTime": {
     "end_time": "2023-05-24T08:07:49.364962269Z",
     "start_time": "2023-05-24T08:07:49.113470975Z"
    }
   }
  },
  {
   "cell_type": "code",
   "execution_count": 42,
   "outputs": [
    {
     "name": "stdout",
     "output_type": "stream",
     "text": [
      "3.518035009504941 0.0005369750325931533\n"
     ]
    }
   ],
   "source": [
    "d1 = data.query(\"(ROI=='dmpfc') and (effect=='distance')\")['act']\n",
    "d2 = data.query(\"(ROI=='vmpfc') and (effect=='distance')\")['act']\n",
    "t, p = ttest_rel(d1,d2)\n",
    "print(t,p)"
   ],
   "metadata": {
    "collapsed": false,
    "ExecuteTime": {
     "end_time": "2023-05-24T08:08:03.731805419Z",
     "start_time": "2023-05-24T08:08:03.724903148Z"
    }
   }
  },
  {
   "cell_type": "code",
   "execution_count": 44,
   "outputs": [],
   "source": [
    "Q1 = data.query(\"(ROI=='dmpfc') and (effect=='distance')\")['act'].quantile(0.25)\n",
    "Q3 = data.query(\"(ROI=='dmpfc') and (effect=='distance')\")['act'].quantile(0.75)\n",
    "IQR = Q3 - Q1"
   ],
   "metadata": {
    "collapsed": false,
    "ExecuteTime": {
     "end_time": "2023-05-24T08:08:24.619715735Z",
     "start_time": "2023-05-24T08:08:24.562813791Z"
    }
   }
  },
  {
   "cell_type": "code",
   "execution_count": 43,
   "outputs": [
    {
     "name": "stdout",
     "output_type": "stream",
     "text": [
      "2.729562307142423 0.0069017418601760964\n"
     ]
    }
   ],
   "source": [
    "d = data.query(\"(ROI=='vmpfc') and (effect=='distance')\")['act']\n",
    "t, p = ttest_1samp(d,0)\n",
    "print(t,p)"
   ],
   "metadata": {
    "collapsed": false,
    "ExecuteTime": {
     "end_time": "2023-05-24T08:08:16.470924022Z",
     "start_time": "2023-05-24T08:08:16.451763844Z"
    }
   }
  },
  {
   "cell_type": "code",
   "execution_count": 9,
   "outputs": [],
   "source": [
    "# specify subjects\n",
    "participants_tsv = r'/mnt/workdir/DCM/BIDS/participants.tsv'\n",
    "participants_data = pd.read_csv(participants_tsv, sep='\\t')\n",
    "participants_data = participants_data.query(\"(game1_fmri>=0.5)\")\n",
    "subjects_id = participants_data['Participant_ID'].to_list()\n",
    "\n",
    "# set cmp template\n",
    "eucd_cmap = r'/mnt/data/DCM/result_backup/2023.5.14/Nilearn/game1/2distance_spct/Setall/6fold/{}/zmap/eudc_zmap.nii.gz'\n",
    "manhd_cmap = r'/mnt/data/DCM/result_backup/2023.5.14/Nilearn/game1/2distance_spct/Setall/6fold/{}/zmap/manhd_zmap.nii.gz'\n",
    "value_cmap = r'/mnt/data/DCM/result_backup/2023.5.14/Nilearn/game1/value_spct/Setall/6fold/{}/zmap/value_zmap.nii.gz'\n",
    "\n",
    "# set subjects cmap path\n",
    "subs_euclidean = [eucd_cmap.format(sub) for sub in subjects_id]\n",
    "subs_manhattan = [manhd_cmap.format(sub) for sub in subjects_id]\n",
    "subs_value = [value_cmap.format(sub) for sub in subjects_id]\n",
    "\n",
    "# extract mean activity of ROI for each subjects\n",
    "data = pd.DataFrame()\n",
    "for effect in ['euclidean','manhattan','value']:\n",
    "    for roi_name in ['vmpfc', 'dmpfc']:\n",
    "        subs_cmap = eval(f'subs_{effect}')\n",
    "        roi = eval(roi_name)\n",
    "        act = np.mean(masking.apply_mask(subs_cmap, roi), axis=1)\n",
    "        data = data.append(pd.DataFrame({'sub': subjects_id, 'act': act, 'effect': effect, 'ROI': roi_name}))"
   ],
   "metadata": {
    "collapsed": false,
    "ExecuteTime": {
     "end_time": "2023-05-24T07:43:49.048239577Z",
     "start_time": "2023-05-24T07:42:18.026460306Z"
    }
   }
  },
  {
   "cell_type": "code",
   "execution_count": 10,
   "outputs": [
    {
     "data": {
      "text/plain": "<Figure size 594.875x504 with 1 Axes>",
      "image/png": "[encoded data removed]"
     },
     "metadata": {
      "needs_background": "light"
     },
     "output_type": "display_data"
    }
   ],
   "source": [
    "# Create the bar plot using seaborn\n",
    "#data = data[data['effect']!='manhattan']\n",
    "sns.catplot(x=\"ROI\", y=\"act\", hue=\"effect\",\n",
    "            data=data, kind=\"bar\",errorbar='se', height=7)\n",
    "\n",
    "# Set the title of the plot\n",
    "plt.subplots_adjust(top=0.8)\n",
    "plt.suptitle('ROI Effect on Distance and Value')\n",
    "\n",
    "# Show the plot\n",
    "plt.show()"
   ],
   "metadata": {
    "collapsed": false,
    "ExecuteTime": {
     "end_time": "2023-05-24T07:44:15.485393394Z",
     "start_time": "2023-05-24T07:44:15.207643985Z"
    }
   }
  },
  {
   "cell_type": "code",
   "execution_count": 81,
   "outputs": [
    {
     "name": "stdout",
     "output_type": "stream",
     "text": [
      "9.822058759163337 7.323672900065657e-19\n"
     ]
    }
   ],
   "source": [
    "d1 = data.query(\"(ROI=='dmpfc') and (effect=='euclidean')\")['act']\n",
    "d2 = data.query(\"(ROI=='dmpfc') and (effect=='value')\")['act']\n",
    "t, p = ttest_rel(d1,d2)\n",
    "print(t,p)"
   ],
   "metadata": {
    "collapsed": false,
    "ExecuteTime": {
     "end_time": "2023-05-11T09:55:49.067420032Z",
     "start_time": "2023-05-11T09:55:49.061456509Z"
    }
   }
  },
  {
   "cell_type": "code",
   "execution_count": 14,
   "outputs": [
    {
     "name": "stdout",
     "output_type": "stream",
     "text": [
      "-2.168825937171784 0.9843679450959797\n"
     ]
    }
   ],
   "source": [
    "d = data.query(\"(ROI=='vmpfc') and (effect=='euclidean')\")['act']\n",
    "t, p = ttest_1samp(d,0,alternative='greater')\n",
    "print(t,p)"
   ],
   "metadata": {
    "collapsed": false,
    "ExecuteTime": {
     "end_time": "2023-05-24T07:46:17.320053630Z",
     "start_time": "2023-05-24T07:46:17.309718597Z"
    }
   }
  },
  {
   "cell_type": "code",
   "execution_count": 17,
   "outputs": [
    {
     "data": {
      "text/plain": "<Figure size 582.5x504 with 1 Axes>",
      "image/png": "[encoded data removed]"
     },
     "metadata": {
      "needs_background": "light"
     },
     "output_type": "display_data"
    }
   ],
   "source": [
    "distance_zmap = r'/mnt/data/DCM/result_backup/2023.5.14/Nilearn/game1/distance_spct/Setall/6fold/group_203/acc/M2_corrxdistance_acc_zmap.nii.gz'\n",
    "\n",
    "value_zmap = r'/mnt/data/DCM/result_backup/2023.5.14/Nilearn/game1/value_spct/Setall/6fold/group/acc/value_acc_zmap.nii.gz'\n",
    "\n",
    "# set roi\n",
    "dmpfc = image.load_img(r'/mnt/workdir/DCM/Docs/Mask/VMPFC/BN_amPFC.nii.gz')\n",
    "vACC = image.load_img(r'/mnt/workdir/DCM/Docs/Mask/VMPFC/BN_vACC.nii.gz')\n",
    "\n",
    "data = pd.DataFrame()\n",
    "for effect in ['distance','value']:\n",
    "    for roi_name in ['vACC','dmpfc']:\n",
    "        covariate_map = eval(f'{effect}_zmap')\n",
    "        roi = eval(roi_name)\n",
    "        covariate_effect = masking.apply_mask(covariate_map,roi)\n",
    "        data = data.append(pd.DataFrame({'covariate_effect':covariate_effect,'ROI':roi_name,'effect':effect}))\n",
    "\n",
    "# create the bar plot using seaborn\n",
    "sns.catplot(x=\"ROI\", y=\"covariate_effect\", hue=\"effect\",\n",
    "                data=data, kind=\"bar\",errorbar=None, height=7)\n",
    "# set the title of the plot\n",
    "plt.subplots_adjust(top=0.8)\n",
    "plt.suptitle('ROI Effect on Distance and Value')\n",
    "\n",
    "plt.show()"
   ],
   "metadata": {
    "collapsed": false,
    "ExecuteTime": {
     "end_time": "2023-05-18T09:56:19.925996674Z",
     "start_time": "2023-05-18T09:56:18.855906850Z"
    }
   }
  },
  {
   "cell_type": "code",
   "execution_count": 8,
   "outputs": [],
   "source": [
    "# specify subjects\n",
    "participants_tsv = r'/mnt/workdir/DCM/BIDS/participants.tsv'\n",
    "participants_data = pd.read_csv(participants_tsv, sep='\\t')\n",
    "participants_data = participants_data.query(\"(game1_fmri>=0.5)and(game1_acc>0.8)\")\n",
    "subjects_id = participants_data['Participant_ID'].to_list()\n",
    "\n",
    "# set cmp template\n",
    "eucd_cmap = r'/mnt/workdir/DCM/BIDS/derivatives/Nilearn_test/game1/distance_spct/Setall/6fold/{}/cmap/M2_corrxdistance_cmap.nii.gz'\n",
    "ap_cmap = r'/mnt/workdir/DCM/BIDS/derivatives/Nilearn/game1/ap_distance_spct/Setall/6fold/{}/cmap/ap_cmap.nii.gz'\n",
    "dp_cmap = r'/mnt/workdir/DCM/BIDS/derivatives/Nilearn/game1/dp_distance_spct/Setall/6fold/{}/cmap/dp_cmap.nii.gz'\n",
    "\n",
    "# set subjects cmap path\n",
    "subs_eucd = [eucd_cmap.format(sub) for sub in subjects_id]\n",
    "subs_ap_distance = [ap_cmap.format(sub) for sub in subjects_id]\n",
    "subs_dp_distance = [dp_cmap.format(sub) for sub in subjects_id]\n",
    "mpfc = image.load_img(r'/mnt/workdir/DCM/Docs/Mask/VMPFC/VMPFC_merge_MNI152NL.nii.gz')\n",
    "# roi  = image.load_img(r'/mnt/workdir/DCM/Docs/Mask/EC/juelich_EC_MNI152NL_prob.nii.gz')\n",
    "# roi = image.binarize_img(roi,10)\n",
    "# # extract mean activity of ROI for each subjects\n",
    "data = pd.DataFrame()\n",
    "for effect in ['eucd','ap_distance','dp_distance']:\n",
    "        subs_cmap = eval(f'subs_{effect}')\n",
    "        act = np.mean(masking.apply_mask(subs_cmap, mpfc), axis=1)\n",
    "        data = data.append(pd.DataFrame({'sub': subjects_id, 'act': act, 'effect': effect}))"
   ],
   "metadata": {
    "collapsed": false,
    "ExecuteTime": {
     "end_time": "2023-05-31T04:37:10.119982329Z",
     "start_time": "2023-05-31T04:36:50.401709303Z"
    }
   }
  },
  {
   "cell_type": "code",
   "execution_count": 3,
   "outputs": [
    {
     "data": {
      "text/plain": "<Figure size 504x504 with 1 Axes>",
      "image/png": "[encoded data removed]"
     },
     "metadata": {
      "needs_background": "light"
     },
     "output_type": "display_data"
    }
   ],
   "source": [
    "# Create the bar plot using seaborn\n",
    "#data = data[data['effect']!='manhattan']\n",
    "sns.catplot(x=\"effect\", y=\"act\",\n",
    "            data=data, kind=\"bar\",errorbar='se', height=7)\n",
    "\n",
    "# Set the title of the plot\n",
    "plt.subplots_adjust(top=0.8)\n",
    "plt.suptitle('ROI Effect on Distance and Value')\n",
    "\n",
    "# Show the plot\n",
    "plt.show()"
   ],
   "metadata": {
    "collapsed": false,
    "ExecuteTime": {
     "end_time": "2023-05-31T03:03:12.492749432Z",
     "start_time": "2023-05-31T03:03:12.252213624Z"
    }
   }
  },
  {
   "cell_type": "code",
   "execution_count": 7,
   "outputs": [
    {
     "name": "stdout",
     "output_type": "stream",
     "text": [
      "1.538367176515606 0.12822412502447708\n"
     ]
    }
   ],
   "source": [
    "d1 = data.query(\"(effect=='eucd')\")['act']\n",
    "d2 = data.query(\"(effect=='ap_distance')\")['act']\n",
    "t, p = ttest_rel(d1,d2)\n",
    "print(t,p)"
   ],
   "metadata": {
    "collapsed": false,
    "ExecuteTime": {
     "end_time": "2023-05-31T03:03:35.530388390Z",
     "start_time": "2023-05-31T03:03:35.477931176Z"
    }
   }
  }
 ],
 "metadata": {
  "kernelspec": {
   "display_name": "Python 3",
   "language": "python",
   "name": "python3"
  },
  "language_info": {
   "codemirror_mode": {
    "name": "ipython",
    "version": 2
   },
   "file_extension": ".py",
   "mimetype": "text/x-python",
   "name": "python",
   "nbconvert_exporter": "python",
   "pygments_lexer": "ipython2",
   "version": "2.7.6"
  }
 },
 "nbformat": 4,
 "nbformat_minor": 0
}
