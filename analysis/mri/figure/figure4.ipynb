{
 "cells": [
  {
   "cell_type": "code",
   "execution_count": 1,
   "outputs": [],
   "source": [
    "import os\n",
    "import numpy as np\n",
    "import pandas as pd\n",
    "from nilearn import masking, image\n",
    "from scipy.stats import ttest_1samp, pearsonr,ttest_ind,ttest_rel\n",
    "import statsmodels.formula.api as smf\n",
    "import seaborn as sns\n",
    "import statsmodels.api as sm\n",
    "import matplotlib\n",
    "import matplotlib.pyplot as plt\n",
    "sns.set_theme(style=\"white\")\n",
    "matplotlib.rcParams['pdf.fonttype'] = 42\n",
    "matplotlib.rcParams['ps.fonttype'] = 42\n",
    "matplotlib.rcParams['axes.spines.top'] = False\n",
    "matplotlib.rcParams['axes.spines.right'] = False\n",
    "\n",
    "def p2sign(p):\n",
    "    if  p<=0.001:\n",
    "        sign='***'\n",
    "    elif p<=0.01:\n",
    "        sign='**'\n",
    "    elif p<=0.05:\n",
    "        sign='*'\n",
    "    else:\n",
    "        sign='n.s.'\n",
    "    return sign"
   ],
   "metadata": {
    "collapsed": false,
    "ExecuteTime": {
     "end_time": "2023-08-08T07:20:13.376629214Z",
     "start_time": "2023-08-08T07:20:12.245497520Z"
    }
   }
  },
  {
   "cell_type": "markdown",
   "source": [
    "# Plot part(semi-partial) correlation plot"
   ],
   "metadata": {
    "collapsed": false
   }
  },
  {
   "cell_type": "code",
   "execution_count": 7,
   "outputs": [
    {
     "name": "stderr",
     "output_type": "stream",
     "text": [
      "/home/dell/Software/anaconda3/lib/python3.8/site-packages/nilearn/image/image.py:1041: UserWarning: Data array used to create a new image contains 64-bit ints. This is likely due to creating the array with numpy and passing `int` as the `dtype`. Many tools such as FSL and SPM cannot deal with int64 in Nifti images, so for compatibility the data has been converted to int32.\n",
      "  return new_img_like(niimg, result, niimg.affine)\n",
      "<ipython-input-7-81777b091094>:23: SettingWithCopyWarning: \n",
      "A value is trying to be set on a copy of a slice from a DataFrame.\n",
      "Try using .loc[row_indexer,col_indexer] = value instead\n",
      "\n",
      "See the caveats in the documentation: https://pandas.pydata.org/pandas-docs/stable/user_guide/indexing.html#returning-a-view-versus-a-copy\n",
      "  data['Consistency_effect'] = subs_mean_activity\n",
      "<ipython-input-7-81777b091094>:25: SettingWithCopyWarning: \n",
      "A value is trying to be set on a copy of a slice from a DataFrame.\n",
      "Try using .loc[row_indexer,col_indexer] = value instead\n",
      "\n",
      "See the caveats in the documentation: https://pandas.pydata.org/pandas-docs/stable/user_guide/indexing.html#returning-a-view-versus-a-copy\n",
      "  data['Inference_acc'] = data['game2_test_acc']\n",
      "<ipython-input-7-81777b091094>:28: SettingWithCopyWarning: \n",
      "A value is trying to be set on a copy of a slice from a DataFrame.\n",
      "Try using .loc[row_indexer,col_indexer] = value instead\n",
      "\n",
      "See the caveats in the documentation: https://pandas.pydata.org/pandas-docs/stable/user_guide/indexing.html#returning-a-view-versus-a-copy\n",
      "  data['beh_diff'] = data['game2_test_acc'] - data['game1_acc']\n"
     ]
    }
   ],
   "source": [
    "# specify subjects\n",
    "participants_tsv = r'/mnt/workdir/DCM/BIDS/participants.tsv'\n",
    "participants_data = pd.read_csv(participants_tsv, sep='\\t')\n",
    "data =  participants_data.query(\"(game2_fmri>=0.5)\")\n",
    "subjects_id = data['Participant_ID'].to_list()\n",
    "\n",
    "# set camp\n",
    "#cmap_template = r'/mnt/data/DCM/result_backup/2023.5.14/Nilearn/game2/distance_spct/Setall/6fold/{}/zmap/distance_zmap.nii.gz'\n",
    "# cmap_template = r'/mnt/data/DCM/result_backup/2023.5.14/Nilearn/game2/hexagon_spct/Setall/6fold/{}/zmap/hexagon_zmap.nii.gz'\n",
    "cmap_template = r'/mnt/data/DCM/result_backup/2023.5.14/Nilearn/game2/cv_hexagon_spct/Setall/6fold/{}/cmap/alignPhi_cmap.nii.gz'\n",
    "\n",
    "# set roi\n",
    "roi = image.load_img(r'/mnt/workdir/DCM/Docs/Mask/EC/juelich_EC_MNI152NL_prob.nii.gz')\n",
    "roi = image.binarize_img(roi,5)\n",
    "#roi  = image.load_img(r'/mnt/workdir/DCM/Docs/Mask/VMPFC/VMPFC_MNI152NL_new.nii.gz')\n",
    "#roi = image.load_img(r'/mnt/data/DCM/result_backup/2023.5.14/Nilearn/game1/hexagon_spct/EC_thr3.1.nii.gz')\n",
    "#roi = image.load_img(r'/mnt/workdir/DCM/Docs/Mask/dmPFC/dmPFC_closed_dilated_resampled.nii.gz')\n",
    "\n",
    "# extract mean activity\n",
    "subs_cmap_list = [cmap_template.format(sub_id) for sub_id in subjects_id]\n",
    "subs_mean_activity = np.mean(masking.apply_mask(subs_cmap_list, roi),axis=1)\n",
    "\n",
    "data['Consistency_effect'] = subs_mean_activity\n",
    "\n",
    "data['Inference_acc'] = data['game2_test_acc']\n",
    "# zscore consistencey_effect\n",
    "#data['Consistency_effect'] = (data['Consistency_effect'] - data['Consistency_effect'].mean())/data['Consistency_effect'].std()\n",
    "data['beh_diff'] = data['game2_test_acc'] - data['game1_acc']"
   ],
   "metadata": {
    "collapsed": false,
    "ExecuteTime": {
     "end_time": "2023-08-08T07:24:31.157951367Z",
     "start_time": "2023-08-08T07:24:09.239861554Z"
    }
   }
  },
  {
   "cell_type": "code",
   "execution_count": 62,
   "outputs": [
    {
     "name": "stdout",
     "output_type": "stream",
     "text": [
      "0.2103613185151803 0.003320700398973646\n"
     ]
    },
    {
     "data": {
      "text/plain": "<Figure size 432x288 with 1 Axes>",
      "image/png": "[encoded data removed]"
     },
     "metadata": {
      "needs_background": "light"
     },
     "output_type": "display_data"
    }
   ],
   "source": [
    "fig, ax = plt.subplots(figsize=(6,4))\n",
    "# Fit regression model (using the natural log of one of the regressors)\n",
    "# Fit regression models and get residuals\n",
    "results1 = smf.ols('Inference_acc ~ Age', data=data).fit()\n",
    "results2 = smf.ols('Consistency_effect ~ Age', data=data).fit()\n",
    "# Create a new DataFrame with the residuals\n",
    "resid_data = pd.DataFrame({\n",
    "    'Consistency_effect_resid': results2.resid,\n",
    "    'Inference_resid': results1.resid\n",
    "})\n",
    "# # Plot the residuals against one another\n",
    "#data_remove  = data.query(\"-3<Consistency_effect<3\")# #'#F8A485'\n",
    "sns.regplot(x='Consistency_effect_resid', y='Inference_resid', data=resid_data,color='#F8A485',scatter_kws={'s':20,'edgecolor':'None','alpha':1},line_kws={'linewidth':4})\n",
    "# sns.regplot(x='Consistency_effect', y='Inference_acc', data=data,color='#F8A485',scatter_kws={'s':30,'edgecolor':'None','alpha':1},line_kws={'linewidth':4})\n",
    "# plt.xlabel('Map alignment')\n",
    "# plt.ylabel('Nonlocal inference')\n",
    "plt.xlabel('Map-alignment')\n",
    "plt.ylabel('Nonlocal inference')\n",
    "\n",
    "plt.yticks([-0.3,0,0.3],size=15)\n",
    "plt.ylim([-0.4,0.4])\n",
    "plt.xlim([-2.1,2.1])\n",
    "#move overall title up\n",
    "fig.subplots_adjust(top=0.92)\n",
    "\n",
    "r, p = pearsonr(resid_data['Consistency_effect_resid'], resid_data['Inference_resid'])\n",
    "print(r,p)\n",
    "if p < 0.05:\n",
    "    fig.suptitle('{}'.format(p2sign(p)),size=20,fontweight='bold')\n",
    "else:\n",
    "    fig.suptitle('{} '.format(p2sign(p)),size=20,fontweight='bold')\n",
    "\n",
    "# save figure\n",
    "fig.tight_layout()\n",
    "# Add tick lines to the bottom and left spines\n",
    "ax.tick_params(axis='x', which='both', bottom=True, top=False, direction='out')\n",
    "ax.tick_params(axis='y', which='both', left=True, right=False, direction='out')\n",
    "savepath = r'/mnt/workdir/DCM/Result/paper/figure4/Game2_map-alignment_EC_Acc_Control_age_partial_corr.pdf'\n",
    "plt.savefig(savepath, bbox_inches='tight', pad_inches=0, dpi=300, transparent=True)\n",
    "plt.show()"
   ],
   "metadata": {
    "collapsed": false,
    "ExecuteTime": {
     "end_time": "2023-08-08T08:00:25.402706344Z",
     "start_time": "2023-08-08T08:00:25.160835370Z"
    }
   }
  },
  {
   "cell_type": "code",
   "execution_count": 9,
   "outputs": [
    {
     "data": {
      "text/plain": "           n         r         CI95%     p-val\npearson  193  0.210361  [0.07, 0.34]  0.003404",
      "text/html": "<div>\n<style scoped>\n    .dataframe tbody tr th:only-of-type {\n        vertical-align: middle;\n    }\n\n    .dataframe tbody tr th {\n        vertical-align: top;\n    }\n\n    .dataframe thead th {\n        text-align: right;\n    }\n</style>\n<table border=\"1\" class=\"dataframe\">\n  <thead>\n    <tr style=\"text-align: right;\">\n      <th></th>\n      <th>n</th>\n      <th>r</th>\n      <th>CI95%</th>\n      <th>p-val</th>\n    </tr>\n  </thead>\n  <tbody>\n    <tr>\n      <th>pearson</th>\n      <td>193</td>\n      <td>0.210361</td>\n      <td>[0.07, 0.34]</td>\n      <td>0.003404</td>\n    </tr>\n  </tbody>\n</table>\n</div>"
     },
     "execution_count": 9,
     "metadata": {},
     "output_type": "execute_result"
    }
   ],
   "source": [
    "import pingouin as pg\n",
    "\n",
    "pg.partial_corr(data=data, x='Consistency_effect', y='Inference_acc', covar='Age',method='pearson')"
   ],
   "metadata": {
    "collapsed": false,
    "ExecuteTime": {
     "end_time": "2023-08-08T07:25:10.020109881Z",
     "start_time": "2023-08-08T07:25:10.002332760Z"
    }
   }
  }
 ],
 "metadata": {
  "kernelspec": {
   "display_name": "Python 3",
   "language": "python",
   "name": "python3"
  },
  "language_info": {
   "codemirror_mode": {
    "name": "ipython",
    "version": 2
   },
   "file_extension": ".py",
   "mimetype": "text/x-python",
   "name": "python",
   "nbconvert_exporter": "python",
   "pygments_lexer": "ipython2",
   "version": "2.7.6"
  }
 },
 "nbformat": 4,
 "nbformat_minor": 0
}
