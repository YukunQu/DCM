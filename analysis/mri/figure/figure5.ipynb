{
 "cells": [
  {
   "cell_type": "code",
   "execution_count": 5,
   "metadata": {
    "collapsed": true,
    "ExecuteTime": {
     "end_time": "2023-07-21T08:54:06.214557678Z",
     "start_time": "2023-07-21T08:54:06.168299408Z"
    }
   },
   "outputs": [],
   "source": [
    "import os\n",
    "import numpy as np\n",
    "import pandas as pd\n",
    "from nilearn import masking, image\n",
    "from scipy.stats import ttest_1samp, pearsonr,ttest_ind,ttest_rel\n",
    "import statsmodels.formula.api as smf\n",
    "import seaborn as sns\n",
    "import statsmodels.api as sm\n",
    "import matplotlib\n",
    "import matplotlib.pyplot as plt\n",
    "sns.set_theme(style=\"white\")\n",
    "matplotlib.rcParams['pdf.fonttype'] = 42\n",
    "matplotlib.rcParams['ps.fonttype'] = 42\n",
    "matplotlib.rcParams['axes.spines.top'] = False\n",
    "matplotlib.rcParams['axes.spines.right'] = False\n",
    "\n",
    "# Set the default tick_params options for all axes\n",
    "matplotlib.rcParams['xtick.bottom'] = True\n",
    "matplotlib.rcParams['xtick.top'] = False\n",
    "matplotlib.rcParams['xtick.direction'] = 'out'\n",
    "matplotlib.rcParams['ytick.left'] = True\n",
    "matplotlib.rcParams['ytick.right'] = False\n",
    "matplotlib.rcParams['ytick.direction'] = 'out'\n",
    "\n",
    "\n",
    "def p2sign(p):\n",
    "    if  p<=0.001:\n",
    "        sign='***'\n",
    "    elif p<=0.01:\n",
    "        sign='**'\n",
    "    elif p<=0.05:\n",
    "        sign='*'\n",
    "    else:\n",
    "        sign='n.s.'\n",
    "    return sign"
   ]
  },
  {
   "cell_type": "markdown",
   "source": [
    "## Load data"
   ],
   "metadata": {
    "collapsed": false
   }
  },
  {
   "cell_type": "code",
   "execution_count": 6,
   "outputs": [
    {
     "name": "stderr",
     "output_type": "stream",
     "text": [
      "<ipython-input-6-58860a290017>:29: SettingWithCopyWarning: \n",
      "A value is trying to be set on a copy of a slice from a DataFrame.\n",
      "Try using .loc[row_indexer,col_indexer] = value instead\n",
      "\n",
      "See the caveats in the documentation: https://pandas.pydata.org/pandas-docs/stable/user_guide/indexing.html#returning-a-view-versus-a-copy\n",
      "  data['game1_act'] = sub_mact1\n",
      "<ipython-input-6-58860a290017>:30: SettingWithCopyWarning: \n",
      "A value is trying to be set on a copy of a slice from a DataFrame.\n",
      "Try using .loc[row_indexer,col_indexer] = value instead\n",
      "\n",
      "See the caveats in the documentation: https://pandas.pydata.org/pandas-docs/stable/user_guide/indexing.html#returning-a-view-versus-a-copy\n",
      "  data['game2_act'] = sub_mact2\n",
      "<ipython-input-6-58860a290017>:31: SettingWithCopyWarning: \n",
      "A value is trying to be set on a copy of a slice from a DataFrame.\n",
      "Try using .loc[row_indexer,col_indexer] = value instead\n",
      "\n",
      "See the caveats in the documentation: https://pandas.pydata.org/pandas-docs/stable/user_guide/indexing.html#returning-a-view-versus-a-copy\n",
      "  data['neural_diff'] = data['game2_act'] - data['game1_act']\n",
      "<ipython-input-6-58860a290017>:32: SettingWithCopyWarning: \n",
      "A value is trying to be set on a copy of a slice from a DataFrame.\n",
      "Try using .loc[row_indexer,col_indexer] = value instead\n",
      "\n",
      "See the caveats in the documentation: https://pandas.pydata.org/pandas-docs/stable/user_guide/indexing.html#returning-a-view-versus-a-copy\n",
      "  data['beh_diff'] = data['game2_test_acc'] - data['game1_acc']\n"
     ]
    }
   ],
   "source": [
    "# specify subjects\n",
    "participants_tsv = r'/mnt/workdir/DCM/BIDS/participants.tsv'\n",
    "participants_data = pd.read_csv(participants_tsv, sep='\\t')\n",
    "data = participants_data.query('game2_fmri>=0.5')  # look out\n",
    "subjects = data['Participant_ID'].to_list()\n",
    "\n",
    "# set cmp template\n",
    "# cmap_temp1 = r'/mnt/data/DCM/result_backup/2023.5.14/Nilearn/game1/hexagon_spct/Setall/6fold/{}/zmap/hexagon_zmap.nii.gz'\n",
    "# cmap_temp2 = r'/mnt/data/DCM/result_backup/2023.5.14/Nilearn/game2/hexagon_spct/Setall/6fold/{}/zmap/hexagon_zmap.nii.gz'\n",
    "cmap_temp1 = r'/mnt/data/DCM/result_backup/2023.5.14/Nilearn/game1/distance_spct/Setall/6fold/{}/zmap/distance_zmap.nii.gz'\n",
    "cmap_temp2 = r'/mnt/data/DCM/result_backup/2023.5.14/Nilearn/game2/distance_spct/Setall/6fold/{}/zmap/distance_zmap.nii.gz'\n",
    "\n",
    "\n",
    "# set cmap for each subject\n",
    "sub_cmap1 = [cmap_temp1.format(sub) for sub in subjects]\n",
    "sub_cmap2 = [cmap_temp2.format(sub) for sub in subjects]\n",
    "\n",
    "# set roi\n",
    "pcc = image.load_img(r'/mnt/workdir/DCM/Docs/Mask/PCC/PCCk3_MNI152Nl_bin.nii.gz')\n",
    "#ec = image.load_img(r'/mnt/workdir/DCM/Docs/Mask/EC/juelich_EC_MNI152NL_prob.nii.gz')\n",
    "#ec = image.binarize_img(ec,5)\n",
    "phc = image.load_img(r'/mnt/workdir/DCM/Docs/Mask/hippocampus/PHC_MNL_bin.nii.gz')\n",
    "vmpfc = image.load_img(r'/mnt/workdir/DCM/Docs/Mask/VMPFC/vmPFC_bin.nii.gz')\n",
    "\n",
    "# extract mean activity of ROI for each subjects\n",
    "sub_mact1 = np.mean(masking.apply_mask(sub_cmap1, vmpfc), axis=1)\n",
    "sub_mact2 = np.mean(masking.apply_mask(sub_cmap2, vmpfc), axis=1)\n",
    "\n",
    "data['game1_act'] = sub_mact1\n",
    "data['game2_act'] = sub_mact2\n",
    "data['neural_diff'] = data['game2_act'] - data['game1_act']\n",
    "data['beh_diff'] = data['game2_test_acc'] - data['game1_acc']"
   ],
   "metadata": {
    "collapsed": false,
    "ExecuteTime": {
     "end_time": "2023-07-21T08:54:40.662879122Z",
     "start_time": "2023-07-21T08:54:14.686298585Z"
    }
   }
  },
  {
   "cell_type": "markdown",
   "source": [
    "### Plot the difference changed with age for hexagonal modulation without Phi\n",
    "### Plot correlation between behavioural difference and neural difference(colour coded the dot based on age)."
   ],
   "metadata": {
    "collapsed": false
   }
  },
  {
   "cell_type": "code",
   "execution_count": 7,
   "outputs": [
    {
     "name": "stdout",
     "output_type": "stream",
     "text": [
      "Correlation between Age and neural difference: r=0.1134, p=0.1163\n",
      "Correlation between neural difference and behavioral difference: r=0.0199, p=0.7832\n"
     ]
    },
    {
     "name": "stderr",
     "output_type": "stream",
     "text": [
      "<ipython-input-7-dbf6f5756adb>:10: SettingWithCopyWarning: \n",
      "A value is trying to be set on a copy of a slice from a DataFrame.\n",
      "Try using .loc[row_indexer,col_indexer] = value instead\n",
      "\n",
      "See the caveats in the documentation: https://pandas.pydata.org/pandas-docs/stable/user_guide/indexing.html#returning-a-view-versus-a-copy\n",
      "  data['neural_diff'] = (data['neural_diff'] - data['neural_diff'].mean()) / data['neural_diff'].std()\n",
      "<ipython-input-7-dbf6f5756adb>:11: SettingWithCopyWarning: \n",
      "A value is trying to be set on a copy of a slice from a DataFrame.\n",
      "Try using .loc[row_indexer,col_indexer] = value instead\n",
      "\n",
      "See the caveats in the documentation: https://pandas.pydata.org/pandas-docs/stable/user_guide/indexing.html#returning-a-view-versus-a-copy\n",
      "  data['beh_diff'] = (data['beh_diff'] - data['beh_diff'].mean()) / data['beh_diff'].std()\n"
     ]
    }
   ],
   "source": [
    "# Calculate and print the correlation\n",
    "r1, p1 = pearsonr(data['Age'], data['neural_diff'])\n",
    "print(f'Correlation between Age and neural difference: r={round(r1,4)}, p={round(p1,4)}')\n",
    "\n",
    "# Calculate and print the correlation\n",
    "r2, p2 = pearsonr(data['neural_diff'], data['beh_diff'])\n",
    "print(f'Correlation between neural difference and behavioral difference: r={round(r2,4)}, p={round(p2,4)}')\n",
    "\n",
    "# zscore the neural and behavioral difference\n",
    "data['neural_diff'] = (data['neural_diff'] - data['neural_diff'].mean()) / data['neural_diff'].std()\n",
    "data['beh_diff'] = (data['beh_diff'] - data['beh_diff'].mean()) / data['beh_diff'].std()\n",
    "\n",
    "# Divide DataFrame into two parts and sort each part separately\n",
    "df1 = data[(data['neural_diff'] > 0) & (data['beh_diff'] > 0)].sort_values(by='Age', ascending=True)\n",
    "df2 = data[(data['neural_diff'] < 0) & (data['beh_diff'] < 0)].sort_values(by='Age', ascending=False)\n",
    "\n",
    "# Concatenate them back together\n",
    "sorted_df = pd.concat([df1, df2])\n",
    "df3 = data[~data.index.isin(sorted_df.index)]\n",
    "sorted_df = pd.concat([sorted_df, df3])"
   ],
   "metadata": {
    "collapsed": false,
    "ExecuteTime": {
     "end_time": "2023-07-21T08:54:40.682258264Z",
     "start_time": "2023-07-21T08:54:40.664312919Z"
    }
   }
  },
  {
   "cell_type": "code",
   "execution_count": 8,
   "outputs": [
    {
     "name": "stderr",
     "output_type": "stream",
     "text": [
      "<ipython-input-8-ca2cdd1a7649>:5: SettingWithCopyWarning: \n",
      "A value is trying to be set on a copy of a slice from a DataFrame.\n",
      "Try using .loc[row_indexer,col_indexer] = value instead\n",
      "\n",
      "See the caveats in the documentation: https://pandas.pydata.org/pandas-docs/stable/user_guide/indexing.html#returning-a-view-versus-a-copy\n",
      "  data['Age_group'] = pd.cut(data['Age'], bins=age_bins, labels=age_labels)\n"
     ]
    },
    {
     "data": {
      "text/plain": "<Figure size 720x360 with 2 Axes>",
      "image/png": "[encoded data removed]"
     },
     "metadata": {
      "needs_background": "light"
     },
     "output_type": "display_data"
    }
   ],
   "source": [
    "# Plot the data\n",
    "# Add age group categories\n",
    "age_bins = [7, 12, 17, 25]\n",
    "age_labels = ['children', 'adolescents', 'adults']\n",
    "data['Age_group'] = pd.cut(data['Age'], bins=age_bins, labels=age_labels)\n",
    "\n",
    "# Melt the data for easier plotting\n",
    "color1 = sns.color_palette(\"Set2\")[1:3]\n",
    "color2 = ['grey']\n",
    "color_vmpfc = ['#F7E98E']\n",
    "data_melted = data.melt(id_vars=['Age_group'], value_vars=['neural_diff'],\n",
    "                        var_name='Type', value_name='difference')\n",
    "\n",
    "fig, ax = plt.subplots(1, 2, figsize=(10, 5))\n",
    "\n",
    "# Plot the first graph\n",
    "sns.pointplot(x='Age_group', y='difference', hue='Type', data=data_melted,\n",
    "              palette=color_vmpfc, ax=ax[0])\n",
    "ax[0].set_title('Age Group Difference')\n",
    "ax[0].set_xlabel(\"Age Group\")\n",
    "ax[0].set_ylabel(\"Difference\")\n",
    "\n",
    "# Plot the second graph\n",
    "ax[1].axvline(x=0, color='black', linestyle='--', alpha=0.5, linewidth=0.8)\n",
    "ax[1].axhline(y=0, color='black', linestyle='--', alpha=0.5, linewidth=0.8)\n",
    "sns.regplot(x='neural_diff', y='beh_diff', data=data, color='#333333',truncate=True,\n",
    "            scatter=False, ci=95, line_kws={'alpha': 1,'linewidth':2.5}, ax=ax[1])\n",
    "age = sorted_df['Age']\n",
    "sc = ax[1].scatter(x='neural_diff', y='beh_diff', data=sorted_df, c=age, cmap='coolwarm',\n",
    "              s=65, marker='o', edgecolor='None', linewidths=0.3, zorder=1)\n",
    "#fig.colorbar(sc, ax=ax[1], label='Age', shrink=0.5, ticks=[8,16,25],location='top')\n",
    "ax[1].set_xlabel('Neural difference (Game2-Game1)')\n",
    "ax[1].set_ylabel('Behavioral difference (Game2-Game1)')\n",
    "ax[1].set_title('Neural vs Behavioral Difference')\n",
    "ax[1].set_xlim([-3.2,3.2])\n",
    "fig.tight_layout()\n",
    "savepath = r'/mnt/workdir/DCM/Result/paper/sf/sf6/Distance_diff_ROI_vmPFC.pdf'\n",
    "plt.savefig(savepath , dpi=300, bbox_inches='tight', transparent=True, pad_inches=0)\n",
    "plt.show()"
   ],
   "metadata": {
    "collapsed": false,
    "ExecuteTime": {
     "end_time": "2023-07-21T08:55:00.196912499Z",
     "start_time": "2023-07-21T08:54:59.379720605Z"
    }
   }
  },
  {
   "cell_type": "markdown",
   "source": [
    "## Mediation relationship between age, neural difference and behavioural difference\n"
   ],
   "metadata": {
    "collapsed": false
   }
  },
  {
   "cell_type": "code",
   "execution_count": 23,
   "outputs": [
    {
     "name": "stderr",
     "output_type": "stream",
     "text": [
      "<ipython-input-23-eadb9e069c43>:8: SettingWithCopyWarning: \n",
      "A value is trying to be set on a copy of a slice from a DataFrame.\n",
      "Try using .loc[row_indexer,col_indexer] = value instead\n",
      "\n",
      "See the caveats in the documentation: https://pandas.pydata.org/pandas-docs/stable/user_guide/indexing.html#returning-a-view-versus-a-copy\n",
      "  data['Age'] = (data['Age'] - data['Age'].mean()) / data['Age'].std()\n",
      "<ipython-input-23-eadb9e069c43>:9: SettingWithCopyWarning: \n",
      "A value is trying to be set on a copy of a slice from a DataFrame.\n",
      "Try using .loc[row_indexer,col_indexer] = value instead\n",
      "\n",
      "See the caveats in the documentation: https://pandas.pydata.org/pandas-docs/stable/user_guide/indexing.html#returning-a-view-versus-a-copy\n",
      "  data['neural_diff'] = (data['neural_diff'] - data['neural_diff'].mean()) / data['neural_diff'].std()\n",
      "<ipython-input-23-eadb9e069c43>:10: SettingWithCopyWarning: \n",
      "A value is trying to be set on a copy of a slice from a DataFrame.\n",
      "Try using .loc[row_indexer,col_indexer] = value instead\n",
      "\n",
      "See the caveats in the documentation: https://pandas.pydata.org/pandas-docs/stable/user_guide/indexing.html#returning-a-view-versus-a-copy\n",
      "  data['beh_diff'] = (data['beh_diff'] - data['beh_diff'].mean()) / data['beh_diff'].std()\n"
     ]
    }
   ],
   "source": [
    "import pingouin as pg\n",
    "\n",
    "iv = 'Age'\n",
    "m = ['neural_diff_HC']\n",
    "dv = 'beh_diff'\n",
    "\n",
    "# Standardize the data\n",
    "data['Age'] = (data['Age'] - data['Age'].mean()) / data['Age'].std()\n",
    "data['neural_diff'] = (data['neural_diff'] - data['neural_diff'].mean()) / data['neural_diff'].std()\n",
    "data['beh_diff'] = (data['beh_diff'] - data['beh_diff'].mean()) / data['beh_diff'].std()\n",
    "\n",
    "# Mediation analysis\n",
    "mediation_results,indirect_beta_sample = pg.mediation_analysis(data=data, x=iv, m=m, y=dv, seed=42,n_boot=10000,return_dist=True)\n",
    "mediation_results.to_csv(r'/mnt/workdir/DCM/Result/paper/figure5/Mediation_neural_diff_HC.csv',index=False)\n",
    "np.save(r'/mnt/workdir/DCM/Result/paper/figure5/Mediation_neural_diff_HC.npy',indirect_beta_sample)"
   ],
   "metadata": {
    "collapsed": false,
    "ExecuteTime": {
     "end_time": "2023-07-06T12:29:59.237742488Z",
     "start_time": "2023-07-06T12:29:55.880523308Z"
    }
   }
  },
  {
   "cell_type": "code",
   "execution_count": 50,
   "outputs": [
    {
     "name": "stdout",
     "output_type": "stream",
     "text": [
      "Bootstrapped 95% confidence interval for the indirect effect: (-0.00187865, 0.06081130)\n"
     ]
    }
   ],
   "source": [
    "import pandas as pd\n",
    "import numpy as np\n",
    "import statsmodels.api as sm\n",
    "from scipy.stats  import ttest_1samp\n",
    "import statsmodels.formula.api as smf\n",
    "\n",
    "def bootstrap_indirect_effect(data, iv, m, dv, n_bootstraps=5000, ci=0.95):\n",
    "    indirect_effects = []\n",
    "    for _ in range(n_bootstraps):\n",
    "        bootstrap_data = data.sample(frac=1, replace=True)\n",
    "\n",
    "        path_a = smf.ols(f\"{m} ~ {iv}\", data=bootstrap_data).fit()\n",
    "        path_b = smf.ols(f\"{dv} ~ {m} + {iv}\", data=bootstrap_data).fit()\n",
    "\n",
    "        indirect_effect = path_a.params[1] * path_b.params[1]\n",
    "        indirect_effects.append(indirect_effect)\n",
    "\n",
    "    lower = np.percentile(indirect_effects, (1 - ci) / 2 * 100)\n",
    "    upper = np.percentile(indirect_effects, (1 + ci) / 2 * 100)\n",
    "\n",
    "    return lower, upper,indirect_effects\n",
    "\n",
    "\n",
    "# Replace 'IV', 'M', and 'DV' with the actual variable names in your dataset\n",
    "iv = 'Age'\n",
    "m = 'neural_diff'\n",
    "dv = 'beh_diff'\n",
    "\n",
    "# Path a: IV -> M\n",
    "path_a = smf.ols(f\"{m} ~ {iv}\", data=data).fit()\n",
    "\n",
    "# Path b: M -> DV, controlling for IV\n",
    "path_b = smf.ols(f\"{dv} ~ {m} + {iv}\", data=data).fit()\n",
    "lower, upper,indirect_effects = bootstrap_indirect_effect(data, iv, m, dv,1000)\n",
    "print(f\"Bootstrapped {int(0.95 * 100)}% confidence interval for the indirect effect: ({lower:.8f}, {upper:.8f})\")"
   ],
   "metadata": {
    "collapsed": false,
    "ExecuteTime": {
     "end_time": "2023-06-27T08:01:07.856539245Z",
     "start_time": "2023-06-27T08:01:00.250992455Z"
    }
   }
  },
  {
   "cell_type": "code",
   "execution_count": null,
   "outputs": [],
   "source": [
    "# Calculate lower and upper bounds\n",
    "ci=0.95\n",
    "lower = np.percentile(indirect_effects, (1 - ci) / 2 * 100)\n",
    "upper = np.percentile(indirect_effects, (1 + ci) / 2 * 100)\n",
    "\n",
    "# Plot histogram\n",
    "fig, ax = plt.subplots()\n",
    "n, bins, patches = ax.hist(indirect_effects, color='gray',bins=50)\n",
    "\n",
    "# Find the bin with the highest frequency and its corresponding height\n",
    "max_height = max(n)\n",
    "max_height_index = np.where(n == max_height)[0][0]\n",
    "max_height_bin = bins[max_height_index]\n",
    "\n",
    "# Add vertical line at zero with height equal to the maximum frequency\n",
    "ax.axvline(x=0, ymin=0, ymax=max_height, color='black', linestyle='--')\n",
    "\n",
    "# Color the histogram between the lower and upper bounds blue\n",
    "for i in range(len(patches)):\n",
    "    if lower <= bins[i] < upper:\n",
    "        patches[i].set_fc('lightsteelblue')\n",
    "\n",
    "# Remove top and right spines\n",
    "fig.suptitle(f\"{m}'s Bootstrapped {int(ci * 100)}% confidence interval: ({lower:.7f}, {upper:.7f})\",size=14)\n",
    "ax.spines['top'].set_visible(False)\n",
    "ax.spines['right'].set_visible(False)"
   ],
   "metadata": {
    "collapsed": false
   }
  },
  {
   "cell_type": "code",
   "execution_count": 83,
   "outputs": [
    {
     "name": "stderr",
     "output_type": "stream",
     "text": [
      "<ipython-input-83-4a45028af3c5>:26: SettingWithCopyWarning: \n",
      "A value is trying to be set on a copy of a slice from a DataFrame.\n",
      "Try using .loc[row_indexer,col_indexer] = value instead\n",
      "\n",
      "See the caveats in the documentation: https://pandas.pydata.org/pandas-docs/stable/user_guide/indexing.html#returning-a-view-versus-a-copy\n",
      "  data['game1_act'] = sub_mact1\n",
      "<ipython-input-83-4a45028af3c5>:27: SettingWithCopyWarning: \n",
      "A value is trying to be set on a copy of a slice from a DataFrame.\n",
      "Try using .loc[row_indexer,col_indexer] = value instead\n",
      "\n",
      "See the caveats in the documentation: https://pandas.pydata.org/pandas-docs/stable/user_guide/indexing.html#returning-a-view-versus-a-copy\n",
      "  data['game2_act'] = sub_mact2\n"
     ]
    }
   ],
   "source": [
    "# specify subjects\n",
    "participants_tsv = r'/mnt/workdir/DCM/BIDS/participants.tsv'\n",
    "participants_data = pd.read_csv(participants_tsv, sep='\\t')\n",
    "data = participants_data.query('game2_fmri>=0.5')  # look out\n",
    "subjects = data['Participant_ID'].to_list()\n",
    "\n",
    "# set cmp template\n",
    "cmap_temp1 = r'/mnt/data/DCM/result_backup/2023.5.14/Nilearn/game1/hexagon_spct/Setall/6fold/{}/zmap/hexagon_zmap.nii.gz'\n",
    "cmap_temp2 = r'/mnt/data/DCM/result_backup/2023.5.14/Nilearn/game2/hexagon_spct/Setall/6fold/{}/zmap/hexagon_zmap.nii.gz'\n",
    "\n",
    "sub_cmap1 = [cmap_temp1.format(sub) for sub in subjects]\n",
    "sub_cmap2 = [cmap_temp2.format(sub) for sub in subjects]\n",
    "\n",
    "# set roi\n",
    "roi = image.load_img(r'/mnt/data/DCM/result_backup/2023.5.14/Nilearn/game1/hexagon_spct/lRSC_thr3.1_erosion.nii.gz')\n",
    "# # #lroi = image.load_img(r'/mnt/workdir/DCM/Docs/Mask/aparc/mask/lh.caudalanteriorcingulate.nii.gz')\n",
    "# roi1 = image.load_img(r'/mnt/workdir/DCM/Docs/Mask/aparc/mask/lh.rostralanteriorcingulate.nii.gz')\n",
    "# roi2 = image.load_img(r'/mnt/workdir/DCM/Docs/Mask/aparc/mask/rh.rostralanteriorcingulate.nii.gz')\n",
    "#roi = image.math_img('np.logical_or(img1,img2)', img1=roi1, img2=roi2)\n",
    "# rh.isthmuscingulate.nii.gz'\n",
    "# extract mean activity of ROI for each subjects\n",
    "sub_mact1 = np.mean(masking.apply_mask(sub_cmap1, roi), axis=1)\n",
    "sub_mact2 = np.mean(masking.apply_mask(sub_cmap2, roi), axis=1)\n",
    "\n",
    "# sub_mact4 = np.mean(masking.apply_mask(sub_cmap4, vmpfc), axis=1)\n",
    "data['game1_act'] = sub_mact1\n",
    "data['game2_act'] = sub_mact2"
   ],
   "metadata": {
    "collapsed": false,
    "ExecuteTime": {
     "end_time": "2023-06-22T13:34:09.819786640Z",
     "start_time": "2023-06-22T13:33:44.588076686Z"
    }
   }
  },
  {
   "cell_type": "code",
   "execution_count": 85,
   "outputs": [
    {
     "data": {
      "text/plain": "Text(0, 0.5, 'Mean activity of RSC')"
     },
     "execution_count": 85,
     "metadata": {},
     "output_type": "execute_result"
    },
    {
     "data": {
      "text/plain": "<Figure size 360x432 with 1 Axes>",
      "image/png": "[encoded data removed]"
     },
     "metadata": {},
     "output_type": "display_data"
    }
   ],
   "source": [
    "fig,ax = plt.subplots(figsize=(5,6))\n",
    "sns.regplot(data=data,x='Age',y='game1_act',scatter_kws={'alpha':0.5,'s':5},label='Game1')\n",
    "sns.regplot(data=data,x='Age',y='game2_act',scatter_kws={'alpha':0.5,'s':5},label='Game2')\n",
    "ax.legend()\n",
    "ax.set_ylabel('Mean activity of RSC')\n",
    "#plt.savefig(r\"/mnt/workdir/DCM/Result/paper/figure5/ACC_activity_2Game2withAge.pdf\",dpi=300,bbox_inches=\"tight\")"
   ],
   "metadata": {
    "collapsed": false,
    "ExecuteTime": {
     "end_time": "2023-06-22T13:34:26.683819508Z",
     "start_time": "2023-06-22T13:34:26.294993679Z"
    }
   }
  },
  {
   "cell_type": "code",
   "execution_count": 84,
   "outputs": [
    {
     "name": "stdout",
     "output_type": "stream",
     "text": [
      "-0.19956503903542017 0.0053945007016126326\n",
      "0.10889377100550285 0.1316928766325701\n",
      "(3.037167256283812, 0.0011940645237369374)\n"
     ]
    }
   ],
   "source": [
    "import numpy as np\n",
    "from scipy.stats import t, norm\n",
    "from math import atanh, pow\n",
    "from numpy import tanh\n",
    "\n",
    "# set\n",
    "a1 = data['Age']\n",
    "b1 = data['game1_act']\n",
    "\n",
    "a2 = data['Age']\n",
    "b2 = data['game2_act']\n",
    "\n",
    "# get the correlation coefficients\n",
    "r1,p1 = pearsonr(a1,b1)\n",
    "r2,p2 = pearsonr(a2,b2)\n",
    "\n",
    "# Sample sizes for each correlation coefficient\n",
    "n1 = len(a1)\n",
    "n2 = len(a2)\n",
    "print(r1,p1)\n",
    "print(r2,p2)\n",
    "\n",
    "def rz_ci(r, n, conf_level = 0.95):\n",
    "    zr_se = pow(1/(n - 3), .5)\n",
    "    moe = norm.ppf(1 - (1 - conf_level)/float(2)) * zr_se\n",
    "    zu = atanh(r) + moe\n",
    "    zl = atanh(r) - moe\n",
    "    return tanh((zl, zu))\n",
    "\n",
    "def independent_corr(xy, ab, n, n2 = None, twotailed=True, conf_level=0.95, method='fisher'):\n",
    "    \"\"\"\n",
    "    Calculates the statistic significance between two independent correlation coefficients\n",
    "    @param xy: correlation coefficient between x and y\n",
    "    @param xz: correlation coefficient between a and b\n",
    "    @param n: number of elements in xy\n",
    "    @param n2: number of elements in ab (if distinct from n)\n",
    "    @param twotailed: whether to calculate a one or two tailed test, only works for 'fisher' method\n",
    "    @param conf_level: confidence level, only works for 'zou' method\n",
    "    @param method: defines the method uses, 'fisher' or 'zou'\n",
    "    @return: z and p-val\n",
    "    \"\"\"\n",
    "\n",
    "    if method == 'fisher':\n",
    "        xy_z = 0.5 * np.log((1 + xy)/(1 - xy))\n",
    "        ab_z = 0.5 * np.log((1 + ab)/(1 - ab))\n",
    "        if n2 is None:\n",
    "            n2 = n\n",
    "\n",
    "        se_diff_r = np.sqrt(1/(n - 3) + 1/(n2 - 3))\n",
    "        diff = xy_z - ab_z\n",
    "        z = abs(diff / se_diff_r)\n",
    "        p = (1 - norm.cdf(z))\n",
    "        if twotailed:\n",
    "            p *= 2\n",
    "\n",
    "        return z, p\n",
    "    elif method == 'zou':\n",
    "        L1 = rz_ci(xy, n, conf_level=conf_level)[0]\n",
    "        U1 = rz_ci(xy, n, conf_level=conf_level)[1]\n",
    "        L2 = rz_ci(ab, n2, conf_level=conf_level)[0]\n",
    "        U2 = rz_ci(ab, n2, conf_level=conf_level)[1]\n",
    "        lower = xy - ab - pow((pow((xy - L1), 2) + pow((U2 - ab), 2)), 0.5)\n",
    "        upper = xy - ab + pow((pow((U1 - xy), 2) + pow((ab - L2), 2)), 0.5)\n",
    "        return lower, upper\n",
    "    else:\n",
    "        raise Exception('Wrong method!')\n",
    "\n",
    "print(independent_corr(r1 , r2, n1, n2, method='fisher',twotailed=False))"
   ],
   "metadata": {
    "collapsed": false,
    "ExecuteTime": {
     "end_time": "2023-06-22T13:34:14.361039055Z",
     "start_time": "2023-06-22T13:34:14.343387176Z"
    }
   }
  },
  {
   "cell_type": "markdown",
   "source": [],
   "metadata": {
    "collapsed": false
   }
  }
 ],
 "metadata": {
  "kernelspec": {
   "display_name": "Python 3",
   "language": "python",
   "name": "python3"
  },
  "language_info": {
   "codemirror_mode": {
    "name": "ipython",
    "version": 2
   },
   "file_extension": ".py",
   "mimetype": "text/x-python",
   "name": "python",
   "nbconvert_exporter": "python",
   "pygments_lexer": "ipython2",
   "version": "2.7.6"
  }
 },
 "nbformat": 4,
 "nbformat_minor": 0
}
