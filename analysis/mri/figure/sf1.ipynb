{
 "cells": [
  {
   "cell_type": "code",
   "execution_count": null,
   "outputs": [],
   "source": [
    "import numpy as np\n",
    "import pandas as pd\n",
    "import seaborn as sns\n",
    "import matplotlib.pyplot as plt\n",
    "from scipy.stats import pearsonr\n",
    "sns.set_theme(style=\"white\")\n",
    "import matplotlib as mpl\n",
    "\n",
    "\n",
    "mpl.rcParams['pdf.fonttype'] = 42\n",
    "mpl.rcParams['ps.fonttype'] = 42\n",
    "# Set the default visibility of the spines\n",
    "mpl.rcParams['axes.spines.top'] = False\n",
    "mpl.rcParams['axes.spines.right'] = False\n",
    "mpl.rcParams['axes.spines.bottom'] = True\n",
    "mpl.rcParams['axes.spines.left'] = True"
   ],
   "metadata": {
    "collapsed": false
   }
  },
  {
   "cell_type": "code",
   "execution_count": null,
   "outputs": [],
   "source": [
    "## Age - 1D Inference\n",
    "beha_total_score = r'//mnt/workdir/DCM/BIDS/participants.tsv'\n",
    "data =  pd.read_csv(beha_total_score,sep='\\t')\n",
    "data = data[data['game1_fmri']>=0.5]\n",
    "print(len(data))\n",
    "res = pearsonr(data['Age'],data['1D_acc'])\n",
    "r = res[0]\n",
    "p = res[1]\n",
    "\n",
    "# plot\n",
    "g = sns.jointplot(x=\"Age\", y=\"1D_acc\", data=data,\n",
    "                  kind=\"reg\", truncate=False,\n",
    "                  xlim=(7, 26), ylim=(0, 1.1),\n",
    "                  color=\"#d16254\", height=6,order=2)\n",
    "\n",
    "#move overall title up\n",
    "g.set_axis_labels('Age', '1D Inference accuracy',size=20)\n",
    "g.fig.subplots_adjust(top=0.92)\n",
    "if p < 0.001:\n",
    "    g.fig.suptitle('r:{}  p<0.001'.format(round(r,3)),size=20)\n",
    "else:\n",
    "    g.fig.suptitle('r:{}, p:{}'.format(round(r,3),round(p,3)),size=20)\n",
    "\n",
    "savepath = r'/mnt/workdir/DCM/result/behaviour/age-1Dtask.png'\n",
    "g.savefig(savepath,bbox_inches='tight',pad_inches=0,dpi=300)"
   ],
   "metadata": {
    "collapsed": false
   }
  }
 ],
 "metadata": {
  "kernelspec": {
   "display_name": "Python 3",
   "language": "python",
   "name": "python3"
  },
  "language_info": {
   "codemirror_mode": {
    "name": "ipython",
    "version": 2
   },
   "file_extension": ".py",
   "mimetype": "text/x-python",
   "name": "python",
   "nbconvert_exporter": "python",
   "pygments_lexer": "ipython2",
   "version": "2.7.6"
  }
 },
 "nbformat": 4,
 "nbformat_minor": 0
}
