{
 "cells": [
  {
   "cell_type": "code",
   "execution_count": 272,
   "outputs": [],
   "source": [
    "import numpy as np\n",
    "import pandas as pd\n",
    "from nilearn import masking, image\n",
    "from scipy.stats import ttest_1samp, pearsonr,ttest_ind,ttest_rel\n",
    "from scipy import stats\n",
    "import statsmodels.api as sm\n",
    "\n",
    "import statsmodels.formula.api as smf\n",
    "import seaborn as sns\n",
    "import matplotlib\n",
    "import matplotlib.pyplot as plt\n",
    "\n",
    "sns.set_style('white')\n",
    "matplotlib.rcParams['pdf.fonttype'] = 42\n",
    "matplotlib.rcParams['ps.fonttype'] = 42\n",
    "plt.rcParams.update({'font.size': 15})\n",
    "\n",
    "def p2sign(p):\n",
    "    if  p<=0.001:\n",
    "        sign='***'\n",
    "    elif p<=0.01:\n",
    "        sign='**'\n",
    "    elif p<=0.05:\n",
    "        sign='*'\n",
    "    else:\n",
    "        sign='n.s.'\n",
    "    return sign"
   ],
   "metadata": {
    "collapsed": false,
    "ExecuteTime": {
     "end_time": "2023-07-04T05:48:41.077786537Z",
     "start_time": "2023-07-04T05:48:41.075449338Z"
    }
   }
  },
  {
   "cell_type": "markdown",
   "source": [
    "## 2D vs 1D"
   ],
   "metadata": {
    "collapsed": false
   }
  },
  {
   "cell_type": "code",
   "execution_count": 274,
   "outputs": [],
   "source": [
    "# specify subjects\n",
    "participants_tsv = r'/mnt/workdir/DCM/BIDS/participants.tsv'\n",
    "participants_data = pd.read_csv(participants_tsv, sep='\\t')\n",
    "participants_data = participants_data.query(\"(game1_fmri>=0.5)\")\n",
    "subjects_id = participants_data['Participant_ID'].to_list()\n",
    "\n",
    "# set cmp template\n",
    "eucd_cmap = r'/mnt/data/DCM/result_backup/2023.5.14/Nilearn/game1/distance_spct/Setall/6fold/{}/cmap/distance_cmap.nii.gz'\n",
    "ap_cmap = r'/mnt/data/DCM/result_backup/2023.5.14/Nilearn/game1/ap_distance_spct/Setall/6fold/{}/cmap/ap_cmap.nii.gz'\n",
    "dp_cmap = r'/mnt/data/DCM/result_backup/2023.5.14/Nilearn/game1/dp_distance_spct/Setall/6fold/{}/cmap/dp_cmap.nii.gz'\n",
    "\n",
    "# set subjects cmap path\n",
    "subs_eucd = [eucd_cmap.format(sub) for sub in subjects_id]\n",
    "subs_ap = [ap_cmap.format(sub) for sub in subjects_id]\n",
    "subs_dp = [dp_cmap.format(sub) for sub in subjects_id]\n",
    "\n",
    "# set roi\n",
    "#dmpfc = image.load_img(r'/mnt/workdir/DCM/Docs/Mask/dmPFC/DMN_and_EMO_or_SOC__dmPFC_MNINL.nii.gz')\n",
    "#vmpfc = image.load_img(r'/mnt/workdir/DCM/Docs/Mask/VMPFC/vmPFC_bin.nii.gz')\n",
    "#dmpfc = image.load_img(r'/mnt/workdir/DCM/Docs/Mask/dmPFC/dmPFC_closed_dilated_resampled.nii.gz')\n",
    "#mpfc = image.load_img(r'/mnt/workdir/DCM/Docs/Mask/Park_Grid_ROI/mPFC_GP_roi.nii')\n",
    "mpfc = image.load_img(r'/mnt/workdir/DCM/Docs/Mask/Park_Grid_ROI/mPFC_GP_roi.nii')\n",
    "\n",
    "data = pd.DataFrame()\n",
    "for effect in ['eucd','ap','dp','mean_1D']:\n",
    "        if effect != 'mean_1D':\n",
    "            subs_cmap = eval(f'subs_{effect}')\n",
    "            act = np.mean(masking.apply_mask(subs_cmap, mpfc), axis=1)\n",
    "        # elif effect != 'm2value':\n",
    "        #     subs_cmap = eval(f'subs_{effect}1')\n",
    "        #     act1 = np.mean(masking.apply_mask(subs_cmap, dmpfc), axis=1)\n",
    "        #     subs_cmap = eval(f'subs_{effect}2')\n",
    "        #     act2 = np.mean(masking.apply_mask(subs_cmap, dmpfc), axis=1)\n",
    "        #     act = np.mean([act1,act2],axis=0)\n",
    "        elif effect == 'mean_1D':\n",
    "            # calculate mean 1D activity for each subject from dp and ap distance\n",
    "            act = (data.query(\"(effect=='ap')\")['act'] + data.query(\"(effect=='dp')\")['act'])/2\n",
    "        data = data.append(pd.DataFrame({'sub': subjects_id, 'act': act, 'effect': effect}))"
   ],
   "metadata": {
    "collapsed": false,
    "ExecuteTime": {
     "end_time": "2023-07-04T05:50:27.276118884Z",
     "start_time": "2023-07-04T05:49:45.053472848Z"
    }
   }
  },
  {
   "cell_type": "code",
   "execution_count": 279,
   "outputs": [
    {
     "name": "stdout",
     "output_type": "stream",
     "text": [
      "eucd: t= 5.0137 p= 0.0 ***\n",
      "mean_1D: t= 4.6534 p= 0.0 ***\n",
      "2D vs 1D: t= 4.7882 p= 0.0 ***\n",
      "2D vs AP: t= 3.3119 p= 0.0005 ***\n",
      "2D vs DP: t= 4.1159 p= 0.0 ***\n",
      "AP vs DP: t= 0.2783 p= 0.3905 n.s.\n"
     ]
    },
    {
     "data": {
      "text/plain": "<Figure size 360x360 with 1 Axes>",
      "image/png": "[encoded data removed]"
     },
     "metadata": {},
     "output_type": "display_data"
    }
   ],
   "source": [
    "# Define effects\n",
    "effects = ['eucd','mean_1D']\n",
    "\n",
    "# Calculate single sample t-tests and print results`\n",
    "for effect in effects:\n",
    "    t, p = ttest_1samp(data.query(f\"(effect=='{effect}')\")['act'], 0,alternative='greater')\n",
    "    print(f\"{effect}:\", 't=', round(t,4), 'p=', round(p,4),p2sign(p))\n",
    "\n",
    "# Calculate the paired sample t-tests\n",
    "t1, p1 = ttest_rel(data.query(\"(effect=='eucd')\")['act'], data.query(\"(effect=='mean_1D')\")['act'],alternative='greater')\n",
    "# Calculate the paired sample t-tests\n",
    "t2, p2 = ttest_rel(data.query(\"(effect=='eucd')\")['act'], data.query(\"(effect=='ap')\")['act'],alternative='greater')\n",
    "t3, p3 = ttest_rel(data.query(\"(effect=='eucd')\")['act'], data.query(\"(effect=='dp')\")['act'],alternative='greater')\n",
    "t4,p4 = ttest_rel(data.query(\"(effect=='ap')\")['act'], data.query(\"(effect=='dp')\")['act'],alternative='greater')\n",
    "\n",
    "# Print the results\n",
    "print('2D vs 1D:','t=', round(t1,4), 'p=', round(p1,4),p2sign(p1))\n",
    "print('2D vs AP:','t=', round(t2,4), 'p=', round(p2,4),p2sign(p2))\n",
    "print('2D vs DP:','t=', round(t3,4), 'p=', round(p3,4),p2sign(p3))\n",
    "print('AP vs DP:','t=', round(t4,4), 'p=', round(p4,4),p2sign(p4))\n",
    "\n",
    "# Create the bar plot using seaborn\n",
    "#reds = ['#f07167','#f8ad9d','#ffdab9']\n",
    "reds= ['#F08080','#EDB4A8']# ,'#FFD7D9'\n",
    "data_vis = data.query('effect in [\"eucd\",\"mean_1D\"]')\n",
    "g = sns.catplot(x=\"effect\", y=\"act\", data=data_vis, kind=\"bar\", errorbar='se', height=7, aspect=0.7,palette=reds,alpha=1,width=0.6)\n",
    "g.fig.set_size_inches(5,5)\n",
    "\n",
    "# set y title\n",
    "g.ax.set_xlabel('Distance code')\n",
    "g.ax.set_ylabel('Mean activity (mPFC)')\n",
    "\n",
    "# Set y ticks\n",
    "plt.xticks([0,1],['2D(Eucd)','1D(AP/DP)'])\n",
    "# plt.yticks([0, 0.1, 0.2, 0.3, 0.4])\n",
    "\n",
    "# Add tick lines to the bottom and left spines\n",
    "g.tick_params(axis='x', which='both', bottom=True, top=False, direction='out')\n",
    "g.tick_params(axis='y', which='both', left=True, right=False, direction='out')\n",
    "\n",
    "# Add significance indicators\n",
    "x1, x2 = 0, 1  # columns '2D' and '1D-AP' (first pair)\n",
    "y, h, col = 0.22, 0, 'k'\n",
    "plt.plot([x1, x1, x2, x2], [y, y+h, y+h, y], lw=1.5, c=col)\n",
    "plt.text((x1+x2)*.5, y+h, p2sign(p1), ha='center', va='bottom', color=col)\n",
    "\n",
    "savepath = r'/mnt/workdir/DCM/Result/paper/figure3/Park-mPFC/Distance_beta_ROI-Park-mpfc.pdf'\n",
    "plt.savefig(savepath,bbox_inches='tight',pad_inches=0,dpi=300,transparent=True)\n",
    "\n",
    "# Show the plot\n",
    "plt.show()"
   ],
   "metadata": {
    "collapsed": false,
    "ExecuteTime": {
     "end_time": "2023-07-04T05:51:55.298013511Z",
     "start_time": "2023-07-04T05:51:55.036281468Z"
    }
   }
  },
  {
   "cell_type": "markdown",
   "source": [
    "## Distance vs Value\n"
   ],
   "metadata": {
    "collapsed": false
   }
  },
  {
   "cell_type": "code",
   "execution_count": 24,
   "outputs": [],
   "source": [
    "# specify subjects\n",
    "participants_tsv = r'/mnt/workdir/DCM/BIDS/participants.tsv'\n",
    "participants_data = pd.read_csv(participants_tsv, sep='\\t')\n",
    "participants_data =  participants_data.query(\"(game1_fmri>=0.5)\")\n",
    "subjects_id = participants_data['Participant_ID'].to_list()\n",
    "\n",
    "# set cmp template\n",
    "m2_eucd_cmap = r'/mnt/workdir/DCM/BIDS/derivatives/Nilearn/game1/distance_value_spct_v1/Setall/6fold/{}/cmap/distance_cmap.nii.gz'\n",
    "m2_value1_cmap = r'/mnt/workdir/DCM/BIDS/derivatives/Nilearn/game1/distance_value_spct_v1/Setall/6fold/{}/cmap/value1_cmap.nii.gz'\n",
    "m2_value2_cmap = r'/mnt/workdir/DCM/BIDS/derivatives/Nilearn/game1/distance_value_spct_v1/Setall/6fold/{}/cmap/value2_cmap.nii.gz'\n",
    "\n",
    "# decision_eucd_cmap = r'/mnt/workdir/DCM/BIDS/derivatives/Nilearn/game1/distance_value_spct/Setall/6fold/{}/cmap/decision_corrxdistance_cmap.nii.gz'\n",
    "# decision_value_cmap = r'/mnt/workdir/DCM/BIDS/derivatives/Nilearn/game1/distance_value_spct/Setall/6fold/{}/cmap/value_cmap.nii.gz'\n",
    "\n",
    "# set subjects cmap path\n",
    "subs_m2_eucd = [m2_eucd_cmap.format(sub) for sub in subjects_id]\n",
    "#subs_decision_eucd = [decision_eucd_cmap.format(sub) for sub in subjects_id]\n",
    "subs_m2_value1 = [m2_value1_cmap.format(sub) for sub in subjects_id]\n",
    "subs_m2_value2 = [m2_value2_cmap.format(sub) for sub in subjects_id]\n",
    "#subs_decision_value = [decision_value_cmap.format(sub) for sub in subjects_id]\n",
    "\n",
    "# set roi\n",
    "#dmpfc = image.load_img(r'/mnt/workdir/DCM/Docs/Mask/dmPFC/dmPFC_closed_dilated_resampled.nii.gz')\n",
    "#vmpfc = image.load_img(r'/mnt/workdir/DCM/Docs/Mask/VMPFC/vmPFC_bin.nii.gz')\n",
    "#mpfc = image.load_img(r'/mnt/workdir/DCM/Docs/Mask/VMPFC/BN_mPFC.nii.gz')\n",
    "mpfc = image.load_img(r'/mnt/workdir/DCM/Docs/Mask/Park_Grid_ROI/mPFC_GP_roi.nii')\n",
    "#mpfc = image.load_img(r'/mnt/workdir/DCM/Docs/Mask/mPFC/BiMPFC_NeuroSynth_MNINL_c2o3.nii.gz')\n",
    "\n",
    "# extract mean activity of ROI for each subjects\n",
    "data = pd.DataFrame()\n",
    "for onset in ['m2']:\n",
    "    for roi_name in ['mpfc']:\n",
    "        for effect in ['eucd','value']:\n",
    "            roi = eval(roi_name)\n",
    "            if (onset == 'm2')and(effect=='value'):\n",
    "                subs_cmap1 = eval(f'subs_{onset}_{effect}1')\n",
    "                subs_cmap2 = eval(f'subs_{onset}_{effect}2')\n",
    "                act1 = np.mean(masking.apply_mask(subs_cmap1, roi), axis=1)\n",
    "                act2 = np.mean(masking.apply_mask(subs_cmap2, roi), axis=1)\n",
    "                act = np.mean([act1,act2],axis=0)\n",
    "            else:\n",
    "                subs_cmap = eval(f'subs_{onset}_{effect}')\n",
    "                act = np.mean(masking.apply_mask(subs_cmap, roi), axis=1)\n",
    "            data = data.append(pd.DataFrame({'sub':subjects_id,'act':act,'onset':onset,'effect':effect,'ROI':roi_name}))"
   ],
   "metadata": {
    "collapsed": false,
    "ExecuteTime": {
     "end_time": "2023-07-01T09:31:20.504779520Z",
     "start_time": "2023-07-01T09:30:40.108094675Z"
    }
   }
  },
  {
   "cell_type": "code",
   "execution_count": 26,
   "outputs": [
    {
     "data": {
      "text/plain": "<Figure size 576x576 with 1 Axes>",
      "image/png": "[encoded data removed]"
     },
     "metadata": {
      "needs_background": "light"
     },
     "output_type": "display_data"
    }
   ],
   "source": [
    "colorp = sns.color_palette(\"pastel\")\n",
    "data['Mean activity'] = data['act']\n",
    "g = sns.catplot(x=\"effect\", y=\"Mean activity\", col=\"onset\", row=\"ROI\", hue=\"effect\",\n",
    "                data=data, kind=\"bar\", errorbar='se', height=7, aspect=2,alpha=0.8,width=1.3,palette=colorp)\n",
    "\n",
    "g.fig.set_size_inches(8,8)\n",
    "# Perform a paired t-test for each subplot\n",
    "for ax in g.axes.flat:\n",
    "    title = ax.get_title()\n",
    "    parts = title.split(\"|\")\n",
    "    roi = parts[0].split(\"=\")[1].strip()  # 'dmpfc'\n",
    "    onset = parts[1].split(\"=\")[1].strip()  # 'm2'\n",
    "    data1 = data[(data['ROI'] == roi) & (data['onset'] == onset) & (data['effect'] == 'eucd')]['act']\n",
    "    data2 = data[(data['ROI'] == roi) & (data['onset'] == onset) & (data['effect'] == 'value')]['act']\n",
    "\n",
    "    # Perform t-test if data is not empty\n",
    "    if not data1.empty and not data2.empty:\n",
    "        t_stat, p_val = stats.ttest_rel(data1, data2)\n",
    "        ax.text(0.5, 0.9, f'p-value = {p_val:.3f}', horizontalalignment='center',\n",
    "                verticalalignment='center', transform=ax.transAxes,size=15)\n",
    "plt.xlim(-1, 2)\n",
    "plt.savefig(r'/mnt/workdir/DCM/Result/paper/sf3/m2_distanceVSvalue',dpi=300,bbox_inches='tight',pad_inches=0,transparent=True)\n",
    "plt.show()\n"
   ],
   "metadata": {
    "collapsed": false,
    "ExecuteTime": {
     "end_time": "2023-07-01T09:33:43.373283129Z",
     "start_time": "2023-07-01T09:33:42.810362591Z"
    }
   }
  },
  {
   "cell_type": "code",
   "execution_count": 69,
   "outputs": [
    {
     "name": "stdout",
     "output_type": "stream",
     "text": [
      "t= 4.9715 p= 0.0 ***\n"
     ]
    }
   ],
   "source": [
    "t,p = ttest_1samp(data.query(f\"(effect=='value') & (ROI=='mpfc') & (onset=='m2')\")['act'],0)\n",
    "print('t=', round(t,4), 'p=', round(p,4), p2sign(p))"
   ],
   "metadata": {
    "collapsed": false,
    "ExecuteTime": {
     "end_time": "2023-06-29T10:55:56.692650594Z",
     "start_time": "2023-06-29T10:55:56.666105231Z"
    }
   }
  },
  {
   "cell_type": "markdown",
   "source": [
    "# Value vs Attribute"
   ],
   "metadata": {
    "collapsed": false
   }
  },
  {
   "cell_type": "code",
   "execution_count": 4,
   "outputs": [],
   "source": [
    "# specify subjects\n",
    "participants_tsv = r'/mnt/workdir/DCM/BIDS/participants.tsv'\n",
    "participants_data = pd.read_csv(participants_tsv, sep='\\t')\n",
    "participants_data = participants_data.query(\"(game1_fmri>=0.5)\")\n",
    "subjects_id = participants_data['Participant_ID'].to_list()\n",
    "\n",
    "# set cmp template\n",
    "value_cmap = r'/mnt/data/DCM/result_backup/2023.5.14/Nilearn/game1/value_spct/Setall/6fold/{}/cmap/value_cmap.nii.gz'\n",
    "pure_value_cmap = r'/mnt/workdir/DCM/BIDS/derivatives/Nilearn/game1/pure_value_spct/Setall/6fold/{}/cmap/value_cmap.nii.gz'\n",
    "#m2vlaue = r'/mnt/workdir/DCM/BIDS/derivatives/Nilearn_test/game1/value_spct/Setall/6fold/{}/cmap/M2_corrxvalue_cmap.nii.gz'\n",
    "# deucd_cmap = r'/mnt/workdir/DCM/BIDS/derivatives/Nilearn_test/game1/distance_spct/Setall/6fold/{}/zmap/decision_corrxdistance_zmap.nii.gz'\n",
    "\n",
    "# set subjects cmap path\n",
    "subs_value = [value_cmap.format(sub) for sub in subjects_id]\n",
    "subs_pure_value = [pure_value_cmap.format(sub) for sub in subjects_id]\n",
    "#subs_m2value  = [m2vlaue.format(sub) for sub in subjects_id]\n",
    "# subs_deucd = [deucd_cmap.format(sub) for sub in subjects_id]\n",
    "\n",
    "# set roi\n",
    "#vmpfc = image.load_img(r'/mnt/workdir/DCM/Docs/Mask/VMPFC/vmPFC_bin.nii.gz')\n",
    "mpfc = image.load_img(r'/mnt/workdir/DCM/Docs/Mask/VMPFC/VMPFC_MNI152NL.nii.gz')\n",
    "data = pd.DataFrame()\n",
    "for effect in ['value','pure_value']:\n",
    "    subs_cmap = eval(f'subs_{effect}')\n",
    "    act = np.mean(masking.apply_mask(subs_cmap,mpfc), axis=1)\n",
    "    data = data.append(pd.DataFrame({'sub': subjects_id, 'act': act, 'effect': effect}))"
   ],
   "metadata": {
    "collapsed": false,
    "ExecuteTime": {
     "end_time": "2023-06-28T12:29:36.589459380Z",
     "start_time": "2023-06-28T12:29:11.136950206Z"
    }
   }
  },
  {
   "cell_type": "code",
   "execution_count": 5,
   "outputs": [
    {
     "name": "stdout",
     "output_type": "stream",
     "text": [
      "value: t= 2.4636 p= 0.0073 **\n",
      "pure_value: t= -0.5764 p= 0.7175 n.s.\n",
      "value vs pure_value: t= 2.4825 p= 0.0069 **\n"
     ]
    },
    {
     "data": {
      "text/plain": "<Figure size 360x360 with 1 Axes>",
      "image/png": "[encoded data removed]"
     },
     "metadata": {
      "needs_background": "light"
     },
     "output_type": "display_data"
    }
   ],
   "source": [
    "# Define effects\n",
    "effects = ['value','pure_value']\n",
    "\n",
    "# Calculate single sample t-tests and print results\n",
    "for effect in effects:\n",
    "    t, p = ttest_1samp(data.query(f\"(effect=='{effect}')\")['act'], 0,alternative='greater')\n",
    "    print(f\"{effect}:\", 't=', round(t,4), 'p=', round(p,4),p2sign(p))\n",
    "#\n",
    "# # Calculate the paired sample t-tests\n",
    "t1, p1 = ttest_rel(data.query(f\"(effect=='value')\")['act'], data.query(f\"(effect=='pure_value')\")['act'],alternative='greater')\n",
    "#t2, p2 = ttest_rel(data.query(f\"(effect=='value')\")['act'], data.query(f\"(effect=='m2value')\")['act'],alternative='greater')\n",
    "#t3, p3 = ttest_rel(data.query(f\"(effect=='value')\")['act'], data.query(f\"(effect=='dp')\")['act'],alternative='greater')\n",
    "# t4, p4 = ttest_rel(data.query(f\"(effect=='dp')\")['act'], data.query(f\"(effect=='ap')\")['act'],alternative='greater')\n",
    "#\n",
    "# # Print the results\n",
    "print('value vs pure_value:', 't=', round(t1,4), 'p=', round(p1,4),p2sign(p1))\n",
    "#print('value vs m2_value:', 't=', round(t2,4), 'p=', round(p2,4),p2sign(p2))\n",
    "# print('value vs dp:', 't=', round(t3,4), 'p=', round(p3,4),p2sign(p3))\n",
    "# print('dp vs ap:', 't=', round(t4,4), 'p=', round(p4,4),p2sign(p4))\n",
    "\n",
    "muted_palette = sns.color_palette(\"bright\")\n",
    "#new_palette = [muted_palette[0],muted_palette[3],muted_palette[2]]\n",
    "blues = ['#FFDAB9','#F9F8E0']\n",
    "#'#FFEBCD'\n",
    "g = sns.catplot(x=\"effect\", y=\"act\", data=data, kind=\"bar\", errorbar='se', height=7, aspect=1,palette=blues[:3],alpha=1,width=0.6)\n",
    "g.fig.set_size_inches(5,5)\n",
    "plt.xticks([0,1],['|AP-DP|','AP-DP'])\n",
    "plt.yticks([0, 0.1, 0.2,0.3])\n",
    "\n",
    "# set y title\n",
    "#g.ax.set_xlabel('Value effect')\n",
    "g.ax.set_ylabel('Mean activity (vmPFC)')\n",
    "# Add tick lines to the bottom and left spines\n",
    "g.tick_params(axis='x', which='both', bottom=True, top=False, direction='out')\n",
    "g.tick_params(axis='y', which='both', left=True, right=False, direction='out')\n",
    "\n",
    "# Add significance indicators\n",
    "x1, x2 = 0, 1  # columns '2D' and '1D-AP' (first pair)\n",
    "y, h, col = 0.35, 0, 'k'\n",
    "plt.plot([x1, x1, x2, x2], [y, y+h, y+h, y], lw=1.5, c=col)\n",
    "plt.text((x1+x2)*.5, y+h, p2sign(p1), ha='center', va='bottom', color=col)\n",
    "\n",
    "# savepath = r'/mnt/workdir/DCM/Result/paper/figure3/value_ROI.pdf'\n",
    "# plt.savefig(savepath,bbox_inches='tight',pad_inches=0,dpi=300,transparent=True)\n",
    "#Show the plot\n",
    "plt.show()"
   ],
   "metadata": {
    "collapsed": false,
    "ExecuteTime": {
     "end_time": "2023-06-28T12:29:51.272186907Z",
     "start_time": "2023-06-28T12:29:51.082230416Z"
    }
   }
  },
  {
   "cell_type": "markdown",
   "source": [
    "## Mean effect"
   ],
   "metadata": {
    "collapsed": false
   }
  },
  {
   "cell_type": "code",
   "execution_count": null,
   "outputs": [],
   "source": [
    "# specify subjects\n",
    "participants_tsv = r'/mnt/workdir/DCM/BIDS/participants.tsv'\n",
    "participants_data = pd.read_csv(participants_tsv, sep='\\t')\n",
    "data = participants_data.query('(game1_fmri>=0.5)and(game1_acc>0.8)')  # look out\n",
    "subjects = data['Participant_ID'].to_list()\n",
    "num = len(subjects)\n",
    "# set camp\n",
    "cmap_template = r'/mnt/workdir/DCM/BIDS/derivatives/Nilearn/game1/distance_spct/Setall/6fold/{}/zmap/M2_corrxdistance_zmap.nii.gz'\n",
    "sub_cmap_paths = [cmap_template.format(sub_id) for sub_id in subjects]\n",
    "\n",
    "# set roi\n",
    "roi1 = image.load_img(r'/mnt/workdir/DCM/Docs/Mask/hippocampus/lHC_MNI152NL.nii.gz')\n",
    "roi2 = image.load_img(r'/mnt/workdir/DCM/Docs/Mask/hippocampus/rHC_MNI152NL.nii.gz')\n",
    "hc = image.math_img('np.logical_or(img1,img2)', img1=roi1, img2=roi2)\n",
    "ec = image.load_img(r'/mnt/workdir/DCM/Docs/Mask/EC/juelich_EC_MNI152NL_prob.nii.gz')\n",
    "#ec = image.load_img(r'/mnt/data/DCM/result_backup/2023.4.17/game1/hexagon_spct/EC_thr3.1.nii.gz')\n",
    "ec = image.binarize_img(ec,5)\n",
    "\n",
    "# extract mean activity of ROI for each subjects\n",
    "subs_hc_mact = np.mean(masking.apply_mask(sub_cmap_paths, hc), axis=1)\n",
    "subs_ec_mact = np.mean(masking.apply_mask(sub_cmap_paths, ec), axis=1)\n",
    "\n",
    "# mean\n",
    "t_statistic, p_value = ttest_1samp(subs_hc_mact, 0)\n",
    "print(\"HC's t:\", t_statistic)\n",
    "print(\"HC's p:\", p_value)\n",
    "\n",
    "t_statistic, p_value = ttest_1samp(subs_ec_mact, 0)\n",
    "print(\"EC's t:\", t_statistic)\n",
    "print(\"EC's p:\", p_value)"
   ],
   "metadata": {
    "collapsed": false
   }
  },
  {
   "cell_type": "code",
   "execution_count": null,
   "outputs": [],
   "source": [
    "distance_bar = pd.DataFrame({'HC':subs_hc_mact,'EC':subs_ec_mact})\n",
    "# adjust data format to plot\n",
    "distance_bar = pd.melt(distance_bar,  value_vars=['HC', 'EC'], var_name='ROI', value_name='Distance effect (Z)')\n",
    "# Initialize a Figure and Axes\n",
    "fig, ax = plt.subplots(figsize=(5,7))\n",
    "sns.barplot(\n",
    "    data=distance_bar,\n",
    "    x=\"ROI\", y=\"Distance effect (Z)\",\n",
    "    errorbar=\"se\", capsize=.15, errcolor=\"0.5\",\n",
    "    linewidth=3, edgecolor=\".5\", facecolor=(0, 0, 0, 0),\n",
    "    ax=ax\n",
    ")\n",
    "# Loop over the bars, and add a '*' label\n",
    "for i, bar in enumerate(ax.containers[0]):\n",
    "    height = bar.get_height()\n",
    "    if i == 0:\n",
    "        ax.text(bar.get_x() + bar.get_width() / 2, 0.36, \"***\", ha='center', va='bottom', fontsize=18,fontweight='bold')\n",
    "    elif i == 1:\n",
    "        ax.text(bar.get_x() + bar.get_width() / 2, 0.36, \"*\", ha='center', va='bottom', fontsize=18,fontweight='bold')\n",
    "\n",
    "ax.set_xlabel('ROI', fontsize=15)\n",
    "ax.set_ylabel('Distance effect (Z)', fontsize=15)\n",
    "# Adjust the tick parameters\n",
    "# Add tick lines to the bottom and left spines\n",
    "ax.tick_params(axis='x', which='both', bottom=True, top=False, direction='out')\n",
    "ax.tick_params(axis='y', which='both', left=True, right=False, direction='out')\n",
    "# remove the box lines of the axis\n",
    "ax.spines['top'].set_visible(False)\n",
    "ax.spines['right'].set_visible(False)\n",
    "ax.spines['bottom'].set_visible(True)\n",
    "ax.spines['left'].set_visible(True)\n",
    "\n",
    "# Set custom ticks for the x-axis and y-axis\n",
    "plt.yticks([0,0.10,0.20,0.30],size=12)\n",
    "plt.xticks(size=14)\n",
    "#plt.savefig(r'/mnt/workdir/DCM/Result/paper/supplementary figure2/distance_roi_hc&ec.pdf',bbox_inches='tight',pad_inches=0,dpi=300,transparent=True)\n",
    "plt.show()"
   ],
   "metadata": {
    "collapsed": false
   }
  },
  {
   "cell_type": "markdown",
   "source": [
    "## Align vs Misalign"
   ],
   "metadata": {
    "collapsed": false
   }
  },
  {
   "cell_type": "code",
   "execution_count": 282,
   "outputs": [],
   "source": [
    "# plot align vs misalign\n",
    "\n",
    "# specify subjects\n",
    "participants_tsv = r'/mnt/workdir/DCM/BIDS/participants.tsv'\n",
    "participants_data = pd.read_csv(participants_tsv, sep='\\t')\n",
    "data = participants_data.query('game1_fmri>=0.5')\n",
    "subjects = data['Participant_ID'].to_list()\n",
    "num = len(subjects)\n",
    "\n",
    "# set camp\n",
    "algin_template = r'/mnt/workdir/DCM/BIDS/derivatives/Nilearn/game1/hexModdistance_spct/Setall/6fold/{}/cmap/alignxdistance_cmap.nii.gz'\n",
    "misalgin_template = r'/mnt/workdir/DCM/BIDS/derivatives/Nilearn/game1/hexModdistance_spct/Setall/6fold/{}/cmap/misalignxdistance_cmap.nii.gz'\n",
    "\n",
    "sub_algin_cmaps = [algin_template.format(sub_id) for sub_id in subjects]\n",
    "sub_misalgin_cmaps = [misalgin_template.format(sub_id) for sub_id in subjects]\n",
    "\n",
    "# load mask\n",
    "mpfc = image.load_img(r'/mnt/workdir/DCM/Docs/Mask/Park_Grid_ROI/mPFC_GP_roi.nii')\n",
    "#mpfc = image.load_img(r'/mnt/workdir/DCM/Docs/Mask/mPFC/BiMPFC_NeuroSynth_MNINL_c2o3.nii.gz')\n",
    "# ec = image.load_img(r'/mnt/workdir/DCM/Docs/Mask/EC/juelich_EC_MNI152NL_prob.nii.gz')\n",
    "# ec = image.binarize_img(ec,5)\n",
    "#ec = r'/mnt/data/DCM/result_backup/2023.5.14/Nilearn/game1/hexagon_spct/EC_thr3.1.nii.gz'\n",
    "#ec = image.load_img(r'/mnt/workdir/DCM/Docs/Mask/EC/func/alignPhi_even_zmap_thr2.3.nii.gz')\n",
    "\n",
    "# load data\n",
    "subs_align_mact = np.mean(masking.apply_mask(sub_algin_cmaps, mpfc), axis=1)\n",
    "subs_misalign_mact = np.mean(masking.apply_mask(sub_misalgin_cmaps, mpfc), axis=1)\n",
    "\n",
    "subs_mact = np.concatenate((subs_align_mact,subs_misalign_mact),axis=0)\n",
    "hexModdistance_data = pd.DataFrame({'Activity':subs_mact,'Trials':num*['Align']+num*['Misalign']})"
   ],
   "metadata": {
    "collapsed": false,
    "ExecuteTime": {
     "end_time": "2023-07-04T05:55:09.683583859Z",
     "start_time": "2023-07-04T05:54:41.659589267Z"
    }
   }
  },
  {
   "cell_type": "code",
   "execution_count": 287,
   "outputs": [
    {
     "name": "stdout",
     "output_type": "stream",
     "text": [
      "Align's t: 4.9832045779814935\n",
      "Align's p: 1.3411802964580092e-06\n",
      "Misalign's t: 4.783513004147481\n",
      "Misalign's p: 3.3182601282113354e-06\n",
      "Align vs Misalign's t: 2.659091380348893\n",
      "Align vs Misalign's p: 0.00846339525423968\n"
     ]
    }
   ],
   "source": [
    "# mean\n",
    "t_statistic, p_value = ttest_1samp(subs_align_mact, 0)\n",
    "print(\"Align's t:\", t_statistic)\n",
    "print(\"Align's p:\", p_value)\n",
    "\n",
    "t_statistic, p_value = ttest_1samp(subs_misalign_mact, 0)\n",
    "print(\"Misalign's t:\", t_statistic)\n",
    "print(\"Misalign's p:\", p_value)\n",
    "\n",
    "t_statistic, p_value = ttest_rel(subs_align_mact, subs_misalign_mact)\n",
    "print(\"Align vs Misalign's t:\", t_statistic)\n",
    "print(\"Align vs Misalign's p:\", p_value)"
   ],
   "metadata": {
    "collapsed": false,
    "ExecuteTime": {
     "end_time": "2023-07-04T05:57:46.374457358Z",
     "start_time": "2023-07-04T05:57:46.350963430Z"
    }
   }
  },
  {
   "cell_type": "code",
   "execution_count": 288,
   "outputs": [
    {
     "data": {
      "text/plain": "<Figure size 360x360 with 1 Axes>",
      "image/png": "[encoded data removed]"
     },
     "metadata": {},
     "output_type": "display_data"
    }
   ],
   "source": [
    "# Create the bar plot using seaborn\n",
    "#reds = ['#f07167','#f8ad9d','#ffdab9']\n",
    "colors= ['#FFDAB9','#F9F8E0']#\n",
    "\n",
    "#colors = sns.color_palette(\"pastel\")[:2][::-1]# '#FFD7D9'\n",
    "g = sns.catplot(x=\"Trials\", y=\"Activity\", data=hexModdistance_data, kind=\"bar\", errorbar='se', height=7, aspect=0.7,palette=colors,alpha=1,width=0.6)\n",
    "g.fig.set_size_inches(5,5)\n",
    "\n",
    "# set y title\n",
    "g.ax.set_xlabel('Trial type')\n",
    "g.ax.set_ylabel(u'\\u03B2'+' distance')\n",
    "\n",
    "# Set y ticks\n",
    "#plt.xticks([0,1],['2D(Eucd)','1D(AP/DP)'])\n",
    "# plt.yticks([0, 0.1, 0.2, 0.3, 0.4])\n",
    "\n",
    "# Add tick lines to the bottom and left spines\n",
    "g.tick_params(axis='x', which='both', bottom=True, top=False, direction='out')\n",
    "g.tick_params(axis='y', which='both', left=True, right=False, direction='out')\n",
    "\n",
    "# Add significance indicators\n",
    "x1, x2 = 0, 1  # columns '2D' and '1D-AP' (first pair)\n",
    "y, h, col = 0.45, 0, 'k'\n",
    "plt.plot([x1, x1, x2, x2], [y, y+h, y+h, y], lw=1.5, c=col)\n",
    "plt.text((x1+x2)*.5, y+h, p2sign(p_value), ha='center', va='bottom', color=col)\n",
    "\n",
    "savepath = r'/mnt/workdir/DCM/Result/paper/figure3/Park-mPFC/HexModDistance_ROI-Park-mpfc_6fold_alignVSmisalign.pdf'\n",
    "plt.savefig(savepath,bbox_inches='tight',pad_inches=0,dpi=300,transparent=True)\n",
    "\n",
    "# Show the plot\n",
    "plt.show()"
   ],
   "metadata": {
    "collapsed": false,
    "ExecuteTime": {
     "end_time": "2023-07-04T05:58:31.516191371Z",
     "start_time": "2023-07-04T05:58:31.260888505Z"
    }
   }
  },
  {
   "cell_type": "markdown",
   "source": [
    "## All mediaiton effect in one plot"
   ],
   "metadata": {
    "collapsed": false
   }
  },
  {
   "cell_type": "code",
   "execution_count": 108,
   "outputs": [
    {
     "ename": "FileNotFoundError",
     "evalue": "[Errno 2] No such file or directory: '/mnt/workdir/DCM/Result/paper/figure3/Park-mPFC/Mediation_distance_Park-mPFC.csv'",
     "output_type": "error",
     "traceback": [
      "\u001B[0;31m---------------------------------------------------------------------------\u001B[0m",
      "\u001B[0;31mFileNotFoundError\u001B[0m                         Traceback (most recent call last)",
      "\u001B[0;32m<ipython-input-108-018de73527e6>\u001B[0m in \u001B[0;36m<module>\u001B[0;34m\u001B[0m\n\u001B[1;32m      3\u001B[0m \u001B[0;31m# load mediation results\u001B[0m\u001B[0;34m\u001B[0m\u001B[0;34m\u001B[0m\u001B[0;34m\u001B[0m\u001B[0m\n\u001B[1;32m      4\u001B[0m \u001B[0mhexagon_med\u001B[0m \u001B[0;34m=\u001B[0m \u001B[0mpd\u001B[0m\u001B[0;34m.\u001B[0m\u001B[0mread_csv\u001B[0m\u001B[0;34m(\u001B[0m\u001B[0;34mr'/mnt/workdir/DCM/Result/paper/figure2/Hexagon_RSA_mediation.csv'\u001B[0m\u001B[0;34m)\u001B[0m\u001B[0;34m\u001B[0m\u001B[0;34m\u001B[0m\u001B[0m\n\u001B[0;32m----> 5\u001B[0;31m \u001B[0mdistance_med\u001B[0m \u001B[0;34m=\u001B[0m \u001B[0mpd\u001B[0m\u001B[0;34m.\u001B[0m\u001B[0mread_csv\u001B[0m\u001B[0;34m(\u001B[0m\u001B[0;34mr'/mnt/workdir/DCM/Result/paper/figure3/Park-mPFC/Mediation_distance_Park-mPFC.csv'\u001B[0m\u001B[0;34m)\u001B[0m\u001B[0;34m\u001B[0m\u001B[0;34m\u001B[0m\u001B[0m\n\u001B[0m\u001B[1;32m      6\u001B[0m \u001B[0mhexModdistance_med\u001B[0m \u001B[0;34m=\u001B[0m \u001B[0mpd\u001B[0m\u001B[0;34m.\u001B[0m\u001B[0mread_csv\u001B[0m\u001B[0;34m(\u001B[0m\u001B[0;34mr'/mnt/workdir/DCM/Result/paper/figure3/Park-mPFC/Mediation_HexModDistance_Park-mPFC.csv'\u001B[0m\u001B[0;34m)\u001B[0m\u001B[0;34m\u001B[0m\u001B[0;34m\u001B[0m\u001B[0m\n\u001B[1;32m      7\u001B[0m \u001B[0mvalue_med\u001B[0m \u001B[0;34m=\u001B[0m \u001B[0mpd\u001B[0m\u001B[0;34m.\u001B[0m\u001B[0mread_csv\u001B[0m\u001B[0;34m(\u001B[0m\u001B[0;34mr'/mnt/workdir/DCM/Result/paper/figure3/Mediation_value_vmPFC.csv'\u001B[0m\u001B[0;34m)\u001B[0m\u001B[0;34m\u001B[0m\u001B[0;34m\u001B[0m\u001B[0m\n",
      "\u001B[0;32m~/Software/anaconda3/lib/python3.8/site-packages/pandas/io/parsers.py\u001B[0m in \u001B[0;36mread_csv\u001B[0;34m(filepath_or_buffer, sep, delimiter, header, names, index_col, usecols, squeeze, prefix, mangle_dupe_cols, dtype, engine, converters, true_values, false_values, skipinitialspace, skiprows, skipfooter, nrows, na_values, keep_default_na, na_filter, verbose, skip_blank_lines, parse_dates, infer_datetime_format, keep_date_col, date_parser, dayfirst, cache_dates, iterator, chunksize, compression, thousands, decimal, lineterminator, quotechar, quoting, doublequote, escapechar, comment, encoding, dialect, error_bad_lines, warn_bad_lines, delim_whitespace, low_memory, memory_map, float_precision, storage_options)\u001B[0m\n\u001B[1;32m    608\u001B[0m     \u001B[0mkwds\u001B[0m\u001B[0;34m.\u001B[0m\u001B[0mupdate\u001B[0m\u001B[0;34m(\u001B[0m\u001B[0mkwds_defaults\u001B[0m\u001B[0;34m)\u001B[0m\u001B[0;34m\u001B[0m\u001B[0;34m\u001B[0m\u001B[0m\n\u001B[1;32m    609\u001B[0m \u001B[0;34m\u001B[0m\u001B[0m\n\u001B[0;32m--> 610\u001B[0;31m     \u001B[0;32mreturn\u001B[0m \u001B[0m_read\u001B[0m\u001B[0;34m(\u001B[0m\u001B[0mfilepath_or_buffer\u001B[0m\u001B[0;34m,\u001B[0m \u001B[0mkwds\u001B[0m\u001B[0;34m)\u001B[0m\u001B[0;34m\u001B[0m\u001B[0;34m\u001B[0m\u001B[0m\n\u001B[0m\u001B[1;32m    611\u001B[0m \u001B[0;34m\u001B[0m\u001B[0m\n\u001B[1;32m    612\u001B[0m \u001B[0;34m\u001B[0m\u001B[0m\n",
      "\u001B[0;32m~/Software/anaconda3/lib/python3.8/site-packages/pandas/io/parsers.py\u001B[0m in \u001B[0;36m_read\u001B[0;34m(filepath_or_buffer, kwds)\u001B[0m\n\u001B[1;32m    460\u001B[0m \u001B[0;34m\u001B[0m\u001B[0m\n\u001B[1;32m    461\u001B[0m     \u001B[0;31m# Create the parser.\u001B[0m\u001B[0;34m\u001B[0m\u001B[0;34m\u001B[0m\u001B[0;34m\u001B[0m\u001B[0m\n\u001B[0;32m--> 462\u001B[0;31m     \u001B[0mparser\u001B[0m \u001B[0;34m=\u001B[0m \u001B[0mTextFileReader\u001B[0m\u001B[0;34m(\u001B[0m\u001B[0mfilepath_or_buffer\u001B[0m\u001B[0;34m,\u001B[0m \u001B[0;34m**\u001B[0m\u001B[0mkwds\u001B[0m\u001B[0;34m)\u001B[0m\u001B[0;34m\u001B[0m\u001B[0;34m\u001B[0m\u001B[0m\n\u001B[0m\u001B[1;32m    463\u001B[0m \u001B[0;34m\u001B[0m\u001B[0m\n\u001B[1;32m    464\u001B[0m     \u001B[0;32mif\u001B[0m \u001B[0mchunksize\u001B[0m \u001B[0;32mor\u001B[0m \u001B[0miterator\u001B[0m\u001B[0;34m:\u001B[0m\u001B[0;34m\u001B[0m\u001B[0;34m\u001B[0m\u001B[0m\n",
      "\u001B[0;32m~/Software/anaconda3/lib/python3.8/site-packages/pandas/io/parsers.py\u001B[0m in \u001B[0;36m__init__\u001B[0;34m(self, f, engine, **kwds)\u001B[0m\n\u001B[1;32m    817\u001B[0m             \u001B[0mself\u001B[0m\u001B[0;34m.\u001B[0m\u001B[0moptions\u001B[0m\u001B[0;34m[\u001B[0m\u001B[0;34m\"has_index_names\"\u001B[0m\u001B[0;34m]\u001B[0m \u001B[0;34m=\u001B[0m \u001B[0mkwds\u001B[0m\u001B[0;34m[\u001B[0m\u001B[0;34m\"has_index_names\"\u001B[0m\u001B[0;34m]\u001B[0m\u001B[0;34m\u001B[0m\u001B[0;34m\u001B[0m\u001B[0m\n\u001B[1;32m    818\u001B[0m \u001B[0;34m\u001B[0m\u001B[0m\n\u001B[0;32m--> 819\u001B[0;31m         \u001B[0mself\u001B[0m\u001B[0;34m.\u001B[0m\u001B[0m_engine\u001B[0m \u001B[0;34m=\u001B[0m \u001B[0mself\u001B[0m\u001B[0;34m.\u001B[0m\u001B[0m_make_engine\u001B[0m\u001B[0;34m(\u001B[0m\u001B[0mself\u001B[0m\u001B[0;34m.\u001B[0m\u001B[0mengine\u001B[0m\u001B[0;34m)\u001B[0m\u001B[0;34m\u001B[0m\u001B[0;34m\u001B[0m\u001B[0m\n\u001B[0m\u001B[1;32m    820\u001B[0m \u001B[0;34m\u001B[0m\u001B[0m\n\u001B[1;32m    821\u001B[0m     \u001B[0;32mdef\u001B[0m \u001B[0mclose\u001B[0m\u001B[0;34m(\u001B[0m\u001B[0mself\u001B[0m\u001B[0;34m)\u001B[0m\u001B[0;34m:\u001B[0m\u001B[0;34m\u001B[0m\u001B[0;34m\u001B[0m\u001B[0m\n",
      "\u001B[0;32m~/Software/anaconda3/lib/python3.8/site-packages/pandas/io/parsers.py\u001B[0m in \u001B[0;36m_make_engine\u001B[0;34m(self, engine)\u001B[0m\n\u001B[1;32m   1048\u001B[0m             )\n\u001B[1;32m   1049\u001B[0m         \u001B[0;31m# error: Too many arguments for \"ParserBase\"\u001B[0m\u001B[0;34m\u001B[0m\u001B[0;34m\u001B[0m\u001B[0;34m\u001B[0m\u001B[0m\n\u001B[0;32m-> 1050\u001B[0;31m         \u001B[0;32mreturn\u001B[0m \u001B[0mmapping\u001B[0m\u001B[0;34m[\u001B[0m\u001B[0mengine\u001B[0m\u001B[0;34m]\u001B[0m\u001B[0;34m(\u001B[0m\u001B[0mself\u001B[0m\u001B[0;34m.\u001B[0m\u001B[0mf\u001B[0m\u001B[0;34m,\u001B[0m \u001B[0;34m**\u001B[0m\u001B[0mself\u001B[0m\u001B[0;34m.\u001B[0m\u001B[0moptions\u001B[0m\u001B[0;34m)\u001B[0m  \u001B[0;31m# type: ignore[call-arg]\u001B[0m\u001B[0;34m\u001B[0m\u001B[0;34m\u001B[0m\u001B[0m\n\u001B[0m\u001B[1;32m   1051\u001B[0m \u001B[0;34m\u001B[0m\u001B[0m\n\u001B[1;32m   1052\u001B[0m     \u001B[0;32mdef\u001B[0m \u001B[0m_failover_to_python\u001B[0m\u001B[0;34m(\u001B[0m\u001B[0mself\u001B[0m\u001B[0;34m)\u001B[0m\u001B[0;34m:\u001B[0m\u001B[0;34m\u001B[0m\u001B[0;34m\u001B[0m\u001B[0m\n",
      "\u001B[0;32m~/Software/anaconda3/lib/python3.8/site-packages/pandas/io/parsers.py\u001B[0m in \u001B[0;36m__init__\u001B[0;34m(self, src, **kwds)\u001B[0m\n\u001B[1;32m   1865\u001B[0m \u001B[0;34m\u001B[0m\u001B[0m\n\u001B[1;32m   1866\u001B[0m         \u001B[0;31m# open handles\u001B[0m\u001B[0;34m\u001B[0m\u001B[0;34m\u001B[0m\u001B[0;34m\u001B[0m\u001B[0m\n\u001B[0;32m-> 1867\u001B[0;31m         \u001B[0mself\u001B[0m\u001B[0;34m.\u001B[0m\u001B[0m_open_handles\u001B[0m\u001B[0;34m(\u001B[0m\u001B[0msrc\u001B[0m\u001B[0;34m,\u001B[0m \u001B[0mkwds\u001B[0m\u001B[0;34m)\u001B[0m\u001B[0;34m\u001B[0m\u001B[0;34m\u001B[0m\u001B[0m\n\u001B[0m\u001B[1;32m   1868\u001B[0m         \u001B[0;32massert\u001B[0m \u001B[0mself\u001B[0m\u001B[0;34m.\u001B[0m\u001B[0mhandles\u001B[0m \u001B[0;32mis\u001B[0m \u001B[0;32mnot\u001B[0m \u001B[0;32mNone\u001B[0m\u001B[0;34m\u001B[0m\u001B[0;34m\u001B[0m\u001B[0m\n\u001B[1;32m   1869\u001B[0m         \u001B[0;32mfor\u001B[0m \u001B[0mkey\u001B[0m \u001B[0;32min\u001B[0m \u001B[0;34m(\u001B[0m\u001B[0;34m\"storage_options\"\u001B[0m\u001B[0;34m,\u001B[0m \u001B[0;34m\"encoding\"\u001B[0m\u001B[0;34m,\u001B[0m \u001B[0;34m\"memory_map\"\u001B[0m\u001B[0;34m,\u001B[0m \u001B[0;34m\"compression\"\u001B[0m\u001B[0;34m)\u001B[0m\u001B[0;34m:\u001B[0m\u001B[0;34m\u001B[0m\u001B[0;34m\u001B[0m\u001B[0m\n",
      "\u001B[0;32m~/Software/anaconda3/lib/python3.8/site-packages/pandas/io/parsers.py\u001B[0m in \u001B[0;36m_open_handles\u001B[0;34m(self, src, kwds)\u001B[0m\n\u001B[1;32m   1360\u001B[0m         \u001B[0mLet\u001B[0m \u001B[0mthe\u001B[0m \u001B[0mreaders\u001B[0m \u001B[0mopen\u001B[0m \u001B[0mIOHanldes\u001B[0m \u001B[0mafter\u001B[0m \u001B[0mthey\u001B[0m \u001B[0mare\u001B[0m \u001B[0mdone\u001B[0m \u001B[0;32mwith\u001B[0m \u001B[0mtheir\u001B[0m \u001B[0mpotential\u001B[0m \u001B[0mraises\u001B[0m\u001B[0;34m.\u001B[0m\u001B[0;34m\u001B[0m\u001B[0;34m\u001B[0m\u001B[0m\n\u001B[1;32m   1361\u001B[0m         \"\"\"\n\u001B[0;32m-> 1362\u001B[0;31m         self.handles = get_handle(\n\u001B[0m\u001B[1;32m   1363\u001B[0m             \u001B[0msrc\u001B[0m\u001B[0;34m,\u001B[0m\u001B[0;34m\u001B[0m\u001B[0;34m\u001B[0m\u001B[0m\n\u001B[1;32m   1364\u001B[0m             \u001B[0;34m\"r\"\u001B[0m\u001B[0;34m,\u001B[0m\u001B[0;34m\u001B[0m\u001B[0;34m\u001B[0m\u001B[0m\n",
      "\u001B[0;32m~/Software/anaconda3/lib/python3.8/site-packages/pandas/io/common.py\u001B[0m in \u001B[0;36mget_handle\u001B[0;34m(path_or_buf, mode, encoding, compression, memory_map, is_text, errors, storage_options)\u001B[0m\n\u001B[1;32m    640\u001B[0m                 \u001B[0merrors\u001B[0m \u001B[0;34m=\u001B[0m \u001B[0;34m\"replace\"\u001B[0m\u001B[0;34m\u001B[0m\u001B[0;34m\u001B[0m\u001B[0m\n\u001B[1;32m    641\u001B[0m             \u001B[0;31m# Encoding\u001B[0m\u001B[0;34m\u001B[0m\u001B[0;34m\u001B[0m\u001B[0;34m\u001B[0m\u001B[0m\n\u001B[0;32m--> 642\u001B[0;31m             handle = open(\n\u001B[0m\u001B[1;32m    643\u001B[0m                 \u001B[0mhandle\u001B[0m\u001B[0;34m,\u001B[0m\u001B[0;34m\u001B[0m\u001B[0;34m\u001B[0m\u001B[0m\n\u001B[1;32m    644\u001B[0m                 \u001B[0mioargs\u001B[0m\u001B[0;34m.\u001B[0m\u001B[0mmode\u001B[0m\u001B[0;34m,\u001B[0m\u001B[0;34m\u001B[0m\u001B[0;34m\u001B[0m\u001B[0m\n",
      "\u001B[0;31mFileNotFoundError\u001B[0m: [Errno 2] No such file or directory: '/mnt/workdir/DCM/Result/paper/figure3/Park-mPFC/Mediation_distance_Park-mPFC.csv'"
     ]
    }
   ],
   "source": [
    "# plot all mediaiton effect in one plot\n",
    "\n",
    "# load mediation results\n",
    "hexagon_med = pd.read_csv(r'/mnt/workdir/DCM/Result/paper/figure2/Hexagon_RSA_mediation.csv')\n",
    "distance_med = pd.read_csv(r'/mnt/workdir/DCM/Result/paper/figure3/Park-mPFC/Mediation_distance_Park-mPFC.csv')\n",
    "hexModdistance_med = pd.read_csv(r'/mnt/workdir/DCM/Result/paper/figure3/Park-mPFC/Mediation_HexModDistance_Park-mPFC.csv')\n",
    "value_med = pd.read_csv(r'/mnt/workdir/DCM/Result/paper/figure3/Mediation_value_vmPFC.csv')\n",
    "parallel_med = pd.read_csv(r'/mnt/workdir/DCM/Result/paper/figure3/Park-mPFC/Mediation_hexagon_diistance_parallel.csv')\n",
    "\n",
    "\n",
    "mediation_results = pd.DataFrame({\n",
    "    'mediation': ['hexagon', 'distance', 'hexModdistance', 'value', 'parallel_hexagon', 'parallel_distance'],\n",
    "    'CI_low': [hexagon_med.loc[hexagon_med['path']=='Indirect', 'CI[2.5%]'].values[0],\n",
    "               distance_med.loc[distance_med['path']=='Indirect', 'CI[2.5%]'].values[0],\n",
    "               hexModdistance_med.loc[hexModdistance_med['path']=='Indirect', 'CI[2.5%]'].values[0],\n",
    "               value_med.loc[value_med['path']=='Indirect', 'CI[2.5%]'].values[0],\n",
    "               parallel_med.loc[parallel_med['path']=='Indirect hexagon', 'CI[2.5%]'].values[0],\n",
    "               parallel_med.loc[parallel_med['path']=='Indirect distance', 'CI[2.5%]'].values[0]],\n",
    "    'CI_high': [hexagon_med.loc[hexagon_med['path']=='Indirect', 'CI[97.5%]'].values[0],\n",
    "                distance_med.loc[distance_med['path']=='Indirect', 'CI[97.5%]'].values[0],\n",
    "                hexModdistance_med.loc[hexModdistance_med['path']=='Indirect', 'CI[97.5%]'].values[0],\n",
    "                value_med.loc[value_med['path']=='Indirect', 'CI[97.5%]'].values[0],\n",
    "                parallel_med.loc[parallel_med['path']=='Indirect hexagon', 'CI[97.5%]'].values[0],\n",
    "                parallel_med.loc[parallel_med['path']=='Indirect distance', 'CI[97.5%]'].values[0]],\n",
    "    'sig': [hexagon_med.loc[hexagon_med['path']=='Indirect', 'sig'].values[0] == 'Yes',\n",
    "            distance_med.loc[distance_med['path']=='Indirect', 'sig'].values[0] == 'Yes',\n",
    "            hexModdistance_med.loc[hexModdistance_med['path']=='Indirect', 'sig'].values[0] == 'Yes',\n",
    "            value_med.loc[value_med['path']=='Indirect', 'sig'].values[0] == 'Yes',\n",
    "            parallel_med.loc[parallel_med['path']=='Indirect hexagon', 'sig'].values[0] == 'Yes',\n",
    "            parallel_med.loc[parallel_med['path']=='Indirect distance', 'sig'].values[0] == 'Yes']\n",
    "})\n",
    "\n",
    "\n",
    "fig,ax = plt.subplots(figsize=(6, 8))\n",
    "sns.set_palette('pastel')\n",
    "\n",
    "# We use hlines to draw horizontal lines at each y position\n",
    "plt.hlines(y=mediation_results['mediation'], xmin=mediation_results['CI_low'], xmax=mediation_results['CI_high'],\n",
    "           colors='b', linewidth=2)\n",
    "\n",
    "# We use errorbar to add caps at the end of each line\n",
    "plt.errorbar(x=(mediation_results['CI_low'] + mediation_results['CI_high']) / 2,\n",
    "             y=mediation_results.index,\n",
    "             xerr=[mediation_results['CI_high'] - (mediation_results['CI_low'] + mediation_results['CI_high']) / 2,\n",
    "                   (mediation_results['CI_low'] + mediation_results['CI_high']) / 2 - mediation_results['CI_low']],\n",
    "             fmt='o',capsize=8,capthick=2,linewidth=2,markersize=9)\n",
    "\n",
    "# Determine the x position of labels\n",
    "label_x_position = max(mediation_results['CI_high']) + 0.01  # or set a value according to your data\n",
    "\n",
    "for i, row in mediation_results.iterrows():\n",
    "    label = '*' if row['sig'] else ''\n",
    "    plt.text(label_x_position, i, label, va='center', size=15)\n",
    "\n",
    "# Modify tick parameters\n",
    "ax.tick_params(axis='y', which='both', left=True, right=False, direction='out')\n",
    "ax.tick_params(axis='x', which='both', bottom=True, top=False, direction='out')\n",
    "plt.xlim(-0.025,0.1)\n",
    "\n",
    "# remove the box lines of the axis\n",
    "ax.spines['top'].set_visible(False)\n",
    "ax.spines['right'].set_visible(False)\n",
    "ax.spines['bottom'].set_visible(True)\n",
    "ax.spines['left'].set_visible(True)\n",
    "\n",
    "plt.ylabel('Neural represenation')\n",
    "plt.xlabel('Confidence Interval [2.5% - 97.5%] for indirect effect ')\n",
    "plt.axvline(0, color='black', linestyle='--',alpha=0.8)\n",
    "\n",
    "# Reverse y-axis\n",
    "#ax.invert_yaxis()\n",
    "# Rotate y labels\n",
    "# plt.yticks(r#otation=45)\n",
    "\n",
    "plt.tight_layout()\n",
    "plt.savefig(r'/mnt/workdir/DCM/Result/paper/figure3/mediation_all.pdf',bbox_inches='tight',pad_inches=0,dpi=300,transparent=True)\n",
    "plt.show()"
   ],
   "metadata": {
    "collapsed": false,
    "ExecuteTime": {
     "end_time": "2023-07-03T14:32:31.509379774Z",
     "start_time": "2023-07-03T14:32:31.465299848Z"
    }
   }
  },
  {
   "cell_type": "code",
   "execution_count": 477,
   "outputs": [
    {
     "data": {
      "text/plain": "<seaborn.axisgrid.FacetGrid at 0x7f90bd0894c0>"
     },
     "execution_count": 477,
     "metadata": {},
     "output_type": "execute_result"
    },
    {
     "data": {
      "text/plain": "<Figure size 864x648 with 6 Axes>",
      "image/png": "[encoded data removed]"
     },
     "metadata": {},
     "output_type": "display_data"
    }
   ],
   "source": [
    "# load mediation results\n",
    "hexagon_bsample = np.load(r'/mnt/workdir/DCM/Result/paper/figure2/Indirect_beta_sample_hexagon.npy')\n",
    "distance_bsample  = np.load(r'/mnt/workdir/DCM/Result/paper/figure3/mediation/Indirect_beta_sample_distance.npy')\n",
    "hexModdistance_bsample  = np.load(r'/mnt/workdir/DCM/Result/paper/figure3/mediation/Indirect_beta_sample_hexModdistance.npy')\n",
    "value_bsample  = np.load(r'/mnt/workdir/DCM/Result/paper/figure3/mediation/Indirect_beta_sample_value.npy')\n",
    "parallel_bsample = np.load(r'/mnt/workdir/DCM/Result/paper/figure3/mediation/Indirect_beta_sample_parallel_hexagon_distance.npy')\n",
    "parallel_hexagon_bsample = parallel_bsample[:,0]\n",
    "parallel_distance_bsample = parallel_bsample[:,1]\n",
    "\n",
    "import numpy as np\n",
    "import pandas as pd\n",
    "import seaborn as sns\n",
    "import matplotlib.pyplot as plt\n",
    "import matplotlib.lines as mlines\n",
    "from matplotlib.patches import Rectangle\n",
    "from scipy import stats\n",
    "sns.set_theme(style=\"white\", rc={\"axes.facecolor\": (0, 0, 0, 0)})\n",
    "\n",
    "# List of bsample data\n",
    "bsample_data = [hexagon_bsample, distance_bsample, parallel_hexagon_bsample, parallel_distance_bsample, value_bsample,hexModdistance_bsample]\n",
    "\n",
    "# List of bsample labels\n",
    "bsample_labels = ['Hexagon(EC)', 'Distance(mPFC)','Hexagon_parallel(EC)', 'Distance_parallel(mPFC)', 'Value(mPFC)', 'Distance(align-misalign)']\n",
    "\n",
    "# Empty dataframe for concatenation\n",
    "df = pd.DataFrame()\n",
    "\n",
    "# Concatenating all bsample data into one DataFrame\n",
    "for i in range(len(bsample_data)):\n",
    "    temp = pd.DataFrame(bsample_data[i], columns=['x'])\n",
    "    temp['g'] = bsample_labels[i]\n",
    "    df = pd.concat([df, temp])\n",
    "\n",
    "# Create the color palette\n",
    "#pal = sns.cubehelix_palette(len(bsample_data), rot=0.5, light=.72)\n",
    "pal = sns.color_palette(\"rocket_r\", 7)[1:] # rocket_r\n",
    "#pal = pal[:2]+pal\n",
    "\n",
    "# Create the FacetGrid object\n",
    "g = sns.FacetGrid(df, row=\"g\", hue=\"g\", aspect=8, height=1.5, palette=pal)\n",
    "\n",
    "# Draw the densities\n",
    "g.map(sns.kdeplot, \"x\", bw_adjust=.5, clip_on=True, fill=True, alpha=1, linewidth=1.5)\n",
    "g.map(sns.kdeplot, \"x\", clip_on=True, color=\"w\", lw=2, bw_adjust=.5)\n",
    "\n",
    "# Draw the vertical line at zero for all plots\n",
    "g.map(plt.axvline, x=0, color='black', linestyle='--',alpha=0.6)\n",
    "\n",
    "# Draw the vertical line for lower boundary of distribution for all plots\n",
    "ci = 0.95\n",
    "for i, data in enumerate(bsample_data):\n",
    "    lower = np.percentile(data, (1 - ci) / 2 * 100)\n",
    "    upper = np.percentile(data, (1 + ci) / 2 * 100)\n",
    "    median = np.median(data)\n",
    "    # Compute KDE to get y range\n",
    "    density = stats.gaussian_kde(data)\n",
    "    xs = np.linspace(np.min(data), np.max(data), 10)\n",
    "    ys = density(xs)\n",
    "    ymax = np.max(ys)  # half of the maximum y value\n",
    "\n",
    "    # Add the rectangle to cover areas outside the confidence interval\n",
    "    rectangle_left = Rectangle((-0.08, 0), lower+0.08, ymax, color='white',alpha=1)\n",
    "    rectangle_right = Rectangle((upper, 0), 0.12-upper, ymax, color='white',alpha=1)\n",
    "    g.axes[i][0].add_patch(rectangle_left)\n",
    "    g.axes[i][0].add_patch(rectangle_right)\n",
    "    g.axes[i][0].plot([lower, lower], [0, ymax*0.72], color=pal[i], linestyle='-',alpha=1)\n",
    "    # If the lower boundary is greater than 0, add a star marker\n",
    "    if lower > 0:\n",
    "        star = mlines.Line2D([lower], [ymax*0.72], color=pal[i], marker='*', linestyle='None', markersize=15)\n",
    "        g.axes[i][0].add_line(star)\n",
    "    #g.axes[i][0].hlines(0, -0.08, 0.12, colors='red', linestyles='-', lw=2)\n",
    "\n",
    "g.refline(y=0, linewidth=2, linestyle=\"-\", color=None, clip_on=False)\n",
    "\n",
    "# Add labels\n",
    "def label(x, color, label):\n",
    "    ax = plt.gca()\n",
    "    ax.text(0, .2, label, color=color, ha=\"left\", va=\"center\", transform=ax.transAxes,size=24)\n",
    "\n",
    "g.map(label, \"x\")\n",
    "\n",
    "# Adjust y-limits\n",
    "# for i, ax in enumerate(g.axes.flatten()):\n",
    "#     data = bsample_data[i]\n",
    "#     density = stats.gaussian_kde(data)\n",
    "#     ys = density(np.linspace(np.min(data), np.max(data), 200))\n",
    "#     ymax = np.max(ys)  # the maximum y value\n",
    "#     ax.set_ylim(0, ymax)\n",
    "\n",
    "# Set the subplots to overlap and remove axes details that don't play well with overlap\n",
    "g.figure.subplots_adjust(hspace=-0.04)\n",
    "g.set_titles(\"\")\n",
    "g.set(yticks=[], ylabel=\"\")\n",
    "g.despine(bottom=True, left=True)\n",
    "\n",
    "# Set x-axis limits\n",
    "g.set(xlim=(-0.12, 0.12))\n",
    "g.set(xticks=[0, 0.05, 0.1])\n",
    "#\n",
    "# plt.savefig(r'/mnt/workdir/DCM/Result/paper/figure3/mediation/mediation_all_ridge_plot2.pdf',bbox_inches='tight',pad_inches=0,dpi=300, transparent=True)\n",
    "# plt.show()"
   ],
   "metadata": {
    "collapsed": false,
    "ExecuteTime": {
     "end_time": "2023-07-05T04:13:07.081580291Z",
     "start_time": "2023-07-05T04:13:03.182902597Z"
    }
   }
  }
 ],
 "metadata": {
  "kernelspec": {
   "display_name": "Python 3",
   "language": "python",
   "name": "python3"
  },
  "language_info": {
   "codemirror_mode": {
    "name": "ipython",
    "version": 2
   },
   "file_extension": ".py",
   "mimetype": "text/x-python",
   "name": "python",
   "nbconvert_exporter": "python",
   "pygments_lexer": "ipython2",
   "version": "2.7.6"
  }
 },
 "nbformat": 4,
 "nbformat_minor": 0
}
