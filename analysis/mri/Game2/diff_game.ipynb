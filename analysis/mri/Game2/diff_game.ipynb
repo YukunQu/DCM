{
 "cells": [
  {
   "cell_type": "code",
   "execution_count": 27,
   "metadata": {
    "collapsed": true,
    "pycharm": {
     "name": "#%%\n"
    }
   },
   "outputs": [
    {
     "data": {
      "text/plain": "<Figure size 504x504 with 1 Axes>",
      "image/png": "[encoded data removed]"
     },
     "metadata": {},
     "output_type": "display_data"
    }
   ],
   "source": [
    "import numpy as np\n",
    "from nilearn.masking import apply_mask\n",
    "from nilearn.image import load_img,resample_to_img,math_img\n",
    "\n",
    "# load roi\n",
    "HCl = load_img(r'/mnt/workdir/DCM/docs/Reference/Park_Grid_Coding/osfstorage-archive/data/Analysis_ROI_nii/HCl_roi.nii')\n",
    "HCr = load_img(r'/mnt/workdir/DCM/docs/Reference/Park_Grid_Coding/osfstorage-archive/data/Analysis_ROI_nii/HCr_roi.nii')\n",
    "\n",
    "EC_grid = load_img(r'/mnt/workdir/DCM/docs/Reference/Park_Grid_Coding/osfstorage-archive/data/Analysis_ROI_nii/EC_Grid_roi.nii')\n",
    "\n",
    "ECl  = load_img(r'/mnt/workdir/DCM/docs/Reference/Park_Grid_Coding/osfstorage-archive/data/Analysis_ROI_nii/ECl_roi.nii')\n",
    "ECr = load_img(r'/mnt/workdir/DCM/docs/Reference/Park_Grid_Coding/osfstorage-archive/data/Analysis_ROI_nii/ECr_roi.nii')\n",
    "\n",
    "# load stats map\n",
    "game1_cmap = load_img(r'/mnt/workdir/DCM/BIDS/derivatives/Nipype/game1/separate_hexagon/Setall/group/covariates/'\n",
    "                          r'age/2ndLevel/_contrast_id_ZF_0006/con_0002.nii')\n",
    "game2_cmap = load_img(r'/mnt/workdir/DCM/BIDS/derivatives/Nipype/game2/separate_hexagon/Setall/group/covariates/'\n",
    "                          r'age/2ndLevel/_contrast_id_ZF_0006/con_0002.nii')\n",
    "\n",
    "\n",
    "# apply mask\n",
    "HCl,HCr,EC_grid,ECl,ECr = [resample_to_img(mask, game1_cmap,interpolation='nearest')\n",
    "                                       for mask in [HCl,HCr,EC_grid,ECl,ECr]]\n",
    "\n",
    "\n",
    "contrast_map = math_img(\"img1-img2\",img1=game1_cmap,img2=game2_cmap)\n",
    "# game1\n",
    "rois = ['HCl','HCr','EC_grid','ECl','ECr']\n",
    "game1_means = []\n",
    "game1_std = []\n",
    "\n",
    "for roi in rois:\n",
    "    betas = apply_mask(imgs=contrast_map, mask_img=eval(roi))\n",
    "    betas[betas==0] = np.nan\n",
    "    game1_means.append(np.nanmean(betas))\n",
    "    game1_std.append(np.nanstd(betas))\n",
    "\n",
    "#\n",
    "game2_means = []\n",
    "game2_std = []\n",
    "for roi in rois:\n",
    "    betas = apply_mask(imgs=game2_acc_cmap, mask_img=eval(roi))\n",
    "    betas[betas==0] = np.nan\n",
    "    game2_means.append(np.nanmean(betas))\n",
    "    game2_std.append(np.nanstd(betas))\n",
    "\n",
    "\n",
    "import matplotlib.pyplot as plt\n",
    "import seaborn as sns\n",
    "\n",
    "fig, ax = plt.subplots(figsize=(7,7))\n",
    "\n",
    "x = np.arange(len(rois))  # the label locations\n",
    "width = 0.35  # the width of the bars\n",
    "\n",
    "ax.bar(x - width/2, game1_means, width, yerr=game1_std, label='Game1')\n",
    "ax.bar(x + width/2, game2_means, width, yerr=game2_std, label='Game2')\n",
    "\n",
    "ax.set_xticks(x) # values\n",
    "ax.set_xticklabels(rois) # labels\n",
    "ax.set_ylabel('Beta')\n",
    "ax.set_title('Difference between game1 and game2 in HC and EC')\n",
    "\n",
    "ax.legend()\n",
    "\n",
    "\n",
    "fig.tight_layout()\n",
    "plt.show()"
   ]
  },
  {
   "cell_type": "markdown",
   "source": [],
   "metadata": {
    "collapsed": false,
    "pycharm": {
     "name": "#%% md\n"
    }
   }
  },
  {
   "cell_type": "markdown",
   "source": [],
   "metadata": {
    "collapsed": false,
    "pycharm": {
     "name": "#%% md\n"
    }
   }
  },
  {
   "cell_type": "code",
   "execution_count": null,
   "outputs": [],
   "source": [
    "import seaborn as sns\n",
    "sns.set_theme(style=\"whitegrid\")\n",
    "\n",
    "penguins = sns.load_dataset(\"penguins\")\n",
    "\n",
    "# Draw a nested barplot by species and sex\n",
    "g = sns.catplot(kind=['game1']*5+['game2']*5,\n",
    "    x=rois*2, y=game1_means+game2_means, hue=\"sex\",\n",
    "    ci=\"sd\", palette=\"dark\", alpha=.6, height=6\n",
    ")"
   ],
   "metadata": {
    "collapsed": false,
    "pycharm": {
     "name": "#%%\n"
    }
   }
  }
 ],
 "metadata": {
  "kernelspec": {
   "display_name": "Python 3",
   "language": "python",
   "name": "python3"
  },
  "language_info": {
   "codemirror_mode": {
    "name": "ipython",
    "version": 2
   },
   "file_extension": ".py",
   "mimetype": "text/x-python",
   "name": "python",
   "nbconvert_exporter": "python",
   "pygments_lexer": "ipython2",
   "version": "2.7.6"
  }
 },
 "nbformat": 4,
 "nbformat_minor": 0
}