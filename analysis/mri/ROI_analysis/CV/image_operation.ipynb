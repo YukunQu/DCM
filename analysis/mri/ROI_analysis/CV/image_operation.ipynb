{
 "cells": [
  {
   "cell_type": "markdown",
   "source": [
    "# various operation for image"
   ],
   "metadata": {
    "collapsed": false,
    "pycharm": {
     "name": "#%% md\n"
    }
   }
  },
  {
   "cell_type": "markdown",
   "source": [
    "### mean"
   ],
   "metadata": {
    "collapsed": false,
    "pycharm": {
     "name": "#%% md\n"
    }
   }
  },
  {
   "cell_type": "code",
   "execution_count": 6,
   "outputs": [],
   "source": [
    "import os\n",
    "from nilearn.image import mean_img\n",
    "\n",
    "img1 = r'/mnt/workdir/DCM/tmp/2022.4.11/Park_ROI_align_result/test_set/EC/testset1/group_6fold/hp/2ndLevel/_contrast_id_ZT_0001/con_0001.nii'\n",
    "img2 = r'/mnt/workdir/DCM/tmp/2022.4.11/Park_ROI_align_result/test_set/EC/testset2/group_6fold/hp/2ndLevel/_contrast_id_ZT_0001/con_0001.nii'\n",
    "new_img = mean_img([img1,img2])\n",
    "\n",
    "savedir = r'/mnt/workdir/DCM/tmp/2022.4.11/Park_ROI_align_result/test_set/EC/6fold/hp'\n",
    "if not os.path.exists(savedir):\n",
    "    os.makedirs(savedir)\n",
    "\n",
    "savepath = os.path.join(savedir,'mean_betas_align_EC_Phi.nii')\n",
    "new_img.to_filename(savepath)"
   ],
   "metadata": {
    "collapsed": false,
    "pycharm": {
     "name": "#%%\n"
    }
   }
  },
  {
   "cell_type": "code",
   "execution_count": 13,
   "outputs": [
    {
     "data": {
      "text/plain": "array([[nan, nan, nan, ..., nan, nan, nan],\n       [nan, nan, nan, ..., nan, nan, nan],\n       [nan, nan, nan, ..., nan, nan, nan],\n       ...,\n       [nan, nan, nan, ..., nan, nan, nan],\n       [nan, nan, nan, ..., nan, nan, nan],\n       [nan, nan, nan, ..., nan, nan, nan]])"
     },
     "execution_count": 13,
     "metadata": {},
     "output_type": "execute_result"
    }
   ],
   "source": [],
   "metadata": {
    "collapsed": false,
    "pycharm": {
     "name": "#%%\n"
    }
   }
  },
  {
   "cell_type": "code",
   "execution_count": 13,
   "outputs": [],
   "source": [
    "import os\n",
    "import pandas as pd\n",
    "from nilearn.image import load_img,mean_img\n",
    "from nilearn.glm.second_level import SecondLevelModel\n",
    "cmaps = []\n",
    "cmap_dir1 = r'/mnt/workdir/DCM/BIDS/derivatives/Nipype/alignPhiGame1/specificTo6/test_set/EC_individual/testset1/6fold'\n",
    "cmap_dir2 = r'/mnt/workdir/DCM/BIDS/derivatives/Nipype/alignPhiGame1/specificTo6/test_set/EC_individual/testset2/6fold'\n",
    "#\n",
    "participants_tsv = r'/mnt/workdir/DCM/BIDS/participants.tsv'\n",
    "participants_data = pd.read_csv(participants_tsv,sep='\\t')\n",
    "data = participants_data.query('game1_fmri==1')  # look out\n",
    "data = data.query('game1_acc>=0.8')\n",
    "pid = data['Participant_ID'].to_list()\n",
    "subjects = [p.replace('_','-') for p in pid]\n",
    "\n",
    "for sub in subjects:\n",
    "    img1 = load_img(os.path.join(cmap_dir1,sub,'ZT_0001.nii'))\n",
    "    img2 = load_img(os.path.join(cmap_dir2,sub,'ZT_0001.nii'))\n",
    "    mimg = mean_img([img1,img2])\n",
    "    cmaps.append(mimg)\n",
    "\n",
    "design_matrix = pd.DataFrame([1] * len(cmaps),\n",
    "                             columns=['intercept'])\n",
    "\n",
    "second_level_model = SecondLevelModel()\n",
    "second_level_model = second_level_model.fit(cmaps,\n",
    "                                            design_matrix=design_matrix)\n",
    "import os\n",
    "out_img = second_level_model.compute_contrast(second_level_stat_type='t',output_type='all')\n",
    "savedir = r'/mnt/workdir/DCM/BIDS/derivatives/Nipype/alignPhiGame1/specificTo6/test_set/EC_individual/6fold/hp/'\n",
    "if not os.path.exists(savedir):\n",
    "    os.makedirs(savedir)\n",
    "\n",
    "cmap = out_img['effect_size']\n",
    "tmap = out_img['stat']\n",
    "zmap = out_img['z_score']\n",
    "pmap = out_img['p_value']\n",
    "\n",
    "cmap.to_filename(os.path.join(savedir,'cmap_align_EC_Phi.nii'))\n",
    "tmap.to_filename(os.path.join(savedir,'tmap_align_EC_Phi.nii'))\n",
    "zmap.to_filename(os.path.join(savedir,'zmap_align_EC_Phi.nii'))\n",
    "pmap.to_filename(os.path.join(savedir,'pmap_align_EC_Phi.nii'))"
   ],
   "metadata": {
    "collapsed": false,
    "pycharm": {
     "name": "#%%\n"
    }
   }
  }
 ],
 "metadata": {
  "kernelspec": {
   "display_name": "Python 3",
   "language": "python",
   "name": "python3"
  },
  "language_info": {
   "codemirror_mode": {
    "name": "ipython",
    "version": 2
   },
   "file_extension": ".py",
   "mimetype": "text/x-python",
   "name": "python",
   "nbconvert_exporter": "python",
   "pygments_lexer": "ipython2",
   "version": "2.7.6"
  }
 },
 "nbformat": 4,
 "nbformat_minor": 0
}