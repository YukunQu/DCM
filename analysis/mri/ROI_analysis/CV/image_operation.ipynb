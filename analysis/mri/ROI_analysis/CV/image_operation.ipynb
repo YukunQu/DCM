{
 "cells": [
  {
   "cell_type": "markdown",
   "source": [
    "# various operation for image"
   ],
   "metadata": {
    "collapsed": false
   }
  },
  {
   "cell_type": "markdown",
   "source": [
    "### mean"
   ],
   "metadata": {
    "collapsed": false
   }
  },
  {
   "cell_type": "code",
   "execution_count": 6,
   "outputs": [],
   "source": [
    "import os\n",
    "from nilearn.image import mean_img\n",
    "\n",
    "img1 = r'/mnt/workdir/DCM/BIDS/derivatives/Nipype/hexagon/specificTo6/test_set/vmpfc/testset1/group_6fold/hp/2ndLevel/_contrast_id_ZT_0001/spmT_0001.nii'\n",
    "img2 = r'/mnt/workdir/DCM/BIDS/derivatives/Nipype/hexagon/specificTo6/test_set/vmpfc/testset2/group_6fold/hp/2ndLevel/_contrast_id_ZT_0001/spmT_0001.nii'\n",
    "new_img = mean_img([img1,img2])\n",
    "\n",
    "savedir = r'/mnt/workdir/DCM/BIDS/derivatives/Nipype/hexagon/specificTo6/test_set/vmpfc/group/hp'\n",
    "if not os.path.exists(savedir):\n",
    "    os.makedirs(savedir)\n",
    "\n",
    "savepath = os.path.join(savedir,'mean_spmT_align_vmpfc_Phi.nii')\n",
    "new_img.to_filename(savepath)"
   ],
   "metadata": {
    "collapsed": false,
    "pycharm": {
     "name": "#%%\n"
    }
   }
  }
 ],
 "metadata": {
  "kernelspec": {
   "display_name": "Python 3",
   "language": "python",
   "name": "python3"
  },
  "language_info": {
   "codemirror_mode": {
    "name": "ipython",
    "version": 2
   },
   "file_extension": ".py",
   "mimetype": "text/x-python",
   "name": "python",
   "nbconvert_exporter": "python",
   "pygments_lexer": "ipython2",
   "version": "2.7.6"
  }
 },
 "nbformat": 4,
 "nbformat_minor": 0
}