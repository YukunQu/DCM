{
 "cells": [
  {
   "cell_type": "markdown",
   "metadata": {
    "collapsed": true,
    "pycharm": {
     "name": "#%% md\n"
    }
   },
   "source": [
    "# Pipeline\n",
    "\n",
    "### 1. Define ROI\n",
    "\n",
    "1. 1stLevel_defROI: using all game1 runs of each subject to execute F-test analysis(cos(6*theta) + sin(6*theta))\n",
    "2. 2ndLeven_defROI: using adult/high performance/all subjects data to execute 2nd one-sample t-test\n",
    "3. makeMask: find maximum activities voxels of 2nd t-test map in previous ROI to define target ROIs(EC and vmPFC)\n",
    "\n"
   ]
  },
  {
   "cell_type": "markdown",
   "metadata": {
    "pycharm": {
     "name": "#%% md\n"
    }
   },
   "source": []
  }
 ],
 "metadata": {
  "kernelspec": {
   "display_name": "Python 3",
   "language": "python",
   "name": "python3"
  },
  "language_info": {
   "codemirror_mode": {
    "name": "ipython",
    "version": 3
   },
   "file_extension": ".py",
   "mimetype": "text/x-python",
   "name": "python",
   "nbconvert_exporter": "python",
   "pygments_lexer": "ipython3",
   "version": "3.8.8"
  }
 },
 "nbformat": 4,
 "nbformat_minor": 1
}