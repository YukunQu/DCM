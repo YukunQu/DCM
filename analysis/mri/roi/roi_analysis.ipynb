{
 "cells": [
  {
   "cell_type": "code",
   "execution_count": 48,
   "metadata": {
    "collapsed": true,
    "ExecuteTime": {
     "start_time": "2023-04-26T15:22:01.329533Z",
     "end_time": "2023-04-26T15:22:01.372648Z"
    }
   },
   "outputs": [
    {
     "name": "stderr",
     "output_type": "stream",
     "text": [
      "/home/dell/Software/anaconda3/lib/python3.8/site-packages/ipykernel/ipkernel.py:287: DeprecationWarning: `should_run_async` will not call `transform_cell` automatically in the future. Please pass the result to `transformed_cell` argument and any exception that happen during thetransform in `preprocessing_exc_tuple` in IPython 7.17 and above.\n",
      "  and should_run_async(code)\n"
     ]
    }
   ],
   "source": [
    "import os\n",
    "import numpy as np\n",
    "import pandas as pd\n",
    "from nilearn import masking, image\n",
    "from scipy.stats import ttest_1samp, pearsonr,ttest_ind\n",
    "import seaborn as sns\n",
    "import matplotlib\n",
    "import matplotlib.pyplot as plt\n",
    "sns.set_style('white')\n",
    "matplotlib.rcParams['pdf.fonttype'] = 42\n",
    "matplotlib.rcParams['ps.fonttype'] = 42"
   ]
  },
  {
   "cell_type": "markdown",
   "source": [
    "## Plot ROI mean effect"
   ],
   "metadata": {
    "collapsed": false
   }
  },
  {
   "cell_type": "code",
   "execution_count": 101,
   "outputs": [
    {
     "name": "stderr",
     "output_type": "stream",
     "text": [
      "/home/dell/Software/anaconda3/lib/python3.8/site-packages/nilearn/image/image.py:1041: UserWarning: Data array used to create a new image contains 64-bit ints. This is likely due to creating the array with numpy and passing `int` as the `dtype`. Many tools such as FSL and SPM cannot deal with int64 in Nifti images, so for compatibility the data has been converted to int32.\n",
      "  return new_img_like(niimg, result, niimg.affine)\n"
     ]
    },
    {
     "name": "stdout",
     "output_type": "stream",
     "text": [
      "thr: 0\n",
      "t: 3.7553077171530407\n",
      "p: 0.0003424832133881061\n"
     ]
    },
    {
     "data": {
      "text/plain": "<Figure size 216x360 with 1 Axes>",
      "image/png": "[encoded data removed]"
     },
     "metadata": {},
     "output_type": "display_data"
    }
   ],
   "source": [
    "# specify subjects\n",
    "participants_tsv = r'/mnt/workdir/DCM/BIDS/participants.tsv'\n",
    "participants_data = pd.read_csv(participants_tsv, sep='\\t')\n",
    "data = participants_data.query('(game1_fmri>=0.5)and(game1_acc>0.8)')\n",
    "subjects = data['Participant_ID'].to_list()\n",
    "\n",
    "# set camp\n",
    "cmap_template = r'/mnt/data/DCM/result_backup/2023.4.17/game1/distance_spct/Setall/6fold/{}/zmap/M2_corrxdistance_zmap.nii.gz'\n",
    "sub_cmap_paths = [cmap_template.format(sub_id) for sub_id in subjects]\n",
    "\n",
    "# set roi\n",
    "roi1 = image.load_img(r'/mnt/workdir/DCM/Docs/Mask/hippocampus/lHC_MNI152NL.nii.gz')\n",
    "roi2 = image.load_img(r'/mnt/workdir/DCM/Docs/Mask/hippocampus/rHC_MNI152NL.nii.gz')\n",
    "roi = image.math_img('np.logical_or(img1,img2)', img1=roi1, img2=roi2)\n",
    "#roi = image.load_img(r'/mnt/data/DCM/result_backup/2023.4.17/game1/hexagon_spct/EC_thr3.1.nii.gz')\n",
    "\n",
    "thr_range = [0]\n",
    "for thr in thr_range:\n",
    "    roi_thr = image.binarize_img(roi, thr)\n",
    "    subs_mean_activity = np.mean(masking.apply_mask(sub_cmap_paths, roi_thr), axis=1)\n",
    "\n",
    "    # mean\n",
    "    t_statistic, p_value = ttest_1samp(subs_mean_activity, 0)\n",
    "    print('thr: {}'.format(thr))\n",
    "    print('t:', t_statistic)\n",
    "    print('p:', p_value)\n",
    "\n",
    "    # plot\n",
    "    fig,ax = plt.subplots(figsize=(3,5))\n",
    "    xjitter = np.random.uniform(-0.05, 0.05,size=len(subs_mean_activity))\n",
    "    sns.scatterplot(x=xjitter,y=subs_mean_activity,alpha=0.1)\n",
    "    # Add a point to represent the mean of subs_mean_activity\n",
    "    mean_val = subs_mean_activity.mean()\n",
    "    plt.plot(0, mean_val*1.02, marker='o', markersize=7,color='royalblue',zorder=10)\n",
    "    sns.barplot(data=subs_mean_activity,facecolor='None',edgecolor='None',capsize=0.1,errcolor='royalblue',errwidth=1.5,errorbar='se', width=0.3)\n",
    "\n",
    "    # Add a horizontal line\n",
    "    ax.hlines(y=0, xmin=-0.45, xmax=0.45, colors='black', linestyles='--',linewidth=0.7)\n",
    "    ax.set_ylabel('Z statistic of distance effect')\n",
    "    ax.set_xlabel('HC')\n",
    "\n",
    "    # Remove top and right spines\n",
    "    sns.despine(top=True, right=True)\n",
    "\n",
    "    # Modify the bottom and left spines\n",
    "    ax.spines['left'].set_linewidth(1)\n",
    "    ax.spines['bottom'].set_linewidth(1)\n",
    "\n",
    "    # Set custom ticks for the x-axis and y-axis\n",
    "    plt.xticks([-0.5, 0.5])\n",
    "    #plt.yticks(np.arange(0, 0.25, 0.1))\n",
    "    # Add tick lines to the bottom and left spines\n",
    "    ax.tick_params(axis='x', which='both', bottom=True, top=False, direction='out')\n",
    "    ax.tick_params(axis='y', which='both', left=True, right=False, direction='out')\n",
    "\n",
    "    # Add asterisks on top of each bar\n",
    "    vmean = np.mean(subs_mean_activity)\n",
    "    ax.text(0, vmean+1.57, '***',ha='center', va='bottom',weight='bold',size=15)\n",
    "    #plt.savefig(\"/mnt/workdir/DCM/Result/MRI/Game1/distance/distance_sub-hp_roi-hc.svg\", dpi=300, bbox_inches='tight', transparent=True)\n",
    "    plt.show()"
   ],
   "metadata": {
    "collapsed": false,
    "ExecuteTime": {
     "start_time": "2023-04-26T16:21:20.695227Z",
     "end_time": "2023-04-26T16:21:26.201446Z"
    }
   }
  },
  {
   "cell_type": "markdown",
   "source": [
    "## Plot ROI covairate effect"
   ],
   "metadata": {
    "collapsed": false
   }
  },
  {
   "cell_type": "code",
   "execution_count": 91,
   "outputs": [],
   "source": [
    "# specify subjects\n",
    "participants_tsv = r'/mnt/workdir/DCM/BIDS/participants.tsv'\n",
    "participants_data = pd.read_csv(participants_tsv, sep='\\t')\n",
    "participants_data =  participants_data.query(\"game1_fmri>=0.5\")\n",
    "subjects_id = participants_data['Participant_ID'].to_list()\n",
    "\n",
    "# set camp\n",
    "#cmap_template = r'/mnt/data/DCM/result_backup/2023.4.17/game1/distance_spct/Setall/6fold/{}/zmap/M2_corrxdistance_zmap.nii\n",
    "# .gz'\n",
    "cmap_template = r'/mnt/data/DCM/result_backup/2023.3.24/Nilearn_rsa/game1/grid_rsa_corr_trials/Setall/6fold/{}/rsa/rsa_ztransf_img_coarse_6fold.nii.gz'\n",
    "# set roi\n",
    "#roi1 = image.load_img(r'/mnt/workdir/DCM/Docs/Mask/hippocampus/rHC_MNI152NL.nii.gz')\n",
    "#roi2 = image.load_img(r'/mnt/workdir/DCM/Docs/Mask/hippocampus/lHC_MNI152NL.nii.gz')\n",
    "#roi = image.math_img('np.logical_or(img1,img2)', img1=roi1, img2=roi2)\n",
    "\n",
    "#roi  = image.load_img(r'/mnt/workdir/DCM/Docs/Mask/VMPFC/VMPFC_mask_MNI152NL.nii.gz')\n",
    "#roi = image.load_img(r'/mnt/data/DCM/tmp/aparc/mask/lh.lateralorbitofrontal.nii.gz')\n",
    "#roi1 = image.load_img(r'/mnt/data/DCM/tmp/aparc/mask/rh.parsorbitalis.nii.gz')\n",
    "#roi2 = image.load_img(r'/mnt/data/DCM/tmp/aparc/mask/lh.parsorbitalis.nii.gz')\n",
    "#roi = image.math_img('np.logical_or(img1,img2)', img1=roi1, img2=roi2)\n",
    "#roi = image.load_img(r'/mnt/data/DCM/result_backup/2023.3.24/Nilearn_smodel/game1/hexagon_spct/EC_thr3.1.nii.gz')\n",
    "#roi  = image.load_img(r'/mnt/workdir/DCM/Docs/Mask/EC/juelich_EC_MNI152NL_prob_R.nii.gz')\n",
    "#roi = image.binarize_img(roi,10)\n",
    "\n",
    "# get activity in ROI\n",
    "subs_cmap_list = [cmap_template.format(sub_id) for sub_id in subjects_id]\n",
    "subs_mean_activity = np.mean(masking.apply_mask(subs_cmap_list, roi),axis=1)\n",
    "\n",
    "# get covariate\n",
    "covary_variable = participants_data['game1_acc'].to_list()"
   ],
   "metadata": {
    "collapsed": false,
    "ExecuteTime": {
     "start_time": "2023-04-20T20:13:15.705720Z",
     "end_time": "2023-04-20T20:13:28.925531Z"
    }
   }
  },
  {
   "cell_type": "code",
   "execution_count": 92,
   "outputs": [
    {
     "name": "stdout",
     "output_type": "stream",
     "text": [
      "r 0.1844 p 0.0085\n"
     ]
    },
    {
     "data": {
      "text/plain": "<Figure size 864x720 with 1 Axes>",
      "image/png": "[encoded data removed]"
     },
     "metadata": {
      "needs_background": "light"
     },
     "output_type": "display_data"
    }
   ],
   "source": [
    "# plot figure\n",
    "fig, ax = plt.subplots(figsize=(12,10))\n",
    "color = sns.color_palette(\"Paired\")\n",
    "plt.scatter(covary_variable, subs_mean_activity,color=color[5], s=15.,alpha=0.5)\n",
    "sns.regplot(x=covary_variable, y=subs_mean_activity,color=color[5],order=1,scatter=False)\n",
    "\n",
    "ax.set_xlabel('Inference accuracy', fontsize=30)\n",
    "ax.set_ylabel('Z statistic', fontsize=30)\n",
    "\n",
    "# Remove top and right spines\n",
    "sns.despine(top=True, right=True)\n",
    "# Modify the bottom and left spines\n",
    "ax.spines['left'].set_linewidth(1)\n",
    "ax.spines['bottom'].set_linewidth(1)\n",
    "\n",
    "# Set custom ticks for the x-axis and y-axis\n",
    "#plt.xticks([])\n",
    "#plt.yticks(np.arange(0, 0.25, 0.1))\n",
    "# Add tick lines to the bottom and left spines\n",
    "\n",
    "r, p = pearsonr(covary_variable,subs_mean_activity)\n",
    "print('r',round(r,4),'p',round(p,4))\n",
    "#move overall title up\n",
    "fig.subplots_adjust(top=0.92)\n",
    "if p < 0.001:\n",
    "    fig.suptitle('r:{}  p<0.001'.format(round(r,3)),size=25)\n",
    "else:\n",
    "    fig.suptitle('r:{}, p:{}'.format(round(r,3),round(p,3)),size=25)"
   ],
   "metadata": {
    "collapsed": false,
    "ExecuteTime": {
     "start_time": "2023-04-20T20:13:31.035187Z",
     "end_time": "2023-04-20T20:13:31.297548Z"
    }
   }
  },
  {
   "cell_type": "markdown",
   "source": [
    "## Plot brain activity with separate age stage"
   ],
   "metadata": {
    "collapsed": false
   }
  },
  {
   "cell_type": "code",
   "execution_count": 159,
   "outputs": [],
   "source": [
    "# specify subjects\n",
    "participants_tsv = r'/mnt/workdir/DCM/BIDS/participants.tsv'\n",
    "participants_data = pd.read_csv(participants_tsv, sep='\\t')\n",
    "junv_data = participants_data.query('(game1_fmri>=0.5)and(Age<18)')\n",
    "adult_data = participants_data.query('(game1_fmri>=0.5)and(Age>=18)')\n",
    "junv_subjects = junv_data['Participant_ID'].to_list()\n",
    "adult_subjects = adult_data['Participant_ID'].to_list()\n",
    "\n",
    "# set cmap template\n",
    "cmap_template = r'/mnt/data/DCM/result_backup/2023.4.17/game1/grid_rsa_corr_trials/Setall/6fold/{}/rsa/rsa_ztransf_img_coarse_6fold.nii.gz'\n",
    "\n",
    "\n",
    "# set roi\n",
    "roi  = image.load_img(r'/mnt/workdir/DCM/Docs/Mask/VMPFC/VMPFC_merge_MNI152NL.nii.gz')\n",
    "#roi1 = image.load_img(r'/mnt/data/DCM/tmp/aparc/mask/lh.entorhinal.nii.gz')\n",
    "#roi2 = image.load_img(r'/mnt/data/DCM/tmp/aparc/mask/rh.entorhinal.nii.gz')\n",
    "#roi = image.math_img('img1+img2',img1=roi1,img2=roi2)\n",
    "#roi = image.load_img(r'/mnt/workdir/DCM/Docs/Mask/EC/juelich_EC_MNI152NL_prob_L.nii.gz')\n",
    "#roi = image.binarize_img(roi,10)\n",
    "#roi  = image.load_img(r'/mnt/workdir/DCM/docs/Reference/ACC/ACC_MNI152NL.nii.gz')\n",
    "#roi = image.load_img(r'/mnt/workdir/DCM/result/ROI/anat/juelich_EC_MNI152NL_prob_L.nii.gz')\n",
    "#roi = image.binarize_img(roi,10)\n",
    "\n",
    "# get activity in ROI\n",
    "junv_subs_cmap_list = [cmap_template.format(sub_id) for sub_id in junv_subjects]\n",
    "junv_subs_mean_activity = np.mean(masking.apply_mask(junv_subs_cmap_list, roi),axis=1)\n",
    "\n",
    "adult_subs_cmap_list = [cmap_template.format(sub_id) for sub_id in adult_subjects]\n",
    "adult_subs_mean_activity = np.mean(masking.apply_mask(adult_subs_cmap_list, roi),axis=1)\n",
    "# get covariate\n",
    "junv_covary_variable = junv_data['Age'].to_list()\n",
    "adult_covary_variable = adult_data['Age'].to_list()"
   ],
   "metadata": {
    "collapsed": false,
    "ExecuteTime": {
     "start_time": "2023-04-20T13:21:20.692615Z",
     "end_time": "2023-04-20T13:21:20.692876Z"
    }
   }
  },
  {
   "cell_type": "code",
   "execution_count": 160,
   "outputs": [
    {
     "data": {
      "text/plain": "<Figure size 864x720 with 1 Axes>",
      "image/png": "[encoded data removed]"
     },
     "metadata": {},
     "output_type": "display_data"
    }
   ],
   "source": [
    "fig, ax = plt.subplots(figsize=(12,10))\n",
    "color = sns.color_palette(\"Paired\")\n",
    "plt.scatter(junv_covary_variable, junv_subs_mean_activity,color=color[4],label='junvenal', s=1.)\n",
    "plt.scatter(adult_covary_variable, adult_subs_mean_activity,color=color[5],label='adult', s=1.)\n",
    "sns.regplot(x=junv_covary_variable, y=junv_subs_mean_activity,color=color[4])\n",
    "sns.regplot(x=adult_covary_variable, y=adult_subs_mean_activity,color=color[5])\n",
    "ax.set_xlabel('Age', fontsize=30)\n",
    "ax.set_ylabel('Z statistic', fontsize=30)\n",
    "#ax.set_yticks([-1, 0, 1])\n",
    "ax.set_xticks([10, 15, 20, 25])\n",
    "ax.tick_params(axis='both', which='major', labelsize=20)\n",
    "#plt.savefig(r\"/mnt/workdir/DCM/result/game2/distance_age_effect_mPFC.svg\",dpi=300,bbox_inches='tight',pad_inches=0)"
   ],
   "metadata": {
    "collapsed": false,
    "ExecuteTime": {
     "start_time": "2023-04-20T13:21:24.049799Z",
     "end_time": "2023-04-20T13:21:24.049959Z"
    }
   }
  },
  {
   "cell_type": "code",
   "execution_count": 106,
   "outputs": [],
   "source": [
    "# specify subjects\n",
    "participants_tsv = r'/mnt/workdir/DCM/BIDS/participants.tsv'\n",
    "participants_data = pd.read_csv(participants_tsv, sep='\\t')\n",
    "participants_data =  participants_data.query(\"game1_fmri>=0.5\")\n",
    "subjects_id = participants_data['Participant_ID'].to_list()\n",
    "\n",
    "# set camp\n",
    "#cmap_template = r'/mnt/data/DCM/result_backup/2023.3.24/Nilearn_rsa/game1/grid_rsa_corr_trials/Setall/6fold/{}/rsa/rsa_ztransf_img_coarse_6fold.nii.gz'\n",
    "cmap_template = r'/mnt/data/DCM/result_backup/2023.4.17/game1/distance_spct/Setall/6fold/{}/zmap/M2_corrxdistance_zmap.nii.gz'\n",
    "\n",
    "# set roi\n",
    "#roi  = image.load_img(r'/mnt/workdir/DCM/Docs/Mask/VMPFC/VMPFC_mask_MNI152NL.nii.gz')\n",
    "#roi = image.load_img(r'/mnt/data/DCM/tmp/aparc/mask/lh.lateralorbitofrontal.nii.gz')\n",
    "#roi1 = image.load_img(r'/mnt/data/DCM/tmp/aparc/mask/rh.parsorbitalis.nii.gz')\n",
    "#roi2 = image.load_img(r'/mnt/data/DCM/tmp/aparc/mask/lh.parsorbitalis.nii.gz')\n",
    "#roi = image.math_img('np.logical_or(img1,img2)', img1=roi1, img2=roi2)\n",
    "roi = image.load_img(r'/mnt/data/DCM/result_backup/2023.3.24/Nilearn_smodel/game1/hexagon_spct/EC_thr3.1.nii.gz')\n",
    "#roi  = image.load_img(r'/mnt/workdir/DCM/Docs/Mask/EC/juelich_EC_MNI152NL_prob.nii.gz')\n",
    "#roi = image.binarize_img(roi,10)\n",
    "\n",
    "# get activity in ROI\n",
    "subs_cmap_list = [cmap_template.format(sub_id) for sub_id in subjects_id]\n",
    "subs_mean_activity = np.mean(masking.apply_mask(subs_cmap_list, roi),axis=1)\n",
    "participants_data['ROI_activity'] = subs_mean_activity"
   ],
   "metadata": {
    "collapsed": false,
    "ExecuteTime": {
     "start_time": "2023-04-20T20:24:24.056547Z",
     "end_time": "2023-04-20T20:24:37.280578Z"
    }
   }
  },
  {
   "cell_type": "code",
   "execution_count": 113,
   "outputs": [
    {
     "name": "stdout",
     "output_type": "stream",
     "text": [
      "The group difference bettwen children and adolescents t = -2.480, p = 0.014\n",
      "The group difference bettwen adolescents and adults t = 1.189, p = 0.237\n",
      "The group difference bettwen children and adults t = -1.467, p = 0.145\n"
     ]
    },
    {
     "data": {
      "text/plain": "Text(1, 0.3669380479874236, 'n.s.')"
     },
     "execution_count": 113,
     "metadata": {},
     "output_type": "execute_result"
    },
    {
     "data": {
      "text/plain": "<Figure size 360x360 with 1 Axes>",
      "image/png": "[encoded data removed]"
     },
     "metadata": {
      "needs_background": "light"
     },
     "output_type": "display_data"
    }
   ],
   "source": [
    "# Add age group categories\n",
    "age_bins = [7, 12, 17, 25]\n",
    "age_labels = ['children', 'adolescents', 'adults']\n",
    "participants_data['Age_group'] = pd.cut(participants_data['Age'], bins=age_bins, labels=age_labels)\n",
    "g = sns.catplot(x='Age_group', y='ROI_activity', data=participants_data, kind='point', errorbar=\"se\")\n",
    "g.set_axis_labels(\"Age Group\", \"ROI_activity\")\n",
    "g.fig.set_size_inches(5, 5)\n",
    "\n",
    "# get the acivities of each age group\n",
    "children_data = participants_data.query(\"Age_group=='children'\")\n",
    "adolescents_data = participants_data.query(\"Age_group=='adolescents'\")\n",
    "adult_data = participants_data.query(\"Age_group=='adults'\")\n",
    "# compare activity size between each pair of the three age groups using t-tests\n",
    "def p2sign(p):\n",
    "    if  p<=0.001:\n",
    "        sign='***'\n",
    "    elif p<=0.01:\n",
    "        sign='**'\n",
    "    elif p<=0.05:\n",
    "        sign='*'\n",
    "    else:\n",
    "        sign='n.s.'\n",
    "    return sign\n",
    "\n",
    "height = participants_data['ROI_activity'].mean() + 0.5*participants_data['ROI_activity'].std()\n",
    "# compare children and adolescents\n",
    "t,p = ttest_ind(children_data['ROI_activity'], adolescents_data['ROI_activity'])\n",
    "print('The group difference bettwen children and adolescents t = {:.3f}, p = {:.3f}'.format(t, p))\n",
    "g.ax.plot([0, 0.9], [height, height], 'k-', lw=1)\n",
    "g.ax.text(0.5, height, p2sign(p), ha='center', va='bottom', color='k', fontsize=20)\n",
    "\n",
    "# compare children and adults\n",
    "t,p =  ttest_ind(adolescents_data['ROI_activity'], adult_data['ROI_activity'])\n",
    "print('The group difference bettwen adolescents and adults t = {:.3f}, p = {:.3f}'.format(t, p))\n",
    "g.ax.plot([1.1, 2], [height, height], 'k-', lw=1)\n",
    "g.ax.text(1.5, height, p2sign(p), ha='center', va='bottom', color='k', fontsize=20)\n",
    "\n",
    "# compare adolescents and adults\n",
    "t,p = ttest_ind(children_data['ROI_activity'], adult_data['ROI_activity'])\n",
    "print('The group difference bettwen children and adults t = {:.3f}, p = {:.3f}'.format(t, p))\n",
    "g.ax.plot([0, 2], [height+0.05, height+0.05], 'k-', lw=1)\n",
    "g.ax.text(1, height+0.05, p2sign(p), ha='center', va='bottom', color='k', fontsize=20)"
   ],
   "metadata": {
    "collapsed": false,
    "ExecuteTime": {
     "start_time": "2023-04-20T20:36:52.337989Z",
     "end_time": "2023-04-20T20:36:52.559872Z"
    }
   }
  },
  {
   "cell_type": "code",
   "execution_count": 156,
   "outputs": [
    {
     "name": "stdout",
     "output_type": "stream",
     "text": [
      "0.15824247935329444 0.0721510885192667\n",
      "0.04645538278835484 0.6963331207166016\n",
      "(0.7597311319521073, 0.22370765788758806)\n"
     ]
    }
   ],
   "source": [
    "import numpy as np\n",
    "from scipy.stats import t, norm\n",
    "from math import atanh, pow\n",
    "from numpy import tanh\n",
    "\n",
    "r1,p1 = pearsonr(junv_covary_variable, junv_subs_mean_activity)\n",
    "r2,p2 = pearsonr(adult_covary_variable, adult_subs_mean_activity)\n",
    "\n",
    "# Sample sizes for each correlation coefficient\n",
    "n1 = len(junv_covary_variable)\n",
    "n2 = len(adult_covary_variable)\n",
    "print(r1,p1)\n",
    "print(r2,p2)\n",
    "\n",
    "def rz_ci(r, n, conf_level = 0.95):\n",
    "    zr_se = pow(1/(n - 3), .5)\n",
    "    moe = norm.ppf(1 - (1 - conf_level)/float(2)) * zr_se\n",
    "    zu = atanh(r) + moe\n",
    "    zl = atanh(r) - moe\n",
    "    return tanh((zl, zu))\n",
    "\n",
    "def independent_corr(xy, ab, n, n2 = None, twotailed=True, conf_level=0.95, method='fisher'):\n",
    "    \"\"\"\n",
    "    Calculates the statistic significance between two independent correlation coefficients\n",
    "    @param xy: correlation coefficient between x and y\n",
    "    @param xz: correlation coefficient between a and b\n",
    "    @param n: number of elements in xy\n",
    "    @param n2: number of elements in ab (if distinct from n)\n",
    "    @param twotailed: whether to calculate a one or two tailed test, only works for 'fisher' method\n",
    "    @param conf_level: confidence level, only works for 'zou' method\n",
    "    @param method: defines the method uses, 'fisher' or 'zou'\n",
    "    @return: z and p-val\n",
    "    \"\"\"\n",
    "\n",
    "    if method == 'fisher':\n",
    "        xy_z = 0.5 * np.log((1 + xy)/(1 - xy))\n",
    "        ab_z = 0.5 * np.log((1 + ab)/(1 - ab))\n",
    "        if n2 is None:\n",
    "            n2 = n\n",
    "\n",
    "        se_diff_r = np.sqrt(1/(n - 3) + 1/(n2 - 3))\n",
    "        diff = xy_z - ab_z\n",
    "        z = abs(diff / se_diff_r)\n",
    "        p = (1 - norm.cdf(z))\n",
    "        if twotailed:\n",
    "            p *= 2\n",
    "\n",
    "        return z, p\n",
    "    elif method == 'zou':\n",
    "        L1 = rz_ci(xy, n, conf_level=conf_level)[0]\n",
    "        U1 = rz_ci(xy, n, conf_level=conf_level)[1]\n",
    "        L2 = rz_ci(ab, n2, conf_level=conf_level)[0]\n",
    "        U2 = rz_ci(ab, n2, conf_level=conf_level)[1]\n",
    "        lower = xy - ab - pow((pow((xy - L1), 2) + pow((U2 - ab), 2)), 0.5)\n",
    "        upper = xy - ab + pow((pow((U1 - xy), 2) + pow((ab - L2), 2)), 0.5)\n",
    "        return lower, upper\n",
    "    else:\n",
    "        raise Exception('Wrong method!')\n",
    "\n",
    "print(independent_corr(r1 , r2, n1, n2, method='fisher',twotailed=False))"
   ],
   "metadata": {
    "collapsed": false,
    "ExecuteTime": {
     "start_time": "2023-04-20T13:16:56.220492Z",
     "end_time": "2023-04-20T13:16:56.220599Z"
    }
   }
  },
  {
   "cell_type": "code",
   "execution_count": 69,
   "outputs": [
    {
     "name": "stderr",
     "output_type": "stream",
     "text": [
      "/home/dell/Software/anaconda3/lib/python3.8/site-packages/nilearn/image/image.py:1041: UserWarning: Data array used to create a new image contains 64-bit ints. This is likely due to creating the array with numpy and passing `int` as the `dtype`. Many tools such as FSL and SPM cannot deal with int64 in Nifti images, so for compatibility the data has been converted to int32.\n",
      "  return new_img_like(niimg, result, niimg.affine)\n"
     ]
    },
    {
     "name": "stdout",
     "output_type": "stream",
     "text": [
      "                            OLS Regression Results                            \n",
      "==============================================================================\n",
      "Dep. Variable:          Inference_acc   R-squared:                       0.348\n",
      "Model:                            OLS   Adj. R-squared:                  0.342\n",
      "Method:                 Least Squares   F-statistic:                     53.43\n",
      "Date:                Wed, 19 Apr 2023   Prob (F-statistic):           2.56e-19\n",
      "Time:                        17:55:40   Log-Likelihood:                 180.68\n",
      "No. Observations:                 203   AIC:                            -355.4\n",
      "Df Residuals:                     200   BIC:                            -345.4\n",
      "Df Model:                           2                                         \n",
      "Covariance Type:            nonrobust                                         \n",
      "======================================================================================\n",
      "                         coef    std err          t      P>|t|      [0.025      0.975]\n",
      "--------------------------------------------------------------------------------------\n",
      "const                  0.5380      0.022     24.594      0.000       0.495       0.581\n",
      "Hexagon_modulation     0.0318      0.009      3.478      0.001       0.014       0.050\n",
      "Age                    0.0133      0.001     10.006      0.000       0.011       0.016\n",
      "==============================================================================\n",
      "Omnibus:                        7.515   Durbin-Watson:                   1.684\n",
      "Prob(Omnibus):                  0.023   Jarque-Bera (JB):                6.387\n",
      "Skew:                          -0.351   Prob(JB):                       0.0410\n",
      "Kurtosis:                       2.487   Cond. No.                         51.6\n",
      "==============================================================================\n",
      "\n",
      "Notes:\n",
      "[1] Standard Errors assume that the covariance matrix of the errors is correctly specified.\n"
     ]
    },
    {
     "name": "stderr",
     "output_type": "stream",
     "text": [
      "<ipython-input-69-54e539010b02>:20: SettingWithCopyWarning: \n",
      "A value is trying to be set on a copy of a slice from a DataFrame.\n",
      "Try using .loc[row_indexer,col_indexer] = value instead\n",
      "\n",
      "See the caveats in the documentation: https://pandas.pydata.org/pandas-docs/stable/user_guide/indexing.html#returning-a-view-versus-a-copy\n",
      "  data['Hexagon_modulation'] = subs_mean_activity\n",
      "<ipython-input-69-54e539010b02>:21: SettingWithCopyWarning: \n",
      "A value is trying to be set on a copy of a slice from a DataFrame.\n",
      "Try using .loc[row_indexer,col_indexer] = value instead\n",
      "\n",
      "See the caveats in the documentation: https://pandas.pydata.org/pandas-docs/stable/user_guide/indexing.html#returning-a-view-versus-a-copy\n",
      "  data['Inference_acc'] = data['game1_acc']\n",
      "<ipython-input-69-54e539010b02>:29: UserWarning: Matplotlib is currently using module://ipykernel.pylab.backend_inline, which is a non-GUI backend, so cannot show the figure.\n",
      "  fig.show()\n"
     ]
    },
    {
     "data": {
      "text/plain": "<Figure size 504x360 with 1 Axes>",
      "image/png": "[encoded data removed]"
     },
     "metadata": {},
     "output_type": "display_data"
    }
   ],
   "source": [
    "# specify subjects\n",
    "participants_tsv = r'/mnt/workdir/DCM/BIDS/participants.tsv'\n",
    "participants_data = pd.read_csv(participants_tsv, sep='\\t')\n",
    "data =  participants_data.query(\"game1_fmri>=0.5\")\n",
    "subjects_id = data['Participant_ID'].to_list()\n",
    "\n",
    "# set camp\n",
    "cmap_template = r'/mnt/data/DCM/result_backup/2023.3.24/Nilearn_smodel/game1/cv_test_hexagon_spct/Setall/6fold/{}/zmap/alignPhi_even_zmap.nii.gz'\n",
    "\n",
    "# set roi\n",
    "roi = image.load_img(r'/mnt/data/DCM/tmp/aparc/mask/rh.parsorbitalis.nii.gz')\n",
    "#roi = image.load_img(r'/mnt/workdir/DCM/Docs/Mask/EC/juelich_EC_MNI152NL_prob.nii.gz')\n",
    "#roi = image.load_img(r'/mnt/data/DCM/result_backup/2023.3.24/Nilearn_smodel/game1/cv_train_hexagon_spct/EC_thr3.1.nii.gz')\n",
    "for thr in [0.1]:\n",
    "    roi_thr_bin = image.binarize_img(roi, thr)\n",
    "    # extract mean activity\n",
    "    subs_cmap_list = [cmap_template.format(sub_id) for sub_id in subjects_id]\n",
    "    subs_mean_activity = np.mean(masking.apply_mask(subs_cmap_list, roi_thr_bin),axis=1)\n",
    "\n",
    "    data['Hexagon_modulation'] = subs_mean_activity\n",
    "    data['Inference_acc'] = data['game1_acc']\n",
    "\n",
    "    # Plot the partial correlation plot with age held constant\n",
    "    import statsmodels.api as sm\n",
    "    fig = sm.graphics.plot_partregress(\"Inference_acc\", \"Hexagon_modulation\",[\"Age\"],data=data,obs_labels=False)\n",
    "    fig.set_size_inches(7,5)\n",
    "    sns.set_theme(style=\"white\")\n",
    "    fig.tight_layout()\n",
    "    fig.show()\n",
    "\n",
    "    X = data[['Hexagon_modulation','Age']]\n",
    "    Y = data['Inference_acc']\n",
    "\n",
    "    X = sm.add_constant(X)\n",
    "    model = sm.OLS(Y, X).fit()\n",
    "    predictions = model.predict(X)\n",
    "    model_summary = model.summary()\n",
    "    print(model_summary)"
   ],
   "metadata": {
    "collapsed": false,
    "ExecuteTime": {
     "start_time": "2023-04-19T17:55:40.718110Z",
     "end_time": "2023-04-19T17:55:40.718300Z"
    }
   }
  },
  {
   "cell_type": "markdown",
   "source": [
    "# A GLM include age, brain actvitiy and inference"
   ],
   "metadata": {
    "collapsed": false
   }
  },
  {
   "cell_type": "code",
   "execution_count": 103,
   "outputs": [
    {
     "name": "stderr",
     "output_type": "stream",
     "text": [
      "/home/dell/Software/anaconda3/lib/python3.8/site-packages/nilearn/image/image.py:1041: UserWarning: Data array used to create a new image contains 64-bit ints. This is likely due to creating the array with numpy and passing `int` as the `dtype`. Many tools such as FSL and SPM cannot deal with int64 in Nifti images, so for compatibility the data has been converted to int32.\n",
      "  return new_img_like(niimg, result, niimg.affine)\n"
     ]
    },
    {
     "name": "stdout",
     "output_type": "stream",
     "text": [
      "HC is processing\n"
     ]
    },
    {
     "name": "stderr",
     "output_type": "stream",
     "text": [
      "<ipython-input-103-a0011c03d6ad>:38: SettingWithCopyWarning: \n",
      "A value is trying to be set on a copy of a slice from a DataFrame.\n",
      "Try using .loc[row_indexer,col_indexer] = value instead\n",
      "\n",
      "See the caveats in the documentation: https://pandas.pydata.org/pandas-docs/stable/user_guide/indexing.html#returning-a-view-versus-a-copy\n",
      "  data[troi_name] = subs_mean_activity\n"
     ]
    },
    {
     "name": "stdout",
     "output_type": "stream",
     "text": [
      "EC is processing\n",
      "OFC is processing\n",
      "vmPFC is processing\n"
     ]
    }
   ],
   "source": [
    "# using the brian acitvitiy of multiple ROIs and age to predict inference accuracy\n",
    "\n",
    "# specify subjects\n",
    "participants_tsv = r'/mnt/workdir/DCM/BIDS/participants.tsv'\n",
    "participants_data = pd.read_csv(participants_tsv, sep='\\t')\n",
    "data =  participants_data.query(\"game1_fmri>=0.5\")\n",
    "subjects_id = data['Participant_ID'].to_list()\n",
    "\n",
    "# load ROI\n",
    "# load HC\n",
    "rHC = image.load_img(r'/mnt/workdir/DCM/Docs/Mask/hippocampus/rHC_MNI152NL.nii.gz')\n",
    "lHC = image.load_img(r'/mnt/workdir/DCM/Docs/Mask/hippocampus/lHC_MNI152NL.nii.gz')\n",
    "hc = image.math_img('np.logical_or(img1,img2)', img1=rHC, img2=lHC)\n",
    "# load EC\n",
    "ec = image.load_img(r'/mnt/workdir/DCM/Docs/Mask/EC/juelich_EC_MNI152NL_prob_R.nii.gz')\n",
    "ec = image.binarize_img(ec,10)\n",
    "# load OFC\n",
    "rpOFC = image.load_img(r'/mnt/data/DCM/tmp/aparc/mask/rh.parsorbitalis.nii.gz')\n",
    "lpOFC = image.load_img(r'/mnt/data/DCM/tmp/aparc/mask/lh.parsorbitalis.nii.gz')\n",
    "ofc = image.math_img('np.logical_or(img1,img2)', img1=rpOFC, img2=lpOFC)\n",
    "# load vmPFC\n",
    "vmPFC  = image.load_img(r'/mnt/workdir/DCM/Docs/Mask/VMPFC/VMPFC_merge_MNI152NL.nii.gz')\n",
    "\n",
    "# put ROIs into a dict\n",
    "rois = {'HC':hc,'EC':ec,'OFC':ofc,'vmPFC':vmPFC}\n",
    "\n",
    "# load the brain activity of each ROI\n",
    "# set camp\n",
    "cmap_template = r'/mnt/data/DCM/result_backup/2023.4.17/game1/distance_spct/Setall/6fold/{}/zmap/M2_corrxdistance_zmap.nii.gz'\n",
    "#cmap_template = r'/mnt/data/DCM/result_backup/2023.3.24/Nilearn_rsa/game1/grid_rsa_corr_trials/Setall/6fold/{}/rsa/rsa_ztransf_img_coarse_6fold.nii.gz'\n",
    "\n",
    "# get each subject's activity in each ROI\n",
    "for troi_name,troi in rois.items():\n",
    "    print(troi_name,'is processing')\n",
    "    # get activity in ROI\n",
    "    subs_cmap_list = [cmap_template.format(sub_id) for sub_id in subjects_id]\n",
    "    subs_mean_activity = np.mean(masking.apply_mask(subs_cmap_list, troi),axis=1)\n",
    "    data[troi_name] = subs_mean_activity"
   ],
   "metadata": {
    "collapsed": false,
    "ExecuteTime": {
     "start_time": "2023-04-27T16:29:59.256515Z",
     "end_time": "2023-04-27T16:31:08.776505Z"
    }
   }
  },
  {
   "cell_type": "code",
   "execution_count": 104,
   "outputs": [
    {
     "name": "stdout",
     "output_type": "stream",
     "text": [
      "                            OLS Regression Results                            \n",
      "==============================================================================\n",
      "Dep. Variable:              game1_acc   R-squared:                       0.323\n",
      "Model:                            OLS   Adj. R-squared:                  0.316\n",
      "Method:                 Least Squares   F-statistic:                     47.75\n",
      "Date:                Thu, 27 Apr 2023   Prob (F-statistic):           1.11e-17\n",
      "Time:                        16:31:12   Log-Likelihood:                 176.86\n",
      "No. Observations:                 203   AIC:                            -347.7\n",
      "Df Residuals:                     200   BIC:                            -337.8\n",
      "Df Model:                           2                                         \n",
      "Covariance Type:            nonrobust                                         \n",
      "==============================================================================\n",
      "                 coef    std err          t      P>|t|      [0.025      0.975]\n",
      "------------------------------------------------------------------------------\n",
      "const          0.5487      0.022     24.405      0.000       0.504       0.593\n",
      "vmPFC          0.0223      0.011      2.061      0.041       0.001       0.044\n",
      "Age            0.0122      0.001      8.822      0.000       0.009       0.015\n",
      "==============================================================================\n",
      "Omnibus:                        8.440   Durbin-Watson:                   1.680\n",
      "Prob(Omnibus):                  0.015   Jarque-Bera (JB):                6.818\n",
      "Skew:                          -0.353   Prob(JB):                       0.0331\n",
      "Kurtosis:                       2.446   Cond. No.                         52.2\n",
      "==============================================================================\n",
      "\n",
      "Notes:\n",
      "[1] Standard Errors assume that the covariance matrix of the errors is correctly specified.\n"
     ]
    }
   ],
   "source": [
    "# using GLM to predict inference accuracy from brain activity and age\n",
    "import statsmodels.api as sm\n",
    "X = data[['vmPFC','Age']]\n",
    "Y = data['game1_acc']\n",
    "\n",
    "X = sm.add_constant(X)\n",
    "model = sm.OLS(Y, X).fit()\n",
    "predictions = model.predict(X)\n",
    "model_summary = model.summary()\n",
    "print(model_summary)"
   ],
   "metadata": {
    "collapsed": false,
    "ExecuteTime": {
     "start_time": "2023-04-27T16:31:12.868370Z",
     "end_time": "2023-04-27T16:31:12.915454Z"
    }
   }
  },
  {
   "cell_type": "code",
   "execution_count": 27,
   "outputs": [
    {
     "name": "stdout",
     "output_type": "stream",
     "text": [
      "                          Estimate  Lower CI bound  Upper CI bound  P-value\n",
      "ACME (control)            0.000444       -0.005245        0.006275   0.8756\n",
      "ACME (treated)            0.000444       -0.005245        0.006275   0.8756\n",
      "ADE (control)             0.012448        0.009834        0.015050   0.0000\n",
      "ADE (treated)             0.012448        0.009834        0.015050   0.0000\n",
      "Total effect              0.012892        0.006543        0.019181   0.0012\n",
      "Prop. mediated (control)  0.032110       -0.740458        0.339916   0.8744\n",
      "Prop. mediated (treated)  0.032110       -0.740458        0.339916   0.8744\n",
      "ACME (average)            0.000444       -0.005245        0.006275   0.8756\n",
      "ADE (average)             0.012448        0.009834        0.015050   0.0000\n",
      "Prop. mediated (average)  0.032110       -0.740458        0.339916   0.8744\n"
     ]
    }
   ],
   "source": [
    "from statsmodels.stats.mediation import Mediation\n",
    "\n",
    "# Define the outcome, predictor, and mediator variables\n",
    "outcome = 'game1_acc'\n",
    "predictor = 'Age'\n",
    "mediator = 'EC'\n",
    "\n",
    "# Fit the mediator model (M ~ X)\n",
    "mediator_model = sm.OLS.from_formula(f'{mediator} ~ {predictor}', data=data)\n",
    "\n",
    "# Fit the outcome model (Y ~ X + M)\n",
    "outcome_model = sm.OLS.from_formula(f'{outcome} ~ {predictor} + {mediator}', data=data)\n",
    "\n",
    "# Perform mediation analysis using the Mediation class\n",
    "mediation_analysis = Mediation(outcome_model, mediator_model, exposure=predictor, mediator=mediator)\n",
    "\n",
    "# Estimate the average causal mediation effect (ACME) using bootstrapping for confidence intervals\n",
    "mediation_result = mediation_analysis.fit(n_rep=5000)  # You can increase n_rep for better accuracy\n",
    "\n",
    "# Print the results\n",
    "print(mediation_result.summary())"
   ],
   "metadata": {
    "collapsed": false,
    "ExecuteTime": {
     "start_time": "2023-04-24T21:11:23.490423Z",
     "end_time": "2023-04-24T21:13:22.342735Z"
    }
   }
  },
  {
   "cell_type": "code",
   "execution_count": 106,
   "outputs": [
    {
     "name": "stderr",
     "output_type": "stream",
     "text": [
      "/home/dell/Software/anaconda3/lib/python3.8/site-packages/ipykernel/ipkernel.py:287: DeprecationWarning: `should_run_async` will not call `transform_cell` automatically in the future. Please pass the result to `transformed_cell` argument and any exception that happen during thetransform in `preprocessing_exc_tuple` in IPython 7.17 and above.\n",
      "  and should_run_async(code)\n"
     ]
    },
    {
     "name": "stdout",
     "output_type": "stream",
     "text": [
      "Bootstrapped 95% confidence interval for the indirect effect: (0.0001, 0.0015)\n"
     ]
    }
   ],
   "source": [
    "import pandas as pd\n",
    "import numpy as np\n",
    "import statsmodels.api as sm\n",
    "from scipy.stats  import ttest_1samp\n",
    "import statsmodels.formula.api as smf\n",
    "\n",
    "def bootstrap_indirect_effect(data, iv, m, dv, n_bootstraps=10000, ci=0.95):\n",
    "    indirect_effects = []\n",
    "    for _ in range(n_bootstraps):\n",
    "        bootstrap_data = data.sample(frac=1, replace=True)\n",
    "\n",
    "        path_a = smf.ols(f\"{m} ~ {iv}\", data=bootstrap_data).fit()\n",
    "        path_b = smf.ols(f\"{dv} ~ {m} + {iv}\", data=bootstrap_data).fit()\n",
    "\n",
    "        indirect_effect = path_a.params[1] * path_b.params[1]\n",
    "        indirect_effects.append(indirect_effect)\n",
    "\n",
    "    lower = np.percentile(indirect_effects, (1 - ci) / 2 * 100)\n",
    "    upper = np.percentile(indirect_effects, (1 + ci) / 2 * 100)\n",
    "\n",
    "    return lower, upper,indirect_effects\n",
    "\n",
    "\n",
    "# Replace 'IV', 'M', and 'DV' with the actual variable names in your dataset\n",
    "iv = 'Age'\n",
    "m = 'vmPFC'\n",
    "dv = 'game1_acc'\n",
    "\n",
    "# Path a: IV -> M\n",
    "path_a = smf.ols(f\"{m} ~ {iv}\", data=data).fit()\n",
    "\n",
    "# Path b: M -> DV, controlling for IV\n",
    "path_b = smf.ols(f\"{dv} ~ {m} + {iv}\", data=data).fit()\n",
    "lower, upper,indirect_effects = bootstrap_indirect_effect(data, iv, m, dv)\n",
    "\n",
    "print(f\"Bootstrapped {int(0.95 * 100)}% confidence interval for the indirect effect: ({lower:.4f}, {upper:.4f})\")"
   ],
   "metadata": {
    "collapsed": false,
    "ExecuteTime": {
     "start_time": "2023-04-27T16:32:59.324559Z",
     "end_time": "2023-04-27T16:34:18.494170Z"
    }
   }
  },
  {
   "cell_type": "code",
   "execution_count": 42,
   "outputs": [
    {
     "name": "stderr",
     "output_type": "stream",
     "text": [
      "/home/dell/Software/anaconda3/lib/python3.8/site-packages/ipykernel/ipkernel.py:287: DeprecationWarning: `should_run_async` will not call `transform_cell` automatically in the future. Please pass the result to `transformed_cell` argument and any exception that happen during thetransform in `preprocessing_exc_tuple` in IPython 7.17 and above.\n",
      "  and should_run_async(code)\n"
     ]
    },
    {
     "data": {
      "text/plain": "(array([  13.,  265., 1106., 1572., 1110.,  573.,  246.,   90.,   18.,\n           7.]),\n array([-0.00042012, -0.00013525,  0.00014962,  0.0004345 ,  0.00071937,\n         0.00100424,  0.00128912,  0.00157399,  0.00185886,  0.00214374,\n         0.00242861]),\n <BarContainer object of 10 artists>)"
     },
     "execution_count": 42,
     "metadata": {},
     "output_type": "execute_result"
    },
    {
     "data": {
      "text/plain": "<Figure size 432x288 with 1 Axes>",
      "image/png": "[encoded data removed]"
     },
     "metadata": {},
     "output_type": "display_data"
    }
   ],
   "source": [
    "import matplotlib.pyplot as plt\n",
    "plt.hist(indirect_effects)"
   ],
   "metadata": {
    "collapsed": false,
    "ExecuteTime": {
     "start_time": "2023-04-25T21:49:46.288844Z",
     "end_time": "2023-04-25T21:49:47.332634Z"
    }
   }
  }
 ],
 "metadata": {
  "kernelspec": {
   "display_name": "Python 3",
   "language": "python",
   "name": "python3"
  },
  "language_info": {
   "codemirror_mode": {
    "name": "ipython",
    "version": 2
   },
   "file_extension": ".py",
   "mimetype": "text/x-python",
   "name": "python",
   "nbconvert_exporter": "python",
   "pygments_lexer": "ipython2",
   "version": "2.7.6"
  }
 },
 "nbformat": 4,
 "nbformat_minor": 0
}
