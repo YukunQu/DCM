{
 "cells": [
  {
   "cell_type": "code",
   "execution_count": 2,
   "metadata": {
    "collapsed": true,
    "ExecuteTime": {
     "end_time": "2023-05-15T10:38:12.767358810Z",
     "start_time": "2023-05-15T10:38:11.880542512Z"
    }
   },
   "outputs": [],
   "source": [
    "import os\n",
    "import numpy as np\n",
    "import pandas as pd\n",
    "from nilearn import masking, image\n",
    "from scipy.stats import ttest_1samp, pearsonr,ttest_ind\n",
    "import statsmodels.api as sm\n",
    "import statsmodels.formula.api as smf\n",
    "import seaborn as sns\n",
    "import matplotlib\n",
    "import matplotlib.pyplot as plt\n",
    "sns.set_style('white')\n",
    "matplotlib.rcParams['pdf.fonttype'] = 42\n",
    "matplotlib.rcParams['ps.fonttype'] = 42\n",
    "\n",
    "\n",
    "def p2sign(p):\n",
    "    if  p<=0.001:\n",
    "        sign='***'\n",
    "    elif p<=0.01:\n",
    "        sign='**'\n",
    "    elif p<=0.05:\n",
    "        sign='*'\n",
    "    else:\n",
    "        sign='n.s.'\n",
    "    return sign\n",
    "\n",
    "\n",
    "def bootstrap_indirect_effect(data, iv, m, dv, n_bootstraps=5000, ci=0.95):\n",
    "    indirect_effects = []\n",
    "    for _ in range(n_bootstraps):\n",
    "        bootstrap_data = data.sample(frac=1, replace=True)\n",
    "\n",
    "        path_a = smf.ols(f\"{m} ~ {iv}\", data=bootstrap_data).fit()\n",
    "        path_b = smf.ols(f\"{dv} ~ {m} + {iv}\", data=bootstrap_data).fit()\n",
    "\n",
    "        indirect_effect = path_a.params[1] * path_b.params[1]\n",
    "        indirect_effects.append(indirect_effect)\n",
    "\n",
    "    lower = np.percentile(indirect_effects, (1 - ci) / 2 * 100)\n",
    "    upper = np.percentile(indirect_effects, (1 + ci) / 2 * 100)\n",
    "\n",
    "    return lower, upper,indirect_effects"
   ]
  },
  {
   "cell_type": "markdown",
   "source": [
    "## Plot ROI mean effect"
   ],
   "metadata": {
    "collapsed": false
   }
  },
  {
   "cell_type": "code",
   "execution_count": 118,
   "outputs": [
    {
     "name": "stderr",
     "output_type": "stream",
     "text": [
      "/home/dell/Software/anaconda3/lib/python3.8/site-packages/nilearn/image/image.py:1041: UserWarning: Data array used to create a new image contains 64-bit ints. This is likely due to creating the array with numpy and passing `int` as the `dtype`. Many tools such as FSL and SPM cannot deal with int64 in Nifti images, so for compatibility the data has been converted to int32.\n",
      "  return new_img_like(niimg, result, niimg.affine)\n"
     ]
    },
    {
     "name": "stdout",
     "output_type": "stream",
     "text": [
      "thr: 0\n",
      "t: 1.8796560837076024\n",
      "p: 0.06159464402367829\n"
     ]
    },
    {
     "data": {
      "text/plain": "<Figure size 216x360 with 1 Axes>",
      "image/png": "[encoded data removed]"
     },
     "metadata": {},
     "output_type": "display_data"
    }
   ],
   "source": [
    "# specify subjects\n",
    "participants_tsv = r'/mnt/workdir/DCM/BIDS/participants.tsv'\n",
    "participants_data = pd.read_csv(participants_tsv, sep='\\t')\n",
    "data = participants_data.query('game1_fmri>=0.5')\n",
    "subjects = data['Participant_ID'].to_list()\n",
    "# set camp\n",
    "cmap_template = r'/mnt/workdir/DCM/BIDS/derivatives/Nilearn/game1/hexagon_spct/Setall/6fold/{}/zmap/hexagon_zmap.nii.gz'\n",
    "sub_cmap_paths = [cmap_template.format(sub_id) for sub_id in subjects]\n",
    "\n",
    "# set roi\n",
    "# roi1 = image.load_img(r'/mnt/workdir/DCM/Docs/Mask/hippocampus/lHC_MNI152NL.nii.gz')\n",
    "# roi2 = image.load_img(r'/mnt/workdir/DCM/Docs/Mask/hippocampus/rHC_MNI152NL.nii.gz')\n",
    "# roi = image.math_img('np.logical_or(img1,img2)', img1=roi1, img2=roi2)\n",
    "#roi = image.load_img(r'/mnt/workdir/DCM/BIDS/derivatives/Nilearn/game1/hexagon_spct/EC_thr3.1.nii.gz')\n",
    "#roi  = image.load_img(r'/mnt/workdir/DCM/Docs/Mask/EC/juelich_EC_MNI152NL_prob.nii.gz')\n",
    "#roi = image.binarize_img(roi,10)\n",
    "#roi  = image.load_img(r'/mnt/workdir/DCM/Docs/Mask/VMPFC/VMPFC_merge_MNI152NL.nii.gz')\n",
    "roi1 = image.load_img(r'/mnt/data/DCM/tmp/aparc/mask/lh.isthmuscingulate.nii.gz')\n",
    "roi2 = image.load_img(r'/mnt/data/DCM/tmp/aparc/mask/rh.isthmuscingulate.nii.gz')\n",
    "roi = image.math_img('np.logical_or(img1,img2)', img1=roi1, img2=roi2)\n",
    "#lh.lateralorbitofrontal.nii.gz\n",
    "# roi1 = image.load_img(r'/mnt/workdir/DCM/Docs/Mask/RSC/MNI152Nl-lRSC.nii.gz')\n",
    "# roi2 = image.load_img(r'/mnt/workdir/DCM/Docs/Mask/RSC/MNI152Nl-rRSC.nii.gz')\n",
    "#roi = image.math_img('np.logical_or(img1,img2)', img1=roi1, img2=roi2)\n",
    "thr_range = [0]\n",
    "for thr in thr_range:\n",
    "    roi_thr = image.binarize_img(roi, thr)\n",
    "    subs_mean_activity = np.mean(masking.apply_mask(sub_cmap_paths, roi_thr), axis=1)\n",
    "\n",
    "    # mean\n",
    "    t_statistic, p_value = ttest_1samp(subs_mean_activity, 0)\n",
    "    print('thr: {}'.format(thr))\n",
    "    print('t:', t_statistic)\n",
    "    print('p:', p_value)\n",
    "\n",
    "    # plot\n",
    "    fig,ax = plt.subplots(figsize=(3,5))\n",
    "    xjitter = np.random.uniform(-0.05, 0.05,size=len(subs_mean_activity))\n",
    "    #sns.scatterplot(x=xjitter,y=subs_mean_activity,alpha=0.1)\n",
    "    # Add a point to represent the mean of subs_mean_activity\n",
    "    mean_val = subs_mean_activity.mean()\n",
    "    plt.plot(0, mean_val*1.02, marker='d', markersize=7,color='royalblue',zorder=10)\n",
    "    sns.barplot(data=subs_mean_activity,facecolor='None',edgecolor='royalblue',capsize=0.1,errcolor='royalblue',errwidth=1.5,errorbar='se', width=0.3)\n",
    "\n",
    "    # Add a horizontal line\n",
    "    ax.hlines(y=0, xmin=-0.45, xmax=0.45, colors='black', linestyles='--',linewidth=0.7)\n",
    "    ax.set_ylabel('Z statistic')\n",
    "    ax.set_xlabel('Retrosplenial cortex')\n",
    "\n",
    "    # Remove top and right spines\n",
    "    sns.despine(top=True, right=True)\n",
    "\n",
    "    # Modify the bottom and left spines\n",
    "    ax.spines['left'].set_linewidth(1)\n",
    "    ax.spines['bottom'].set_linewidth(1)\n",
    "\n",
    "    # Set custom ticks for the x-axis and y-axis\n",
    "    plt.xticks([-0.5, 0.5])\n",
    "    #plt.yticks(np.arange(0, 0.25, 0.1))\n",
    "    # Add tick lines to the bottom and left spines\n",
    "    ax.tick_params(axis='x', which='both', bottom=True, top=False, direction='out')\n",
    "    ax.tick_params(axis='y', which='both', left=True, right=False, direction='out')\n",
    "\n",
    "    # Add asterisks on top of each bar\n",
    "    vmean = np.mean(subs_mean_activity)\n",
    "    ax.text(0, subs_mean_activity.mean()+0.045, p2sign(p_value),ha='center', va='bottom',weight='bold',size=15)\n",
    "    # plt.savefig(\"/mnt/workdir/DCM/Result/MRI/Game difference/Hexagon/hexagon_sub-hp_roi-RSC.svg\", dpi=300, bbox_inches='tight', transparent=True)\n",
    "    plt.show()"
   ],
   "metadata": {
    "collapsed": false,
    "ExecuteTime": {
     "start_time": "2023-05-07T14:47:25.140530Z",
     "end_time": "2023-05-07T14:47:40.143348Z"
    }
   }
  },
  {
   "cell_type": "markdown",
   "source": [
    "## Plot ROI covairate effect"
   ],
   "metadata": {
    "collapsed": false
   }
  },
  {
   "cell_type": "code",
   "execution_count": 13,
   "outputs": [
    {
     "name": "stderr",
     "output_type": "stream",
     "text": [
      "/home/dell/Software/anaconda3/lib/python3.8/site-packages/nilearn/image/image.py:1041: UserWarning: Data array used to create a new image contains 64-bit ints. This is likely due to creating the array with numpy and passing `int` as the `dtype`. Many tools such as FSL and SPM cannot deal with int64 in Nifti images, so for compatibility the data has been converted to int32.\n",
      "  return new_img_like(niimg, result, niimg.affine)\n"
     ]
    }
   ],
   "source": [
    "# specify subjects\n",
    "participants_tsv = r'/mnt/workdir/DCM/BIDS/participants.tsv'\n",
    "participants_data = pd.read_csv(participants_tsv, sep='\\t')\n",
    "participants_data =  participants_data.query(\"(game1_fmri>=0.5)\")\n",
    "subjects_id = participants_data['Participant_ID'].to_list()\n",
    "\n",
    "# set camp\n",
    "cmap_template = r'/mnt/workdir/DCM/BIDS/derivatives/Nilearn/game1/cv_test_hexagon_spct/Setall/6fold/{}/zmap/alignPhi_zmap.nii.gz'\n",
    "\n",
    "# .gz'\n",
    "# roi = image.load_img(r'/mnt/workdir/DCM/Docs/Mask/hippocampus/rHC_MNI152NL.nii.gz')\n",
    "#roi2 = image.load_img(r'/mnt/workdir/DCM/Docs/Mask/hippocampus/lHC_MNI152NL.nii.gz')\n",
    "#roi = image.math_img('np.logical_or(img1,img2)', img1=roi1, img2=roi2)\n",
    "\n",
    "# roi  = image.load_img(r'/mnt/workdir/DCM/Docs/Mask/VMPFC/VMPFC_merge_MNI152NL.nii.gz')\n",
    "# roi1 = image.load_img(r'/mnt/data/DCM/tmp/aparc/mask/lh.isthmuscingulate.nii.gz')\n",
    "# roi2 = image.load_img(r'/mnt/data/DCM/tmp/aparc/mask/rh.isthmuscingulate.nii.gz')\n",
    "# roi = image.math_img('np.logical_or(img1,img2)', img1=roi1, img2=roi2)\n",
    "#roi = image.load_img(r'/mnt/data/DCM/result_backup/2023.3.24/Nilearn_smodel/game1/hexagon_spct/EC_thr3.1.nii.gz')\n",
    "roi  = image.load_img(r'/mnt/workdir/DCM/Docs/Mask/EC/juelich_EC_MNI152NL_prob_L.nii.gz')\n",
    "roi = image.binarize_img(roi,80)\n",
    "\n",
    "# get activity in ROI\n",
    "subs_cmap_list = [cmap_template.format(sub_id) for sub_id in subjects_id]\n",
    "subs_mean_activity = np.mean(masking.apply_mask(subs_cmap_list, roi),axis=1)"
   ],
   "metadata": {
    "collapsed": false,
    "ExecuteTime": {
     "end_time": "2023-05-15T10:42:09.157844775Z",
     "start_time": "2023-05-15T10:41:55.980682348Z"
    }
   }
  },
  {
   "cell_type": "code",
   "execution_count": 12,
   "outputs": [
    {
     "name": "stdout",
     "output_type": "stream",
     "text": [
      "r 0.0672 p 0.3408\n"
     ]
    },
    {
     "data": {
      "text/plain": "<Figure size 864x720 with 1 Axes>",
      "image/png": "[encoded data removed]"
     },
     "metadata": {
      "needs_background": "light"
     },
     "output_type": "display_data"
    }
   ],
   "source": [
    "participants_data['beh_diff'] = participants_data['game2_test_acc'] - participants_data['game1_acc']\n",
    "# get covariate\n",
    "covary_variable = participants_data['game1_acc'].to_list()\n",
    "#plot figure\n",
    "fig, ax = plt.subplots(figsize=(12,10))\n",
    "color = sns.color_palette(\"Paired\")\n",
    "#plt.scatter(covary_variable, subs_mean_activity,color=color[5], s=40,alpha=0.4)\n",
    "sns.regplot(x=covary_variable, y=subs_mean_activity,color=color[5],order=2,scatter=False)\n",
    "ax.set_xlabel('Acc', fontsize=30)\n",
    "ax.set_ylabel('Z statistic', fontsize=30)\n",
    "\n",
    "# Remove top and right spines\n",
    "sns.despine(top=True, right=True)\n",
    "# Modify the bottom and left spines\n",
    "ax.spines['left'].set_linewidth(1)\n",
    "ax.spines['bottom'].set_linewidth(1)\n",
    "\n",
    "# Set custom ticks for the x-axis and y-axis\n",
    "#plt.xticks([])\n",
    "#plt.yticks(np.arange(0, 0.25, 0.1))\n",
    "# Add tick lines to the bottom and left spines\n",
    "\n",
    "r, p = pearsonr(covary_variable,subs_mean_activity)\n",
    "print('r',round(r,4),'p',round(p,4))\n",
    "#move overall title up\n",
    "fig.subplots_adjust(top=0.92)\n",
    "if p < 0.001:\n",
    "    fig.suptitle('r:{}  p<0.001'.format(round(r,3)),size=25)\n",
    "else:\n",
    "    fig.suptitle('r:{}, p:{}'.format(round(r,3),round(p,3)),size=25)"
   ],
   "metadata": {
    "collapsed": false,
    "ExecuteTime": {
     "end_time": "2023-05-15T10:41:53.479856500Z",
     "start_time": "2023-05-15T10:41:53.171705910Z"
    }
   }
  },
  {
   "cell_type": "markdown",
   "source": [
    "## Plot brain activity with separate age stage"
   ],
   "metadata": {
    "collapsed": false
   }
  },
  {
   "cell_type": "code",
   "execution_count": 17,
   "outputs": [],
   "source": [
    "# specify subjects\n",
    "participants_tsv = r'/mnt/workdir/DCM/BIDS/participants.tsv'\n",
    "participants_data = pd.read_csv(participants_tsv, sep='\\t')\n",
    "participants_data =  participants_data.query(\"game1_fmri>=0.5\")\n",
    "subjects_id = participants_data['Participant_ID'].to_list()\n",
    "\n",
    "# set camp\n",
    "cmap_template = r'/mnt/workdir/DCM/BIDS/derivatives/Nilearn/game1/distance_spct/Setall/6fold/{}/zmap/M2_corrxdistance_zmap.nii.gz'\n",
    "\n",
    "# set roi\n",
    "#roi  = image.load_img(r'/mnt/workdir/DCM/Docs/Mask/VMPFC/VMPFC_merge_MNI152NL.nii.gz')\n",
    "# roi1 = image.load_img(r'/mnt/workdir/DCM/Docs/Mask/hippocampus/lHC_MNI152NL.nii.gz')\n",
    "# roi2 = image.load_img(r'/mnt/workdir/DCM/Docs/Mask/hippocampus/rHC_MNI152NL.nii.gz')\n",
    "# roi = image.math_img('np.logical_or(img1,img2)', img1=roi1, img2=roi2)\n",
    "# roi1 = image.load_img(r'/mnt/data/DCM/tmp/aparc/mask/lh.parsorbitalis.nii.gz')\n",
    "# roi2 = image.load_img(r'/mnt/data/DCM/tmp/aparc/mask/rh.parsorbitalis.nii.gz')\n",
    "# roi = image.math_img('np.logical_or(img1,img2)', img1=roi1, img2=roi2)\n",
    "# roi  = image.load_img(r'/mnt/workdir/DCM/Docs/Mask/EC/juelich_EC_MNI152NL_prob.nii.gz')\n",
    "# roi = image.binarize_img(roi,10)\n",
    "roi = image.load_img(r'/mnt/workdir/DCM/BIDS/derivatives/Nilearn/game1/hexagon_spct/EC_thr3.1.nii.gz')\n",
    "\n",
    "# get activity in ROI\n",
    "subs_cmap_list = [cmap_template.format(sub_id) for sub_id in subjects_id]\n",
    "subs_mean_activity = np.mean(masking.apply_mask(subs_cmap_list, roi),axis=1)\n",
    "participants_data['ROI_activity'] = subs_mean_activity"
   ],
   "metadata": {
    "collapsed": false,
    "ExecuteTime": {
     "start_time": "2023-05-06T16:20:55.576262Z",
     "end_time": "2023-05-06T16:21:09.503295Z"
    }
   }
  },
  {
   "cell_type": "code",
   "execution_count": 18,
   "outputs": [
    {
     "name": "stdout",
     "output_type": "stream",
     "text": [
      "The group difference bettwen children and adolescents t = -2.480, p = 0.014\n",
      "The group difference bettwen adolescents and adults t = 1.189, p = 0.237\n",
      "The group difference bettwen children and adults t = -1.467, p = 0.145\n"
     ]
    },
    {
     "data": {
      "text/plain": "Text(1, 0.3669380479874236, 'n.s.')"
     },
     "execution_count": 18,
     "metadata": {},
     "output_type": "execute_result"
    },
    {
     "data": {
      "text/plain": "<Figure size 360x360 with 1 Axes>",
      "image/png": "[encoded data removed]"
     },
     "metadata": {
      "needs_background": "light"
     },
     "output_type": "display_data"
    }
   ],
   "source": [
    "# Add age group categories\n",
    "age_bins = [7, 12, 17, 25]\n",
    "age_labels = ['children', 'adolescents', 'adults']\n",
    "participants_data['Age_group'] = pd.cut(participants_data['Age'], bins=age_bins, labels=age_labels)\n",
    "g = sns.catplot(x='Age_group', y='ROI_activity', data=participants_data, kind='point', errorbar=\"se\")\n",
    "g.set_axis_labels(\"Age Group\", \"ROI_activity\")\n",
    "g.fig.set_size_inches(5, 5)\n",
    "\n",
    "# get the acivities of each age group\n",
    "children_data = participants_data.query(\"Age_group=='children'\")\n",
    "adolescents_data = participants_data.query(\"Age_group=='adolescents'\")\n",
    "adult_data = participants_data.query(\"Age_group=='adults'\")\n",
    "# compare activity size between each pair of the three age groups using t-tests\n",
    "def p2sign(p):\n",
    "    if  p<=0.001:\n",
    "        sign='***'\n",
    "    elif p<=0.01:\n",
    "        sign='**'\n",
    "    elif p<=0.05:\n",
    "        sign='*'\n",
    "    else:\n",
    "        sign='n.s.'\n",
    "    return sign\n",
    "\n",
    "height = participants_data['ROI_activity'].mean() + 0.5*participants_data['ROI_activity'].std()\n",
    "# compare children and adolescents\n",
    "t,p = ttest_ind(children_data['ROI_activity'], adolescents_data['ROI_activity'])\n",
    "print('The group difference bettwen children and adolescents t = {:.3f}, p = {:.3f}'.format(t, p))\n",
    "g.ax.plot([0, 0.9], [height, height], 'k-', lw=1)\n",
    "g.ax.text(0.5, height, p2sign(p), ha='center', va='bottom', color='k', fontsize=20)\n",
    "\n",
    "# compare children and adults\n",
    "t,p =  ttest_ind(adolescents_data['ROI_activity'], adult_data['ROI_activity'])\n",
    "print('The group difference bettwen adolescents and adults t = {:.3f}, p = {:.3f}'.format(t, p))\n",
    "g.ax.plot([1.1, 2], [height, height], 'k-', lw=1)\n",
    "g.ax.text(1.5, height, p2sign(p), ha='center', va='bottom', color='k', fontsize=20)\n",
    "\n",
    "# compare adolescents and adults\n",
    "t,p = ttest_ind(children_data['ROI_activity'], adult_data['ROI_activity'])\n",
    "print('The group difference bettwen children and adults t = {:.3f}, p = {:.3f}'.format(t, p))\n",
    "g.ax.plot([0, 2], [height+0.05, height+0.05], 'k-', lw=1)\n",
    "g.ax.text(1, height+0.05, p2sign(p), ha='center', va='bottom', color='k', fontsize=20)"
   ],
   "metadata": {
    "collapsed": false,
    "ExecuteTime": {
     "start_time": "2023-05-06T16:22:19.029370Z",
     "end_time": "2023-05-06T16:22:19.206098Z"
    }
   }
  },
  {
   "cell_type": "code",
   "execution_count": 156,
   "outputs": [
    {
     "name": "stdout",
     "output_type": "stream",
     "text": [
      "0.15824247935329444 0.0721510885192667\n",
      "0.04645538278835484 0.6963331207166016\n",
      "(0.7597311319521073, 0.22370765788758806)\n"
     ]
    }
   ],
   "source": [
    "import numpy as np\n",
    "from scipy.stats import t, norm\n",
    "from math import atanh, pow\n",
    "from numpy import tanh\n",
    "\n",
    "r1,p1 = pearsonr(junv_covary_variable, junv_subs_mean_activity)\n",
    "r2,p2 = pearsonr(adult_covary_variable, adult_subs_mean_activity)\n",
    "\n",
    "# Sample sizes for each correlation coefficient\n",
    "n1 = len(junv_covary_variable)\n",
    "n2 = len(adult_covary_variable)\n",
    "print(r1,p1)\n",
    "print(r2,p2)\n",
    "\n",
    "def rz_ci(r, n, conf_level = 0.95):\n",
    "    zr_se = pow(1/(n - 3), .5)\n",
    "    moe = norm.ppf(1 - (1 - conf_level)/float(2)) * zr_se\n",
    "    zu = atanh(r) + moe\n",
    "    zl = atanh(r) - moe\n",
    "    return tanh((zl, zu))\n",
    "\n",
    "def independent_corr(xy, ab, n, n2 = None, twotailed=True, conf_level=0.95, method='fisher'):\n",
    "    \"\"\"\n",
    "    Calculates the statistic significance between two independent correlation coefficients\n",
    "    @param xy: correlation coefficient between x and y\n",
    "    @param xz: correlation coefficient between a and b\n",
    "    @param n: number of elements in xy\n",
    "    @param n2: number of elements in ab (if distinct from n)\n",
    "    @param twotailed: whether to calculate a one or two tailed test, only works for 'fisher' method\n",
    "    @param conf_level: confidence level, only works for 'zou' method\n",
    "    @param method: defines the method uses, 'fisher' or 'zou'\n",
    "    @return: z and p-val\n",
    "    \"\"\"\n",
    "\n",
    "    if method == 'fisher':\n",
    "        xy_z = 0.5 * np.log((1 + xy)/(1 - xy))\n",
    "        ab_z = 0.5 * np.log((1 + ab)/(1 - ab))\n",
    "        if n2 is None:\n",
    "            n2 = n\n",
    "\n",
    "        se_diff_r = np.sqrt(1/(n - 3) + 1/(n2 - 3))\n",
    "        diff = xy_z - ab_z\n",
    "        z = abs(diff / se_diff_r)\n",
    "        p = (1 - norm.cdf(z))\n",
    "        if twotailed:\n",
    "            p *= 2\n",
    "\n",
    "        return z, p\n",
    "    elif method == 'zou':\n",
    "        L1 = rz_ci(xy, n, conf_level=conf_level)[0]\n",
    "        U1 = rz_ci(xy, n, conf_level=conf_level)[1]\n",
    "        L2 = rz_ci(ab, n2, conf_level=conf_level)[0]\n",
    "        U2 = rz_ci(ab, n2, conf_level=conf_level)[1]\n",
    "        lower = xy - ab - pow((pow((xy - L1), 2) + pow((U2 - ab), 2)), 0.5)\n",
    "        upper = xy - ab + pow((pow((U1 - xy), 2) + pow((ab - L2), 2)), 0.5)\n",
    "        return lower, upper\n",
    "    else:\n",
    "        raise Exception('Wrong method!')\n",
    "\n",
    "print(independent_corr(r1 , r2, n1, n2, method='fisher',twotailed=False))"
   ],
   "metadata": {
    "collapsed": false,
    "ExecuteTime": {
     "start_time": "2023-04-20T13:16:56.220492Z",
     "end_time": "2023-04-20T13:16:56.220599Z"
    }
   }
  },
  {
   "cell_type": "code",
   "execution_count": 26,
   "outputs": [
    {
     "name": "stderr",
     "output_type": "stream",
     "text": [
      "/home/dell/Software/anaconda3/lib/python3.8/site-packages/nilearn/image/image.py:1041: UserWarning: Data array used to create a new image contains 64-bit ints. This is likely due to creating the array with numpy and passing `int` as the `dtype`. Many tools such as FSL and SPM cannot deal with int64 in Nifti images, so for compatibility the data has been converted to int32.\n",
      "  return new_img_like(niimg, result, niimg.affine)\n"
     ]
    },
    {
     "name": "stdout",
     "output_type": "stream",
     "text": [
      "                            OLS Regression Results                            \n",
      "==============================================================================\n",
      "Dep. Variable:          Inference_acc   R-squared:                       0.317\n",
      "Model:                            OLS   Adj. R-squared:                  0.310\n",
      "Method:                 Least Squares   F-statistic:                     46.39\n",
      "Date:                Mon, 15 May 2023   Prob (F-statistic):           2.81e-17\n",
      "Time:                        18:48:39   Log-Likelihood:                 175.92\n",
      "No. Observations:                 203   AIC:                            -345.8\n",
      "Df Residuals:                     200   BIC:                            -335.9\n",
      "Df Model:                           2                                         \n",
      "Covariance Type:            nonrobust                                         \n",
      "======================================================================================\n",
      "                         coef    std err          t      P>|t|      [0.025      0.975]\n",
      "--------------------------------------------------------------------------------------\n",
      "const                  0.5338      0.023     23.193      0.000       0.488       0.579\n",
      "Consistency_effect     0.0191      0.012      1.537      0.126      -0.005       0.044\n",
      "Age                    0.0130      0.001      9.578      0.000       0.010       0.016\n",
      "==============================================================================\n",
      "Omnibus:                        7.333   Durbin-Watson:                   1.658\n",
      "Prob(Omnibus):                  0.026   Jarque-Bera (JB):                5.739\n",
      "Skew:                          -0.307   Prob(JB):                       0.0567\n",
      "Kurtosis:                       2.451   Cond. No.                         53.6\n",
      "==============================================================================\n",
      "\n",
      "Notes:\n",
      "[1] Standard Errors assume that the covariance matrix of the errors is correctly specified.\n"
     ]
    },
    {
     "name": "stderr",
     "output_type": "stream",
     "text": [
      "<ipython-input-26-cb924068ae0f>:20: SettingWithCopyWarning: \n",
      "A value is trying to be set on a copy of a slice from a DataFrame.\n",
      "Try using .loc[row_indexer,col_indexer] = value instead\n",
      "\n",
      "See the caveats in the documentation: https://pandas.pydata.org/pandas-docs/stable/user_guide/indexing.html#returning-a-view-versus-a-copy\n",
      "  data['Consistency_effect'] = subs_mean_activity\n",
      "<ipython-input-26-cb924068ae0f>:21: SettingWithCopyWarning: \n",
      "A value is trying to be set on a copy of a slice from a DataFrame.\n",
      "Try using .loc[row_indexer,col_indexer] = value instead\n",
      "\n",
      "See the caveats in the documentation: https://pandas.pydata.org/pandas-docs/stable/user_guide/indexing.html#returning-a-view-versus-a-copy\n",
      "  data['Inference_acc'] = data['game1_acc']\n",
      "<ipython-input-26-cb924068ae0f>:29: UserWarning: Matplotlib is currently using module://ipykernel.pylab.backend_inline, which is a non-GUI backend, so cannot show the figure.\n",
      "  fig.show()\n"
     ]
    },
    {
     "data": {
      "text/plain": "<Figure size 504x360 with 1 Axes>",
      "image/png": "[encoded data removed]"
     },
     "metadata": {},
     "output_type": "display_data"
    }
   ],
   "source": [
    "# specify subjects\n",
    "participants_tsv = r'/mnt/workdir/DCM/BIDS/participants.tsv'\n",
    "participants_data = pd.read_csv(participants_tsv, sep='\\t')\n",
    "data =  participants_data.query(\"game1_fmri>=0.5\")\n",
    "subjects_id = data['Participant_ID'].to_list()\n",
    "\n",
    "# set camp\n",
    "cmap_template = r'/mnt/workdir/DCM/BIDS/derivatives/Nilearn/game1/cv_test_hexagon_spct/Setall/6fold/{}/zmap/alignPhi_even_zmap.nii.gz'\n",
    "\n",
    "\n",
    "# set roi\n",
    "#roi = image.load_img(r'/mnt/data/DCM/tmp/aparc/mask/rh.parsorbitalis.nii.gz')\n",
    "roi = image.load_img(r'/mnt/workdir/DCM/Docs/Mask/EC/juelich_EC_MNI152NL_prob.nii.gz')\n",
    "roi = image.binarize_img(roi,30)\n",
    "#roi = image.load_img(r'/mnt/data/DCM/result_backup/2023.3.24/Nilearn_smodel/game1/hexagon_spct/EC_thr3.1.nii.gz')\n",
    "# extract mean activity\n",
    "subs_cmap_list = [cmap_template.format(sub_id) for sub_id in subjects_id]\n",
    "subs_mean_activity = np.mean(masking.apply_mask(subs_cmap_list, roi),axis=1)\n",
    "\n",
    "data['Consistency_effect'] = subs_mean_activity\n",
    "data['Inference_acc'] = data['game1_acc']\n",
    "\n",
    "# Plot the partial correlation plot with age held constant\n",
    "import statsmodels.api as sm\n",
    "fig = sm.graphics.plot_partregress(\"Inference_acc\", \"Consistency_effect\",[\"Age\"],data=data,obs_labels=False)\n",
    "fig.set_size_inches(7,5)\n",
    "sns.set_theme(style=\"white\")\n",
    "fig.tight_layout()\n",
    "fig.show()\n",
    "\n",
    "X = data[['Consistency_effect','Age']]\n",
    "Y = data['Inference_acc']\n",
    "\n",
    "X = sm.add_constant(X)\n",
    "model = sm.OLS(Y, X).fit()\n",
    "predictions = model.predict(X)\n",
    "model_summary = model.summary()\n",
    "print(model_summary)"
   ],
   "metadata": {
    "collapsed": false,
    "ExecuteTime": {
     "end_time": "2023-05-15T10:48:40.033505212Z",
     "start_time": "2023-05-15T10:48:26.943975397Z"
    }
   }
  },
  {
   "cell_type": "markdown",
   "source": [
    "# A GLM include age, brain actvitiy and inference"
   ],
   "metadata": {
    "collapsed": false
   }
  },
  {
   "cell_type": "code",
   "execution_count": 108,
   "outputs": [
    {
     "name": "stderr",
     "output_type": "stream",
     "text": [
      "/home/dell/Software/anaconda3/lib/python3.8/site-packages/nilearn/image/image.py:1041: UserWarning: Data array used to create a new image contains 64-bit ints. This is likely due to creating the array with numpy and passing `int` as the `dtype`. Many tools such as FSL and SPM cannot deal with int64 in Nifti images, so for compatibility the data has been converted to int32.\n",
      "  return new_img_like(niimg, result, niimg.affine)\n"
     ]
    },
    {
     "name": "stdout",
     "output_type": "stream",
     "text": [
      "EC is processing\n",
      "203\n"
     ]
    },
    {
     "name": "stderr",
     "output_type": "stream",
     "text": [
      "<ipython-input-108-cb732272f796>:49: SettingWithCopyWarning: \n",
      "A value is trying to be set on a copy of a slice from a DataFrame.\n",
      "Try using .loc[row_indexer,col_indexer] = value instead\n",
      "\n",
      "See the caveats in the documentation: https://pandas.pydata.org/pandas-docs/stable/user_guide/indexing.html#returning-a-view-versus-a-copy\n",
      "  data[troi_name] = subs_mean_activity\n"
     ]
    }
   ],
   "source": [
    "# using the brian acitvitiy of multiple ROIs and age to predict inference accuracy\n",
    "\n",
    "# specify subjects\n",
    "participants_tsv = r'/mnt/workdir/DCM/BIDS/participants.tsv'\n",
    "participants_data = pd.read_csv(participants_tsv, sep='\\t')\n",
    "data =  participants_data.query(\"(game1_fmri>=0.5)\")\n",
    "subjects_id = data['Participant_ID'].to_list()\n",
    "\n",
    "# load ROI\n",
    "# # load HC\n",
    "# rHC = image.load_img(r'/mnt/workdir/DCM/Docs/Mask/hippocampus/rHC_MNI152NL.nii.gz')\n",
    "# lHC = image.load_img(r'/mnt/workdir/DCM/Docs/Mask/hippocampus/lHC_MNI152NL.nii.gz')\n",
    "# hc = image.math_img('np.logical_or(img1,img2)', img1=rHC, img2=lHC)\n",
    "# load EC\n",
    "ec = image.load_img(r'/mnt/workdir/DCM/Docs/Mask/EC/juelich_EC_MNI152NL_prob_R.nii.gz')\n",
    "ec = image.binarize_img(ec,10)\n",
    "# # # load OFC\n",
    "# rlOFC = image.load_img(r'/mnt/data/DCM/tmp/aparc/mask/lh.lateralorbitofrontal.nii.gz')\n",
    "# llOFC = image.load_img(r'/mnt/data/DCM/tmp/aparc/mask/rh.lateralorbitofrontal.nii.gz')\n",
    "# lofc = image.math_img('np.logical_or(img1,img2)', img1=rlOFC, img2=llOFC)\n",
    "# #\n",
    "# rpOFC = image.load_img(r'/mnt/data/DCM/tmp/aparc/mask/lh.parsorbitalis.nii.gz')\n",
    "# lpOFC = image.load_img(r'/mnt/data/DCM/tmp/aparc/mask/rh.parsorbitalis.nii.gz')\n",
    "# pofc = image.math_img('np.logical_or(img1,img2)', img1=rpOFC, img2=lpOFC)\n",
    "# # # load vmPFC\n",
    "# vmPFC  = image.load_img(r'/mnt/workdir/DCM/Docs/Mask/VMPFC/VMPFC_merge_MNI152NL.nii.gz')\n",
    "# # # load PCC\n",
    "# rpcc = image.load_img(r'/mnt/data/DCM/tmp/aparc/mask/lh.posteriorcingulate.nii.gz')\n",
    "# lpcc = image.load_img(r'/mnt/data/DCM/tmp/aparc/mask/rh.posteriorcingulate.nii.gz')\n",
    "# pcc = image.math_img('np.logical_or(img1,img2)', img1=rpcc, img2=lpcc)\n",
    "# # put ROIs into a dict\n",
    "#rois = {'lOFC':lofc,'vmPFC':vmPFC,'PCC':pcc,'HC':hc,'EC':ec,'pOFC':pofc}\n",
    "rois = {'EC':ec}\n",
    "# # load isthmuscingulate\n",
    "# liscc = image.load_img(r'/mnt/data/DCM/tmp/aparc/mask/lh.isthmuscingulate.nii.gz')\n",
    "# riscc = image.load_img(r'/mnt/data/DCM/tmp/aparc/mask/rh.isthmuscingulate.nii.gz')\n",
    "# iscc = image.math_img('np.logical_or(img1,img2)', img1=roi1, img2=roi2)\n",
    "# rois = {'liscc':liscc,'riscc':riscc,'iscc':iscc}\n",
    "# set camp\n",
    "cmap_template = r'/mnt/workdir/DCM/BIDS/derivatives/Nilearn/game1/distance_spct/Setall/6fold/{}/zmap/M2_corrxdistance_zmap.nii.gz'\n",
    "# cmap_template = r'/mnt/workdir/DCM/BIDS/derivatives/Nilearn/game1/grid_rsa_corr_trials/Setall/6fold/{}/rsa/rsa_ztransf_img_coarse_6fold.nii.gz'\n",
    "\n",
    "# get each subject's activity in each ROI\n",
    "for troi_name,troi in rois.items():\n",
    "    print(troi_name,'is processing')\n",
    "    # get activity in ROI\n",
    "    subs_cmap_list = [cmap_template.format(sub_id) for sub_id in subjects_id]\n",
    "    subs_mean_activity = np.mean(masking.apply_mask(subs_cmap_list, troi),axis=1)\n",
    "    data[troi_name] = subs_mean_activity\n",
    "print(len(subs_mean_activity))"
   ],
   "metadata": {
    "collapsed": false,
    "ExecuteTime": {
     "start_time": "2023-05-06T20:24:44.505600Z",
     "end_time": "2023-05-06T20:24:58.991866Z"
    }
   }
  },
  {
   "cell_type": "code",
   "execution_count": 110,
   "outputs": [
    {
     "name": "stdout",
     "output_type": "stream",
     "text": [
      "                            OLS Regression Results                            \n",
      "==============================================================================\n",
      "Dep. Variable:                     EC   R-squared:                       0.007\n",
      "Model:                            OLS   Adj. R-squared:                  0.002\n",
      "Method:                 Least Squares   F-statistic:                     1.463\n",
      "Date:                Sat, 06 May 2023   Prob (F-statistic):              0.228\n",
      "Time:                        20:25:53   Log-Likelihood:                -179.75\n",
      "No. Observations:                 203   AIC:                             363.5\n",
      "Df Residuals:                     201   BIC:                             370.1\n",
      "Df Model:                           1                                         \n",
      "Covariance Type:            nonrobust                                         \n",
      "==============================================================================\n",
      "                 coef    std err          t      P>|t|      [0.025      0.975]\n",
      "------------------------------------------------------------------------------\n",
      "const         -0.1244      0.129     -0.967      0.335      -0.378       0.129\n",
      "Age            0.0094      0.008      1.210      0.228      -0.006       0.025\n",
      "==============================================================================\n",
      "Omnibus:                        4.108   Durbin-Watson:                   2.063\n",
      "Prob(Omnibus):                  0.128   Jarque-Bera (JB):                3.706\n",
      "Skew:                           0.309   Prob(JB):                        0.157\n",
      "Kurtosis:                       3.237   Cond. No.                         51.5\n",
      "==============================================================================\n",
      "\n",
      "Notes:\n",
      "[1] Standard Errors assume that the covariance matrix of the errors is correctly specified.\n"
     ]
    },
    {
     "name": "stderr",
     "output_type": "stream",
     "text": [
      "<ipython-input-110-21a250d65441>:3: SettingWithCopyWarning: \n",
      "A value is trying to be set on a copy of a slice from a DataFrame.\n",
      "Try using .loc[row_indexer,col_indexer] = value instead\n",
      "\n",
      "See the caveats in the documentation: https://pandas.pydata.org/pandas-docs/stable/user_guide/indexing.html#returning-a-view-versus-a-copy\n",
      "  data['beh_diff'] = data['game2_test_acc'] - data['game1_acc']\n"
     ]
    }
   ],
   "source": [
    "import statsmodels.api as sm\n",
    "# using GLM to predict inference accuracy from brain activity and age\n",
    "data['beh_diff'] = data['game2_test_acc'] - data['game1_acc']\n",
    "X = data[['Age']]\n",
    "Y = data['EC']\n",
    "\n",
    "X = sm.add_constant(X)\n",
    "model = sm.OLS(Y, X).fit()\n",
    "predictions = model.predict(X)\n",
    "model_summary = model.summary()\n",
    "print(model_summary)"
   ],
   "metadata": {
    "collapsed": false,
    "ExecuteTime": {
     "start_time": "2023-05-06T20:25:53.114110Z",
     "end_time": "2023-05-06T20:25:53.156606Z"
    }
   }
  },
  {
   "cell_type": "code",
   "execution_count": 99,
   "outputs": [
    {
     "name": "stdout",
     "output_type": "stream",
     "text": [
      "Bootstrapped 95% confidence interval for the indirect effect: (0.00000905, 0.00172328)\n"
     ]
    }
   ],
   "source": [
    "# Replace 'IV', 'M', and 'DV' with the actual variable names in your dataset\n",
    "iv = 'Age'\n",
    "m = 'EC'\n",
    "dv = 'game1_acc'\n",
    "\n",
    "# Path a: IV -> M\n",
    "path_a = smf.ols(f\"{m} ~ {iv}\", data=data).fit()\n",
    "\n",
    "# Path b: M -> DV, controlling for IV\n",
    "path_b = smf.ols(f\"{dv} ~ {m} + {iv}\", data=data).fit()\n",
    "lower, upper,indirect_effects = bootstrap_indirect_effect(data, iv, m, dv)\n",
    "print(f\"Bootstrapped {int(0.95 * 100)}% confidence interval for the indirect effect: ({lower:.8f}, {upper:.8f})\")"
   ],
   "metadata": {
    "collapsed": false,
    "ExecuteTime": {
     "start_time": "2023-05-06T17:18:16.180085Z",
     "end_time": "2023-05-06T17:18:52.173971Z"
    }
   }
  },
  {
   "cell_type": "code",
   "execution_count": 100,
   "outputs": [
    {
     "data": {
      "text/plain": "<Figure size 432x288 with 1 Axes>",
      "image/png": "[encoded data removed]"
     },
     "metadata": {
      "needs_background": "light"
     },
     "output_type": "display_data"
    }
   ],
   "source": [
    "# Calculate lower and upper bounds\n",
    "ci=0.95\n",
    "lower = np.percentile(indirect_effects, (1 - ci) / 2 * 100)\n",
    "upper = np.percentile(indirect_effects, (1 + ci) / 2 * 100)\n",
    "\n",
    "# Plot histogram\n",
    "fig, ax = plt.subplots()\n",
    "n, bins, patches = ax.hist(indirect_effects, color='gray',bins=50)\n",
    "\n",
    "# Find the bin with the highest frequency and its corresponding height\n",
    "max_height = max(n)\n",
    "max_height_index = np.where(n == max_height)[0][0]\n",
    "max_height_bin = bins[max_height_index]\n",
    "\n",
    "# Add vertical line at zero with height equal to the maximum frequency\n",
    "ax.axvline(x=0, ymin=0, ymax=max_height, color='black', linestyle='--')\n",
    "\n",
    "# Color the histogram between the lower and upper bounds blue\n",
    "for i in range(len(patches)):\n",
    "    if lower <= bins[i] < upper:\n",
    "        patches[i].set_fc('lightsteelblue')\n",
    "\n",
    "# Remove top and right spines\n",
    "fig.suptitle(f\"{m}'s Bootstrapped {int(ci * 100)}% confidence interval: ({lower:.4f}, {upper:.4f})\",size=14)\n",
    "ax.spines['top'].set_visible(False)\n",
    "ax.spines['right'].set_visible(False)"
   ],
   "metadata": {
    "collapsed": false,
    "ExecuteTime": {
     "start_time": "2023-05-06T17:18:55.234990Z",
     "end_time": "2023-05-06T17:18:55.452352Z"
    }
   }
  },
  {
   "cell_type": "code",
   "execution_count": 57,
   "outputs": [
    {
     "name": "stderr",
     "output_type": "stream",
     "text": [
      "<ipython-input-57-e9d87825234b>:18: SettingWithCopyWarning: \n",
      "A value is trying to be set on a copy of a slice from a DataFrame.\n",
      "Try using .loc[row_indexer,col_indexer] = value instead\n",
      "\n",
      "See the caveats in the documentation: https://pandas.pydata.org/pandas-docs/stable/user_guide/indexing.html#returning-a-view-versus-a-copy\n",
      "  data['distance'] = np.mean(masking.apply_mask(sub_mahad_cmap, vmpfc), axis=1)\n",
      "<ipython-input-57-e9d87825234b>:19: SettingWithCopyWarning: \n",
      "A value is trying to be set on a copy of a slice from a DataFrame.\n",
      "Try using .loc[row_indexer,col_indexer] = value instead\n",
      "\n",
      "See the caveats in the documentation: https://pandas.pydata.org/pandas-docs/stable/user_guide/indexing.html#returning-a-view-versus-a-copy\n",
      "  data['value'] = np.mean(masking.apply_mask(sub_value_cmap, vmpfc), axis=1)\n"
     ]
    }
   ],
   "source": [
    "# check whether the manhattan distance can predict/meidate value effect and inference accuracy\n",
    "\n",
    "# specify subjects\n",
    "participants_tsv = r'/mnt/workdir/DCM/BIDS/participants.tsv'\n",
    "participants_data = pd.read_csv(participants_tsv, sep='\\t')\n",
    "data = participants_data.query('game1_fmri>=0.5')  # look out\n",
    "subjects = data['Participant_ID'].to_list()\n",
    "\n",
    "# set cmp template\n",
    "mahad_cmap = r'/mnt/workdir/DCM/BIDS/derivatives/Nilearn/game1/2distance_spct/Setall/6fold/{}/zmap/eudc_zmap.nii.gz'\n",
    "value_cmap = r'/mnt/workdir/DCM/BIDS/derivatives/Nilearn/game1/value_spct/Setall/6fold/{}/zmap/value_zmap.nii.gz'\n",
    "\n",
    "sub_mahad_cmap = [mahad_cmap.format(sub) for sub in subjects]\n",
    "sub_value_cmap = [value_cmap.format(sub) for sub in subjects]\n",
    "\n",
    "vmpfc = image.load_img(r'/mnt/workdir/DCM/Docs/Mask/VMPFC/VMPFC_merge_MNI152NL.nii.gz')\n",
    "# extract mean activity of ROI for each subjects\n",
    "data['distance'] = np.mean(masking.apply_mask(sub_mahad_cmap, vmpfc), axis=1)\n",
    "data['value'] = np.mean(masking.apply_mask(sub_value_cmap, vmpfc), axis=1)"
   ],
   "metadata": {
    "collapsed": false,
    "ExecuteTime": {
     "start_time": "2023-05-08T21:40:32.806438Z",
     "end_time": "2023-05-08T21:40:58.076064Z"
    }
   }
  },
  {
   "cell_type": "code",
   "execution_count": 59,
   "outputs": [
    {
     "name": "stdout",
     "output_type": "stream",
     "text": [
      "                            OLS Regression Results                            \n",
      "==============================================================================\n",
      "Dep. Variable:              game1_acc   R-squared:                       0.330\n",
      "Model:                            OLS   Adj. R-squared:                  0.324\n",
      "Method:                 Least Squares   F-statistic:                     49.35\n",
      "Date:                Mon, 08 May 2023   Prob (F-statistic):           3.79e-18\n",
      "Time:                        21:42:21   Log-Likelihood:                 177.95\n",
      "No. Observations:                 203   AIC:                            -349.9\n",
      "Df Residuals:                     200   BIC:                            -340.0\n",
      "Df Model:                           2                                         \n",
      "Covariance Type:            nonrobust                                         \n",
      "==============================================================================\n",
      "                 coef    std err          t      P>|t|      [0.025      0.975]\n",
      "------------------------------------------------------------------------------\n",
      "const          0.5486      0.022     24.620      0.000       0.505       0.592\n",
      "distance      -0.0283      0.011     -2.541      0.012      -0.050      -0.006\n",
      "Age            0.0124      0.001      9.128      0.000       0.010       0.015\n",
      "==============================================================================\n",
      "Omnibus:                        6.098   Durbin-Watson:                   1.701\n",
      "Prob(Omnibus):                  0.047   Jarque-Bera (JB):                5.486\n",
      "Skew:                          -0.333   Prob(JB):                       0.0644\n",
      "Kurtosis:                       2.547   Cond. No.                         51.9\n",
      "==============================================================================\n",
      "\n",
      "Notes:\n",
      "[1] Standard Errors assume that the covariance matrix of the errors is correctly specified.\n"
     ]
    }
   ],
   "source": [
    "import statsmodels.api as sm\n",
    "# using GLM to predict inference accuracy from brain activity and age\n",
    "X = data[['distance','Age']]\n",
    "Y = data['game1_acc']\n",
    "\n",
    "X = sm.add_constant(X)\n",
    "model = sm.OLS(Y, X).fit()\n",
    "predictions = model.predict(X)\n",
    "model_summary = model.summary()\n",
    "print(model_summary)"
   ],
   "metadata": {
    "collapsed": false,
    "ExecuteTime": {
     "start_time": "2023-05-08T21:42:21.677195Z",
     "end_time": "2023-05-08T21:42:21.720783Z"
    }
   }
  },
  {
   "cell_type": "code",
   "execution_count": 29,
   "outputs": [
    {
     "name": "stdout",
     "output_type": "stream",
     "text": [
      "-0.004370896650796774 0.9506492968887867\n"
     ]
    }
   ],
   "source": [
    "from scipy.stats import pearsonr\n",
    "\n",
    "r,p = pearsonr(data['distance'], data['value'])\n",
    "print(r,p)"
   ],
   "metadata": {
    "collapsed": false,
    "ExecuteTime": {
     "start_time": "2023-05-08T21:18:11.257010Z",
     "end_time": "2023-05-08T21:18:11.261036Z"
    }
   }
  },
  {
   "cell_type": "code",
   "execution_count": 58,
   "outputs": [
    {
     "name": "stdout",
     "output_type": "stream",
     "text": [
      "Bootstrapped 95% confidence interval for the indirect effect: (0.00001654, 0.00120896)\n"
     ]
    }
   ],
   "source": [
    "# Replace 'IV', 'M', and 'DV' with the actual variable names in your dataset\n",
    "iv = 'Age'\n",
    "m = 'distance'\n",
    "dv = 'game1_acc'\n",
    "\n",
    "lower, upper,indirect_effects = bootstrap_indirect_effect(data, iv, m, dv)\n",
    "print(f\"Bootstrapped {int(0.95 * 100)}% confidence interval for the indirect effect: ({lower:.8f}, {upper:.8f})\")"
   ],
   "metadata": {
    "collapsed": false,
    "ExecuteTime": {
     "start_time": "2023-05-08T21:41:46.298347Z",
     "end_time": "2023-05-08T21:42:21.690097Z"
    }
   }
  },
  {
   "cell_type": "code",
   "execution_count": 62,
   "outputs": [
    {
     "data": {
      "text/plain": "<Figure size 432x288 with 1 Axes>",
      "image/png": "[encoded data removed]"
     },
     "metadata": {
      "needs_background": "light"
     },
     "output_type": "display_data"
    }
   ],
   "source": [
    "# Calculate lower and upper bounds\n",
    "ci=0.95\n",
    "lower = np.percentile(indirect_effects, (1 - ci) / 2 * 100)\n",
    "upper = np.percentile(indirect_effects, (1 + ci) / 2 * 100)\n",
    "\n",
    "# Plot histogram\n",
    "fig, ax = plt.subplots()\n",
    "n, bins, patches = ax.hist(indirect_effects, color='gray',bins=50)\n",
    "\n",
    "# Find the bin with the highest frequency and its corresponding height\n",
    "max_height = max(n)\n",
    "max_height_index = np.where(n == max_height)[0][0]\n",
    "max_height_bin = bins[max_height_index]\n",
    "\n",
    "# Add vertical line at zero with height equal to the maximum frequency\n",
    "ax.axvline(x=0, ymin=0, ymax=max_height, color='black', linestyle='--')\n",
    "\n",
    "# Color the histogram between the lower and upper bounds blue\n",
    "for i in range(len(patches)):\n",
    "    if lower <= bins[i] < upper:\n",
    "        patches[i].set_fc('lightsteelblue')\n",
    "\n",
    "# Remove top and right spines\n",
    "fig.suptitle(f\"{m}'s Bootstrapped {int(ci * 100)}% confidence interval: ({lower:.4f}, {upper:.4f})\",size=14)\n",
    "ax.spines['top'].set_visible(False)\n",
    "ax.spines['right'].set_visible(False)"
   ],
   "metadata": {
    "collapsed": false,
    "ExecuteTime": {
     "start_time": "2023-05-08T21:42:49.782647Z",
     "end_time": "2023-05-08T21:42:50.026226Z"
    }
   }
  }
 ],
 "metadata": {
  "kernelspec": {
   "display_name": "Python 3",
   "language": "python",
   "name": "python3"
  },
  "language_info": {
   "codemirror_mode": {
    "name": "ipython",
    "version": 2
   },
   "file_extension": ".py",
   "mimetype": "text/x-python",
   "name": "python",
   "nbconvert_exporter": "python",
   "pygments_lexer": "ipython2",
   "version": "2.7.6"
  }
 },
 "nbformat": 4,
 "nbformat_minor": 0
}
