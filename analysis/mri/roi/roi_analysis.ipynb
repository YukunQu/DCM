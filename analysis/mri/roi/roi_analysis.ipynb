{
 "cells": [
  {
   "cell_type": "code",
   "execution_count": 2,
   "metadata": {
    "collapsed": true,
    "ExecuteTime": {
     "end_time": "2023-07-10T06:17:06.465324442Z",
     "start_time": "2023-07-10T06:17:06.100510244Z"
    }
   },
   "outputs": [],
   "source": [
    "import os\n",
    "import numpy as np\n",
    "import pandas as pd\n",
    "from nilearn import masking, image\n",
    "from scipy.stats import ttest_1samp, pearsonr,ttest_ind\n",
    "import statsmodels.api as sm\n",
    "import statsmodels.formula.api as smf\n",
    "import seaborn as sns\n",
    "import matplotlib\n",
    "\n",
    "import matplotlib.pyplot as plt\n",
    "from sklearn.preprocessing import StandardScaler\n",
    "\n",
    "\n",
    "sns.set_style('white')\n",
    "matplotlib.rcParams['pdf.fonttype'] = 42\n",
    "matplotlib.rcParams['ps.fonttype'] = 42\n",
    "\n",
    "\n",
    "def p2sign(p):\n",
    "    if  p<=0.001:\n",
    "        sign='***'\n",
    "    elif p<=0.01:\n",
    "        sign='**'\n",
    "    elif p<=0.05:\n",
    "        sign='*'\n",
    "    else:\n",
    "        sign='n.s.'\n",
    "    return sign"
   ]
  },
  {
   "cell_type": "markdown",
   "source": [
    "## Mean effect"
   ],
   "metadata": {
    "collapsed": false
   }
  },
  {
   "cell_type": "code",
   "execution_count": 92,
   "outputs": [
    {
     "name": "stderr",
     "output_type": "stream",
     "text": [
      "/home/dell/Software/anaconda3/lib/python3.8/site-packages/nilearn/image/image.py:1041: UserWarning: Data array used to create a new image contains 64-bit ints. This is likely due to creating the array with numpy and passing `int` as the `dtype`. Many tools such as FSL and SPM cannot deal with int64 in Nifti images, so for compatibility the data has been converted to int32.\n",
      "  return new_img_like(niimg, result, niimg.affine)\n"
     ]
    }
   ],
   "source": [
    "# specify subjects\n",
    "participants_tsv = r'/mnt/workdir/DCM/BIDS/participants.tsv'\n",
    "participants_data = pd.read_csv(participants_tsv, sep='\\t')\n",
    "data = participants_data.query(\"(game1_fmri>=0.5)&(game1_acc>0.8)\")\n",
    "subjects = data['Participant_ID'].to_list()\n",
    "\n",
    "# set camp\n",
    "#cmap_template = r'/mnt/data/DCM/result_backup/2023.5.14/Nilearn/game2/hexagon_diff/Setall/6fold/{}/zmap/hexagon_zmap.nii.gz'\n",
    "# cmap_template = r'/mnt/data/DCM/result_backup/2023.5.14/Nilearn/game2/hexagon_diff/Setall/6fold/{}/zmap/hexagon_zmap.nii.gz'\n",
    "#cmap_template = r'/mnt/data/DCM/result_backup/2023.5.14/Nilearn/game1/grid_rsa_corr_trials/Setall/6fold/{}/rsa/rsa_zscore_img_coarse_6fold.nii.gz'\n",
    "cmap_template = r'/mnt/workdir/DCM/BIDS/derivatives/Nilearn/game1/grid_rsa/Setall/6fold/{}/rsa/rsa_zscore_img_coarse_6fold.nii.gz'\n",
    "sub_cmap_paths = [cmap_template.format(sub_id) for sub_id in subjects]\n",
    "\n",
    "# set roi\n",
    "# roi1 = image.load_img(r'/mnt/workdir/DCM/Docs/Mask/hippocampus/lHC_MNI152NL.nii.gz')\n",
    "# roi2 = image.load_img(r'/mnt/workdir/DCM/Docs/Mask/hippocampus/rHC_MNI152NL.nii.gz')\n",
    "# roi = image.math_img('np.logical_or(img1,img2)', img1=roi1, img2=roi2)\n",
    "#roi = image.load_img(r'/mnt/workdir/DCM/BIDS/derivatives/Nilearn/game1/hexagon_spct/EC_thr3.1.nii.gz')\n",
    "roi  = image.load_img(r'/mnt/workdir/DCM/Docs/Mask/EC/juelich_EC_MNI152NL_prob.nii.gz')\n",
    "roi = image.binarize_img(roi,5)\n",
    "#roi  = image.load_img(r'/mnt/workdir/DCM/Docs/Mask/VMPFC/VMPFC_merge_MNI152NL.nii.gz')\n",
    "# roi1 = image.load_img(r'/mnt/workdir/DCM/Docs/Mask/aparc/mask/lh.isthmuscingulate.nii.gz')\n",
    "# roi2 = image.load_img(r'/mnt/workdir/DCM/Docs/Mask/aparc/mask/rh.isthmuscingulate.nii.gz')\n",
    "# roi = image.math_img('np.logical_or(img1,img2)', img1=roi1, img2=roi2)\n",
    "# roi = image.load_img(r'/mnt/workdir/DCM/Docs/Mask/PCC/PCCk3_MNI152Nl.nii.gz')\n",
    "#lh.lateralorbitofrontal.nii.gz\n",
    "# roi1 = image.load_img(r'/mnt/workdir/DCM/Docs/Mask/RSC/MNI152Nl-lRSC.nii.gz')\n",
    "# roi2 = image.load_img(r'/mnt/workdir/DCM/Docs/Mask/RSC/MNI152Nl-rRSC.nii.gz')\n",
    "# roi = image.math_img('np.logical_or(img1,img2)', img1=roi1, img2=roi2)\n",
    "# roi = image.load_img(r'/mnt/workdir/DCM/Docs/Mask/RSC/Rsp_bilat_Yeo.nii.gz')\n",
    "# roi = image.resample_to_img(roi,sub_cmap_paths[0],interpolation='nearest')\n",
    "# roi = image.load_img(r'/mnt/data/DCM/result_backup/2023.5.14/Nilearn/game1/hexagon_spct/lRSC_thr3.1_erosion.nii.gz')\n",
    "thr = 0\n",
    "roi_thr = image.binarize_img(roi, thr)\n",
    "\n",
    "# Compute mean activity\n",
    "subs_mean_activity = np.mean(masking.apply_mask(sub_cmap_paths, roi_thr), axis=1)"
   ],
   "metadata": {
    "collapsed": false,
    "ExecuteTime": {
     "end_time": "2023-07-09T14:15:34.948132920Z",
     "start_time": "2023-07-09T14:15:29.027783466Z"
    }
   }
  },
  {
   "cell_type": "code",
   "execution_count": 93,
   "outputs": [
    {
     "name": "stdout",
     "output_type": "stream",
     "text": [
      "t: 3.197500337459231\n",
      "p: 0.002040308479226618\n"
     ]
    }
   ],
   "source": [
    "# statistical tests\n",
    "t_statistic, p_value = ttest_1samp(subs_mean_activity, 0)\n",
    "#print('thr: {}'.format(thr))\n",
    "print('t:', t_statistic)\n",
    "print('p:', p_value)"
   ],
   "metadata": {
    "collapsed": false,
    "ExecuteTime": {
     "end_time": "2023-07-09T14:15:34.999655470Z",
     "start_time": "2023-07-09T14:15:34.949893833Z"
    }
   }
  },
  {
   "cell_type": "code",
   "execution_count": 96,
   "outputs": [
    {
     "data": {
      "text/plain": "<Figure size 216x504 with 1 Axes>",
      "image/png": "[encoded data removed]"
     },
     "metadata": {},
     "output_type": "display_data"
    }
   ],
   "source": [
    "# plot\n",
    "fig,ax = plt.subplots(figsize=(3,7))\n",
    "xjitter = np.random.uniform(-0.05, 0.05,size=len(subs_mean_activity))\n",
    "# Add a point to represent the mean of subs_mean_activity\n",
    "mean_val = subs_mean_activity.mean()\n",
    "#plt.plot(0, mean_val*1.02, marker='d', markersize=7,color='royalblue',zorder=10)\n",
    "sns.barplot(data=subs_mean_activity,    errorbar=\"se\", capsize=.15, errcolor=\"0.5\",\n",
    "            linewidth=3, edgecolor=\".5\", facecolor=(0, 0, 0, 0),\n",
    "            ax=ax)\n",
    "\n",
    "# Add a horizontal line\n",
    "ax.hlines(y=0, xmin=-0.45, xmax=0.45, colors='black', linestyles='--',linewidth=0.7)\n",
    "ax.set_ylabel('Z statistic')\n",
    "ax.set_xlabel('HC')\n",
    "\n",
    "# Remove top and right spines\n",
    "sns.despine(top=True, right=True)\n",
    "\n",
    "# Modify the bottom and left spines\n",
    "ax.spines['left'].set_linewidth(1)\n",
    "ax.spines['bottom'].set_linewidth(1)\n",
    "\n",
    "# Set custom ticks for the x-axis and y-axis\n",
    "plt.xticks([-0.5, 0.5])\n",
    "#plt.yticks(np.arange(0, 0.25, 0.1))\n",
    "# Add tick lines to the bottom and left spines\n",
    "ax.tick_params(axis='x', which='both', bottom=True, top=False, direction='out')\n",
    "ax.tick_params(axis='y', which='both', left=True, right=False, direction='out')\n",
    "\n",
    "# Add asterisks on top of each bar\n",
    "vmean = np.mean(subs_mean_activity)\n",
    "ax.text(0, subs_mean_activity.mean()+0.09, p2sign(p_value),ha='center', va='bottom',weight='bold',size=15)\n",
    "plt.savefig(\"/mnt/workdir/DCM/Result/paper/sf/sf2/Game1-hexagon_RSA_sub-HP_roi-HC_mean.pdf\", dpi=300, bbox_inches='tight',pad_inches=0,transparent=True)\n",
    "plt.show()"
   ],
   "metadata": {
    "collapsed": false,
    "ExecuteTime": {
     "end_time": "2023-07-09T14:16:10.392444749Z",
     "start_time": "2023-07-09T14:16:10.228343274Z"
    }
   }
  },
  {
   "cell_type": "markdown",
   "source": [
    "## Plot ROI covairate effect"
   ],
   "metadata": {
    "collapsed": false
   }
  },
  {
   "cell_type": "code",
   "execution_count": 3,
   "outputs": [
    {
     "name": "stderr",
     "output_type": "stream",
     "text": [
      "/home/dell/Software/anaconda3/lib/python3.8/site-packages/nilearn/image/image.py:1041: UserWarning: Data array used to create a new image contains 64-bit ints. This is likely due to creating the array with numpy and passing `int` as the `dtype`. Many tools such as FSL and SPM cannot deal with int64 in Nifti images, so for compatibility the data has been converted to int32.\n",
      "  return new_img_like(niimg, result, niimg.affine)\n"
     ]
    }
   ],
   "source": [
    "# specify subjects\n",
    "participants_tsv = r'/mnt/workdir/DCM/BIDS/participants.tsv'\n",
    "participants_data = pd.read_csv(participants_tsv, sep='\\t')\n",
    "participants_data =  participants_data.query(\"(game1_fmri>=0.5)\")\n",
    "subjects_id = participants_data['Participant_ID'].to_list()\n",
    "\n",
    "# set camp\n",
    "#cmap_template = r'/mnt/data/DCM/result_backup/2023.5.14/Nilearn/game1/value_spct/Setall/6fold/{}/zmap/value_zmap.nii.gz'\n",
    "\n",
    "# cmap_template = r'/mnt/workdir/DCM/BIDS/derivatives/Nilearn/game1/hexModdistance_spct/Setall/6fold/' \\\n",
    "#                 r'{}/zmap/hexModdistance_zmap.nii.gz'\n",
    "# cmap_template = r'/mnt/data/DCM/result_backup/2023.5.14/Nilearn/game1/hexagon_spct/Setall/6fold/{}/zmap/hexagon_zmap.nii.gz'\n",
    "# cmap_template = r'/mnt/data/DCM/result_backup/2023.5.14/Nilearn/game1/cv_test_hexagon_spct/Setall/6fold/{}/zmap/alignPhi_even_zmap.nii.gz'\n",
    "# cmap_template = r'/mnt/data/DCM/result_backup/2023.5.14/Nilearn/game1/grid_rsa_corr_trials/Setall/6fold/{}/rsa/rsa_zscore_img_coarse_6fold.nii.gz'\n",
    "cmap_template = r'/mnt/workdir/DCM/BIDS/derivatives/Nilearn/game1/grid_rsa/Setall/6fold/{}/rsa/rsa_zscore_img_coarse_6fold.nii.gz'\n",
    "# cmap_template = r'/mnt/data/DCM/result_backup/2023.5.14/Nilearn_replace/game2/distance_replace_spct/Setall/6fold/{}/zmap/M2_corrxdistance_zmap.nii.gz'\n",
    "# cmap_template = r'/mnt/data/DCM/result_backup/2023.5.14/Nilearn_replace/game2/cv_hexagon_replace_spct/Setall/6fold/{}/zmap/alignPhi_zmap.nii.gz'\n",
    "\n",
    "# load roi\n",
    "# roi1 = image.load_img(r'/mnt/workdir/DCM/Docs/Mask/hippocampus/rHC_MNI152NL.nii.gz')\n",
    "# roi2 = image.load_img(r'/mnt/workdir/DCM/Docs/Mask/hippocampus/lHC_MNI152NL.nii.gz')\n",
    "# roi = image.math_img('np.logical_or(img1,img2)', img1=roi1, img2=roi2)\n",
    "\n",
    "# roi  = image.load_img(r'/mnt/workdir/DCM/Docs/Mask/VMPFC/vmPFC_bin.nii.gz')\n",
    "#roi = image.load_img(r'/mnt/data/DCM/result_backup/2023.5.14/Nilearn/game1/hexagon_spct/lRSC_thr3.1_erosion.nii.gz')\n",
    "# roi1 = image.load_img(r'/mnt/data/DCM/tmp/aparc/mask/lh.isthmuscingulate.nii.gz')\n",
    "# roi2 = image.load_img(r'/mnt/data/DCM/tmp/aparc/mask/rh.isthmuscingulate.nii.gz')\n",
    "# roi = image.math_img('np.logical_or(img1,img2)', img1=roi1, img2=roi2)\n",
    "# roi1 = image.load_img(r'/mnt/data/DCM/tmp/aparc/mask/lh.posteriorcingulate.nii.gz')\n",
    "# roi2 = image.load_img(r'/mnt/data/DCM/tmp/aparc/mask/rh.posteriorcingulate.nii.gz')\n",
    "# roi = image.math_img('np.logical_or(img1,img2)', img1=roi1, img2=roi2)\n",
    "#roi = image.load_img(r'/mnt/data/DCM/result_backup/2023.3.24/Nilearn_smodel/game1/hexagon_spct/EC_thr3.1.nii.gz')\n",
    "roi  = image.load_img(r'/mnt/workdir/DCM/Docs/Mask/EC/juelich_EC_MNI152NL_prob.nii.gz')\n",
    "roi = image.binarize_img(roi,5)\n",
    "# roi = image.load_img(r'/mnt/workdir/DCM/Docs/Mask/dmPFC/dmPFC_closed_dilated_resampled.nii.gz')\n",
    "# roi = image.load_img(r'/mnt/workdir/DCM/Docs/Mask/Park_Grid_ROI/mPFC_GP_roi.nii')\n",
    "\n",
    "# get activity in ROI\n",
    "subs_cmap_list = [cmap_template.format(sub_id) for sub_id in subjects_id]\n",
    "subs_mean_activity = np.mean(masking.apply_mask(subs_cmap_list, roi),axis=1)"
   ],
   "metadata": {
    "collapsed": false,
    "ExecuteTime": {
     "end_time": "2023-07-10T06:17:25.275380703Z",
     "start_time": "2023-07-10T06:17:10.463372874Z"
    }
   }
  },
  {
   "cell_type": "code",
   "execution_count": 7,
   "outputs": [
    {
     "name": "stdout",
     "output_type": "stream",
     "text": [
      "r 0.1289 p 0.0667\n"
     ]
    },
    {
     "data": {
      "text/plain": "<Figure size 288x432 with 1 Axes>",
      "image/png": "[encoded data removed]"
     },
     "metadata": {
      "needs_background": "light"
     },
     "output_type": "display_data"
    }
   ],
   "source": [
    "# get covariate\n",
    "participants_data['beh_diff'] = participants_data['game2_test_acc'] - participants_data['game1_acc']\n",
    "\n",
    "covariate = 'Age'\n",
    "# Setup variables based on covariate\n",
    "if covariate == 'Age':\n",
    "    color = '#e36570'\n",
    "    covary_variable = participants_data['Age'].to_list()\n",
    "    xlabel = 'Age'\n",
    "    ticks = [8, 12, 16, 20, 24]\n",
    "elif covariate == 'Acc':\n",
    "    color = '#7abac6'\n",
    "    covary_variable = participants_data['game1_acc'].to_list()\n",
    "    xlabel = 'Inference performance'\n",
    "    ticks = [0.4,0.6,0.8,1.0]\n",
    "else:\n",
    "    raise ValueError(\"Invalid covariate value\")\n",
    "\n",
    "# Standardize subs_mean_activity\n",
    "subs_mean_activity = (np.array(subs_mean_activity) - np.mean(subs_mean_activity)) / np.std(subs_mean_activity)\n",
    "\n",
    "# Initialize the plot\n",
    "fig, ax = plt.subplots(figsize=(4,6))\n",
    "sns.scatterplot(x=covary_variable, y=subs_mean_activity, color=color, s=20, alpha=1)\n",
    "sns.regplot(x=covary_variable, y=subs_mean_activity, color=color, order=1, scatter=False,line_kws={'linewidth': 4})\n",
    "\n",
    "# Setup labels and despine\n",
    "ax.set_xlabel(xlabel, fontsize=20)\n",
    "ax.set_ylabel('Z statistic', fontsize=20)\n",
    "sns.despine(top=True, right=True)\n",
    "ax.spines['left'].set_linewidth(1)\n",
    "ax.spines['bottom'].set_linewidth(1)\n",
    "\n",
    "# Set ticks\n",
    "plt.ylim([-3, 3])\n",
    "plt.yticks(size=15)\n",
    "plt.xticks(ticks, size=15)\n",
    "\n",
    "# Compute pearson correlation\n",
    "r, p = pearsonr(covary_variable, subs_mean_activity)\n",
    "print('r', round(r,4), 'p', round(p,4))\n",
    "\n",
    "# Add title based on significance level\n",
    "fig.subplots_adjust(top=0.92)\n",
    "title = p2sign(p)\n",
    "fig.suptitle(title, size=20, fontweight='bold')\n",
    "\n",
    "# Set tick parameters\n",
    "ax.tick_params(axis='x', which='both', bottom=True, top=False, direction='out')\n",
    "ax.tick_params(axis='y', which='both', left=True, right=False, direction='out')\n",
    "\n",
    "# Uncomment the lines below if you want to save the figure\n",
    "fig.tight_layout()\n",
    "savepath = '/mnt/workdir/DCM/Result/paper/sf/sf2/Game1-hexagon_RSA_sub-all_roi-HC_{}_all_trials.pdf'.format(covariate)\n",
    "plt.savefig(savepath, bbox_inches='tight', pad_inches=0, dpi=300, transparent=True)\n",
    "\n",
    "# Show the plot\n",
    "plt.show()"
   ],
   "metadata": {
    "collapsed": false,
    "ExecuteTime": {
     "end_time": "2023-07-10T06:18:19.149478182Z",
     "start_time": "2023-07-10T06:18:18.868189693Z"
    }
   }
  },
  {
   "cell_type": "markdown",
   "source": [
    "## Partial correlation"
   ],
   "metadata": {
    "collapsed": false
   }
  },
  {
   "cell_type": "code",
   "execution_count": 81,
   "outputs": [
    {
     "name": "stderr",
     "output_type": "stream",
     "text": [
      "/home/dell/Software/anaconda3/lib/python3.8/site-packages/nilearn/image/image.py:1041: UserWarning: Data array used to create a new image contains 64-bit ints. This is likely due to creating the array with numpy and passing `int` as the `dtype`. Many tools such as FSL and SPM cannot deal with int64 in Nifti images, so for compatibility the data has been converted to int32.\n",
      "  return new_img_like(niimg, result, niimg.affine)\n",
      "<ipython-input-81-5aa9eb57d5f7>:21: SettingWithCopyWarning: \n",
      "A value is trying to be set on a copy of a slice from a DataFrame.\n",
      "Try using .loc[row_indexer,col_indexer] = value instead\n",
      "\n",
      "See the caveats in the documentation: https://pandas.pydata.org/pandas-docs/stable/user_guide/indexing.html#returning-a-view-versus-a-copy\n",
      "  data['Consistency_effect'] = subs_mean_activity\n",
      "<ipython-input-81-5aa9eb57d5f7>:22: SettingWithCopyWarning: \n",
      "A value is trying to be set on a copy of a slice from a DataFrame.\n",
      "Try using .loc[row_indexer,col_indexer] = value instead\n",
      "\n",
      "See the caveats in the documentation: https://pandas.pydata.org/pandas-docs/stable/user_guide/indexing.html#returning-a-view-versus-a-copy\n",
      "  data['Inference_acc'] = data['game2_test_acc']\n"
     ]
    }
   ],
   "source": [
    "# specify subjects\n",
    "participants_tsv = r'/mnt/workdir/DCM/BIDS/participants.tsv'\n",
    "participants_data = pd.read_csv(participants_tsv, sep='\\t')\n",
    "data =  participants_data.query(\"game2_fmri>=0.5\")\n",
    "subjects_id = data['Participant_ID'].to_list()\n",
    "\n",
    "# set camp\n",
    "# cmap_template = r'/mnt/data/DCM/result_backup/2023.5.14/Nilearn/game2/cv_hexagon_spct/Setall/6fold/{}/zmap/alignPhi_zmap.nii.gz'\n",
    "#cmap_template = r'/mnt/data/DCM/result_backup/2023.5.14/Nilearn/game1/hexagon_spct/Setall/6fold/{}/zmap/hexagon_zmap.nii.gz'\n",
    "cmap_template = r'/mnt/data/DCM/result_backup/2023.5.14/Nilearn_replace/game2/cv_hexagon_replace_spct/Setall/6fold/{}/zmap/alignPhi_zmap.nii.gz'\n",
    "\n",
    "# set roi\n",
    "roi = image.load_img(r'/mnt/workdir/DCM/Docs/Mask/EC/juelich_EC_MNI152NL_prob.nii.gz')\n",
    "roi = image.binarize_img(roi,5)\n",
    "#roi = image.load_img(r'/mnt/data/DCM/result_backup/2023.5.14/Nilearn/game1/hexagon_spct/EC_thr3.1.nii.gz')\n",
    "\n",
    "# extract mean activity\n",
    "subs_cmap_list = [cmap_template.format(sub_id) for sub_id in subjects_id]\n",
    "subs_mean_activity = np.mean(masking.apply_mask(subs_cmap_list, roi),axis=1)\n",
    "\n",
    "data['Consistency_effect'] = subs_mean_activity\n",
    "data['Inference_acc'] = data['game2_test_acc']"
   ],
   "metadata": {
    "collapsed": false,
    "ExecuteTime": {
     "end_time": "2023-07-08T10:50:07.091258494Z",
     "start_time": "2023-07-08T10:49:54.166887072Z"
    }
   }
  },
  {
   "cell_type": "code",
   "execution_count": 85,
   "outputs": [
    {
     "name": "stdout",
     "output_type": "stream",
     "text": [
      "                            OLS Regression Results                            \n",
      "==============================================================================\n",
      "Dep. Variable:          Inference_acc   R-squared:                       0.316\n",
      "Model:                            OLS   Adj. R-squared:                  0.308\n",
      "Method:                 Least Squares   F-statistic:                     43.79\n",
      "Date:                Sat, 08 Jul 2023   Prob (F-statistic):           2.29e-16\n",
      "Time:                        18:51:07   Log-Likelihood:                 130.39\n",
      "No. Observations:                 193   AIC:                            -254.8\n",
      "Df Residuals:                     190   BIC:                            -245.0\n",
      "Df Model:                           2                                         \n",
      "Covariance Type:            nonrobust                                         \n",
      "======================================================================================\n",
      "                         coef    std err          t      P>|t|      [0.025      0.975]\n",
      "--------------------------------------------------------------------------------------\n",
      "const                  0.5341      0.028     19.105      0.000       0.479       0.589\n",
      "Consistency_effect     0.0060      0.016      0.376      0.708      -0.026       0.038\n",
      "Age                    0.0156      0.002      9.279      0.000       0.012       0.019\n",
      "==============================================================================\n",
      "Omnibus:                        8.315   Durbin-Watson:                   1.614\n",
      "Prob(Omnibus):                  0.016   Jarque-Bera (JB):                7.861\n",
      "Skew:                          -0.438   Prob(JB):                       0.0196\n",
      "Kurtosis:                       2.543   Cond. No.                         52.4\n",
      "==============================================================================\n",
      "\n",
      "Notes:\n",
      "[1] Standard Errors assume that the covariance matrix of the errors is correctly specified.\n"
     ]
    },
    {
     "name": "stderr",
     "output_type": "stream",
     "text": [
      "<ipython-input-85-e08dd0187a24>:47: UserWarning: Matplotlib is currently using module://ipykernel.pylab.backend_inline, which is a non-GUI backend, so cannot show the figure.\n",
      "  fig.show()\n"
     ]
    },
    {
     "data": {
      "text/plain": "<Figure size 360x360 with 1 Axes>",
      "image/png": "[encoded data removed]"
     },
     "metadata": {},
     "output_type": "display_data"
    }
   ],
   "source": [
    "#\n",
    "X = data[['Consistency_effect','Age']]\n",
    "Y = data['Inference_acc']\n",
    "\n",
    "X = sm.add_constant(X)\n",
    "model = sm.OLS(Y, X).fit()\n",
    "predictions = model.predict(X)\n",
    "model_summary = model.summary()\n",
    "print(model_summary)\n",
    "\n",
    "# Save the summary to a text file\n",
    "#with open('/mnt/workdir/DCM/Result/paper/figure4/game2-hexagon_consistency_glm_model_summary.txt', 'w') as f:\n",
    "#    f.write(model_summary.as_text())\n",
    "\n",
    "# Plot the partial correlation plot with age held constant\n",
    "fig = sm.graphics.plot_partregress(\"Inference_acc\", \"Consistency_effect\",[\"Age\"],data=data,obs_labels=False)\n",
    "\n",
    "fig.set_size_inches(5,5)\n",
    "sns.set_theme(style=\"white\")\n",
    "fig.tight_layout()\n",
    "\n",
    "# Get the Axes object\n",
    "ax = fig.get_axes()[0]\n",
    "# Hide the right and top spines\n",
    "ax.spines['right'].set_visible(False)\n",
    "ax.spines['top'].set_visible(False)\n",
    "# Add tick lines to the bottom and left spines\n",
    "ax.tick_params(axis='x', which='both', bottom=True, top=False, direction='out')\n",
    "ax.tick_params(axis='y', which='both', left=True, right=False, direction='out')\n",
    "\n",
    "# Set custom ticks for the x-axis and y-axis\n",
    "# plt.xticks([-2, -1, 0, 1, 2])\n",
    "# plt.yticks([-0.2, 0, 0.2])\n",
    "\n",
    "# Change color of scatter points and line to 'salmon'\n",
    "for line in ax.lines:\n",
    "    line.set_color('#e36570')\n",
    "    line.set_linewidth(5)\n",
    "for path in ax.collections:\n",
    "    path.set_edgecolor('#e36570')\n",
    "\n",
    "ax.set_xlabel(\"e(consistency_effect|Age)\")\n",
    "ax.set_ylabel(\"e(Inference_acc|Age)\")\n",
    "\n",
    "# Save the figure before calling fig.show()\n",
    "#fig.savefig('/mnt/workdir/DCM/Result/paper/figure4/game2-hexagon_consistency_partial_correlation_plot.pdf', dpi=300, bbox_inches='tight',pad_inches=0,transparent=True)\n",
    "fig.show()"
   ],
   "metadata": {
    "collapsed": false,
    "ExecuteTime": {
     "end_time": "2023-07-08T10:51:07.215272168Z",
     "start_time": "2023-07-08T10:51:07.001731536Z"
    }
   }
  },
  {
   "cell_type": "code",
   "execution_count": 197,
   "outputs": [
    {
     "data": {
      "text/plain": "<Figure size 432x288 with 1 Axes>",
      "image/png": "[encoded data removed]"
     },
     "metadata": {},
     "output_type": "display_data"
    },
    {
     "data": {
      "text/plain": "(0.14996218627753405, 0.03737960416515819)"
     },
     "execution_count": 197,
     "metadata": {},
     "output_type": "execute_result"
    }
   ],
   "source": [
    "# Fit regression model (using the natural log of one of the regressors)\n",
    "results = smf.ols('Inference_acc ~ Age', data=data).fit()\n",
    "results2 = smf.ols('Consistency_effect ~ Age', data=data).fit()\n",
    "# Create a new DataFrame with the residuals\n",
    "resid_data = pd.DataFrame({\n",
    "    'consistency_effect': data['Consistency_effect'],\n",
    "    'age_resid': results.resid_pearson,\n",
    "    'inference_accuracy_resid': results.resid\n",
    "})\n",
    "\n",
    "# Plot the residuals against one another\n",
    "sns.regplot(x='consistency_effect', y='inference_accuracy_resid', data=resid_data)\n",
    "plt.xlabel('Consistency Effect')\n",
    "plt.ylabel('e(Inference|Age)')\n",
    "plt.show()\n",
    "\n",
    "pearsonr(resid_data['consistency_effect'], resid_data['inference_accuracy_resid'])"
   ],
   "metadata": {
    "collapsed": false,
    "ExecuteTime": {
     "end_time": "2023-06-06T13:22:58.086288061Z",
     "start_time": "2023-06-06T13:22:57.772231326Z"
    }
   }
  },
  {
   "cell_type": "code",
   "execution_count": 170,
   "outputs": [
    {
     "data": {
      "text/plain": "           n         r         CI95%     p-val\npearson  193  0.149962  [0.01, 0.29]  0.037883",
      "text/html": "<div>\n<style scoped>\n    .dataframe tbody tr th:only-of-type {\n        vertical-align: middle;\n    }\n\n    .dataframe tbody tr th {\n        vertical-align: top;\n    }\n\n    .dataframe thead th {\n        text-align: right;\n    }\n</style>\n<table border=\"1\" class=\"dataframe\">\n  <thead>\n    <tr style=\"text-align: right;\">\n      <th></th>\n      <th>n</th>\n      <th>r</th>\n      <th>CI95%</th>\n      <th>p-val</th>\n    </tr>\n  </thead>\n  <tbody>\n    <tr>\n      <th>pearson</th>\n      <td>193</td>\n      <td>0.149962</td>\n      <td>[0.01, 0.29]</td>\n      <td>0.037883</td>\n    </tr>\n  </tbody>\n</table>\n</div>"
     },
     "execution_count": 170,
     "metadata": {},
     "output_type": "execute_result"
    }
   ],
   "source": [
    "import pingouin as pg\n",
    "pg.partial_corr(data,'Consistency_effect','Inference_acc',y_covar='Age',method='pearson')"
   ],
   "metadata": {
    "collapsed": false,
    "ExecuteTime": {
     "end_time": "2023-06-06T12:31:00.972902991Z",
     "start_time": "2023-06-06T12:31:00.819653417Z"
    }
   }
  },
  {
   "cell_type": "markdown",
   "source": [
    "## Plot brain activity with separate age stage"
   ],
   "metadata": {
    "collapsed": false
   }
  },
  {
   "cell_type": "code",
   "execution_count": null,
   "outputs": [],
   "source": [
    "# specify subjects\n",
    "participants_tsv = r'/mnt/workdir/DCM/BIDS/participants.tsv'\n",
    "participants_data = pd.read_csv(participants_tsv, sep='\\t')\n",
    "participants_data =  participants_data.query(\"game1_fmri>=0.5\")\n",
    "subjects_id = participants_data['Participant_ID'].to_list()\n",
    "\n",
    "# set camp\n",
    "cmap_template = r'/mnt/data/DCM/result_backup/2023.5.14/Nilearn/game1/grid_rsa_corr_trials/Setall/6fold/{}/rsa/rsa_ztransf_img_coarse_6fold.nii.gz'\n",
    "\n",
    "\n",
    "# set roi\n",
    "#roi  = image.load_img(r'/mnt/workdir/DCM/Docs/Mask/VMPFC/VMPFC_merge_MNI152NL.nii.gz')\n",
    "# roi1 = image.load_img(r'/mnt/workdir/DCM/Docs/Mask/hippocampus/lHC_MNI152NL.nii.gz')\n",
    "# roi2 = image.load_img(r'/mnt/workdir/DCM/Docs/Mask/hippocampus/rHC_MNI152NL.nii.gz')\n",
    "# roi = image.math_img('np.logical_or(img1,img2)', img1=roi1, img2=roi2)\n",
    "# roi1 = image.load_img(r'/mnt/data/DCM/tmp/aparc/mask/lh.parsorbitalis.nii.gz')\n",
    "# roi2 = image.load_img(r'/mnt/data/DCM/tmp/aparc/mask/rh.parsorbitalis.nii.gz')\n",
    "# roi = image.math_img('np.logical_or(img1,img2)', img1=roi1, img2=roi2)\n",
    "roi  = image.load_img(r'/mnt/workdir/DCM/Docs/Mask/EC/juelich_EC_MNI152NL_prob.nii.gz')\n",
    "roi = image.binarize_img(roi,5)\n",
    "# roi = image.load_img(r'/mnt/workdir/DCM/BIDS/derivatives/Nilearn/game1/hexagon_spct/EC_thr3.1.nii.gz')\n",
    "\n",
    "# get activity in ROI\n",
    "subs_cmap_list = [cmap_template.format(sub_id) for sub_id in subjects_id]\n",
    "subs_mean_activity = np.mean(masking.apply_mask(subs_cmap_list, roi),axis=1)"
   ],
   "metadata": {
    "collapsed": false
   }
  },
  {
   "cell_type": "code",
   "execution_count": 37,
   "outputs": [
    {
     "name": "stdout",
     "output_type": "stream",
     "text": [
      "The group difference bettwen children and adolescents t = -1.025, p = 0.307\n",
      "The group difference bettwen adolescents and adults t = -1.453, p = 0.149\n",
      "The group difference bettwen children and adults t = -2.772, p = 0.006\n"
     ]
    },
    {
     "data": {
      "text/plain": "Text(1, 0.6012360958294767, '**')"
     },
     "execution_count": 37,
     "metadata": {},
     "output_type": "execute_result"
    },
    {
     "data": {
      "text/plain": "<Figure size 360x360 with 1 Axes>",
      "image/png": "[encoded data removed]"
     },
     "metadata": {},
     "output_type": "display_data"
    }
   ],
   "source": [
    "# zscore\n",
    "subs_mean_activity = (np.array(subs_mean_activity) - np.mean(subs_mean_activity)) / np.std(subs_mean_activity)\n",
    "participants_data['ROI_activity'] = subs_mean_activity\n",
    "\n",
    "# Add age group categories\n",
    "age_bins = [7, 12, 17, 25]\n",
    "age_labels = ['children', 'adolescents', 'adults']\n",
    "participants_data['Age_group'] = pd.cut(participants_data['Age'], bins=age_bins, labels=age_labels)\n",
    "\n",
    "# Plotting\n",
    "g = sns.catplot(x='Age_group', y='ROI_activity', data=participants_data, kind='point', errorbar=\"se\",color='#7abac6')\n",
    "g.set_axis_labels(\"Age Group\", \"ROI_activity\")\n",
    "g.fig.set_size_inches(5, 5)\n",
    "\n",
    "# get the acivities of each age group\n",
    "children_data = participants_data.query(\"Age_group=='children'\")\n",
    "adolescents_data = participants_data.query(\"Age_group=='adolescents'\")\n",
    "adult_data = participants_data.query(\"Age_group=='adults'\")\n",
    "\n",
    "# compare activity size between each pair of the three age groups using t-tests\n",
    "height = participants_data['ROI_activity'].mean() + 0.5*participants_data['ROI_activity'].std()\n",
    "\n",
    "# compare children and adolescents\n",
    "t,p = ttest_ind(children_data['ROI_activity'], adolescents_data['ROI_activity'])\n",
    "print('The group difference bettwen children and adolescents t = {:.3f}, p = {:.3f}'.format(t, p))\n",
    "g.ax.plot([0, 0.9], [height, height], 'k-', lw=1)\n",
    "g.ax.text(0.5, height, p2sign(p), ha='center', va='bottom', color='k', fontsize=20)\n",
    "\n",
    "# compare children and adults\n",
    "t,p =  ttest_ind(adolescents_data['ROI_activity'], adult_data['ROI_activity'])\n",
    "print('The group difference bettwen adolescents and adults t = {:.3f}, p = {:.3f}'.format(t, p))\n",
    "g.ax.plot([1.1, 2], [height, height], 'k-', lw=1)\n",
    "g.ax.text(1.5, height, p2sign(p), ha='center', va='bottom', color='k', fontsize=20)\n",
    "\n",
    "# compare adolescents and adults\n",
    "t,p = ttest_ind(children_data['ROI_activity'], adult_data['ROI_activity'])\n",
    "print('The group difference bettwen children and adults t = {:.3f}, p = {:.3f}'.format(t, p))\n",
    "g.ax.plot([0, 2], [height+0.1, height+0.1], 'k-', lw=1)\n",
    "g.ax.text(1, height+0.1, p2sign(p), ha='center', va='bottom', color='k', fontsize=20)"
   ],
   "metadata": {
    "collapsed": false,
    "ExecuteTime": {
     "end_time": "2023-06-09T08:57:04.608948032Z",
     "start_time": "2023-06-09T08:57:04.365224585Z"
    }
   }
  },
  {
   "cell_type": "markdown",
   "source": [
    "## Test whether the difference between the correlation coefficients is significant"
   ],
   "metadata": {
    "collapsed": false
   }
  },
  {
   "cell_type": "code",
   "execution_count": null,
   "outputs": [],
   "source": [
    "import numpy as np\n",
    "from scipy.stats import t, norm\n",
    "from math import atanh, pow\n",
    "from numpy import tanh\n",
    "\n",
    "# set\n",
    "a1 = children_data['ROI_activity'].to_numpy()\n",
    "b1 = children_data['game1_acc'].to_numpy()\n",
    "\n",
    "a2 = adolescents_data['ROI_activity'].to_numpy()\n",
    "b2 = adolescents_data['game1_acc'].to_numpy()\n",
    "\n",
    "# get the correlation coefficients\n",
    "r1,p1 = pearsonr(a1,b1)\n",
    "r2,p2 = pearsonr(a2,b2)\n",
    "\n",
    "# Sample sizes for each correlation coefficient\n",
    "n1 = len(a1)\n",
    "n2 = len(a2)\n",
    "print(r1,p1)\n",
    "print(r2,p2)\n",
    "\n",
    "def rz_ci(r, n, conf_level = 0.95):\n",
    "    zr_se = pow(1/(n - 3), .5)\n",
    "    moe = norm.ppf(1 - (1 - conf_level)/float(2)) * zr_se\n",
    "    zu = atanh(r) + moe\n",
    "    zl = atanh(r) - moe\n",
    "    return tanh((zl, zu))\n",
    "\n",
    "def independent_corr(xy, ab, n, n2 = None, twotailed=True, conf_level=0.95, method='fisher'):\n",
    "    \"\"\"\n",
    "    Calculates the statistic significance between two independent correlation coefficients\n",
    "    @param xy: correlation coefficient between x and y\n",
    "    @param xz: correlation coefficient between a and b\n",
    "    @param n: number of elements in xy\n",
    "    @param n2: number of elements in ab (if distinct from n)\n",
    "    @param twotailed: whether to calculate a one or two tailed test, only works for 'fisher' method\n",
    "    @param conf_level: confidence level, only works for 'zou' method\n",
    "    @param method: defines the method uses, 'fisher' or 'zou'\n",
    "    @return: z and p-val\n",
    "    \"\"\"\n",
    "\n",
    "    if method == 'fisher':\n",
    "        xy_z = 0.5 * np.log((1 + xy)/(1 - xy))\n",
    "        ab_z = 0.5 * np.log((1 + ab)/(1 - ab))\n",
    "        if n2 is None:\n",
    "            n2 = n\n",
    "\n",
    "        se_diff_r = np.sqrt(1/(n - 3) + 1/(n2 - 3))\n",
    "        diff = xy_z - ab_z\n",
    "        z = abs(diff / se_diff_r)\n",
    "        p = (1 - norm.cdf(z))\n",
    "        if twotailed:\n",
    "            p *= 2\n",
    "\n",
    "        return z, p\n",
    "    elif method == 'zou':\n",
    "        L1 = rz_ci(xy, n, conf_level=conf_level)[0]\n",
    "        U1 = rz_ci(xy, n, conf_level=conf_level)[1]\n",
    "        L2 = rz_ci(ab, n2, conf_level=conf_level)[0]\n",
    "        U2 = rz_ci(ab, n2, conf_level=conf_level)[1]\n",
    "        lower = xy - ab - pow((pow((xy - L1), 2) + pow((U2 - ab), 2)), 0.5)\n",
    "        upper = xy - ab + pow((pow((U1 - xy), 2) + pow((ab - L2), 2)), 0.5)\n",
    "        return lower, upper\n",
    "    else:\n",
    "        raise Exception('Wrong method!')\n",
    "\n",
    "print(independent_corr(r1 , r2, n1, n2, method='fisher',twotailed=False))"
   ],
   "metadata": {
    "collapsed": false
   }
  },
  {
   "cell_type": "markdown",
   "source": [
    "# Mediation analysis"
   ],
   "metadata": {
    "collapsed": false
   }
  },
  {
   "cell_type": "markdown",
   "source": [
    "### load data(A)"
   ],
   "metadata": {
    "collapsed": false
   }
  },
  {
   "cell_type": "code",
   "execution_count": 20,
   "outputs": [
    {
     "name": "stdout",
     "output_type": "stream",
     "text": [
      "vmPFC is processing\n"
     ]
    },
    {
     "name": "stderr",
     "output_type": "stream",
     "text": [
      "<ipython-input-20-945e93245464>:53: SettingWithCopyWarning: \n",
      "A value is trying to be set on a copy of a slice from a DataFrame.\n",
      "Try using .loc[row_indexer,col_indexer] = value instead\n",
      "\n",
      "See the caveats in the documentation: https://pandas.pydata.org/pandas-docs/stable/user_guide/indexing.html#returning-a-view-versus-a-copy\n",
      "  data[troi_name] = subs_mean_activity\n"
     ]
    },
    {
     "name": "stdout",
     "output_type": "stream",
     "text": [
      "PCC is processing\n",
      "HC is processing\n",
      "dmPFC is processing\n",
      "203\n"
     ]
    }
   ],
   "source": [
    "# specify subjects\n",
    "participants_tsv = r'/mnt/workdir/DCM/BIDS/participants.tsv'\n",
    "participants_data = pd.read_csv(participants_tsv, sep='\\t')\n",
    "data =  participants_data.query(\"(game1_fmri>=0.5)\")\n",
    "subjects_id = data['Participant_ID'].to_list()\n",
    "\n",
    "# load ROI\n",
    "# # load HC\n",
    "rHC = image.load_img(r'/mnt/workdir/DCM/Docs/Mask/hippocampus/rHC_MNI152NL.nii.gz')\n",
    "lHC = image.load_img(r'/mnt/workdir/DCM/Docs/Mask/hippocampus/lHC_MNI152NL.nii.gz')\n",
    "hc = image.math_img('np.logical_or(img1,img2)', img1=rHC, img2=lHC)\n",
    "# load EC\n",
    "# ec = image.load_img(r'/mnt/workdir/DCM/Docs/Mask/EC/juelich_EC_MNI152NL_prob.nii.gz')\n",
    "# ec = image.binarize_img(ec,5)\n",
    "# # # # load OFC\n",
    "# rlOFC = image.load_img(r'/mnt/data/DCM/tmp/aparc/mask/lh.lateralorbitofrontal.nii.gz')\n",
    "# llOFC = image.load_img(r'/mnt/data/DCM/tmp/aparc/mask/rh.lateralorbitofrontal.nii.gz')\n",
    "# lofc = image.math_img('np.logical_or(img1,img2)', img1=rlOFC, img2=llOFC)\n",
    "# # # #\n",
    "# # rpOFC = image.load_img(r'/mnt/data/DCM/tmp/aparc/mask/lh.parsorbitalis.nii.gz')\n",
    "# # lpOFC = image.load_img(r'/mnt/data/DCM/tmp/aparc/mask/rh.parsorbitalis.nii.gz')\n",
    "# # ofc = image.math_img('np.logical_or(img1,img2)', img1=rpOFC, img2=lpOFC)\n",
    "# # # # # load vmPFC\n",
    "vmPFC  = image.load_img(r'/mnt/workdir/DCM/Docs/Mask/VMPFC/VMPFC_merge_MNI152NL.nii.gz')\n",
    "\n",
    "# load dmPFC\n",
    "dmPFC = image.load_img(r'/mnt/workdir/DCM/Docs/Mask/dmPFC/BN_dmPFC_middle.nii.gz')\n",
    "# # # # # load PCC\n",
    "rpcc = image.load_img(r'/mnt/workdir/DCM/Docs/Mask/aparc/mask/lh.posteriorcingulate.nii.gz')\n",
    "lpcc = image.load_img(r'/mnt/workdir/DCM/Docs/Mask/aparc/mask/rh.posteriorcingulate.nii.gz')\n",
    "pcc = image.math_img('np.logical_or(img1,img2)', img1=rpcc, img2=lpcc)\n",
    "# # put ROIs into a dict\n",
    "rois = {'vmPFC':vmPFC,'PCC':pcc,'HC':hc,'dmPFC':dmPFC}\n",
    "#rois = {'EC':ec}\n",
    "# # load isthmuscingulate\n",
    "# liscc = image.load_img(r'/mnt/data/DCM/tmp/aparc/mask/lh.isthmuscingulate.nii.gz')\n",
    "# riscc = image.load_img(r'/mnt/data/DCM/tmp/aparc/mask/rh.isthmuscingulate.nii.gz')\n",
    "# iscc = image.math_img('np.logical_or(img1,img2)', img1=roi1, img2=roi2)\n",
    "# rois = {'liscc':liscc,'riscc':riscc,'iscc':iscc}\n",
    "# set camp\n",
    "#cmap_template = r'/mnt/data/DCM/result_backup/2023.5.14/Nilearn/game2/distance_spct/Setall/6fold/{}/zmap/M2_corrxdistance_zmap.nii.gz'\n",
    "\n",
    "cmap_template = r'/mnt/data/DCM/result_backup/2023.5.14/Nilearn/game1/2distance_spct/Setall/6fold/{}/zmap/m2xeucd_zmap.nii.gz'\n",
    "\n",
    "# get each subject's activity in each ROI\n",
    "for troi_name,troi in rois.items():\n",
    "    print(troi_name,'is processing')\n",
    "    # get activity in ROI\n",
    "    subs_cmap_list = [cmap_template.format(sub_id) for sub_id in subjects_id]\n",
    "    subs_mean_activity = np.mean(masking.apply_mask(subs_cmap_list, troi),axis=1)\n",
    "    data[troi_name] = subs_mean_activity\n",
    "print(len(subs_mean_activity))"
   ],
   "metadata": {
    "collapsed": false,
    "ExecuteTime": {
     "end_time": "2023-06-04T04:22:49.810535328Z",
     "start_time": "2023-06-04T04:21:57.178290271Z"
    }
   }
  },
  {
   "cell_type": "markdown",
   "source": [
    "### load data(B)"
   ],
   "metadata": {
    "collapsed": false
   }
  },
  {
   "cell_type": "code",
   "execution_count": 66,
   "outputs": [
    {
     "name": "stderr",
     "output_type": "stream",
     "text": [
      "/home/dell/Software/anaconda3/lib/python3.8/site-packages/nilearn/image/image.py:1041: UserWarning: Data array used to create a new image contains 64-bit ints. This is likely due to creating the array with numpy and passing `int` as the `dtype`. Many tools such as FSL and SPM cannot deal with int64 in Nifti images, so for compatibility the data has been converted to int32.\n",
      "  return new_img_like(niimg, result, niimg.affine)\n",
      "<ipython-input-66-207851554721>:31: SettingWithCopyWarning: \n",
      "A value is trying to be set on a copy of a slice from a DataFrame.\n",
      "Try using .loc[row_indexer,col_indexer] = value instead\n",
      "\n",
      "See the caveats in the documentation: https://pandas.pydata.org/pandas-docs/stable/user_guide/indexing.html#returning-a-view-versus-a-copy\n",
      "  data['hexagon'] = np.mean(masking.apply_mask(sub_rsa_zmap, ec), axis=1)\n",
      "<ipython-input-66-207851554721>:32: SettingWithCopyWarning: \n",
      "A value is trying to be set on a copy of a slice from a DataFrame.\n",
      "Try using .loc[row_indexer,col_indexer] = value instead\n",
      "\n",
      "See the caveats in the documentation: https://pandas.pydata.org/pandas-docs/stable/user_guide/indexing.html#returning-a-view-versus-a-copy\n",
      "  data['distance'] = np.mean(masking.apply_mask(sub_distance_zmap, ofc), axis=1)\n",
      "<ipython-input-66-207851554721>:33: SettingWithCopyWarning: \n",
      "A value is trying to be set on a copy of a slice from a DataFrame.\n",
      "Try using .loc[row_indexer,col_indexer] = value instead\n",
      "\n",
      "See the caveats in the documentation: https://pandas.pydata.org/pandas-docs/stable/user_guide/indexing.html#returning-a-view-versus-a-copy\n",
      "  data['value'] = np.mean(masking.apply_mask(sub_value_zmap,mpfc ), axis=1)\n",
      "<ipython-input-66-207851554721>:37: SettingWithCopyWarning: \n",
      "A value is trying to be set on a copy of a slice from a DataFrame.\n",
      "Try using .loc[row_indexer,col_indexer] = value instead\n",
      "\n",
      "See the caveats in the documentation: https://pandas.pydata.org/pandas-docs/stable/user_guide/indexing.html#returning-a-view-versus-a-copy\n",
      "  data['beh_diff'] = data['game2_test_acc'] - data['game1_acc']\n",
      "<ipython-input-66-207851554721>:39: SettingWithCopyWarning: \n",
      "A value is trying to be set on a copy of a slice from a DataFrame.\n",
      "Try using .loc[row_indexer,col_indexer] = value instead\n",
      "\n",
      "See the caveats in the documentation: https://pandas.pydata.org/pandas-docs/stable/user_guide/indexing.html#returning-a-view-versus-a-copy\n",
      "  data[['hexagon', 'distance', 'Age', 'game1_acc', 'value']] = scaler.fit_transform(data[['hexagon', 'distance','Age','game1_acc', 'value']])\n",
      "/home/dell/Software/anaconda3/lib/python3.8/site-packages/pandas/core/indexing.py:1738: SettingWithCopyWarning: \n",
      "A value is trying to be set on a copy of a slice from a DataFrame.\n",
      "Try using .loc[row_indexer,col_indexer] = value instead\n",
      "\n",
      "See the caveats in the documentation: https://pandas.pydata.org/pandas-docs/stable/user_guide/indexing.html#returning-a-view-versus-a-copy\n",
      "  self._setitem_single_column(loc, value[:, i].tolist(), pi)\n"
     ]
    }
   ],
   "source": [
    "# check whether the manhattan distance can predict/meidate value effect and inference accuracy\n",
    "\n",
    "# specify subjects\n",
    "participants_tsv = r'/mnt/workdir/DCM/BIDS/participants.tsv'\n",
    "participants_data = pd.read_csv(participants_tsv, sep='\\t')\n",
    "data = participants_data.query('game1_fmri>=0.5')  # look out\n",
    "subjects = data['Participant_ID'].to_list()\n",
    "\n",
    "# set cmp template\n",
    "rsa_zmap = r'/mnt/data/DCM/result_backup/2023.5.14/Nilearn/game1/grid_rsa_corr_trials/Setall/6fold/' \\\n",
    "           r'{}/rsa/rsa_zscore_img_coarse_6fold.nii.gz'\n",
    "distance_zmap = r'/mnt/data/DCM/result_backup/2023.5.14/Nilearn/game1/distance_spct/Setall/6fold/{}/zmap/distance_zmap.nii.gz'\n",
    "value_zmap = r'/mnt/data/DCM/result_backup/2023.5.14/Nilearn/game1/value_spct/Setall/6fold/{}/zmap/value_zmap.nii.gz'\n",
    "# rsa_zmap = r'/mnt/data/DCM/result_backup/2023.5.14/Nilearn/game2/cv_hexagon_spct/Setall/6fold/' \\\n",
    "#            r'{}/zmap/alignPhi_zmap.nii.gz'\n",
    "# distance_zmap = r'/mnt/workdir/DCM/BIDS/derivatives/Nilearn/game1/hexModdistance_spct/Setall/6fold/{}/zmap/hexModdistance_zmap.nii.gz'\n",
    "\n",
    "sub_rsa_zmap = [rsa_zmap.format(sub) for sub in subjects]\n",
    "sub_distance_zmap = [distance_zmap.format(sub) for sub in subjects]\n",
    "sub_value_zmap = [value_zmap.format(sub) for sub in subjects]\n",
    "\n",
    "ec = image.load_img(r'/mnt/workdir/DCM/Docs/Mask/EC/juelich_EC_MNI152NL_prob.nii.gz')\n",
    "ec = image.binarize_img(ec,5)\n",
    "mpfc = image.load_img(r'/mnt/workdir/DCM/Docs/Mask/Park_Grid_ROI/mPFC_GP_roi.nii')\n",
    "lofc = image.load_img(r'/mnt/workdir/DCM/Docs/Mask/aparc/mask/lh.parsorbitalis.nii.gz') #parsorbitalis\n",
    "rofc = image.load_img(r'/mnt/workdir/DCM/Docs/Mask/aparc/mask/rh.parsorbitalis.nii.gz')\n",
    "ofc = image.math_img('np.logical_or(img1,img2)', img1=lofc, img2=rofc)\n",
    "vmpfc_bin = image.load_img(r'/mnt/workdir/DCM/Docs/Mask/VMPFC/vmPFC_bin.nii.gz')\n",
    "\n",
    "# extract mean activity of ROI for each subjects\n",
    "data['hexagon'] = np.mean(masking.apply_mask(sub_rsa_zmap, ec), axis=1)\n",
    "data['distance'] = np.mean(masking.apply_mask(sub_distance_zmap, ofc), axis=1)\n",
    "data['value'] = np.mean(masking.apply_mask(sub_value_zmap,mpfc ), axis=1)\n",
    "\n",
    "# Instantiate the StandardScaler\n",
    "scaler = StandardScaler()\n",
    "data['beh_diff'] = data['game2_test_acc'] - data['game1_acc']\n",
    "# Fit the scaler to the columns and transform\n",
    "data[['hexagon', 'distance', 'Age', 'game1_acc', 'value']] = scaler.fit_transform(data[['hexagon', 'distance','Age','game1_acc', 'value']])\n",
    "#data[['Age','game1_acc','distance']] = scaler.fit_transform(data[['Age','game1_acc','distance']])"
   ],
   "metadata": {
    "collapsed": false,
    "ExecuteTime": {
     "end_time": "2023-07-08T07:50:52.200337317Z",
     "start_time": "2023-07-08T07:50:05.115326456Z"
    }
   }
  },
  {
   "cell_type": "markdown",
   "source": [
    "### Multiple regression"
   ],
   "metadata": {
    "collapsed": false
   }
  },
  {
   "cell_type": "code",
   "execution_count": 28,
   "outputs": [
    {
     "name": "stdout",
     "output_type": "stream",
     "text": [
      "                            OLS Regression Results                            \n",
      "==============================================================================\n",
      "Dep. Variable:               beh_diff   R-squared:                       0.039\n",
      "Model:                            OLS   Adj. R-squared:                  0.034\n",
      "Method:                 Least Squares   F-statistic:                     7.719\n",
      "Date:                Thu, 06 Jul 2023   Prob (F-statistic):            0.00601\n",
      "Time:                        21:31:52   Log-Likelihood:                -244.19\n",
      "No. Observations:                 193   AIC:                             492.4\n",
      "Df Residuals:                     191   BIC:                             498.9\n",
      "Df Model:                           1                                         \n",
      "Covariance Type:            nonrobust                                         \n",
      "====================================================================================\n",
      "                       coef    std err          t      P>|t|      [0.025      0.975]\n",
      "------------------------------------------------------------------------------------\n",
      "const                0.7792      0.062     12.558      0.000       0.657       0.902\n",
      "distance_replace    -0.1724      0.062     -2.778      0.006      -0.295      -0.050\n",
      "==============================================================================\n",
      "Omnibus:                        8.938   Durbin-Watson:                   1.925\n",
      "Prob(Omnibus):                  0.011   Jarque-Bera (JB):                8.387\n",
      "Skew:                           0.452   Prob(JB):                       0.0151\n",
      "Kurtosis:                       2.525   Cond. No.                         1.00\n",
      "==============================================================================\n",
      "\n",
      "Notes:\n",
      "[1] Standard Errors assume that the covariance matrix of the errors is correctly specified.\n"
     ]
    }
   ],
   "source": [
    "# using GLM to predict inference accuracy from brain activity and age\n",
    "X = data[['distance_replace']]\n",
    "Y = data['beh_diff']\n",
    "\n",
    "X = sm.add_constant(X)\n",
    "model = sm.OLS(Y, X).fit()\n",
    "predictions = model.predict(X)\n",
    "model_summary = model.summary()\n",
    "print(model_summary)\n",
    "\n",
    "# 将摘要保存到文件\n",
    "# summary_file = '/mnt/workdir/DCM/Result/paper/figure3/Value/Value_mPFC-meidaiton-glm1_summary.txt'\n",
    "# with open(summary_file, 'w') as f:\n",
    "#     f.write(model_summary.as_text())\n",
    "#     f.close()"
   ],
   "metadata": {
    "collapsed": false,
    "ExecuteTime": {
     "end_time": "2023-07-06T13:31:52.722027930Z",
     "start_time": "2023-07-06T13:31:52.646748815Z"
    }
   }
  },
  {
   "cell_type": "markdown",
   "source": [
    "### Mediation analysis(A)"
   ],
   "metadata": {
    "collapsed": false
   }
  },
  {
   "cell_type": "code",
   "execution_count": 79,
   "outputs": [
    {
     "name": "stderr",
     "output_type": "stream",
     "text": [
      "<ipython-input-79-846235d82551>:3: SettingWithCopyWarning: \n",
      "A value is trying to be set on a copy of a slice from a DataFrame.\n",
      "Try using .loc[row_indexer,col_indexer] = value instead\n",
      "\n",
      "See the caveats in the documentation: https://pandas.pydata.org/pandas-docs/stable/user_guide/indexing.html#returning-a-view-versus-a-copy\n",
      "  data['beh_diff'] = data['game2_test_acc'] - data['game1_acc']\n",
      "<ipython-input-79-846235d82551>:11: SettingWithCopyWarning: \n",
      "A value is trying to be set on a copy of a slice from a DataFrame.\n",
      "Try using .loc[row_indexer,col_indexer] = value instead\n",
      "\n",
      "See the caveats in the documentation: https://pandas.pydata.org/pandas-docs/stable/user_guide/indexing.html#returning-a-view-versus-a-copy\n",
      "  data[['hexagon','Age','game1_acc']] = scaler.fit_transform(data[['hexagon','Age','game1_acc']])\n",
      "/home/dell/Software/anaconda3/lib/python3.8/site-packages/pandas/core/indexing.py:1738: SettingWithCopyWarning: \n",
      "A value is trying to be set on a copy of a slice from a DataFrame.\n",
      "Try using .loc[row_indexer,col_indexer] = value instead\n",
      "\n",
      "See the caveats in the documentation: https://pandas.pydata.org/pandas-docs/stable/user_guide/indexing.html#returning-a-view-versus-a-copy\n",
      "  self._setitem_single_column(loc, value[:, i].tolist(), pi)\n"
     ]
    },
    {
     "data": {
      "text/plain": "                path     coef       se     pval  CI[2.5%]  CI[97.5%]  sig\n0        hexagon ~ X  0.15808  0.06965  0.02428   0.02075    0.29542  Yes\n1       distance ~ X  0.19742  0.06915  0.00475   0.06107    0.33376  Yes\n2        Y ~ hexagon  0.30615  0.06527  0.00001   0.17744    0.43485  Yes\n3       Y ~ distance  0.22544  0.06527  0.00067   0.09673    0.35415  Yes\n4              Total  0.55572  0.05864  0.00000   0.44009    0.67135  Yes\n5             Direct  0.49349  0.05777  0.00000   0.37956    0.60741  Yes\n6   Indirect hexagon  0.03651  0.01887  0.02640   0.00661    0.08360  Yes\n7  Indirect distance  0.02572  0.01452  0.01860   0.00431    0.06386  Yes",
      "text/html": "<div>\n<style scoped>\n    .dataframe tbody tr th:only-of-type {\n        vertical-align: middle;\n    }\n\n    .dataframe tbody tr th {\n        vertical-align: top;\n    }\n\n    .dataframe thead th {\n        text-align: right;\n    }\n</style>\n<table border=\"1\" class=\"dataframe\">\n  <thead>\n    <tr style=\"text-align: right;\">\n      <th></th>\n      <th>path</th>\n      <th>coef</th>\n      <th>se</th>\n      <th>pval</th>\n      <th>CI[2.5%]</th>\n      <th>CI[97.5%]</th>\n      <th>sig</th>\n    </tr>\n  </thead>\n  <tbody>\n    <tr>\n      <th>0</th>\n      <td>hexagon ~ X</td>\n      <td>0.15808</td>\n      <td>0.06965</td>\n      <td>0.02428</td>\n      <td>0.02075</td>\n      <td>0.29542</td>\n      <td>Yes</td>\n    </tr>\n    <tr>\n      <th>1</th>\n      <td>distance ~ X</td>\n      <td>0.19742</td>\n      <td>0.06915</td>\n      <td>0.00475</td>\n      <td>0.06107</td>\n      <td>0.33376</td>\n      <td>Yes</td>\n    </tr>\n    <tr>\n      <th>2</th>\n      <td>Y ~ hexagon</td>\n      <td>0.30615</td>\n      <td>0.06527</td>\n      <td>0.00001</td>\n      <td>0.17744</td>\n      <td>0.43485</td>\n      <td>Yes</td>\n    </tr>\n    <tr>\n      <th>3</th>\n      <td>Y ~ distance</td>\n      <td>0.22544</td>\n      <td>0.06527</td>\n      <td>0.00067</td>\n      <td>0.09673</td>\n      <td>0.35415</td>\n      <td>Yes</td>\n    </tr>\n    <tr>\n      <th>4</th>\n      <td>Total</td>\n      <td>0.55572</td>\n      <td>0.05864</td>\n      <td>0.00000</td>\n      <td>0.44009</td>\n      <td>0.67135</td>\n      <td>Yes</td>\n    </tr>\n    <tr>\n      <th>5</th>\n      <td>Direct</td>\n      <td>0.49349</td>\n      <td>0.05777</td>\n      <td>0.00000</td>\n      <td>0.37956</td>\n      <td>0.60741</td>\n      <td>Yes</td>\n    </tr>\n    <tr>\n      <th>6</th>\n      <td>Indirect hexagon</td>\n      <td>0.03651</td>\n      <td>0.01887</td>\n      <td>0.02640</td>\n      <td>0.00661</td>\n      <td>0.08360</td>\n      <td>Yes</td>\n    </tr>\n    <tr>\n      <th>7</th>\n      <td>Indirect distance</td>\n      <td>0.02572</td>\n      <td>0.01452</td>\n      <td>0.01860</td>\n      <td>0.00431</td>\n      <td>0.06386</td>\n      <td>Yes</td>\n    </tr>\n  </tbody>\n</table>\n</div>"
     },
     "execution_count": 79,
     "metadata": {},
     "output_type": "execute_result"
    }
   ],
   "source": [
    "import pingouin as pg\n",
    "from sklearn.preprocessing import StandardScaler\n",
    "data['beh_diff'] = data['game2_test_acc'] - data['game1_acc']\n",
    "iv = 'Age'\n",
    "m = ['hexagon','distance']\n",
    "dv = 'game1_acc'\n",
    "# Instantiate the StandardScaler\n",
    "scaler = StandardScaler()\n",
    "\n",
    "# fit the scaler to the columns and transform\n",
    "data[['hexagon','Age','game1_acc']] = scaler.fit_transform(data[['hexagon','Age','game1_acc']])\n",
    "\n",
    "# Mediation analysis\n",
    "mediation_results,indirect_beta_sample = pg.mediation_analysis(data=data, x=iv, m=m, y=dv, seed=42,n_boot=10000,return_dist=True)\n",
    "mediation_results.round(5)\n",
    "# save results\n",
    "# mediation_results.to_csv(r'/mnt/workdir/DCM/Result/paper/figure3/value_mPFC_mediation.csv',index=False)\n",
    "# np.save(r'/mnt/workdir/DCM/Result/paper/figure3/Indirect_beta_sample_value_mPFC.npy',indirect_beta_sample)"
   ],
   "metadata": {
    "collapsed": false,
    "ExecuteTime": {
     "end_time": "2023-07-08T07:56:04.861363640Z",
     "start_time": "2023-07-08T07:56:00.508823641Z"
    }
   }
  },
  {
   "cell_type": "markdown",
   "source": [
    "### Mediation analysis(B)"
   ],
   "metadata": {
    "collapsed": false
   }
  },
  {
   "cell_type": "code",
   "execution_count": 17,
   "outputs": [
    {
     "name": "stdout",
     "output_type": "stream",
     "text": [
      "Bootstrapped 95% confidence interval for the indirect effect: (0.00341708, 0.07773135)\n"
     ]
    }
   ],
   "source": [
    "def bootstrap_indirect_effect(data, iv, m, dv, n_bootstraps=5000, ci=0.95):\n",
    "    indirect_effects = []\n",
    "    for _ in range(n_bootstraps):\n",
    "        bootstrap_data = data.sample(frac=1, replace=True)\n",
    "\n",
    "        path_a = smf.ols(f\"{m} ~ {iv}\", data=bootstrap_data).fit()\n",
    "        path_b = smf.ols(f\"{dv} ~ {m} + {iv}\", data=bootstrap_data).fit()\n",
    "\n",
    "        indirect_effect = path_a.params[1] * path_b.params[1]\n",
    "        indirect_effects.append(indirect_effect)\n",
    "\n",
    "    lower = np.percentile(indirect_effects, (1 - ci) / 2 * 100)\n",
    "    upper = np.percentile(indirect_effects, (1 + ci) / 2 * 100)\n",
    "\n",
    "    return lower, upper,indirect_effects\n",
    "\n",
    "# Replace 'IV', 'M', and 'DV' with the actual variable names in your dataset\n",
    "iv = 'Age'\n",
    "m = 'hexagon'\n",
    "dv = 'game1_acc'\n",
    "\n",
    "# Path a: IV -> M\n",
    "path_a = smf.ols(f\"{m} ~ {iv}\", data=data).fit()\n",
    "\n",
    "# Path b: M -> DV, controlling for IV\n",
    "path_b = smf.ols(f\"{dv} ~ {m} + {iv}\", data=data).fit()\n",
    "lower, upper,indirect_effects = bootstrap_indirect_effect(data, iv, m, dv,5000)\n",
    "print(f\"Bootstrapped {int(0.95 * 100)}% confidence interval for the indirect effect: ({lower:.8f}, {upper:.8f})\")"
   ],
   "metadata": {
    "collapsed": false,
    "ExecuteTime": {
     "end_time": "2023-07-03T09:44:04.901835467Z",
     "start_time": "2023-07-03T09:43:28.008522681Z"
    }
   }
  },
  {
   "cell_type": "markdown",
   "source": [
    "### Plot bootstrap distribution of indirect effect"
   ],
   "metadata": {
    "collapsed": false
   }
  },
  {
   "cell_type": "code",
   "execution_count": 18,
   "outputs": [
    {
     "name": "stdout",
     "output_type": "stream",
     "text": [
      "mean: 0.03623399526694947\n",
      "standard error: 0.019392967203741732\n"
     ]
    },
    {
     "data": {
      "text/plain": "<Figure size 720x72 with 1 Axes>",
      "image/png": "[encoded data removed]"
     },
     "metadata": {
      "needs_background": "light"
     },
     "output_type": "display_data"
    }
   ],
   "source": [
    "# Calculate lower and upper bounds\n",
    "ci=0.95\n",
    "lower = np.percentile(indirect_effects, (1 - ci) / 2 * 100)\n",
    "upper = np.percentile(indirect_effects, (1 + ci) / 2 * 100)\n",
    "print('mean:',np.mean(indirect_effects))\n",
    "print('standard error:',np.std(indirect_effects))\n",
    "# Plot histogram\n",
    "fig, ax = plt.subplots(figsize=(10,1))\n",
    "n, bins, patches = ax.hist(indirect_effects, color='gray',bins=50)\n",
    "\n",
    "# Find the bin with the highest frequency and its corresponding height\n",
    "max_height = max(n)\n",
    "max_height_index = np.where(n == max_height)[0][0]\n",
    "max_height_bin = bins[max_height_index]\n",
    "\n",
    "# Add vertical line at zero with height equal to the maximum frequency\n",
    "ax.axvline(x=0, ymin=0, ymax=max_height, color='black', linestyle='--')\n",
    "\n",
    "# Color the histogram between the lower and upper bounds blue\n",
    "for i in range(len(patches)):\n",
    "    if lower <= bins[i] < upper:\n",
    "        patches[i].set_fc('lightsteelblue')\n",
    "\n",
    "# Remove top and right spines\n",
    "fig.suptitle(f\"Bootstrapped {int(ci * 100)}% confidence interval: ({lower:.6f}, {upper:.6f})\",size=14)\n",
    "ax.spines['top'].set_visible(False)\n",
    "ax.spines['right'].set_visible(False)\n",
    "# savepath = r'/mnt/workdir/DCM/Result/paper/figure3/Value_vmpfc-meidaiton-age2inference.pdf'\n",
    "# plt.savefig(savepath,bbox_inches='tight',pad_inches=0,dpi=300,transparent=True)"
   ],
   "metadata": {
    "collapsed": false,
    "ExecuteTime": {
     "end_time": "2023-07-03T09:44:05.175717894Z",
     "start_time": "2023-07-03T09:44:04.926874088Z"
    }
   }
  }
 ],
 "metadata": {
  "kernelspec": {
   "display_name": "Python 3",
   "language": "python",
   "name": "python3"
  },
  "language_info": {
   "codemirror_mode": {
    "name": "ipython",
    "version": 2
   },
   "file_extension": ".py",
   "mimetype": "text/x-python",
   "name": "python",
   "nbconvert_exporter": "python",
   "pygments_lexer": "ipython2",
   "version": "2.7.6"
  }
 },
 "nbformat": 4,
 "nbformat_minor": 0
}
