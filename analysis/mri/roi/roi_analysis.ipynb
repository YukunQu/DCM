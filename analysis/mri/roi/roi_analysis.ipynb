{
 "cells": [
  {
   "cell_type": "code",
   "execution_count": 1,
   "metadata": {
    "collapsed": true,
    "ExecuteTime": {
     "end_time": "2023-08-29T13:06:03.479605366Z",
     "start_time": "2023-08-29T13:06:02.389292247Z"
    }
   },
   "outputs": [],
   "source": [
    "import os\n",
    "import numpy as np\n",
    "import pandas as pd\n",
    "from nilearn import masking, image\n",
    "from scipy.stats import ttest_1samp, pearsonr,ttest_ind\n",
    "import statsmodels.api as sm\n",
    "\n",
    "import statsmodels.formula.api as smf\n",
    "import seaborn as sns\n",
    "import matplotlib\n",
    "import matplotlib as mpl\n",
    "import matplotlib.pyplot as plt\n",
    "from sklearn.preprocessing import StandardScaler\n",
    "#import ptitprince as pt\n",
    "\n",
    "# Set the default plots style\n",
    "sns.set_theme(style=\"white\")\n",
    "\n",
    "mpl.rcParams['pdf.fonttype'] = 42\n",
    "mpl.rcParams['ps.fonttype'] = 42\n",
    "\n",
    "mpl.rcParams['axes.spines.top'] = False\n",
    "mpl.rcParams['axes.spines.right'] = False\n",
    "mpl.rcParams['axes.spines.bottom'] = True\n",
    "mpl.rcParams['axes.spines.left'] = True\n",
    "\n",
    "# Set the default tick_params options for all axes\n",
    "mpl.rcParams['xtick.bottom'] = True\n",
    "mpl.rcParams['xtick.top'] = False\n",
    "mpl.rcParams['xtick.direction'] = 'out'\n",
    "mpl.rcParams['ytick.left'] = True\n",
    "mpl.rcParams['ytick.right'] = False\n",
    "mpl.rcParams['ytick.direction'] = 'out'\n",
    "\n",
    "\n",
    "def p2sign(p):\n",
    "    if  p<=0.001:\n",
    "        sign='***'\n",
    "    elif p<=0.01:\n",
    "        sign='**'\n",
    "    elif p<=0.05:\n",
    "        sign='*'\n",
    "    else:\n",
    "        sign=''\n",
    "    return sign"
   ]
  },
  {
   "cell_type": "markdown",
   "source": [
    "## Mean effect"
   ],
   "metadata": {
    "collapsed": false
   }
  },
  {
   "cell_type": "code",
   "execution_count": 72,
   "outputs": [
    {
     "name": "stderr",
     "output_type": "stream",
     "text": [
      "/home/dell/Software/anaconda3/lib/python3.8/site-packages/nilearn/image/image.py:1041: UserWarning: Data array used to create a new image contains 64-bit ints. This is likely due to creating the array with numpy and passing `int` as the `dtype`. Many tools such as FSL and SPM cannot deal with int64 in Nifti images, so for compatibility the data has been converted to int32.\n",
      "  return new_img_like(niimg, result, niimg.affine)\n"
     ]
    }
   ],
   "source": [
    "# specify subjects\n",
    "participants_tsv = r'/mnt/workdir/DCM/BIDS/participants.tsv'\n",
    "participants_data = pd.read_csv(participants_tsv, sep='\\t')\n",
    "data = participants_data.query(\"(game1_fmri>=0.5)\")\n",
    "# Sort the data on the 'game1_acc' column\n",
    "data = data.sort_values(by='game1_acc',ascending=False)\n",
    "data['acc_binary'] = data['game1_acc'].apply(lambda x: 1 if x > 0.8 else 0)\n",
    "subjects = data['Participant_ID'].to_list()\n",
    "\n",
    "# set camp\n",
    "#cmap_template = r'/mnt/data/DCM/result_backup/2023.5.14/Nilearn/game2/hexagon_diff/Setall/6fold/{}/zmap/hexagon_zmap.nii.gz'\n",
    "# cmap_template = r'/mnt/data/DCM/result_backup/2023.5.14/Nilearn/game2/hexagon_diff/Setall/6fold/{}/zmap/hexagon_zmap.nii.gz'\n",
    "# cmap_template = r'/mnt/data/DCM/result_backup/2023.5.14/Nilearn/game1/grid_rsa_corr_trials/Setall/6fold/{}/rsa/rsa_zscore_img_coarse_6fold.nii.gz'\n",
    "# cmap_template = r'/mnt/data/DCM/result_backup/2023.5.14/Nilearn/game2/cv_hexagon_spct/Setall/6fold/{}/zmap/alignPhi_zmap.nii.gz'\n",
    "# cmap_template = r'/mnt/workdir/DCM/BIDS/derivatives/Nilearn/game1/grid_rsa/Setall/6fold/{}/rsa/rsa_zscore_img_coarse_6fold.nii.gz'\n",
    "cmap_template = r'/mnt/data/DCM/result_backup/2023.5.14/Nilearn/game1/distance_spct/Setall/6fold/{}/zmap/distance_zmap.nii.gz'\n",
    "sub_cmap_paths = [cmap_template.format(sub_id) for sub_id in subjects]\n",
    "\n",
    "# set roi\n",
    "# roi1 = image.load_img(r'/mnt/workdir/DCM/Docs/Mask/hippocampus/lHC_MNI152NL.nii.gz')\n",
    "# roi2 = image.load_img(r'/mnt/workdir/DCM/Docs/Mask/hippocampus/rHC_MNI152NL.nii.gz')\n",
    "# roi = image.math_img('np.logical_or(img1,img2)', img1=roi1, img2=roi2)\n",
    "#roi = image.load_img(r'/mnt/workdir/DCM/BIDS/derivatives/Nilearn/game1/hexagon_spct/EC_thr3.1.nii.gz')\n",
    "# roi  = image.load_img(r'/mnt/workdir/DCM/Docs/Mask/EC/juelich_EC_MNI152NL_prob_L.nii.gz')\n",
    "# roi = image.binarize_img(roi,5)\n",
    "roi  = mpfc = image.load_img(r'/mnt/workdir/DCM/Docs/Mask/VMPFC/VMPFC_MNI152NL_new.nii.gz')\n",
    "# roi1 = image.load_img(r'/mnt/workdir/DCM/Docs/Mask/aparc/mask/lh.isthmuscingulate.nii.gz')\n",
    "# roi2 = image.load_img(r'/mnt/workdir/DCM/Docs/Mask/aparc/mask/rh.isthmuscingulate.nii.gz')\n",
    "# roi = image.math_img('np.logical_or(img1,img2)', img1=roi1, img2=roi2)\n",
    "# roi = image.load_img(r'/mnt/workdir/DCM/Docs/Mask/PCC/PCCk3_MNI152Nl.nii.gz')\n",
    "#lh.lateralorbitofrontal.nii.gz\n",
    "# roi1 = image.load_img(r'/mnt/workdir/DCM/Docs/Mask/RSC/MNI152Nl-lRSC.nii.gz')\n",
    "# roi2 = image.load_img(r'/mnt/workdir/DCM/Docs/Mask/RSC/MNI152Nl-rRSC.nii.gz')\n",
    "# roi = image.math_img('np.logical_or(img1,img2)', img1=roi1, img2=roi2)\n",
    "# roi = image.load_img(r'/mnt/workdir/DCM/Docs/Mask/RSC/Rsp_bilat_Yeo.nii.gz')\n",
    "# roi = image.resample_to_img(roi,sub_cmap_paths[0],interpolation='nearest')\n",
    "# roi = image.load_img(r'/mnt/data/DCM/result_backup/2023.5.14/Nilearn/game1/hexagon_spct/lRSC_thr3.1_erosion.nii.gz')\n",
    "thr = 0\n",
    "roi_thr = image.binarize_img(roi, thr)"
   ],
   "metadata": {
    "collapsed": false,
    "ExecuteTime": {
     "end_time": "2023-08-07T11:52:26.626927200Z",
     "start_time": "2023-08-07T11:52:26.385487913Z"
    }
   }
  },
  {
   "cell_type": "code",
   "execution_count": 73,
   "outputs": [
    {
     "name": "stdout",
     "output_type": "stream",
     "text": [
      "t: 4.289788892550297\n",
      "p: 2.7714073851298496e-05\n"
     ]
    }
   ],
   "source": [
    "# Compute mean activity\n",
    "subs_mean_activity = np.mean(masking.apply_mask(sub_cmap_paths, roi_thr), axis=1)\n",
    "act_data = pd.DataFrame({'sub':[0]*len(subjects), 'mean_act':subs_mean_activity,'performance':data['acc_binary']})\n",
    "# statistical tests\n",
    "t_statistic, p_value = ttest_1samp(subs_mean_activity, 0)\n",
    "#print('thr: {}'.format(thr))\n",
    "print('t:', t_statistic)\n",
    "print('p:', p_value)"
   ],
   "metadata": {
    "collapsed": false,
    "ExecuteTime": {
     "end_time": "2023-08-07T11:52:49.775989911Z",
     "start_time": "2023-08-07T11:52:37.057132364Z"
    }
   }
  },
  {
   "cell_type": "code",
   "execution_count": 74,
   "outputs": [
    {
     "data": {
      "text/plain": "<Figure size 360x360 with 1 Axes>",
      "image/png": "[encoded data removed]"
     },
     "metadata": {
      "needs_background": "light"
     },
     "output_type": "display_data"
    }
   ],
   "source": [
    "fig,ax = plt.subplots(figsize=(5,5))\n",
    "\n",
    "all_sub = act_data['mean_act']\n",
    "hp_sub = act_data[act_data['performance'] == 1]['mean_act']\n",
    "\n",
    "data = pd.DataFrame({'All':all_sub,'HP':hp_sub})\n",
    "pt.RainCloud(data=data, orient='v',linewidth=0,palette=['lightgray','#cca3ff'],scale='area',width_viol=0.8,bw = 0.35,move=0.15,offset=0.05)\n",
    "\n",
    "# Create error bar\n",
    "mean, se = all_sub.mean(),all_sub.sem()\n",
    "plt.errorbar(x=0.15, y=mean, yerr=se, color='black', fmt='o',capsize=7,capthick=2,markersize=3)\n",
    "t1, p1 = ttest_1samp(subs_mean_activity, 0)\n",
    "plt.text(0, mean+20*se, p2sign(p1),ha='center', va='bottom',weight='bold',size=20)\n",
    "\n",
    "mean, se = hp_sub.mean(), hp_sub.sem()\n",
    "plt.errorbar(x=1.15, y=mean, yerr=se, color='slateblue', fmt='o',capsize=7,capthick=2,markersize=4)\n",
    "plt.hlines(y=0, xmin=-1, xmax=1.5, color='dimgray',linestyle='--',linewidth=0.75)\n",
    "\n",
    "t2, p2 = ttest_1samp(act_data[act_data['performance'] == 1]['mean_act'], 0)\n",
    "plt.text(1.05, mean+20*se, p2sign(p2),ha='center', va='bottom',weight='bold',size=20)\n",
    "\n",
    "ax.set_xlim(-0.8,1.5)\n",
    "ax.set_ylim(-3,3)\n",
    "plt.savefig(\"/mnt/workdir/DCM/Result/paper/figure3/VMPFC/Distance_VMPFC_Mean_.pdf\", dpi=300, bbox_inches='tight',pad_inches=0,transparent=True)"
   ],
   "metadata": {
    "collapsed": false,
    "ExecuteTime": {
     "end_time": "2023-08-07T11:53:55.957940568Z",
     "start_time": "2023-08-07T11:53:55.639253012Z"
    }
   }
  },
  {
   "cell_type": "markdown",
   "source": [
    "## Plot ROI covairate effect"
   ],
   "metadata": {
    "collapsed": false
   }
  },
  {
   "cell_type": "code",
   "execution_count": 19,
   "outputs": [
    {
     "name": "stderr",
     "output_type": "stream",
     "text": [
      "/home/dell/Software/anaconda3/lib/python3.8/site-packages/nilearn/image/image.py:1065: UserWarning: Data array used to create a new image contains 64-bit ints. This is likely due to creating the array with numpy and passing `int` as the `dtype`. Many tools such as FSL and SPM cannot deal with int64 in Nifti images, so for compatibility the data has been converted to int32.\n",
      "  return new_img_like(niimg, result, niimg.affine)\n"
     ]
    }
   ],
   "source": [
    "# specify subjects\n",
    "participants_tsv = r'/mnt/workdir/DCM/BIDS/participants.tsv'\n",
    "participants_data = pd.read_csv(participants_tsv, sep='\\t')\n",
    "participants_data =  participants_data.query(\"(game2_fmri>=0.5)\")\n",
    "subjects_id = participants_data['Participant_ID'].to_list()\n",
    "\n",
    "# set camp\n",
    "# cmap_template = r'/mnt/data/DCM/result_backup/2023.5.14/Nilearn/game1/grid_rsa_corr_trials/Setall/6fold/{}/rsa/rsa_zscore_img_coarse_6fold.nii.gz'\n",
    "#cmap_template = r'/mnt/data/DCM/result_backup/2023.5.14/Nilearn/game1/distance_spct/Setall/6fold/{}/zmap/distance_zmap.nii.gz'\n",
    "#cmap_template = r'/mnt/data/DCM/result_backup/2023.5.14/Nilearn/game1/value_spct/Setall/6fold/{}/zmap/value_zmap.nii.gz'\n",
    "# cmap_template = r'/mnt/data/DCM/result_backup/2023.5.14/Nilearn/game1/hexModdistance_spct/Setall/6fold/' \\\n",
    "#                 r'{}/zmap/hexModdistance_zmap.nii.gz'\n",
    "cmap_template = r'/mnt/data/DCM/result_backup/2023.5.14/Nilearn/game2/hexagon_spct/Setall/6fold/{}/zmap/hexagon_zmap.nii.gz'\n",
    "\n",
    "# load roi\n",
    "# roi  = image.load_img(r'/mnt/workdir/DCM/Docs/Mask/VMPFC/VMPFC_MNI152NL_new.nii.gz')\n",
    "# roi1 = image.load_img(r'/mnt/workdir/DCM/Docs/Mask/hippocampus/rHC_MNI152NL.nii.gz')\n",
    "# roi2 = image.load_img(r'/mnt/workdir/DCM/Docs/Mask/hippocampus/lHC_MNI152NL.nii.gz')\n",
    "# roi = image.math_img('np.logical_or(img1,img2)', img1=roi1, img2=roi2)\n",
    "\n",
    "# roi  = image.load_img(r'/mnt/workdir/DCM/Docs/Mask/VMPFC/vmPFC_bin.nii.gz')\n",
    "#roi = image.load_img(r'/mnt/data/DCM/result_backup/2023.5.14/Nilearn/game1/hexagon_spct/lRSC_thr3.1_erosion.nii.gz')\n",
    "# roi1 = image.load_img(r'/mnt/data/DCM/tmp/aparc/mask/lh.isthmuscingulate.nii.gz')\n",
    "# roi2 = image.load_img(r'/mnt/data/DCM/tmp/aparc/mask/rh.isthmuscingulate.nii.gz')\n",
    "# \n",
    "# roi = image.math_img('np.logical_or(img1,img2)', img1=roi1, img2=roi2)\n",
    "# roi1 = image.load_img(r'/mnt/data/DCM/tmp/aparc/mask/lh.posteriorcingulate.nii.gz')\n",
    "# roi2 = image.load_img(r'/mnt/data/DCM/tmp/aparc/mask/rh.posteriorcingulate.nii.gz')\n",
    "# roi = image.math_img('np.logical_or(img1,img2)', img1=roi1, img2=roi2)\n",
    "#roi = image.load_img(r'/mnt/data/DCM/result_backup/2023.3.24/Nilearn_smodel/game1/hexagon_spct/EC_thr3.1.nii.gz')\n",
    "roi  = image.load_img(r'/mnt/workdir/DCM/Docs/Mask/EC/juelich_EC_MNI152NL_prob.nii.gz')\n",
    "roi = image.binarize_img(roi,5)\n",
    "# roi = image.load_img(r'/mnt/workdir/DCM/Docs/Mask/dmPFC/dmPFC_closed_dilated_resampled.nii.gz')\n",
    "# roi = image.load_img(r'/mnt/workdir/DCM/Docs/Mask/Park_Grid_ROI/mPFC_GP_roi.nii')\n",
    "\n",
    "# get activity in ROI\n",
    "subs_cmap_list = [cmap_template.format(sub_id) for sub_id in subjects_id]\n",
    "subs_mean_activity = np.mean(masking.apply_mask(subs_cmap_list, roi),axis=1)"
   ],
   "metadata": {
    "collapsed": false,
    "ExecuteTime": {
     "end_time": "2023-08-25T06:24:58.489305762Z",
     "start_time": "2023-08-25T06:24:37.270726747Z"
    }
   }
  },
  {
   "cell_type": "code",
   "execution_count": 23,
   "outputs": [
    {
     "name": "stdout",
     "output_type": "stream",
     "text": [
      "r -0.0082 p 0.91\n"
     ]
    },
    {
     "data": {
      "text/plain": "<Figure size 500x500 with 1 Axes>",
      "image/png": "[encoded data removed]"
     },
     "metadata": {},
     "output_type": "display_data"
    }
   ],
   "source": [
    "# get covariate\n",
    "participants_data['beh_diff'] = participants_data['game2_test_acc'] - participants_data['game1_acc']\n",
    "\n",
    "covariate = 'Acc'\n",
    "# Setup variables based on covariate\n",
    "if covariate == 'Age':\n",
    "    color = '#e36570'\n",
    "    covary_variable = participants_data['Age'].to_list()\n",
    "    xlabel = 'Age'\n",
    "    ticks = [8, 12, 16, 20, 24]\n",
    "    xlim = [7,26]\n",
    "elif covariate == 'Acc':\n",
    "    color = '#F8A485'\n",
    "    covary_variable = participants_data['game1_acc'].to_list()\n",
    "    xlabel = 'Inference performance'\n",
    "    ticks = [0.4,0.6,0.8,1.0]\n",
    "else:\n",
    "    raise ValueError(\"Invalid covariate value\")\n",
    "\n",
    "# Standardize subs_mean_activity\n",
    "subs_mean_activity = (np.array(subs_mean_activity) - np.mean(subs_mean_activity)) / np.std(subs_mean_activity)\n",
    "\n",
    "# Initialize the plot\n",
    "fig, ax = plt.subplots(figsize=(5,5))\n",
    "sns.scatterplot(x=covary_variable, y=subs_mean_activity, color=color, s=20, alpha=1)\n",
    "sns.regplot(x=covary_variable, y=subs_mean_activity, color=color, order=1, scatter=False,line_kws={'linewidth': 4})\n",
    "\n",
    "# Setup labels and despine\n",
    "ax.set_xlabel(xlabel, fontsize=20)\n",
    "ax.set_ylabel('Z statistic', fontsize=20)\n",
    "sns.despine(top=True, right=True)\n",
    "ax.spines['left'].set_linewidth(1)\n",
    "ax.spines['bottom'].set_linewidth(1)\n",
    "\n",
    "# Set ticks\n",
    "if covariate == 'Age':\n",
    "    plt.xlim([7,26])\n",
    "#plt.ylim([-3, 3])\n",
    "plt.yticks(size=15)\n",
    "plt.xticks(ticks, size=15)\n",
    "\n",
    "# Compute pearson correlation\n",
    "r, p = pearsonr(covary_variable, subs_mean_activity)\n",
    "print('r', round(r,4), 'p', round(p,4))\n",
    "\n",
    "# Add title based on significance level\n",
    "fig.subplots_adjust(top=0.92)\n",
    "title = p2sign(p)\n",
    "fig.suptitle(title, size=20, fontweight='bold')\n",
    "\n",
    "# Set tick parameters\n",
    "ax.tick_params(axis='x', which='both', bottom=True, top=False, direction='out')\n",
    "ax.tick_params(axis='y', which='both', left=True, right=False, direction='out')\n",
    "\n",
    "# Uncomment the lines below if you want to save the figure\n",
    "fig.tight_layout()\n",
    "savepath = '/mnt/workdir/DCM/Result/paper/sf/sf5/Hexagon/HexModDistance_ROI-EC_{}.pdf'.format(covariate)\n",
    "plt.savefig(savepath, bbox_inches='tight', pad_inches=0, dpi=300, transparent=True)\n",
    "\n",
    "# Show the plot\n",
    "plt.show()"
   ],
   "metadata": {
    "collapsed": false,
    "ExecuteTime": {
     "end_time": "2023-08-25T06:33:50.532269285Z",
     "start_time": "2023-08-25T06:33:50.220743532Z"
    }
   }
  },
  {
   "cell_type": "markdown",
   "source": [
    "## Partial correlation"
   ],
   "metadata": {
    "collapsed": false
   }
  },
  {
   "cell_type": "code",
   "execution_count": 20,
   "outputs": [
    {
     "name": "stderr",
     "output_type": "stream",
     "text": [
      "/home/dell/Software/anaconda3/lib/python3.8/site-packages/nilearn/image/image.py:1065: UserWarning: Data array used to create a new image contains 64-bit ints. This is likely due to creating the array with numpy and passing `int` as the `dtype`. Many tools such as FSL and SPM cannot deal with int64 in Nifti images, so for compatibility the data has been converted to int32.\n",
      "  return new_img_like(niimg, result, niimg.affine)\n",
      "/tmp/ipykernel_2430751/1761217605.py:34: SettingWithCopyWarning: \n",
      "A value is trying to be set on a copy of a slice from a DataFrame.\n",
      "Try using .loc[row_indexer,col_indexer] = value instead\n",
      "\n",
      "See the caveats in the documentation: https://pandas.pydata.org/pandas-docs/stable/user_guide/indexing.html#returning-a-view-versus-a-copy\n",
      "  data['Activity'] = subs_mean_activity\n",
      "/tmp/ipykernel_2430751/1761217605.py:40: SettingWithCopyWarning: \n",
      "A value is trying to be set on a copy of a slice from a DataFrame.\n",
      "Try using .loc[row_indexer,col_indexer] = value instead\n",
      "\n",
      "See the caveats in the documentation: https://pandas.pydata.org/pandas-docs/stable/user_guide/indexing.html#returning-a-view-versus-a-copy\n",
      "  data['fd'] = sub_fd\n"
     ]
    }
   ],
   "source": [
    "# specify subjects\n",
    "participants_tsv = r'/mnt/workdir/DCM/BIDS/participants.tsv'\n",
    "task = 'game1'\n",
    "participants_data = pd.read_csv(participants_tsv, sep='\\t')\n",
    "data =  participants_data.query(f\"{task}_fmri>=0.5\")\n",
    "subjects_id = data['Participant_ID'].to_list()\n",
    "\n",
    "# set camp\n",
    "#cmap_template = r'/mnt/data/DCM/result_backup/2023.5.14/Nilearn/game1/cv_test_hexagon_spct/Setall/6fold/{}/zmap/alignPhi_zmap.nii.gz'\n",
    "#cmap_template = r'/mnt/data/DCM/result_backup/2023.5.14/Nilearn/game2/cv_hexagon_spct/Setall/6fold/{}/cmap/alignPhi_cmap.nii.gz'\n",
    "#cmap_template = r'/mnt/data/DCM/result_backup/2023.5.14/Nilearn/game1/hexagon_spct/Setall/6fold/{}/zmap/hexagon_zmap.nii.gz'\n",
    "# cmap_template = r'/mnt/data/DCM/result_backup/2023.5.14/Nilearn/game1/distance_spct/Setall/6fold/' \\\n",
    "#                 r'{}/zmap/distance_zmap.nii.gz'\n",
    "# \n",
    "# roi = image.load_img(r'/mnt/workdir/DCM/Docs/Mask/VMPFC/VMPFC_MNI152NL_new.nii.gz')\n",
    "cmap_template = r'/mnt/data/DCM/result_backup/2023.5.14/Nilearn/game1/grid_rsa_corr_trials/Setall/6fold/' \\\n",
    "           r'{}/rsa/rsa_zscore_img_coarse_6fold.nii.gz'\n",
    "# lhc = image.load_img(r'/mnt/workdir/DCM/Docs/Mask/hippocampus/lHC_MNI152NL.nii.gz')\n",
    "# rhc = image.load_img(r'/mnt/workdir/DCM/Docs/Mask/hippocampus/rHC_MNI152NL.nii.gz')\n",
    "# roi = image.math_img('np.logical_or(img1,img2)', img1=lhc, img2=rhc)\n",
    "# set roi\n",
    "roi = image.load_img(r'/mnt/workdir/DCM/Docs/Mask/EC/juelich_EC_MNI152NL_prob.nii.gz')\n",
    "roi = image.binarize_img(roi,5)\n",
    "#roi = image.load_img(r'/mnt/data/DCM/result_backup/2023.5.14/Nilearn/game1/hexagon_spct/EC_thr3.1.nii.gz')\n",
    "#roi = image.load_img(r'/mnt/workdir/DCM/Docs/Mask/VMPFC/vmPFC_bin.nii.gz')\n",
    "# lofc = image.load_img(r'/mnt/workdir/DCM/Docs/Mask/aparc/mask/lh.lateralorbitofrontal.nii.gz') #parsorbitalis\n",
    "# rofc = image.load_img(r'/mnt/workdir/DCM/Docs/Mask/aparc/mask/rh.lateralorbitofrontal.nii.gz')\n",
    "# roi = image.math_img('np.logical_or(img1,img2)', img1=lofc, img2=rofc)\n",
    "#roi = image.load_img(r'/mnt/workdir/DCM/Docs/Mask/PCC/PCCk3_MNI152Nl_bin.nii.gz')\n",
    "\n",
    "# extract mean activity\n",
    "subs_cmap_list = [cmap_template.format(sub_id) for sub_id in subjects_id]\n",
    "subs_mean_activity = np.mean(masking.apply_mask(subs_cmap_list, roi),axis=1)\n",
    "data['Activity'] = subs_mean_activity\n",
    "\n",
    "subs_hm = pd.read_csv(r'/mnt/workdir/DCM/BIDS/derivatives/head_motion/preprocessed_data_rms.csv')\n",
    "subs_task = subs_hm[subs_hm['task']==task]\n",
    "subs_task_fd_avg = subs_task.groupby(\"sub_id\")['fd_mean'].mean()\n",
    "sub_fd = [subs_task_fd_avg[sub_id] for sub_id in subjects_id]\n",
    "data['fd'] = sub_fd"
   ],
   "metadata": {
    "collapsed": false,
    "ExecuteTime": {
     "end_time": "2023-08-30T03:42:41.953787977Z",
     "start_time": "2023-08-30T03:42:16.008690792Z"
    }
   }
  },
  {
   "cell_type": "code",
   "execution_count": 23,
   "outputs": [
    {
     "name": "stdout",
     "output_type": "stream",
     "text": [
      "                            OLS Regression Results                            \n",
      "==============================================================================\n",
      "Dep. Variable:               Activity   R-squared:                       0.080\n",
      "Model:                            OLS   Adj. R-squared:                  0.071\n",
      "Method:                 Least Squares   F-statistic:                     8.671\n",
      "Date:                Wed, 30 Aug 2023   Prob (F-statistic):           0.000245\n",
      "Time:                        11:43:23   Log-Likelihood:                -291.52\n",
      "No. Observations:                 203   AIC:                             589.0\n",
      "Df Residuals:                     200   BIC:                             599.0\n",
      "Df Model:                           2                                         \n",
      "Covariance Type:            nonrobust                                         \n",
      "==============================================================================\n",
      "                 coef    std err          t      P>|t|      [0.025      0.975]\n",
      "------------------------------------------------------------------------------\n",
      "const          0.9977      0.401      2.491      0.014       0.208       1.788\n",
      "Age           -0.0009      0.016     -0.057      0.954      -0.033       0.032\n",
      "fd           -14.8198      4.294     -3.451      0.001     -23.288      -6.352\n",
      "==============================================================================\n",
      "Omnibus:                        7.195   Durbin-Watson:                   2.078\n",
      "Prob(Omnibus):                  0.027   Jarque-Bera (JB):                5.370\n",
      "Skew:                           0.281   Prob(JB):                       0.0682\n",
      "Kurtosis:                       2.434   Cond. No.                         990.\n",
      "==============================================================================\n",
      "\n",
      "Notes:\n",
      "[1] Standard Errors assume that the covariance matrix of the errors is correctly specified.\n"
     ]
    },
    {
     "name": "stderr",
     "output_type": "stream",
     "text": [
      "/tmp/ipykernel_2430751/3063028599.py:2: SettingWithCopyWarning: \n",
      "A value is trying to be set on a copy of a slice from a DataFrame.\n",
      "Try using .loc[row_indexer,col_indexer] = value instead\n",
      "\n",
      "See the caveats in the documentation: https://pandas.pydata.org/pandas-docs/stable/user_guide/indexing.html#returning-a-view-versus-a-copy\n",
      "  data['beh_diff'] = data['game2_test_acc'] - data['game1_acc']\n",
      "/tmp/ipykernel_2430751/3063028599.py:3: SettingWithCopyWarning: \n",
      "A value is trying to be set on a copy of a slice from a DataFrame.\n",
      "Try using .loc[row_indexer,col_indexer] = value instead\n",
      "\n",
      "See the caveats in the documentation: https://pandas.pydata.org/pandas-docs/stable/user_guide/indexing.html#returning-a-view-versus-a-copy\n",
      "  data['Age_demean'] = (data['Age'] - data['Age'].mean())\n"
     ]
    }
   ],
   "source": [
    "#\n",
    "data['beh_diff'] = data['game2_test_acc'] - data['game1_acc']\n",
    "data['Age_demean'] = (data['Age'] - data['Age'].mean())\n",
    "X = data[['Age','fd']]\n",
    "Y = data['Activity']\n",
    "\n",
    "X = sm.add_constant(X)\n",
    "model = sm.OLS(Y, X).fit()\n",
    "predictions = model.predict(X)\n",
    "model_summary = model.summary()\n",
    "print(model_summary)\n",
    "# \n",
    "# # Save the summary to a text file\n",
    "# #with open('/mnt/workdir/DCM/Result/paper/figure4/game2-hexagon_consistency_glm_model_summary.txt', 'w') as f:\n",
    "# #    f.write(model_summary.as_text())\n",
    "# \n",
    "# # Plot the partial correlation plot with age held constant\n",
    "fig = sm.graphics.plot_partregress(\"game2_test_acc\", \"Activity\", exog_others=['Age','game1_acc'], data=data,obs_labels=False)\n",
    "# \n",
    "# fig.set_size_inches(5,5)\n",
    "# sns.set_theme(style=\"white\")\n",
    "# fig.tight_layout()\n",
    "# \n",
    "# # Get the Axes object\n",
    "# ax = fig.get_axes()[0]\n",
    "# # Hide the right and top spines\n",
    "# ax.spines['right'].set_visible(False)\n",
    "# ax.spines['top'].set_visible(False)\n",
    "# # Add tick lines to the bottom and left spines\n",
    "# ax.tick_params(axis='x', which='both', bottom=True, top=False, direction='out')\n",
    "# ax.tick_params(axis='y', which='both', left=True, right=False, direction='out')\n",
    "# \n",
    "# # Set custom ticks for the x-axis and y-axis\n",
    "# # plt.xticks([-2, -1, 0, 1, 2])\n",
    "# # plt.yticks([-0.2, 0, 0.2])\n",
    "# \n",
    "# # Change color of scatter points and line to 'salmon'\n",
    "# for line in ax.lines:\n",
    "#     line.set_color('#e36570')\n",
    "#     line.set_linewidth(5)\n",
    "# for path in ax.collections:\n",
    "#     path.set_edgecolor('#e36570')           \n",
    "# \n",
    "# ax.set_xlabel(\"Activity\")\n",
    "# ax.set_ylabel(\"beh_diff\")\n",
    "# \n",
    "# # Save the figure before calling fig.show()\n",
    "# #fig.savefig('/mnt/workdir/DCM/Result/paper/figure4/game2-hexagon_consistency_partial_correlation_plot.pdf', dpi=300, bbox_inches='tight',pad_inches=0,transparent=True)\n",
    "# fig.show()"
   ],
   "metadata": {
    "collapsed": false,
    "ExecuteTime": {
     "end_time": "2023-08-30T03:43:23.980718401Z",
     "start_time": "2023-08-30T03:43:23.903769973Z"
    }
   }
  },
  {
   "cell_type": "code",
   "execution_count": 197,
   "outputs": [
    {
     "data": {
      "text/plain": "<Figure size 432x288 with 1 Axes>",
      "image/png": "[encoded data removed]"
     },
     "metadata": {},
     "output_type": "display_data"
    },
    {
     "data": {
      "text/plain": "(0.14996218627753405, 0.03737960416515819)"
     },
     "execution_count": 197,
     "metadata": {},
     "output_type": "execute_result"
    }
   ],
   "source": [
    "# Fit regression model (using the natural log of one of the regressors)\n",
    "results = smf.ols('Inference_acc ~ Age', data=data).fit()\n",
    "results2 = smf.ols('Consistency_effect ~ Age', data=data).fit()\n",
    "# Create a new DataFrame with the residuals\n",
    "resid_data = pd.DataFrame({\n",
    "    'consistency_effect': data['Consistency_effect'],\n",
    "    'age_resid': results.resid_pearson,\n",
    "    'inference_accuracy_resid': results.resid\n",
    "})\n",
    "\n",
    "# Plot the residuals against one another\n",
    "sns.regplot(x='consistency_effect', y='inference_accuracy_resid', data=resid_data)\n",
    "plt.xlabel('Consistency Effect')\n",
    "plt.ylabel('Game2_test_acc')\n",
    "plt.show()\n",
    "\n",
    "pearsonr(resid_data['consistency_effect'], resid_data['inference_accuracy_resid'])"
   ],
   "metadata": {
    "collapsed": false,
    "ExecuteTime": {
     "end_time": "2023-06-06T13:22:58.086288061Z",
     "start_time": "2023-06-06T13:22:57.772231326Z"
    }
   }
  },
  {
   "cell_type": "code",
   "execution_count": 212,
   "outputs": [
    {
     "data": {
      "text/plain": "           n         r        CI95%    p-val\npearson  193  0.144233  [0.03, 1.0]  0.02297",
      "text/html": "<div>\n<style scoped>\n    .dataframe tbody tr th:only-of-type {\n        vertical-align: middle;\n    }\n\n    .dataframe tbody tr th {\n        vertical-align: top;\n    }\n\n    .dataframe thead th {\n        text-align: right;\n    }\n</style>\n<table border=\"1\" class=\"dataframe\">\n  <thead>\n    <tr style=\"text-align: right;\">\n      <th></th>\n      <th>n</th>\n      <th>r</th>\n      <th>CI95%</th>\n      <th>p-val</th>\n    </tr>\n  </thead>\n  <tbody>\n    <tr>\n      <th>pearson</th>\n      <td>193</td>\n      <td>0.144233</td>\n      <td>[0.03, 1.0]</td>\n      <td>0.02297</td>\n    </tr>\n  </tbody>\n</table>\n</div>"
     },
     "execution_count": 212,
     "metadata": {},
     "output_type": "execute_result"
    }
   ],
   "source": [
    "import pingouin as pg\n",
    "pg.partial_corr(data,'Activity', 'beh_diff', covar=['Age'], method='pearson', alternative='greater')"
   ],
   "metadata": {
    "collapsed": false,
    "ExecuteTime": {
     "end_time": "2023-08-06T05:12:53.981193653Z",
     "start_time": "2023-08-06T05:12:53.902086607Z"
    }
   }
  },
  {
   "cell_type": "markdown",
   "source": [
    "## Plot brain activity with separate age stage"
   ],
   "metadata": {
    "collapsed": false
   }
  },
  {
   "cell_type": "code",
   "execution_count": null,
   "outputs": [],
   "source": [
    "# specify subjects\n",
    "participants_tsv = r'/mnt/workdir/DCM/BIDS/participants.tsv'\n",
    "participants_data = pd.read_csv(participants_tsv, sep='\\t')\n",
    "participants_data =  participants_data.query(\"game1_fmri>=0.5\")\n",
    "subjects_id = participants_data['Participant_ID'].to_list()\n",
    "\n",
    "# set camp\n",
    "cmap_template = r'/mnt/data/DCM/result_backup/2023.5.14/Nilearn/game1/grid_rsa_corr_trials/Setall/6fold/{}/rsa/rsa_ztransf_img_coarse_6fold.nii.gz'\n",
    "\n",
    "\n",
    "# set roi\n",
    "#roi  = image.load_img(r'/mnt/workdir/DCM/Docs/Mask/VMPFC/VMPFC_merge_MNI152NL.nii.gz')\n",
    "# roi1 = image.load_img(r'/mnt/workdir/DCM/Docs/Mask/hippocampus/lHC_MNI152NL.nii.gz')\n",
    "# roi2 = image.load_img(r'/mnt/workdir/DCM/Docs/Mask/hippocampus/rHC_MNI152NL.nii.gz')\n",
    "# roi = image.math_img('np.logical_or(img1,img2)', img1=roi1, img2=roi2)\n",
    "# roi1 = image.load_img(r'/mnt/data/DCM/tmp/aparc/mask/lh.parsorbitalis.nii.gz')\n",
    "# roi2 = image.load_img(r'/mnt/data/DCM/tmp/aparc/mask/rh.parsorbitalis.nii.gz')\n",
    "# roi = image.math_img('np.logical_or(img1,img2)', img1=roi1, img2=roi2)\n",
    "roi  = image.load_img(r'/mnt/workdir/DCM/Docs/Mask/EC/juelich_EC_MNI152NL_prob.nii.gz')\n",
    "roi = image.binarize_img(roi,5)\n",
    "# roi = image.load_img(r'/mnt/workdir/DCM/BIDS/derivatives/Nilearn/game1/hexagon_spct/EC_thr3.1.nii.gz')\n",
    "\n",
    "# get activity in ROI\n",
    "subs_cmap_list = [cmap_template.format(sub_id) for sub_id in subjects_id]\n",
    "subs_mean_activity = np.mean(masking.apply_mask(subs_cmap_list, roi),axis=1)"
   ],
   "metadata": {
    "collapsed": false
   }
  },
  {
   "cell_type": "code",
   "execution_count": 37,
   "outputs": [
    {
     "name": "stdout",
     "output_type": "stream",
     "text": [
      "The group difference bettwen children and adolescents t = -1.025, p = 0.307\n",
      "The group difference bettwen adolescents and adults t = -1.453, p = 0.149\n",
      "The group difference bettwen children and adults t = -2.772, p = 0.006\n"
     ]
    },
    {
     "data": {
      "text/plain": "Text(1, 0.6012360958294767, '**')"
     },
     "execution_count": 37,
     "metadata": {},
     "output_type": "execute_result"
    },
    {
     "data": {
      "text/plain": "<Figure size 360x360 with 1 Axes>",
      "image/png": "[encoded data removed]"
     },
     "metadata": {},
     "output_type": "display_data"
    }
   ],
   "source": [
    "# zscore\n",
    "subs_mean_activity = (np.array(subs_mean_activity) - np.mean(subs_mean_activity)) / np.std(subs_mean_activity)\n",
    "participants_data['ROI_activity'] = subs_mean_activity\n",
    "\n",
    "# Add age group categories\n",
    "age_bins = [7, 12, 17, 25]\n",
    "age_labels = ['children', 'adolescents', 'adults']\n",
    "participants_data['Age_group'] = pd.cut(participants_data['Age'], bins=age_bins, labels=age_labels)\n",
    "\n",
    "# Plotting\n",
    "g = sns.catplot(x='Age_group', y='ROI_activity', data=participants_data, kind='point', errorbar=\"se\",color='#7abac6')\n",
    "g.set_axis_labels(\"Age Group\", \"ROI_activity\")\n",
    "g.fig.set_size_inches(5, 5)\n",
    "\n",
    "# get the acivities of each age group\n",
    "children_data = participants_data.query(\"Age_group=='children'\")\n",
    "adolescents_data = participants_data.query(\"Age_group=='adolescents'\")\n",
    "adult_data = participants_data.query(\"Age_group=='adults'\")\n",
    "\n",
    "# compare activity size between each pair of the three age groups using t-tests\n",
    "height = participants_data['ROI_activity'].mean() + 0.5*participants_data['ROI_activity'].std()\n",
    "\n",
    "# compare children and adolescents\n",
    "t,p = ttest_ind(children_data['ROI_activity'], adolescents_data['ROI_activity'])\n",
    "print('The group difference bettwen children and adolescents t = {:.3f}, p = {:.3f}'.format(t, p))\n",
    "g.ax.plot([0, 0.9], [height, height], 'k-', lw=1)\n",
    "g.ax.text(0.5, height, p2sign(p), ha='center', va='bottom', color='k', fontsize=20)\n",
    "\n",
    "# compare children and adults\n",
    "t,p =  ttest_ind(adolescents_data['ROI_activity'], adult_data['ROI_activity'])\n",
    "print('The group difference bettwen adolescents and adults t = {:.3f}, p = {:.3f}'.format(t, p))\n",
    "g.ax.plot([1.1, 2], [height, height], 'k-', lw=1)\n",
    "g.ax.text(1.5, height, p2sign(p), ha='center', va='bottom', color='k', fontsize=20)\n",
    "\n",
    "# compare adolescents and adults\n",
    "t,p = ttest_ind(children_data['ROI_activity'], adult_data['ROI_activity'])\n",
    "print('The group difference bettwen children and adults t = {:.3f}, p = {:.3f}'.format(t, p))\n",
    "g.ax.plot([0, 2], [height+0.1, height+0.1], 'k-', lw=1)\n",
    "g.ax.text(1, height+0.1, p2sign(p), ha='center', va='bottom', color='k', fontsize=20)"
   ],
   "metadata": {
    "collapsed": false,
    "ExecuteTime": {
     "end_time": "2023-06-09T08:57:04.608948032Z",
     "start_time": "2023-06-09T08:57:04.365224585Z"
    }
   }
  },
  {
   "cell_type": "markdown",
   "source": [
    "## Test whether the difference between the correlation coefficients is significant"
   ],
   "metadata": {
    "collapsed": false
   }
  },
  {
   "cell_type": "code",
   "execution_count": null,
   "outputs": [],
   "source": [
    "import numpy as np\n",
    "from scipy.stats import t, norm\n",
    "from math import atanh, pow\n",
    "from numpy import tanh\n",
    "\n",
    "# set\n",
    "a1 = children_data['ROI_activity'].to_numpy()\n",
    "b1 = children_data['game1_acc'].to_numpy()\n",
    "\n",
    "a2 = adolescents_data['ROI_activity'].to_numpy()\n",
    "b2 = adolescents_data['game1_acc'].to_numpy()\n",
    "\n",
    "# get the correlation coefficients\n",
    "r1,p1 = pearsonr(a1,b1)\n",
    "r2,p2 = pearsonr(a2,b2)\n",
    "\n",
    "# Sample sizes for each correlation coefficient\n",
    "n1 = len(a1)\n",
    "n2 = len(a2)\n",
    "print(r1,p1)\n",
    "print(r2,p2)\n",
    "\n",
    "def rz_ci(r, n, conf_level = 0.95):\n",
    "    zr_se = pow(1/(n - 3), .5)\n",
    "    moe = norm.ppf(1 - (1 - conf_level)/float(2)) * zr_se\n",
    "    zu = atanh(r) + moe\n",
    "    zl = atanh(r) - moe\n",
    "    return tanh((zl, zu))\n",
    "\n",
    "def independent_corr(xy, ab, n, n2 = None, twotailed=True, conf_level=0.95, method='fisher'):\n",
    "    \"\"\"\n",
    "    Calculates the statistic significance between two independent correlation coefficients\n",
    "    @param xy: correlation coefficient between x and y\n",
    "    @param xz: correlation coefficient between a and b\n",
    "    @param n: number of elements in xy\n",
    "    @param n2: number of elements in ab (if distinct from n)\n",
    "    @param twotailed: whether to calculate a one or two tailed test, only works for 'fisher' method\n",
    "    @param conf_level: confidence level, only works for 'zou' method\n",
    "    @param method: defines the method uses, 'fisher' or 'zou'\n",
    "    @return: z and p-val\n",
    "    \"\"\"\n",
    "\n",
    "    if method == 'fisher':\n",
    "        xy_z = 0.5 * np.log((1 + xy)/(1 - xy))\n",
    "        ab_z = 0.5 * np.log((1 + ab)/(1 - ab))\n",
    "        if n2 is None:\n",
    "            n2 = n\n",
    "\n",
    "        se_diff_r = np.sqrt(1/(n - 3) + 1/(n2 - 3))\n",
    "        diff = xy_z - ab_z\n",
    "        z = abs(diff / se_diff_r)\n",
    "        p = (1 - norm.cdf(z))\n",
    "        if twotailed:\n",
    "            p *= 2\n",
    "\n",
    "        return z, p\n",
    "    elif method == 'zou':\n",
    "        L1 = rz_ci(xy, n, conf_level=conf_level)[0]\n",
    "        U1 = rz_ci(xy, n, conf_level=conf_level)[1]\n",
    "        L2 = rz_ci(ab, n2, conf_level=conf_level)[0]\n",
    "        U2 = rz_ci(ab, n2, conf_level=conf_level)[1]\n",
    "        lower = xy - ab - pow((pow((xy - L1), 2) + pow((U2 - ab), 2)), 0.5)\n",
    "        upper = xy - ab + pow((pow((U1 - xy), 2) + pow((ab - L2), 2)), 0.5)\n",
    "        return lower, upper\n",
    "    else:\n",
    "        raise Exception('Wrong method!')\n",
    "\n",
    "print(independent_corr(r1 , r2, n1, n2, method='fisher',twotailed=False))"
   ],
   "metadata": {
    "collapsed": false
   }
  },
  {
   "cell_type": "markdown",
   "source": [
    "# Mediation analysis"
   ],
   "metadata": {
    "collapsed": false
   }
  },
  {
   "cell_type": "markdown",
   "source": [
    "### Load data"
   ],
   "metadata": {
    "collapsed": false
   }
  },
  {
   "cell_type": "code",
   "execution_count": 13,
   "outputs": [
    {
     "name": "stderr",
     "output_type": "stream",
     "text": [
      "/tmp/ipykernel_2430751/173040377.py:7: SettingWithCopyWarning: \n",
      "A value is trying to be set on a copy of a slice from a DataFrame.\n",
      "Try using .loc[row_indexer,col_indexer] = value instead\n",
      "\n",
      "See the caveats in the documentation: https://pandas.pydata.org/pandas-docs/stable/user_guide/indexing.html#returning-a-view-versus-a-copy\n",
      "  data['training_acc'] = (data['train_ap'] + data['train_dp'])/2\n",
      "/tmp/ipykernel_2430751/173040377.py:10: SettingWithCopyWarning: \n",
      "A value is trying to be set on a copy of a slice from a DataFrame.\n",
      "Try using .loc[row_indexer,col_indexer] = value instead\n",
      "\n",
      "See the caveats in the documentation: https://pandas.pydata.org/pandas-docs/stable/user_guide/indexing.html#returning-a-view-versus-a-copy\n",
      "  data['mean_accuracy_by_age'] = data['Age'].map(mean_accuracy_by_age)\n",
      "/home/dell/Software/anaconda3/lib/python3.8/site-packages/nilearn/image/image.py:1065: UserWarning: Data array used to create a new image contains 64-bit ints. This is likely due to creating the array with numpy and passing `int` as the `dtype`. Many tools such as FSL and SPM cannot deal with int64 in Nifti images, so for compatibility the data has been converted to int32.\n",
      "  return new_img_like(niimg, result, niimg.affine)\n",
      "/tmp/ipykernel_2430751/173040377.py:41: SettingWithCopyWarning: \n",
      "A value is trying to be set on a copy of a slice from a DataFrame.\n",
      "Try using .loc[row_indexer,col_indexer] = value instead\n",
      "\n",
      "See the caveats in the documentation: https://pandas.pydata.org/pandas-docs/stable/user_guide/indexing.html#returning-a-view-versus-a-copy\n",
      "  data['hexagon_EC'] =  np.mean(masking.apply_mask(sub_rsa_zmap, ec), axis=1)\n"
     ]
    }
   ],
   "source": [
    "# check whether the manhattan distance can predict/meidate value effect and inference accuracy\n",
    "\n",
    "# specify subjects\n",
    "participants_tsv = r'/mnt/workdir/DCM/BIDS/participants.tsv'\n",
    "participants_data = pd.read_csv(participants_tsv, sep='\\t')\n",
    "data = participants_data.query('game1_fmri>=0.5')  # look out\n",
    "data['training_acc'] = (data['train_ap'] + data['train_dp'])/2\n",
    "\n",
    "mean_accuracy_by_age = data.groupby('Age')['training_acc'].mean()\n",
    "data['mean_accuracy_by_age'] = data['Age'].map(mean_accuracy_by_age)\n",
    "\n",
    "subjects = data['Participant_ID'].to_list()\n",
    "\n",
    "# set cmp template\n",
    "rsa_zmap = r'/mnt/data/DCM/result_backup/2023.5.14/Nilearn/game1/grid_rsa_corr_trials/Setall/6fold/' \\\n",
    "           r'{}/rsa/rsa_zscore_img_coarse_6fold.nii.gz'\n",
    "#distance_zmap = r'/mnt/data/DCM/result_backup/2023.5.14/Nilearn/game2/distance_spct/Setall/6fold/{}/zmap/distance_zmap.nii.gz'\n",
    "#value_zmap = r'/mnt/data/DCM/result_backup/2023.5.14/Nilearn/game1/value_spct/Setall/6fold/{}/zmap/value_zmap.nii.gz'\n",
    "#hexModdistance_zmap = r'/mnt/data/DCM/result_backup/2023.5.14/Nilearn/game2/distance_spct/Setall/6fold/{}/zmap/distance_zmap.nii.gz'\n",
    "#alignment_zmap = r'/mnt/data/DCM/result_backup/2023.5.14/Nilearn/game2/cv_hexagon_spct/Setall/6fold/{}/cmap/alignPhi_cmap.nii.gz'\n",
    "#\n",
    "sub_rsa_zmap = [rsa_zmap.format(sub) for sub in subjects]\n",
    "#sub_distance_zmap = [distance_zmap.format(sub) for sub in subjects]\n",
    "#sub_value_zmap = [value_zmap.format(sub) for sub in subjects]\n",
    "#sub_hexModdistance_zmap = [hexModdistance_zmap.format(sub) for sub in subjects]\n",
    "#sub_alignment_zmap = [alignment_zmap.format(sub) for sub in subjects]\n",
    "\n",
    "\n",
    "ec = image.load_img(r'/mnt/workdir/DCM/Docs/Mask/EC/juelich_EC_MNI152NL_prob.nii.gz')\n",
    "ec = image.binarize_img(ec,5)\n",
    "\n",
    "mpfc = image.load_img(r'/mnt/workdir/DCM/Docs/Mask/VMPFC/VMPFC_MNI152NL_new.nii.gz')\n",
    "# lofc = image.load_img(r'/mnt/workdir/DCM/Docs/Mask/aparc/mask/lh.lateralorbitofrontal.nii.gz') #parsorbitalis\n",
    "# rofc = image.load_img(r'/mnt/workdir/DCM/Docs/Mask/aparc/mask/rh.lateralorbitofrontal.nii.gz')\n",
    "# ofc = image.math_img('np.logical_or(img1,img2)', img1=lofc, img2=rofc)\n",
    "# lhc = image.load_img(r'/mnt/workdir/DCM/Docs/Mask/hippocampus/lHC_MNI152NL.nii.gz')\n",
    "# rhc = image.load_img(r'/mnt/workdir/DCM/Docs/Mask/hippocampus/rHC_MNI152NL.nii.gz')\n",
    "# hc = image.math_img('np.logical_or(img1,img2)', img1=lhc, img2=rhc)\n",
    "\n",
    "# extract mean activity of ROI for each subjects\n",
    "data['hexagon_EC'] =  np.mean(masking.apply_mask(sub_rsa_zmap, ec), axis=1)\n",
    "# data['alignment_EC'] =  np.mean(masking.apply_mask(sub_alignment_zmap, ec), axis=1)\n",
    "# data['distance_mpfc'] = np.mean(masking.apply_mask(sub_distance_zmap, mpfc), axis=1)\n",
    "#data['value_mpfc'] = np.mean(masking.apply_mask(sub_value_zmap,mpfc), axis=1)\n",
    "# data['hexModdistance_mPFC'] =  np.mean(masking.apply_mask(sub_hexModdistance_zmap, mpfc), axis=1)\n",
    "# data['hexModdistance_lofc'] =  np.mean(masking.apply_mask(sub_hexModdistance_zmap, ofc), axis=1)\n",
    "# data['hexModdistance_hc'] =  np.mean(masking.apply_mask(sub_hexModdistance_zmap, hc), axis=1)\n",
    "#data['distance_ofc'] =  np.mean(masking.apply_mask(sub_distance_zmap ,ofc), axis=1)\n",
    "#data['distance_hc'] =  np.mean(masking.apply_mask(sub_distance_zmap ,hc), axis=1)\n",
    "#data['hexagon_mpfc'] = np.mean(masking.apply_mask(sub_hexagon_zmap, mpfc), axis=1)"
   ],
   "metadata": {
    "collapsed": false,
    "ExecuteTime": {
     "end_time": "2023-08-30T03:37:33.418592209Z",
     "start_time": "2023-08-30T03:37:03.036334383Z"
    }
   }
  },
  {
   "cell_type": "markdown",
   "source": [
    "### Multiple regression"
   ],
   "metadata": {
    "collapsed": false
   }
  },
  {
   "cell_type": "code",
   "execution_count": 31,
   "outputs": [
    {
     "name": "stdout",
     "output_type": "stream",
     "text": [
      "                            OLS Regression Results                            \n",
      "==============================================================================\n",
      "Dep. Variable:          distance_mpfc   R-squared:                       0.240\n",
      "Model:                            OLS   Adj. R-squared:                  0.232\n",
      "Method:                 Least Squares   F-statistic:                     29.94\n",
      "Date:                Mon, 07 Aug 2023   Prob (F-statistic):           4.97e-12\n",
      "Time:                        15:42:33   Log-Likelihood:                -221.84\n",
      "No. Observations:                 193   AIC:                             449.7\n",
      "Df Residuals:                     190   BIC:                             459.5\n",
      "Df Model:                           2                                         \n",
      "Covariance Type:            nonrobust                                         \n",
      "==============================================================================\n",
      "                 coef    std err          t      P>|t|      [0.025      0.975]\n",
      "------------------------------------------------------------------------------\n",
      "const         -1.9490      0.351     -5.554      0.000      -2.641      -1.257\n",
      "game1_acc      2.4073      0.550      4.378      0.000       1.323       3.492\n",
      "Age            0.0367      0.012      2.973      0.003       0.012       0.061\n",
      "==============================================================================\n",
      "Omnibus:                        0.154   Durbin-Watson:                   2.179\n",
      "Prob(Omnibus):                  0.926   Jarque-Bera (JB):                0.119\n",
      "Skew:                          -0.060   Prob(JB):                        0.942\n",
      "Kurtosis:                       2.978   Cond. No.                         191.\n",
      "==============================================================================\n",
      "\n",
      "Notes:\n",
      "[1] Standard Errors assume that the covariance matrix of the errors is correctly specified.\n"
     ]
    }
   ],
   "source": [
    "# using GLM to predict inference accuracy from brain activity and age\n",
    "X = data[['game2_test_acc','Age']]\n",
    "Y = data['distance_mpfc']\n",
    "\n",
    "X = sm.add_constant(X)\n",
    "model = sm.OLS(Y, X).fit()\n",
    "predictions = model.predict(X)\n",
    "model_summary = model.summary()\n",
    "print(model_summary)\n",
    "\n",
    "# 将摘要保存到文件\n",
    "# summary_file = '/mnt/workdir/DCM/Result/paper/figure3/Value/Value_mPFC-meidaiton-glm1_summary.txt'\n",
    "# with open(summary_file, 'w') as f:\n",
    "#     f.write(model_summary.as_text())\n",
    "#     f.close()"
   ],
   "metadata": {
    "collapsed": false,
    "ExecuteTime": {
     "end_time": "2023-08-07T07:42:33.054977144Z",
     "start_time": "2023-08-07T07:42:33.012479151Z"
    }
   }
  },
  {
   "cell_type": "markdown",
   "source": [
    "### Mediation analysis(A)"
   ],
   "metadata": {
    "collapsed": false
   }
  },
  {
   "cell_type": "code",
   "execution_count": 12,
   "outputs": [
    {
     "name": "stderr",
     "output_type": "stream",
     "text": [
      "/tmp/ipykernel_2430751/2060673372.py:12: SettingWithCopyWarning: \n",
      "A value is trying to be set on a copy of a slice from a DataFrame.\n",
      "Try using .loc[row_indexer,col_indexer] = value instead\n",
      "\n",
      "See the caveats in the documentation: https://pandas.pydata.org/pandas-docs/stable/user_guide/indexing.html#returning-a-view-versus-a-copy\n",
      "  data[['Age','alignment_EC','distance_mpfc','game2_test_acc','game1_acc']] = scaler.fit_transform(data[['Age','alignment_EC','distance_mpfc','game2_test_acc','game1_acc']])\n"
     ]
    },
    {
     "name": "stdout",
     "output_type": "stream",
     "text": [
      "                     path   coef     se   pval  CI[2.5%]  CI[97.5%]  sig\n",
      "0       distance_mpfc ~ X  0.224  0.075  0.003     0.075      0.373  Yes\n",
      "1        alignment_EC ~ X -0.093  0.085  0.278    -0.262      0.076   No\n",
      "2       Y ~ distance_mpfc  0.096  0.040  0.018     0.017      0.175  Yes\n",
      "3        Y ~ alignment_EC  0.069  0.036  0.058    -0.002      0.140   No\n",
      "4                   Total  0.130  0.043  0.003     0.046      0.214  Yes\n",
      "5                  Direct  0.121  0.043  0.006     0.036      0.205  Yes\n",
      "6  Indirect distance_mpfc  0.016  0.010  0.036     0.002      0.042  Yes\n",
      "7   Indirect alignment_EC -0.007  0.007  0.278    -0.026      0.003   No\n"
     ]
    }
   ],
   "source": [
    "import pingouin as pg\n",
    "from sklearn.preprocessing import StandardScaler\n",
    "#data['beh_diff'] = data['game2_test_acc'] - data['game1_acc']\n",
    "iv = 'Age'\n",
    "m = ['distance_mpfc','alignment_EC']\n",
    "dv = 'game2_test_acc'\n",
    "\n",
    "# Instantiate the StandardScaler\n",
    "scaler = StandardScaler()\n",
    "\n",
    "# fit the scaler to the columns and transform\n",
    "data[['Age','alignment_EC','distance_mpfc','game2_test_acc','game1_acc']] = scaler.fit_transform(data[['Age','alignment_EC','distance_mpfc','game2_test_acc','game1_acc']])\n",
    "\n",
    "# Mediation analysis\n",
    "mediation_results,indirect_beta_sample = pg.mediation_analysis(data=data, x=iv, m=m, y=dv,covar=['game1_acc'],seed=42,n_boot=10000,return_dist=True)\n",
    "print(mediation_results.round(3))\n",
    "\n",
    "# # save results\n",
    "# mediation_results.to_csv(r'/mnt/workdir/DCM/Result/paper/sf/sf3/Distance_mPFC_mediation.csv', index=False)\n",
    "# np.save(r'/mnt/workdir/DCM/Result/paper/sf/sf3/Indirect_beta_sample_distance_mPFC.npy', indirect_beta_sample)"
   ],
   "metadata": {
    "collapsed": false,
    "ExecuteTime": {
     "end_time": "2023-08-30T02:18:04.905391333Z",
     "start_time": "2023-08-30T02:17:54.011169488Z"
    }
   }
  },
  {
   "cell_type": "code",
   "execution_count": 17,
   "outputs": [
    {
     "data": {
      "text/plain": "           n         r         CI95%         p-val\npearson  193  0.402479  [0.28, 0.51]  6.538640e-09",
      "text/html": "<div>\n<style scoped>\n    .dataframe tbody tr th:only-of-type {\n        vertical-align: middle;\n    }\n\n    .dataframe tbody tr th {\n        vertical-align: top;\n    }\n\n    .dataframe thead th {\n        text-align: right;\n    }\n</style>\n<table border=\"1\" class=\"dataframe\">\n  <thead>\n    <tr style=\"text-align: right;\">\n      <th></th>\n      <th>n</th>\n      <th>r</th>\n      <th>CI95%</th>\n      <th>p-val</th>\n    </tr>\n  </thead>\n  <tbody>\n    <tr>\n      <th>pearson</th>\n      <td>193</td>\n      <td>0.402479</td>\n      <td>[0.28, 0.51]</td>\n      <td>6.538640e-09</td>\n    </tr>\n  </tbody>\n</table>\n</div>"
     },
     "execution_count": 17,
     "metadata": {},
     "output_type": "execute_result"
    }
   ],
   "source": [
    "import pingouin as pg\n",
    "\n",
    "pg.partial_corr(data=data, x='distance_mpfc', y='Age', covar='game1_acc', method='pearson')"
   ],
   "metadata": {
    "collapsed": false,
    "ExecuteTime": {
     "end_time": "2023-08-08T11:34:15.430939995Z",
     "start_time": "2023-08-08T11:34:15.376184643Z"
    }
   }
  },
  {
   "cell_type": "markdown",
   "source": [
    "### Mediation analysis(B)"
   ],
   "metadata": {
    "collapsed": false
   }
  },
  {
   "cell_type": "code",
   "execution_count": 17,
   "outputs": [
    {
     "name": "stdout",
     "output_type": "stream",
     "text": [
      "Bootstrapped 95% confidence interval for the indirect effect: (0.00341708, 0.07773135)\n"
     ]
    }
   ],
   "source": [
    "def bootstrap_indirect_effect(data, iv, m, dv, n_bootstraps=5000, ci=0.95):\n",
    "    indirect_effects = []\n",
    "    for _ in range(n_bootstraps):\n",
    "        bootstrap_data = data.sample(frac=1, replace=True)\n",
    "\n",
    "        path_a = smf.ols(f\"{m} ~ {iv}\", data=bootstrap_data).fit()\n",
    "        path_b = smf.ols(f\"{dv} ~ {m} + {iv}\", data=bootstrap_data).fit()\n",
    "\n",
    "        indirect_effect = path_a.params[1] * path_b.params[1]\n",
    "        indirect_effects.append(indirect_effect)\n",
    "\n",
    "    lower = np.percentile(indirect_effects, (1 - ci) / 2 * 100)\n",
    "    upper = np.percentile(indirect_effects, (1 + ci) / 2 * 100)\n",
    "\n",
    "    return lower, upper,indirect_effects\n",
    "\n",
    "# Replace 'IV', 'M', and 'DV' with the actual variable names in your dataset\n",
    "iv = 'Age'\n",
    "m = 'hexagon'\n",
    "dv = 'game1_acc'\n",
    "\n",
    "# Path a: IV -> M\n",
    "path_a = smf.ols(f\"{m} ~ {iv}\", data=data).fit()\n",
    "\n",
    "# Path b: M -> DV, controlling for IV\n",
    "path_b = smf.ols(f\"{dv} ~ {m} + {iv}\", data=data).fit()\n",
    "lower, upper,indirect_effects = bootstrap_indirect_effect(data, iv, m, dv,5000)\n",
    "print(f\"Bootstrapped {int(0.95 * 100)}% confidence interval for the indirect effect: ({lower:.8f}, {upper:.8f})\")"
   ],
   "metadata": {
    "collapsed": false,
    "ExecuteTime": {
     "end_time": "2023-07-03T09:44:04.901835467Z",
     "start_time": "2023-07-03T09:43:28.008522681Z"
    }
   }
  },
  {
   "cell_type": "markdown",
   "source": [
    "### Plot bootstrap distribution of indirect effect"
   ],
   "metadata": {
    "collapsed": false
   }
  },
  {
   "cell_type": "code",
   "execution_count": 18,
   "outputs": [
    {
     "name": "stdout",
     "output_type": "stream",
     "text": [
      "mean: 0.03623399526694947\n",
      "standard error: 0.019392967203741732\n"
     ]
    },
    {
     "data": {
      "text/plain": "<Figure size 720x72 with 1 Axes>",
      "image/png": "[encoded data removed]"
     },
     "metadata": {
      "needs_background": "light"
     },
     "output_type": "display_data"
    }
   ],
   "source": [
    "# Calculate lower and upper bounds\n",
    "ci=0.95\n",
    "lower = np.percentile(indirect_effects, (1 - ci) / 2 * 100)\n",
    "upper = np.percentile(indirect_effects, (1 + ci) / 2 * 100)\n",
    "print('mean:',np.mean(indirect_effects))\n",
    "print('standard error:',np.std(indirect_effects))\n",
    "# Plot histogram\n",
    "fig, ax = plt.subplots(figsize=(10,1))\n",
    "n, bins, patches = ax.hist(indirect_effects, color='gray',bins=50)\n",
    "\n",
    "# Find the bin with the highest frequency and its corresponding height\n",
    "max_height = max(n)\n",
    "max_height_index = np.where(n == max_height)[0][0]\n",
    "max_height_bin = bins[max_height_index]\n",
    "\n",
    "# Add vertical line at zero with height equal to the maximum frequency\n",
    "ax.axvline(x=0, ymin=0, ymax=max_height, color='black', linestyle='--')\n",
    "\n",
    "# Color the histogram between the lower and upper bounds blue\n",
    "for i in range(len(patches)):\n",
    "    if lower <= bins[i] < upper:\n",
    "        patches[i].set_fc('lightsteelblue')\n",
    "\n",
    "# Remove top and right spines\n",
    "fig.suptitle(f\"Bootstrapped {int(ci * 100)}% confidence interval: ({lower:.6f}, {upper:.6f})\",size=14)\n",
    "ax.spines['top'].set_visible(False)\n",
    "ax.spines['right'].set_visible(False)\n",
    "# savepath = r'/mnt/workdir/DCM/Result/paper/figure3/Value_vmpfc-meidaiton-age2inference.pdf'\n",
    "# plt.savefig(savepath,bbox_inches='tight',pad_inches=0,dpi=300,transparent=True)"
   ],
   "metadata": {
    "collapsed": false,
    "ExecuteTime": {
     "end_time": "2023-07-03T09:44:05.175717894Z",
     "start_time": "2023-07-03T09:44:04.926874088Z"
    }
   }
  }
 ],
 "metadata": {
  "kernelspec": {
   "display_name": "Python 3",
   "language": "python",
   "name": "python3"
  },
  "language_info": {
   "codemirror_mode": {
    "name": "ipython",
    "version": 2
   },
   "file_extension": ".py",
   "mimetype": "text/x-python",
   "name": "python",
   "nbconvert_exporter": "python",
   "pygments_lexer": "ipython2",
   "version": "2.7.6"
  }
 },
 "nbformat": 4,
 "nbformat_minor": 0
}
