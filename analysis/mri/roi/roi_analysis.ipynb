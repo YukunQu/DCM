{
 "cells": [
  {
   "cell_type": "code",
   "execution_count": 2,
   "metadata": {
    "collapsed": true,
    "ExecuteTime": {
     "end_time": "2023-07-03T09:12:06.198222780Z",
     "start_time": "2023-07-03T09:12:05.830387941Z"
    }
   },
   "outputs": [],
   "source": [
    "import os\n",
    "import numpy as np\n",
    "import pandas as pd\n",
    "from nilearn import masking, image\n",
    "from scipy.stats import ttest_1samp, pearsonr,ttest_ind\n",
    "import statsmodels.api as sm\n",
    "import statsmodels.formula.api as smf\n",
    "import seaborn as sns\n",
    "import matplotlib\n",
    "\n",
    "import matplotlib.pyplot as plt\n",
    "from sklearn.preprocessing import StandardScaler\n",
    "\n",
    "\n",
    "sns.set_style('white')\n",
    "matplotlib.rcParams['pdf.fonttype'] = 42\n",
    "matplotlib.rcParams['ps.fonttype'] = 42\n",
    "\n",
    "\n",
    "def p2sign(p):\n",
    "    if  p<=0.001:\n",
    "        sign='***'\n",
    "    elif p<=0.01:\n",
    "        sign='**'\n",
    "    elif p<=0.05:\n",
    "        sign='*'\n",
    "    else:\n",
    "        sign='n.s.'\n",
    "    return sign"
   ]
  },
  {
   "cell_type": "markdown",
   "source": [
    "## Mean effect"
   ],
   "metadata": {
    "collapsed": false
   }
  },
  {
   "cell_type": "code",
   "execution_count": 35,
   "outputs": [
    {
     "name": "stderr",
     "output_type": "stream",
     "text": [
      "/home/dell/Software/anaconda3/lib/python3.8/site-packages/nilearn/image/image.py:1041: UserWarning: Data array used to create a new image contains 64-bit ints. This is likely due to creating the array with numpy and passing `int` as the `dtype`. Many tools such as FSL and SPM cannot deal with int64 in Nifti images, so for compatibility the data has been converted to int32.\n",
      "  return new_img_like(niimg, result, niimg.affine)\n"
     ]
    },
    {
     "name": "stdout",
     "output_type": "stream",
     "text": [
      "thr: 0\n",
      "t: 1.4066649759694285\n",
      "p: 0.16114329195546626\n"
     ]
    }
   ],
   "source": [
    "# specify subjects\n",
    "participants_tsv = r'/mnt/workdir/DCM/BIDS/participants.tsv'\n",
    "participants_data = pd.read_csv(participants_tsv, sep='\\t')\n",
    "data = participants_data.query('game2_fmri>=0.5')\n",
    "subjects = data['Participant_ID'].to_list()\n",
    "\n",
    "# set camp\n",
    "#cmap_template = r'/mnt/data/DCM/result_backup/2023.5.14/Nilearn/game2/hexagon_diff/Setall/6fold/{}/zmap/hexagon_zmap.nii.gz'\n",
    "cmap_template = r'/mnt/data/DCM/result_backup/2023.5.14/Nilearn/game2/hexagon_diff/Setall/6fold/{}/zmap/hexagon_zmap.nii.gz'\n",
    "sub_cmap_paths = [cmap_template.format(sub_id) for sub_id in subjects]\n",
    "\n",
    "# set roi\n",
    "# roi1 = image.load_img(r'/mnt/workdir/DCM/Docs/Mask/hippocampus/lHC_MNI152NL.nii.gz')\n",
    "# roi2 = image.load_img(r'/mnt/workdir/DCM/Docs/Mask/hippocampus/rHC_MNI152NL.nii.gz')\n",
    "# roi = image.math_img('np.logical_or(img1,img2)', img1=roi1, img2=roi2)\n",
    "#roi = image.load_img(r'/mnt/workdir/DCM/BIDS/derivatives/Nilearn/game1/hexagon_spct/EC_thr3.1.nii.gz')\n",
    "#roi  = image.load_img(r'/mnt/workdir/DCM/Docs/Mask/EC/juelich_EC_MNI152NL_prob.nii.gz')\n",
    "# roi = image.binarize_img(roi,5)\n",
    "#roi  = image.load_img(r'/mnt/workdir/DCM/Docs/Mask/VMPFC/VMPFC_merge_MNI152NL.nii.gz')\n",
    "roi1 = image.load_img(r'/mnt/workdir/DCM/Docs/Mask/aparc/mask/lh.isthmuscingulate.nii.gz')\n",
    "roi2 = image.load_img(r'/mnt/workdir/DCM/Docs/Mask/aparc/mask/rh.isthmuscingulate.nii.gz')\n",
    "roi = image.math_img('np.logical_or(img1,img2)', img1=roi1, img2=roi2)\n",
    "# roi = image.load_img(r'/mnt/workdir/DCM/Docs/Mask/PCC/PCCk3_MNI152Nl.nii.gz')\n",
    "#lh.lateralorbitofrontal.nii.gz\n",
    "# roi1 = image.load_img(r'/mnt/workdir/DCM/Docs/Mask/RSC/MNI152Nl-lRSC.nii.gz')\n",
    "# roi2 = image.load_img(r'/mnt/workdir/DCM/Docs/Mask/RSC/MNI152Nl-rRSC.nii.gz')\n",
    "# roi = image.math_img('np.logical_or(img1,img2)', img1=roi1, img2=roi2)\n",
    "# roi = image.load_img(r'/mnt/workdir/DCM/Docs/Mask/RSC/Rsp_bilat_Yeo.nii.gz')\n",
    "# roi = image.resample_to_img(roi,sub_cmap_paths[0],interpolation='nearest')\n",
    "# roi = image.load_img(r'/mnt/data/DCM/result_backup/2023.5.14/Nilearn/game1/hexagon_spct/lRSC_thr3.1_erosion.nii.gz')\n",
    "thr = 0\n",
    "roi_thr = image.binarize_img(roi, thr)\n",
    "\n",
    "# Compute mean activity\n",
    "subs_mean_activity = np.mean(masking.apply_mask(sub_cmap_paths, roi_thr), axis=1)\n",
    "\n",
    "# statistical tests\n",
    "t_statistic, p_value = ttest_1samp(subs_mean_activity, 0)\n",
    "print('thr: {}'.format(thr))\n",
    "print('t:', t_statistic)\n",
    "print('p:', p_value)"
   ],
   "metadata": {
    "collapsed": false,
    "ExecuteTime": {
     "end_time": "2023-06-28T13:24:24.058509803Z",
     "start_time": "2023-06-28T13:24:11.327291630Z"
    }
   }
  },
  {
   "cell_type": "code",
   "execution_count": 61,
   "outputs": [
    {
     "data": {
      "text/plain": "<Figure size 216x504 with 1 Axes>",
      "image/png": "[encoded data removed]"
     },
     "metadata": {},
     "output_type": "display_data"
    }
   ],
   "source": [
    "# plot\n",
    "fig,ax = plt.subplots(figsize=(3,7))\n",
    "xjitter = np.random.uniform(-0.05, 0.05,size=len(subs_mean_activity))\n",
    "# Add a point to represent the mean of subs_mean_activity\n",
    "mean_val = subs_mean_activity.mean()\n",
    "#plt.plot(0, mean_val*1.02, marker='d', markersize=7,color='royalblue',zorder=10)\n",
    "sns.barplot(data=subs_mean_activity,    errorbar=\"se\", capsize=.15, errcolor=\"0.5\",\n",
    "            linewidth=3, edgecolor=\".5\", facecolor=(0, 0, 0, 0),\n",
    "            ax=ax)\n",
    "\n",
    "# Add a horizontal line\n",
    "ax.hlines(y=0, xmin=-0.45, xmax=0.45, colors='black', linestyles='--',linewidth=0.7)\n",
    "ax.set_ylabel('Z statistic')\n",
    "ax.set_xlabel('EC')\n",
    "\n",
    "# Remove top and right spines\n",
    "sns.despine(top=True, right=True)\n",
    "\n",
    "# Modify the bottom and left spines\n",
    "ax.spines['left'].set_linewidth(1)\n",
    "ax.spines['bottom'].set_linewidth(1)\n",
    "\n",
    "# Set custom ticks for the x-axis and y-axis\n",
    "plt.xticks([-0.5, 0.5])\n",
    "#plt.yticks(np.arange(0, 0.25, 0.1))\n",
    "# Add tick lines to the bottom and left spines\n",
    "ax.tick_params(axis='x', which='both', bottom=True, top=False, direction='out')\n",
    "ax.tick_params(axis='y', which='both', left=True, right=False, direction='out')\n",
    "\n",
    "# Add asterisks on top of each bar\n",
    "vmean = np.mean(subs_mean_activity)\n",
    "ax.text(0, subs_mean_activity.mean()+0.07, p2sign(p_value),ha='center', va='bottom',weight='bold',size=15)\n",
    "#plt.savefig(\"/mnt/workdir/DCM/Result/paper/sf5/Game2-hexagon_diff_sub-all_roi-RSC-Yeo_mean.pdf\", dpi=300, bbox_inches='tight',pad_inches=0,transparent=True)\n",
    "plt.show()"
   ],
   "metadata": {
    "collapsed": false,
    "ExecuteTime": {
     "end_time": "2023-06-21T06:28:33.848836679Z",
     "start_time": "2023-06-21T06:28:33.776815062Z"
    }
   }
  },
  {
   "cell_type": "markdown",
   "source": [
    "## Plot ROI covairate effect"
   ],
   "metadata": {
    "collapsed": false
   }
  },
  {
   "cell_type": "code",
   "execution_count": 31,
   "outputs": [],
   "source": [
    "# specify subjects\n",
    "participants_tsv = r'/mnt/workdir/DCM/BIDS/participants.tsv'\n",
    "participants_data = pd.read_csv(participants_tsv, sep='\\t')\n",
    "participants_data =  participants_data.query(\"(game1_fmri>=0.5)\")\n",
    "subjects_id = participants_data['Participant_ID'].to_list()\n",
    "\n",
    "# set camp\n",
    "# cmap_template = r'/mnt/data/DCM/result_backup/2023.5.14/Nilearn/game1/value_spct/Setall/6fold/{}/zmap/value_zmap.nii.gz'\n",
    "cmap_template = r'/mnt/workdir/DCM/BIDS/derivatives/Nilearn/game1/hexModdistance_spct/Setall/6fold/' \\\n",
    "                r'{}/zmap/hexModdistance_zmap.nii.gz'\n",
    "# cmap_template = r'/mnt/data/DCM/result_backup/2023.5.14/Nilearn/game1/hexagon_spct/Setall/6fold/{}/zmap/hexagon_zmap.nii.gz'\n",
    "# cmap_template = r'/mnt/data/DCM/result_backup/2023.5.14/Nilearn/game1/cv_test_hexagon_spct/Setall/6fold/{}/zmap/alignPhi_even_zmap.nii.gz'\n",
    "# cmap_template = r'/mnt/data/DCM/result_backup/2023.5.14/Nilearn/game1/grid_rsa_corr_trials/Setall/6fold/{}/rsa/rsa_zscore_img_coarse_6fold.nii.gz'\n",
    "\n",
    "# load roi\n",
    "# roi1 = image.load_img(r'/mnt/workdir/DCM/Docs/Mask/hippocampus/rHC_MNI152NL.nii.gz')\n",
    "# roi2 = image.load_img(r'/mnt/workdir/DCM/Docs/Mask/hippocampus/lHC_MNI152NL.nii.gz')\n",
    "# roi = image.math_img('np.logical_or(img1,img2)', img1=roi1, img2=roi2)\n",
    "\n",
    "#roi  = image.load_img(r'/mnt/workdir/DCM/Docs/Mask/VMPFC/vmPFC_bin.nii.gz')\n",
    "#roi = image.load_img(r'/mnt/data/DCM/result_backup/2023.5.14/Nilearn/game1/hexagon_spct/lRSC_thr3.1_erosion.nii.gz')\n",
    "# roi1 = image.load_img(r'/mnt/data/DCM/tmp/aparc/mask/lh.isthmuscingulate.nii.gz')\n",
    "# roi2 = image.load_img(r'/mnt/data/DCM/tmp/aparc/mask/rh.isthmuscingulate.nii.gz')\n",
    "# roi = image.math_img('np.logical_or(img1,img2)', img1=roi1, img2=roi2)\n",
    "# roi1 = image.load_img(r'/mnt/data/DCM/tmp/aparc/mask/lh.posteriorcingulate.nii.gz')\n",
    "# roi2 = image.load_img(r'/mnt/data/DCM/tmp/aparc/mask/rh.posteriorcingulate.nii.gz')\n",
    "# roi = image.math_img('np.logical_or(img1,img2)', img1=roi1, img2=roi2)\n",
    "#roi = image.load_img(r'/mnt/data/DCM/result_backup/2023.3.24/Nilearn_smodel/game1/hexagon_spct/EC_thr3.1.nii.gz')\n",
    "# roi  = image.load_img(r'/mnt/workdir/DCM/Docs/Mask/EC/juelich_EC_MNI152NL_prob.nii.gz')\n",
    "# roi = image.binarize_img(roi,5)\n",
    "# roi = image.load_img(r'/mnt/workdir/DCM/Docs/Mask/dmPFC/dmPFC_closed_dilated_resampled.nii.gz')\n",
    "roi = image.load_img(r'/mnt/workdir/DCM/Docs/Mask/Park_Grid_ROI/mPFC_GP_roi.nii')\n",
    "\n",
    "# get activity in ROI\n",
    "subs_cmap_list = [cmap_template.format(sub_id) for sub_id in subjects_id]\n",
    "subs_mean_activity = np.mean(masking.apply_mask(subs_cmap_list, roi),axis=1)"
   ],
   "metadata": {
    "collapsed": false,
    "ExecuteTime": {
     "end_time": "2023-07-03T07:19:29.756607726Z",
     "start_time": "2023-07-03T07:19:15.912801186Z"
    }
   }
  },
  {
   "cell_type": "code",
   "execution_count": 37,
   "outputs": [
    {
     "name": "stdout",
     "output_type": "stream",
     "text": [
      "r 0.1177 p 0.0944\n"
     ]
    },
    {
     "data": {
      "text/plain": "<Figure size 288x432 with 1 Axes>",
      "image/png": "[encoded data removed]"
     },
     "metadata": {},
     "output_type": "display_data"
    }
   ],
   "source": [
    "# get covariate\n",
    "participants_data['beh_diff'] = participants_data['game2_test_acc'] - participants_data['game1_acc']\n",
    "\n",
    "covariate = 'Acc'\n",
    "# Setup variables based on covariate\n",
    "if covariate == 'Age':\n",
    "    color = '#e36570'\n",
    "    covary_variable = participants_data['Age'].to_list()\n",
    "    xlabel = 'Age'\n",
    "    ticks = [8, 12, 16, 20, 24]\n",
    "\n",
    "elif covariate == 'Acc':\n",
    "    color = '#7abac6'\n",
    "    covary_variable = participants_data['game1_acc'].to_list()\n",
    "    xlabel = 'Inference performance'\n",
    "    ticks = [0.4,0.6,0.8,1.0]\n",
    "else:\n",
    "    raise ValueError(\"Invalid covariate value\")\n",
    "\n",
    "# Standardize subs_mean_activity\n",
    "subs_mean_activity = (np.array(subs_mean_activity) - np.mean(subs_mean_activity)) / np.std(subs_mean_activity)\n",
    "\n",
    "# Initialize the plot\n",
    "fig, ax = plt.subplots(figsize=(4,6))\n",
    "sns.scatterplot(x=covary_variable, y=subs_mean_activity, color=color, s=20, alpha=1)\n",
    "sns.regplot(x=covary_variable, y=subs_mean_activity, color=color, order=1, scatter=False,line_kws={'linewidth': 4})\n",
    "\n",
    "# Setup labels and despine\n",
    "ax.set_xlabel(xlabel, fontsize=20)\n",
    "ax.set_ylabel('Z statistic', fontsize=20)\n",
    "sns.despine(top=True, right=True)\n",
    "ax.spines['left'].set_linewidth(1)\n",
    "ax.spines['bottom'].set_linewidth(1)\n",
    "\n",
    "# Set ticks\n",
    "plt.ylim([-3, 3])\n",
    "plt.yticks(size=15)\n",
    "plt.xticks(ticks, size=15)\n",
    "\n",
    "# Compute pearson correlation\n",
    "r, p = pearsonr(covary_variable, subs_mean_activity)\n",
    "print('r', round(r,4), 'p', round(p,4))\n",
    "\n",
    "# Add title based on significance level\n",
    "fig.subplots_adjust(top=0.92)\n",
    "title = p2sign(p)\n",
    "fig.suptitle(title, size=20, fontweight='bold')\n",
    "\n",
    "# Set tick parameters\n",
    "ax.tick_params(axis='x', which='both', bottom=True, top=False, direction='out')\n",
    "ax.tick_params(axis='y', which='both', left=True, right=False, direction='out')\n",
    "\n",
    "# Uncomment the lines below if you want to save the figure\n",
    "fig.tight_layout()\n",
    "savepath = '/mnt/workdir/DCM/Result/paper/figure3/Park-mPFC/HexModDistance_game1_ROI-Park-mPFC_{}.pdf'.format(covariate)\n",
    "plt.savefig(savepath, bbox_inches='tight', pad_inches=0, dpi=300, transparent=True)\n",
    "\n",
    "# Show the plot\n",
    "plt.show()"
   ],
   "metadata": {
    "collapsed": false,
    "ExecuteTime": {
     "end_time": "2023-07-03T07:20:45.193250381Z",
     "start_time": "2023-07-03T07:20:44.808391961Z"
    }
   }
  },
  {
   "cell_type": "markdown",
   "source": [
    "## Partial correlation"
   ],
   "metadata": {
    "collapsed": false
   }
  },
  {
   "cell_type": "code",
   "execution_count": 15,
   "outputs": [
    {
     "name": "stderr",
     "output_type": "stream",
     "text": [
      "/home/dell/Software/anaconda3/lib/python3.8/site-packages/nilearn/image/image.py:1041: UserWarning: Data array used to create a new image contains 64-bit ints. This is likely due to creating the array with numpy and passing `int` as the `dtype`. Many tools such as FSL and SPM cannot deal with int64 in Nifti images, so for compatibility the data has been converted to int32.\n",
      "  return new_img_like(niimg, result, niimg.affine)\n",
      "<ipython-input-15-d462c82d24db>:19: SettingWithCopyWarning: \n",
      "A value is trying to be set on a copy of a slice from a DataFrame.\n",
      "Try using .loc[row_indexer,col_indexer] = value instead\n",
      "\n",
      "See the caveats in the documentation: https://pandas.pydata.org/pandas-docs/stable/user_guide/indexing.html#returning-a-view-versus-a-copy\n",
      "  data['Consistency_effect'] = subs_mean_activity\n",
      "<ipython-input-15-d462c82d24db>:20: SettingWithCopyWarning: \n",
      "A value is trying to be set on a copy of a slice from a DataFrame.\n",
      "Try using .loc[row_indexer,col_indexer] = value instead\n",
      "\n",
      "See the caveats in the documentation: https://pandas.pydata.org/pandas-docs/stable/user_guide/indexing.html#returning-a-view-versus-a-copy\n",
      "  data['Inference_acc'] = data['game2_test_acc']\n"
     ]
    }
   ],
   "source": [
    "# specify subjects\n",
    "participants_tsv = r'/mnt/workdir/DCM/BIDS/participants.tsv'\n",
    "participants_data = pd.read_csv(participants_tsv, sep='\\t')\n",
    "data =  participants_data.query(\"game2_fmri>=0.5\")\n",
    "subjects_id = data['Participant_ID'].to_list()\n",
    "\n",
    "# set camp\n",
    "#cmap_template = r'/mnt/data/DCM/result_backup/2023.5.14/Nilearn/game2/cv_hexagon_spct/Setall/6fold/{}/zmap/alignPhi_zmap.nii.gz'\n",
    "cmap_template = r'/mnt/data/DCM/result_backup/2023.5.14/Nilearn/game1/hexagon_spct/Setall/6fold/{}/zmap/hexagon_zmap.nii.gz'\n",
    "\n",
    "# set roi\n",
    "roi = image.load_img(r'/mnt/workdir/DCM/Docs/Mask/EC/juelich_EC_MNI152NL_prob.nii.gz')\n",
    "roi = image.binarize_img(roi,5)\n",
    "#roi = image.load_img(r'/mnt/data/DCM/result_backup/2023.5.14/Nilearn/game1/hexagon_spct/EC_thr3.1.nii.gz')\n",
    "# extract mean activity\n",
    "subs_cmap_list = [cmap_template.format(sub_id) for sub_id in subjects_id]\n",
    "subs_mean_activity = np.mean(masking.apply_mask(subs_cmap_list, roi),axis=1)\n",
    "\n",
    "data['Consistency_effect'] = subs_mean_activity\n",
    "data['Inference_acc'] = data['game2_test_acc']"
   ],
   "metadata": {
    "collapsed": false,
    "ExecuteTime": {
     "end_time": "2023-06-27T02:28:03.892000957Z",
     "start_time": "2023-06-27T02:27:50.963502066Z"
    }
   }
  },
  {
   "cell_type": "code",
   "execution_count": 20,
   "outputs": [
    {
     "name": "stdout",
     "output_type": "stream",
     "text": [
      "                            OLS Regression Results                            \n",
      "==============================================================================\n",
      "Dep. Variable:          Inference_acc   R-squared:                       0.317\n",
      "Model:                            OLS   Adj. R-squared:                  0.310\n",
      "Method:                 Least Squares   F-statistic:                     44.14\n",
      "Date:                Tue, 27 Jun 2023   Prob (F-statistic):           1.81e-16\n",
      "Time:                        10:32:15   Log-Likelihood:                 130.64\n",
      "No. Observations:                 193   AIC:                            -255.3\n",
      "Df Residuals:                     190   BIC:                            -245.5\n",
      "Df Model:                           2                                         \n",
      "Covariance Type:            nonrobust                                         \n",
      "======================================================================================\n",
      "                         coef    std err          t      P>|t|      [0.025      0.975]\n",
      "--------------------------------------------------------------------------------------\n",
      "const                  0.5299      0.028     18.900      0.000       0.475       0.585\n",
      "Consistency_effect     0.0177      0.023      0.787      0.432      -0.027       0.062\n",
      "Age                    0.0157      0.002      9.384      0.000       0.012       0.019\n",
      "==============================================================================\n",
      "Omnibus:                        8.696   Durbin-Watson:                   1.632\n",
      "Prob(Omnibus):                  0.013   Jarque-Bera (JB):                7.966\n",
      "Skew:                          -0.433   Prob(JB):                       0.0186\n",
      "Kurtosis:                       2.509   Cond. No.                         53.3\n",
      "==============================================================================\n",
      "\n",
      "Notes:\n",
      "[1] Standard Errors assume that the covariance matrix of the errors is correctly specified.\n"
     ]
    },
    {
     "name": "stderr",
     "output_type": "stream",
     "text": [
      "<ipython-input-20-0d3d9caa22de>:47: UserWarning: Matplotlib is currently using module://ipykernel.pylab.backend_inline, which is a non-GUI backend, so cannot show the figure.\n",
      "  fig.show()\n"
     ]
    },
    {
     "data": {
      "text/plain": "<Figure size 288x432 with 1 Axes>",
      "image/png": "[encoded data removed]"
     },
     "metadata": {},
     "output_type": "display_data"
    }
   ],
   "source": [
    "#\n",
    "X = data[['Consistency_effect','Age']]\n",
    "Y = data['Inference_acc']\n",
    "\n",
    "X = sm.add_constant(X)\n",
    "model = sm.OLS(Y, X).fit()\n",
    "predictions = model.predict(X)\n",
    "model_summary = model.summary()\n",
    "print(model_summary)\n",
    "\n",
    "# Save the summary to a text file\n",
    "#with open('/mnt/workdir/DCM/Result/paper/figure4/game2-hexagon_consistency_glm_model_summary.txt', 'w') as f:\n",
    "#    f.write(model_summary.as_text())\n",
    "\n",
    "# Plot the partial correlation plot with age held constant\n",
    "fig = sm.graphics.plot_partregress(\"Inference_acc\", \"Consistency_effect\",[\"Age\"],data=data,obs_labels=False)\n",
    "\n",
    "fig.set_size_inches(4,6)\n",
    "sns.set_theme(style=\"white\")\n",
    "fig.tight_layout()\n",
    "\n",
    "# Get the Axes object\n",
    "ax = fig.get_axes()[0]\n",
    "# Hide the right and top spines\n",
    "ax.spines['right'].set_visible(False)\n",
    "ax.spines['top'].set_visible(False)\n",
    "# Add tick lines to the bottom and left spines\n",
    "ax.tick_params(axis='x', which='both', bottom=True, top=False, direction='out')\n",
    "ax.tick_params(axis='y', which='both', left=True, right=False, direction='out')\n",
    "\n",
    "# Set custom ticks for the x-axis and y-axis\n",
    "# plt.xticks([-2, -1, 0, 1, 2])\n",
    "# plt.yticks([-0.2, 0, 0.2])\n",
    "\n",
    "# Change color of scatter points and line to 'salmon'\n",
    "for line in ax.lines:\n",
    "    line.set_color('#e36570')\n",
    "    line.set_linewidth(5)\n",
    "for path in ax.collections:\n",
    "    path.set_edgecolor('#e36570')\n",
    "\n",
    "ax.set_xlabel(\"e(consistency_effect|Age)\")\n",
    "ax.set_ylabel(\"e(Inference_acc|Age)\")\n",
    "\n",
    "# Save the figure before calling fig.show()\n",
    "#fig.savefig('/mnt/workdir/DCM/Result/paper/figure4/game2-hexagon_consistency_partial_correlation_plot.pdf', dpi=300, bbox_inches='tight',pad_inches=0,transparent=True)\n",
    "fig.show()"
   ],
   "metadata": {
    "collapsed": false,
    "ExecuteTime": {
     "end_time": "2023-06-27T02:32:15.529900031Z",
     "start_time": "2023-06-27T02:32:15.330513724Z"
    }
   }
  },
  {
   "cell_type": "code",
   "execution_count": 197,
   "outputs": [
    {
     "data": {
      "text/plain": "<Figure size 432x288 with 1 Axes>",
      "image/png": "[encoded data removed]"
     },
     "metadata": {},
     "output_type": "display_data"
    },
    {
     "data": {
      "text/plain": "(0.14996218627753405, 0.03737960416515819)"
     },
     "execution_count": 197,
     "metadata": {},
     "output_type": "execute_result"
    }
   ],
   "source": [
    "# Fit regression model (using the natural log of one of the regressors)\n",
    "results = smf.ols('Inference_acc ~ Age', data=data).fit()\n",
    "results2 = smf.ols('Consistency_effect ~ Age', data=data).fit()\n",
    "# Create a new DataFrame with the residuals\n",
    "resid_data = pd.DataFrame({\n",
    "    'consistency_effect': data['Consistency_effect'],\n",
    "    'age_resid': results.resid_pearson,\n",
    "    'inference_accuracy_resid': results.resid\n",
    "})\n",
    "\n",
    "# Plot the residuals against one another\n",
    "sns.regplot(x='consistency_effect', y='inference_accuracy_resid', data=resid_data)\n",
    "plt.xlabel('Consistency Effect')\n",
    "plt.ylabel('e(Inference|Age)')\n",
    "plt.show()\n",
    "\n",
    "pearsonr(resid_data['consistency_effect'], resid_data['inference_accuracy_resid'])"
   ],
   "metadata": {
    "collapsed": false,
    "ExecuteTime": {
     "end_time": "2023-06-06T13:22:58.086288061Z",
     "start_time": "2023-06-06T13:22:57.772231326Z"
    }
   }
  },
  {
   "cell_type": "code",
   "execution_count": 170,
   "outputs": [
    {
     "data": {
      "text/plain": "           n         r         CI95%     p-val\npearson  193  0.149962  [0.01, 0.29]  0.037883",
      "text/html": "<div>\n<style scoped>\n    .dataframe tbody tr th:only-of-type {\n        vertical-align: middle;\n    }\n\n    .dataframe tbody tr th {\n        vertical-align: top;\n    }\n\n    .dataframe thead th {\n        text-align: right;\n    }\n</style>\n<table border=\"1\" class=\"dataframe\">\n  <thead>\n    <tr style=\"text-align: right;\">\n      <th></th>\n      <th>n</th>\n      <th>r</th>\n      <th>CI95%</th>\n      <th>p-val</th>\n    </tr>\n  </thead>\n  <tbody>\n    <tr>\n      <th>pearson</th>\n      <td>193</td>\n      <td>0.149962</td>\n      <td>[0.01, 0.29]</td>\n      <td>0.037883</td>\n    </tr>\n  </tbody>\n</table>\n</div>"
     },
     "execution_count": 170,
     "metadata": {},
     "output_type": "execute_result"
    }
   ],
   "source": [
    "import pingouin as pg\n",
    "pg.partial_corr(data,'Consistency_effect','Inference_acc',y_covar='Age',method='pearson')"
   ],
   "metadata": {
    "collapsed": false,
    "ExecuteTime": {
     "end_time": "2023-06-06T12:31:00.972902991Z",
     "start_time": "2023-06-06T12:31:00.819653417Z"
    }
   }
  },
  {
   "cell_type": "markdown",
   "source": [
    "## Plot brain activity with separate age stage"
   ],
   "metadata": {
    "collapsed": false
   }
  },
  {
   "cell_type": "code",
   "execution_count": null,
   "outputs": [],
   "source": [
    "# specify subjects\n",
    "participants_tsv = r'/mnt/workdir/DCM/BIDS/participants.tsv'\n",
    "participants_data = pd.read_csv(participants_tsv, sep='\\t')\n",
    "participants_data =  participants_data.query(\"game1_fmri>=0.5\")\n",
    "subjects_id = participants_data['Participant_ID'].to_list()\n",
    "\n",
    "# set camp\n",
    "cmap_template = r'/mnt/data/DCM/result_backup/2023.5.14/Nilearn/game1/grid_rsa_corr_trials/Setall/6fold/{}/rsa/rsa_ztransf_img_coarse_6fold.nii.gz'\n",
    "\n",
    "\n",
    "# set roi\n",
    "#roi  = image.load_img(r'/mnt/workdir/DCM/Docs/Mask/VMPFC/VMPFC_merge_MNI152NL.nii.gz')\n",
    "# roi1 = image.load_img(r'/mnt/workdir/DCM/Docs/Mask/hippocampus/lHC_MNI152NL.nii.gz')\n",
    "# roi2 = image.load_img(r'/mnt/workdir/DCM/Docs/Mask/hippocampus/rHC_MNI152NL.nii.gz')\n",
    "# roi = image.math_img('np.logical_or(img1,img2)', img1=roi1, img2=roi2)\n",
    "# roi1 = image.load_img(r'/mnt/data/DCM/tmp/aparc/mask/lh.parsorbitalis.nii.gz')\n",
    "# roi2 = image.load_img(r'/mnt/data/DCM/tmp/aparc/mask/rh.parsorbitalis.nii.gz')\n",
    "# roi = image.math_img('np.logical_or(img1,img2)', img1=roi1, img2=roi2)\n",
    "roi  = image.load_img(r'/mnt/workdir/DCM/Docs/Mask/EC/juelich_EC_MNI152NL_prob.nii.gz')\n",
    "roi = image.binarize_img(roi,5)\n",
    "# roi = image.load_img(r'/mnt/workdir/DCM/BIDS/derivatives/Nilearn/game1/hexagon_spct/EC_thr3.1.nii.gz')\n",
    "\n",
    "# get activity in ROI\n",
    "subs_cmap_list = [cmap_template.format(sub_id) for sub_id in subjects_id]\n",
    "subs_mean_activity = np.mean(masking.apply_mask(subs_cmap_list, roi),axis=1)"
   ],
   "metadata": {
    "collapsed": false
   }
  },
  {
   "cell_type": "code",
   "execution_count": 37,
   "outputs": [
    {
     "name": "stdout",
     "output_type": "stream",
     "text": [
      "The group difference bettwen children and adolescents t = -1.025, p = 0.307\n",
      "The group difference bettwen adolescents and adults t = -1.453, p = 0.149\n",
      "The group difference bettwen children and adults t = -2.772, p = 0.006\n"
     ]
    },
    {
     "data": {
      "text/plain": "Text(1, 0.6012360958294767, '**')"
     },
     "execution_count": 37,
     "metadata": {},
     "output_type": "execute_result"
    },
    {
     "data": {
      "text/plain": "<Figure size 360x360 with 1 Axes>",
      "image/png": "[encoded data removed]"
     },
     "metadata": {},
     "output_type": "display_data"
    }
   ],
   "source": [
    "# zscore\n",
    "subs_mean_activity = (np.array(subs_mean_activity) - np.mean(subs_mean_activity)) / np.std(subs_mean_activity)\n",
    "participants_data['ROI_activity'] = subs_mean_activity\n",
    "\n",
    "# Add age group categories\n",
    "age_bins = [7, 12, 17, 25]\n",
    "age_labels = ['children', 'adolescents', 'adults']\n",
    "participants_data['Age_group'] = pd.cut(participants_data['Age'], bins=age_bins, labels=age_labels)\n",
    "\n",
    "# Plotting\n",
    "g = sns.catplot(x='Age_group', y='ROI_activity', data=participants_data, kind='point', errorbar=\"se\",color='#7abac6')\n",
    "g.set_axis_labels(\"Age Group\", \"ROI_activity\")\n",
    "g.fig.set_size_inches(5, 5)\n",
    "\n",
    "# get the acivities of each age group\n",
    "children_data = participants_data.query(\"Age_group=='children'\")\n",
    "adolescents_data = participants_data.query(\"Age_group=='adolescents'\")\n",
    "adult_data = participants_data.query(\"Age_group=='adults'\")\n",
    "\n",
    "# compare activity size between each pair of the three age groups using t-tests\n",
    "height = participants_data['ROI_activity'].mean() + 0.5*participants_data['ROI_activity'].std()\n",
    "\n",
    "# compare children and adolescents\n",
    "t,p = ttest_ind(children_data['ROI_activity'], adolescents_data['ROI_activity'])\n",
    "print('The group difference bettwen children and adolescents t = {:.3f}, p = {:.3f}'.format(t, p))\n",
    "g.ax.plot([0, 0.9], [height, height], 'k-', lw=1)\n",
    "g.ax.text(0.5, height, p2sign(p), ha='center', va='bottom', color='k', fontsize=20)\n",
    "\n",
    "# compare children and adults\n",
    "t,p =  ttest_ind(adolescents_data['ROI_activity'], adult_data['ROI_activity'])\n",
    "print('The group difference bettwen adolescents and adults t = {:.3f}, p = {:.3f}'.format(t, p))\n",
    "g.ax.plot([1.1, 2], [height, height], 'k-', lw=1)\n",
    "g.ax.text(1.5, height, p2sign(p), ha='center', va='bottom', color='k', fontsize=20)\n",
    "\n",
    "# compare adolescents and adults\n",
    "t,p = ttest_ind(children_data['ROI_activity'], adult_data['ROI_activity'])\n",
    "print('The group difference bettwen children and adults t = {:.3f}, p = {:.3f}'.format(t, p))\n",
    "g.ax.plot([0, 2], [height+0.1, height+0.1], 'k-', lw=1)\n",
    "g.ax.text(1, height+0.1, p2sign(p), ha='center', va='bottom', color='k', fontsize=20)"
   ],
   "metadata": {
    "collapsed": false,
    "ExecuteTime": {
     "end_time": "2023-06-09T08:57:04.608948032Z",
     "start_time": "2023-06-09T08:57:04.365224585Z"
    }
   }
  },
  {
   "cell_type": "markdown",
   "source": [
    "## Test whether the difference between the correlation coefficients is significant"
   ],
   "metadata": {
    "collapsed": false
   }
  },
  {
   "cell_type": "code",
   "execution_count": null,
   "outputs": [],
   "source": [
    "import numpy as np\n",
    "from scipy.stats import t, norm\n",
    "from math import atanh, pow\n",
    "from numpy import tanh\n",
    "\n",
    "# set\n",
    "a1 = children_data['ROI_activity'].to_numpy()\n",
    "b1 = children_data['game1_acc'].to_numpy()\n",
    "\n",
    "a2 = adolescents_data['ROI_activity'].to_numpy()\n",
    "b2 = adolescents_data['game1_acc'].to_numpy()\n",
    "\n",
    "# get the correlation coefficients\n",
    "r1,p1 = pearsonr(a1,b1)\n",
    "r2,p2 = pearsonr(a2,b2)\n",
    "\n",
    "# Sample sizes for each correlation coefficient\n",
    "n1 = len(a1)\n",
    "n2 = len(a2)\n",
    "print(r1,p1)\n",
    "print(r2,p2)\n",
    "\n",
    "def rz_ci(r, n, conf_level = 0.95):\n",
    "    zr_se = pow(1/(n - 3), .5)\n",
    "    moe = norm.ppf(1 - (1 - conf_level)/float(2)) * zr_se\n",
    "    zu = atanh(r) + moe\n",
    "    zl = atanh(r) - moe\n",
    "    return tanh((zl, zu))\n",
    "\n",
    "def independent_corr(xy, ab, n, n2 = None, twotailed=True, conf_level=0.95, method='fisher'):\n",
    "    \"\"\"\n",
    "    Calculates the statistic significance between two independent correlation coefficients\n",
    "    @param xy: correlation coefficient between x and y\n",
    "    @param xz: correlation coefficient between a and b\n",
    "    @param n: number of elements in xy\n",
    "    @param n2: number of elements in ab (if distinct from n)\n",
    "    @param twotailed: whether to calculate a one or two tailed test, only works for 'fisher' method\n",
    "    @param conf_level: confidence level, only works for 'zou' method\n",
    "    @param method: defines the method uses, 'fisher' or 'zou'\n",
    "    @return: z and p-val\n",
    "    \"\"\"\n",
    "\n",
    "    if method == 'fisher':\n",
    "        xy_z = 0.5 * np.log((1 + xy)/(1 - xy))\n",
    "        ab_z = 0.5 * np.log((1 + ab)/(1 - ab))\n",
    "        if n2 is None:\n",
    "            n2 = n\n",
    "\n",
    "        se_diff_r = np.sqrt(1/(n - 3) + 1/(n2 - 3))\n",
    "        diff = xy_z - ab_z\n",
    "        z = abs(diff / se_diff_r)\n",
    "        p = (1 - norm.cdf(z))\n",
    "        if twotailed:\n",
    "            p *= 2\n",
    "\n",
    "        return z, p\n",
    "    elif method == 'zou':\n",
    "        L1 = rz_ci(xy, n, conf_level=conf_level)[0]\n",
    "        U1 = rz_ci(xy, n, conf_level=conf_level)[1]\n",
    "        L2 = rz_ci(ab, n2, conf_level=conf_level)[0]\n",
    "        U2 = rz_ci(ab, n2, conf_level=conf_level)[1]\n",
    "        lower = xy - ab - pow((pow((xy - L1), 2) + pow((U2 - ab), 2)), 0.5)\n",
    "        upper = xy - ab + pow((pow((U1 - xy), 2) + pow((ab - L2), 2)), 0.5)\n",
    "        return lower, upper\n",
    "    else:\n",
    "        raise Exception('Wrong method!')\n",
    "\n",
    "print(independent_corr(r1 , r2, n1, n2, method='fisher',twotailed=False))"
   ],
   "metadata": {
    "collapsed": false
   }
  },
  {
   "cell_type": "markdown",
   "source": [
    "# Mediation analysis"
   ],
   "metadata": {
    "collapsed": false
   }
  },
  {
   "cell_type": "markdown",
   "source": [
    "### load data(A)"
   ],
   "metadata": {
    "collapsed": false
   }
  },
  {
   "cell_type": "code",
   "execution_count": 20,
   "outputs": [
    {
     "name": "stdout",
     "output_type": "stream",
     "text": [
      "vmPFC is processing\n"
     ]
    },
    {
     "name": "stderr",
     "output_type": "stream",
     "text": [
      "<ipython-input-20-945e93245464>:53: SettingWithCopyWarning: \n",
      "A value is trying to be set on a copy of a slice from a DataFrame.\n",
      "Try using .loc[row_indexer,col_indexer] = value instead\n",
      "\n",
      "See the caveats in the documentation: https://pandas.pydata.org/pandas-docs/stable/user_guide/indexing.html#returning-a-view-versus-a-copy\n",
      "  data[troi_name] = subs_mean_activity\n"
     ]
    },
    {
     "name": "stdout",
     "output_type": "stream",
     "text": [
      "PCC is processing\n",
      "HC is processing\n",
      "dmPFC is processing\n",
      "203\n"
     ]
    }
   ],
   "source": [
    "# specify subjects\n",
    "participants_tsv = r'/mnt/workdir/DCM/BIDS/participants.tsv'\n",
    "participants_data = pd.read_csv(participants_tsv, sep='\\t')\n",
    "data =  participants_data.query(\"(game1_fmri>=0.5)\")\n",
    "subjects_id = data['Participant_ID'].to_list()\n",
    "\n",
    "# load ROI\n",
    "# # load HC\n",
    "rHC = image.load_img(r'/mnt/workdir/DCM/Docs/Mask/hippocampus/rHC_MNI152NL.nii.gz')\n",
    "lHC = image.load_img(r'/mnt/workdir/DCM/Docs/Mask/hippocampus/lHC_MNI152NL.nii.gz')\n",
    "hc = image.math_img('np.logical_or(img1,img2)', img1=rHC, img2=lHC)\n",
    "# load EC\n",
    "# ec = image.load_img(r'/mnt/workdir/DCM/Docs/Mask/EC/juelich_EC_MNI152NL_prob.nii.gz')\n",
    "# ec = image.binarize_img(ec,5)\n",
    "# # # # load OFC\n",
    "# rlOFC = image.load_img(r'/mnt/data/DCM/tmp/aparc/mask/lh.lateralorbitofrontal.nii.gz')\n",
    "# llOFC = image.load_img(r'/mnt/data/DCM/tmp/aparc/mask/rh.lateralorbitofrontal.nii.gz')\n",
    "# lofc = image.math_img('np.logical_or(img1,img2)', img1=rlOFC, img2=llOFC)\n",
    "# # # #\n",
    "# # rpOFC = image.load_img(r'/mnt/data/DCM/tmp/aparc/mask/lh.parsorbitalis.nii.gz')\n",
    "# # lpOFC = image.load_img(r'/mnt/data/DCM/tmp/aparc/mask/rh.parsorbitalis.nii.gz')\n",
    "# # ofc = image.math_img('np.logical_or(img1,img2)', img1=rpOFC, img2=lpOFC)\n",
    "# # # # # load vmPFC\n",
    "vmPFC  = image.load_img(r'/mnt/workdir/DCM/Docs/Mask/VMPFC/VMPFC_merge_MNI152NL.nii.gz')\n",
    "\n",
    "# load dmPFC\n",
    "dmPFC = image.load_img(r'/mnt/workdir/DCM/Docs/Mask/dmPFC/BN_dmPFC_middle.nii.gz')\n",
    "# # # # # load PCC\n",
    "rpcc = image.load_img(r'/mnt/workdir/DCM/Docs/Mask/aparc/mask/lh.posteriorcingulate.nii.gz')\n",
    "lpcc = image.load_img(r'/mnt/workdir/DCM/Docs/Mask/aparc/mask/rh.posteriorcingulate.nii.gz')\n",
    "pcc = image.math_img('np.logical_or(img1,img2)', img1=rpcc, img2=lpcc)\n",
    "# # put ROIs into a dict\n",
    "rois = {'vmPFC':vmPFC,'PCC':pcc,'HC':hc,'dmPFC':dmPFC}\n",
    "#rois = {'EC':ec}\n",
    "# # load isthmuscingulate\n",
    "# liscc = image.load_img(r'/mnt/data/DCM/tmp/aparc/mask/lh.isthmuscingulate.nii.gz')\n",
    "# riscc = image.load_img(r'/mnt/data/DCM/tmp/aparc/mask/rh.isthmuscingulate.nii.gz')\n",
    "# iscc = image.math_img('np.logical_or(img1,img2)', img1=roi1, img2=roi2)\n",
    "# rois = {'liscc':liscc,'riscc':riscc,'iscc':iscc}\n",
    "# set camp\n",
    "#cmap_template = r'/mnt/data/DCM/result_backup/2023.5.14/Nilearn/game2/distance_spct/Setall/6fold/{}/zmap/M2_corrxdistance_zmap.nii.gz'\n",
    "\n",
    "cmap_template = r'/mnt/data/DCM/result_backup/2023.5.14/Nilearn/game1/2distance_spct/Setall/6fold/{}/zmap/m2xeucd_zmap.nii.gz'\n",
    "\n",
    "# get each subject's activity in each ROI\n",
    "for troi_name,troi in rois.items():\n",
    "    print(troi_name,'is processing')\n",
    "    # get activity in ROI\n",
    "    subs_cmap_list = [cmap_template.format(sub_id) for sub_id in subjects_id]\n",
    "    subs_mean_activity = np.mean(masking.apply_mask(subs_cmap_list, troi),axis=1)\n",
    "    data[troi_name] = subs_mean_activity\n",
    "print(len(subs_mean_activity))"
   ],
   "metadata": {
    "collapsed": false,
    "ExecuteTime": {
     "end_time": "2023-06-04T04:22:49.810535328Z",
     "start_time": "2023-06-04T04:21:57.178290271Z"
    }
   }
  },
  {
   "cell_type": "markdown",
   "source": [
    "### load data(B)"
   ],
   "metadata": {
    "collapsed": false
   }
  },
  {
   "cell_type": "code",
   "execution_count": 65,
   "outputs": [
    {
     "name": "stderr",
     "output_type": "stream",
     "text": [
      "/home/dell/Software/anaconda3/lib/python3.8/site-packages/nilearn/image/image.py:1041: UserWarning: Data array used to create a new image contains 64-bit ints. This is likely due to creating the array with numpy and passing `int` as the `dtype`. Many tools such as FSL and SPM cannot deal with int64 in Nifti images, so for compatibility the data has been converted to int32.\n",
      "  return new_img_like(niimg, result, niimg.affine)\n",
      "<ipython-input-65-ab8db0a87fb7>:36: SettingWithCopyWarning: \n",
      "A value is trying to be set on a copy of a slice from a DataFrame.\n",
      "Try using .loc[row_indexer,col_indexer] = value instead\n",
      "\n",
      "See the caveats in the documentation: https://pandas.pydata.org/pandas-docs/stable/user_guide/indexing.html#returning-a-view-versus-a-copy\n",
      "  data['hexagon'] = np.mean(masking.apply_mask(sub_rsa_zmap, ec), axis=1)\n",
      "<ipython-input-65-ab8db0a87fb7>:37: SettingWithCopyWarning: \n",
      "A value is trying to be set on a copy of a slice from a DataFrame.\n",
      "Try using .loc[row_indexer,col_indexer] = value instead\n",
      "\n",
      "See the caveats in the documentation: https://pandas.pydata.org/pandas-docs/stable/user_guide/indexing.html#returning-a-view-versus-a-copy\n",
      "  data['distance'] = np.mean(masking.apply_mask(sub_distance_zmap, mpfc), axis=1)\n",
      "<ipython-input-65-ab8db0a87fb7>:38: SettingWithCopyWarning: \n",
      "A value is trying to be set on a copy of a slice from a DataFrame.\n",
      "Try using .loc[row_indexer,col_indexer] = value instead\n",
      "\n",
      "See the caveats in the documentation: https://pandas.pydata.org/pandas-docs/stable/user_guide/indexing.html#returning-a-view-versus-a-copy\n",
      "  data['value'] = np.mean(masking.apply_mask(sub_value_zmap,mpfc ), axis=1)\n",
      "<ipython-input-65-ab8db0a87fb7>:44: SettingWithCopyWarning: \n",
      "A value is trying to be set on a copy of a slice from a DataFrame.\n",
      "Try using .loc[row_indexer,col_indexer] = value instead\n",
      "\n",
      "See the caveats in the documentation: https://pandas.pydata.org/pandas-docs/stable/user_guide/indexing.html#returning-a-view-versus-a-copy\n",
      "  data[['hexagon', 'distance', 'Age', 'game1_acc', 'value']] = scaler.fit_transform(data[['hexagon', 'distance','Age','game1_acc', 'value']])\n",
      "/home/dell/Software/anaconda3/lib/python3.8/site-packages/pandas/core/indexing.py:1738: SettingWithCopyWarning: \n",
      "A value is trying to be set on a copy of a slice from a DataFrame.\n",
      "Try using .loc[row_indexer,col_indexer] = value instead\n",
      "\n",
      "See the caveats in the documentation: https://pandas.pydata.org/pandas-docs/stable/user_guide/indexing.html#returning-a-view-versus-a-copy\n",
      "  self._setitem_single_column(loc, value[:, i].tolist(), pi)\n"
     ]
    }
   ],
   "source": [
    "# check whether the manhattan distance can predict/meidate value effect and inference accuracy\n",
    "\n",
    "# specify subjects\n",
    "participants_tsv = r'/mnt/workdir/DCM/BIDS/participants.tsv'\n",
    "participants_data = pd.read_csv(participants_tsv, sep='\\t')\n",
    "data = participants_data.query('game1_fmri>=0.5')  # look out\n",
    "subjects = data['Participant_ID'].to_list()\n",
    "\n",
    "# set cmp template\n",
    "rsa_zmap = r'/mnt/data/DCM/result_backup/2023.5.14/Nilearn/game1/grid_rsa_corr_trials/Setall/6fold/' \\\n",
    "           r'{}/rsa/rsa_zscore_img_coarse_6fold.nii.gz'\n",
    "# rsa_zmap = r'/mnt/data/DCM/result_backup/2023.5.14/Nilearn/game2/cv_hexagon_spct/Setall/6fold/' \\\n",
    "#            r'{}/zmap/alignPhi_zmap.nii.gz'\n",
    "# distance_zmap = r'/mnt/data/DCM/result_backup/2023.5.14/Nilearn/game1/distance_spct/Setall/6fold/' \\\n",
    "#                 r'{}/zmap/M2_corrxdistance_zmap.nii.gz'\n",
    "# value_zmap = r'/mnt/data/DCM/result_backup/2023.5.14/Nilearn/game1/value_spct/Setall/6fold/{}/zmap/value_zmap.nii.gz'\n",
    "distance_zmap = r'/mnt/data/DCM/result_backup/2023.5.14/Nilearn/game1/distance_spct/Setall/6fold/{}/zmap/distance_zmap.nii.gz'\n",
    "# distance_zmap = r'/mnt/workdir/DCM/BIDS/derivatives/Nilearn/game1/hexModdistance_spct/Setall/6fold/{}/zmap/hexModdistance_zmap.nii.gz'\n",
    "# #\n",
    "value_zmap = r'/mnt/data/DCM/result_backup/2023.5.14/Nilearn/game1/value_spct/Setall/6fold/{}/zmap/value_zmap.nii.gz'\n",
    "\n",
    "sub_rsa_zmap = [rsa_zmap.format(sub) for sub in subjects]\n",
    "sub_distance_zmap = [distance_zmap.format(sub) for sub in subjects]\n",
    "sub_value_zmap = [value_zmap.format(sub) for sub in subjects]\n",
    "\n",
    "ec = image.load_img(r'/mnt/workdir/DCM/Docs/Mask/EC/juelich_EC_MNI152NL_prob.nii.gz')\n",
    "ec = image.binarize_img(ec,5)\n",
    "mpfc = image.load_img(r'/mnt/workdir/DCM/Docs/Mask/Park_Grid_ROI/mPFC_GP_roi.nii')\n",
    "#mpfc = image.load_img(r'/mnt/workdir/DCM/Docs/Mask/mPFC/BiMPFC_NeuroSynth_MNINL.nii.gz')\n",
    "#dmpfc = image.load_img(r'/mnt/workdir/DCM/Docs/Mask/dmPFC/dmPFC_closed_dilated_resampled.nii.gz')\n",
    "#dmpfc = image.load_img(r'/mnt/workdir/DCM/Docs/Mask/dmPFC/DMN_and_EMO_or_SOC__dmPFC_MNINL.nii.gz')\n",
    "vmpfc_bin = image.load_img(r'/mnt/workdir/DCM/Docs/Mask/VMPFC/vmPFC_bin.nii.gz')\n",
    "\n",
    "#dmpfc = image.load_img(r'/mnt/workdir/DCM/Docs/Mask/dmPFC/dmPFC_closed_dilated_resampled.nii.gz')\n",
    "# extract mean activity of ROI for each subjects\n",
    "data['hexagon'] = np.mean(masking.apply_mask(sub_rsa_zmap, ec), axis=1)\n",
    "data['distance'] = np.mean(masking.apply_mask(sub_distance_zmap, mpfc), axis=1)\n",
    "data['value'] = np.mean(masking.apply_mask(sub_value_zmap,mpfc ), axis=1)\n",
    "\n",
    "# Instantiate the StandardScaler\n",
    "scaler = StandardScaler()\n",
    "\n",
    "# Fit the scaler to the columns and transform\n",
    "data[['hexagon', 'distance', 'Age', 'game1_acc', 'value']] = scaler.fit_transform(data[['hexagon', 'distance','Age','game1_acc', 'value']])\n",
    "#data[['Age','game1_acc','distance']] = scaler.fit_transform(data[['Age','game1_acc','distance']])"
   ],
   "metadata": {
    "collapsed": false,
    "ExecuteTime": {
     "end_time": "2023-07-04T10:26:49.586468258Z",
     "start_time": "2023-07-04T10:26:10.115230575Z"
    }
   }
  },
  {
   "cell_type": "markdown",
   "source": [
    "### Multiple regression"
   ],
   "metadata": {
    "collapsed": false
   }
  },
  {
   "cell_type": "code",
   "execution_count": 149,
   "outputs": [
    {
     "name": "stdout",
     "output_type": "stream",
     "text": [
      "                            OLS Regression Results                            \n",
      "==============================================================================\n",
      "Dep. Variable:              game1_acc   R-squared:                       0.107\n",
      "Model:                            OLS   Adj. R-squared:                  0.098\n",
      "Method:                 Least Squares   F-statistic:                     12.01\n",
      "Date:                Fri, 30 Jun 2023   Prob (F-statistic):           1.18e-05\n",
      "Time:                        18:10:25   Log-Likelihood:                -276.53\n",
      "No. Observations:                 203   AIC:                             559.1\n",
      "Df Residuals:                     200   BIC:                             569.0\n",
      "Df Model:                           2                                         \n",
      "Covariance Type:            nonrobust                                         \n",
      "==============================================================================\n",
      "                 coef    std err          t      P>|t|      [0.025      0.975]\n",
      "------------------------------------------------------------------------------\n",
      "const      -5.482e-16      0.067   -8.2e-15      1.000      -0.132       0.132\n",
      "hexagon        0.3029      0.067      4.509      0.000       0.170       0.435\n",
      "distance       0.0972      0.067      1.446      0.150      -0.035       0.230\n",
      "==============================================================================\n",
      "Omnibus:                        7.961   Durbin-Watson:                   1.895\n",
      "Prob(Omnibus):                  0.019   Jarque-Bera (JB):                6.957\n",
      "Skew:                          -0.377   Prob(JB):                       0.0309\n",
      "Kurtosis:                       2.497   Cond. No.                         1.11\n",
      "==============================================================================\n",
      "\n",
      "Notes:\n",
      "[1] Standard Errors assume that the covariance matrix of the errors is correctly specified.\n"
     ]
    },
    {
     "name": "stderr",
     "output_type": "stream",
     "text": [
      "<ipython-input-149-9803be257b39>:2: SettingWithCopyWarning: \n",
      "A value is trying to be set on a copy of a slice from a DataFrame.\n",
      "Try using .loc[row_indexer,col_indexer] = value instead\n",
      "\n",
      "See the caveats in the documentation: https://pandas.pydata.org/pandas-docs/stable/user_guide/indexing.html#returning-a-view-versus-a-copy\n",
      "  data['beh_diff'] = data['game2_test_acc'] - data['game1_acc']\n"
     ]
    }
   ],
   "source": [
    "# using GLM to predict inference accuracy from brain activity and age\n",
    "data['beh_diff'] = data['game2_test_acc'] - data['game1_acc']\n",
    "X = data[['hexagon','distance']]\n",
    "Y = data['game1_acc']\n",
    "\n",
    "X = sm.add_constant(X)\n",
    "model = sm.OLS(Y, X).fit()\n",
    "predictions = model.predict(X)\n",
    "model_summary = model.summary()\n",
    "print(model_summary)\n",
    "\n",
    "# 将摘要保存到文件\n",
    "# summary_file = '/mnt/workdir/DCM/Result/paper/figure3/Value/Value_mPFC-meidaiton-glm1_summary.txt'\n",
    "# with open(summary_file, 'w') as f:\n",
    "#     f.write(model_summary.as_text())\n",
    "#     f.close()"
   ],
   "metadata": {
    "collapsed": false,
    "ExecuteTime": {
     "end_time": "2023-06-30T10:10:25.063223414Z",
     "start_time": "2023-06-30T10:10:25.019899372Z"
    }
   }
  },
  {
   "cell_type": "markdown",
   "source": [
    "### Mediation analysis(A)"
   ],
   "metadata": {
    "collapsed": false
   }
  },
  {
   "cell_type": "code",
   "execution_count": 67,
   "outputs": [],
   "source": [
    "import pingouin as pg\n",
    "from sklearn.preprocessing import StandardScaler\n",
    "\n",
    "iv = 'Age'\n",
    "m = ['value']\n",
    "dv = 'game1_acc'\n",
    "# Instantiate the StandardScaler\n",
    "scaler = StandardScaler()\n",
    "\n",
    "# Fit the scaler to the columns and transform\n",
    "#data[['distance','Age','game2_test_acc']] = scaler.fit_transform(data[['distance','Age','game2_test_acc']])\n",
    "\n",
    "# Mediation analysis\n",
    "mediation_results,indirect_beta_sample = pg.mediation_analysis(data=data, x=iv, m=m, y=dv, seed=42,n_boot=10000,return_dist=True)\n",
    "\n",
    "# save results\n",
    "mediation_results.to_csv(r'/mnt/workdir/DCM/Result/paper/figure3/value_mPFC_mediation.csv',index=False)\n",
    "np.save(r'/mnt/workdir/DCM/Result/paper/figure3/Indirect_beta_sample_value_mPFC.npy',indirect_beta_sample)"
   ],
   "metadata": {
    "collapsed": false,
    "ExecuteTime": {
     "end_time": "2023-07-04T10:40:56.716623225Z",
     "start_time": "2023-07-04T10:40:53.946109467Z"
    }
   }
  },
  {
   "cell_type": "code",
   "execution_count": 68,
   "outputs": [
    {
     "data": {
      "text/plain": "        path   coef     se   pval  CI[2.5%]  CI[97.5%]  sig\n0  value ~ X  0.060  0.070  0.398    -0.079      0.198   No\n1  Y ~ value  0.035  0.070  0.618    -0.104      0.174   No\n2      Total  0.556  0.059  0.000     0.440      0.671  Yes\n3     Direct  0.556  0.059  0.000     0.439      0.672  Yes\n4   Indirect  0.000  0.005  0.978    -0.010      0.013   No",
      "text/html": "<div>\n<style scoped>\n    .dataframe tbody tr th:only-of-type {\n        vertical-align: middle;\n    }\n\n    .dataframe tbody tr th {\n        vertical-align: top;\n    }\n\n    .dataframe thead th {\n        text-align: right;\n    }\n</style>\n<table border=\"1\" class=\"dataframe\">\n  <thead>\n    <tr style=\"text-align: right;\">\n      <th></th>\n      <th>path</th>\n      <th>coef</th>\n      <th>se</th>\n      <th>pval</th>\n      <th>CI[2.5%]</th>\n      <th>CI[97.5%]</th>\n      <th>sig</th>\n    </tr>\n  </thead>\n  <tbody>\n    <tr>\n      <th>0</th>\n      <td>value ~ X</td>\n      <td>0.060</td>\n      <td>0.070</td>\n      <td>0.398</td>\n      <td>-0.079</td>\n      <td>0.198</td>\n      <td>No</td>\n    </tr>\n    <tr>\n      <th>1</th>\n      <td>Y ~ value</td>\n      <td>0.035</td>\n      <td>0.070</td>\n      <td>0.618</td>\n      <td>-0.104</td>\n      <td>0.174</td>\n      <td>No</td>\n    </tr>\n    <tr>\n      <th>2</th>\n      <td>Total</td>\n      <td>0.556</td>\n      <td>0.059</td>\n      <td>0.000</td>\n      <td>0.440</td>\n      <td>0.671</td>\n      <td>Yes</td>\n    </tr>\n    <tr>\n      <th>3</th>\n      <td>Direct</td>\n      <td>0.556</td>\n      <td>0.059</td>\n      <td>0.000</td>\n      <td>0.439</td>\n      <td>0.672</td>\n      <td>Yes</td>\n    </tr>\n    <tr>\n      <th>4</th>\n      <td>Indirect</td>\n      <td>0.000</td>\n      <td>0.005</td>\n      <td>0.978</td>\n      <td>-0.010</td>\n      <td>0.013</td>\n      <td>No</td>\n    </tr>\n  </tbody>\n</table>\n</div>"
     },
     "execution_count": 68,
     "metadata": {},
     "output_type": "execute_result"
    }
   ],
   "source": [
    "mediation_results.round(3)"
   ],
   "metadata": {
    "collapsed": false,
    "ExecuteTime": {
     "end_time": "2023-07-04T10:41:05.468344165Z",
     "start_time": "2023-07-04T10:41:05.421489527Z"
    }
   }
  },
  {
   "cell_type": "markdown",
   "source": [
    "### Mediation analysis(B)"
   ],
   "metadata": {
    "collapsed": false
   }
  },
  {
   "cell_type": "code",
   "execution_count": 17,
   "outputs": [
    {
     "name": "stdout",
     "output_type": "stream",
     "text": [
      "Bootstrapped 95% confidence interval for the indirect effect: (0.00341708, 0.07773135)\n"
     ]
    }
   ],
   "source": [
    "def bootstrap_indirect_effect(data, iv, m, dv, n_bootstraps=5000, ci=0.95):\n",
    "    indirect_effects = []\n",
    "    for _ in range(n_bootstraps):\n",
    "        bootstrap_data = data.sample(frac=1, replace=True)\n",
    "\n",
    "        path_a = smf.ols(f\"{m} ~ {iv}\", data=bootstrap_data).fit()\n",
    "        path_b = smf.ols(f\"{dv} ~ {m} + {iv}\", data=bootstrap_data).fit()\n",
    "\n",
    "        indirect_effect = path_a.params[1] * path_b.params[1]\n",
    "        indirect_effects.append(indirect_effect)\n",
    "\n",
    "    lower = np.percentile(indirect_effects, (1 - ci) / 2 * 100)\n",
    "    upper = np.percentile(indirect_effects, (1 + ci) / 2 * 100)\n",
    "\n",
    "    return lower, upper,indirect_effects\n",
    "\n",
    "# Replace 'IV', 'M', and 'DV' with the actual variable names in your dataset\n",
    "iv = 'Age'\n",
    "m = 'hexagon'\n",
    "dv = 'game1_acc'\n",
    "\n",
    "# Path a: IV -> M\n",
    "path_a = smf.ols(f\"{m} ~ {iv}\", data=data).fit()\n",
    "\n",
    "# Path b: M -> DV, controlling for IV\n",
    "path_b = smf.ols(f\"{dv} ~ {m} + {iv}\", data=data).fit()\n",
    "lower, upper,indirect_effects = bootstrap_indirect_effect(data, iv, m, dv,5000)\n",
    "print(f\"Bootstrapped {int(0.95 * 100)}% confidence interval for the indirect effect: ({lower:.8f}, {upper:.8f})\")"
   ],
   "metadata": {
    "collapsed": false,
    "ExecuteTime": {
     "end_time": "2023-07-03T09:44:04.901835467Z",
     "start_time": "2023-07-03T09:43:28.008522681Z"
    }
   }
  },
  {
   "cell_type": "markdown",
   "source": [
    "### Plot bootstrap distribution of indirect effect"
   ],
   "metadata": {
    "collapsed": false
   }
  },
  {
   "cell_type": "code",
   "execution_count": 18,
   "outputs": [
    {
     "name": "stdout",
     "output_type": "stream",
     "text": [
      "mean: 0.03623399526694947\n",
      "standard error: 0.019392967203741732\n"
     ]
    },
    {
     "data": {
      "text/plain": "<Figure size 720x72 with 1 Axes>",
      "image/png": "[encoded data removed]"
     },
     "metadata": {
      "needs_background": "light"
     },
     "output_type": "display_data"
    }
   ],
   "source": [
    "# Calculate lower and upper bounds\n",
    "ci=0.95\n",
    "lower = np.percentile(indirect_effects, (1 - ci) / 2 * 100)\n",
    "upper = np.percentile(indirect_effects, (1 + ci) / 2 * 100)\n",
    "print('mean:',np.mean(indirect_effects))\n",
    "print('standard error:',np.std(indirect_effects))\n",
    "# Plot histogram\n",
    "fig, ax = plt.subplots(figsize=(10,1))\n",
    "n, bins, patches = ax.hist(indirect_effects, color='gray',bins=50)\n",
    "\n",
    "# Find the bin with the highest frequency and its corresponding height\n",
    "max_height = max(n)\n",
    "max_height_index = np.where(n == max_height)[0][0]\n",
    "max_height_bin = bins[max_height_index]\n",
    "\n",
    "# Add vertical line at zero with height equal to the maximum frequency\n",
    "ax.axvline(x=0, ymin=0, ymax=max_height, color='black', linestyle='--')\n",
    "\n",
    "# Color the histogram between the lower and upper bounds blue\n",
    "for i in range(len(patches)):\n",
    "    if lower <= bins[i] < upper:\n",
    "        patches[i].set_fc('lightsteelblue')\n",
    "\n",
    "# Remove top and right spines\n",
    "fig.suptitle(f\"Bootstrapped {int(ci * 100)}% confidence interval: ({lower:.6f}, {upper:.6f})\",size=14)\n",
    "ax.spines['top'].set_visible(False)\n",
    "ax.spines['right'].set_visible(False)\n",
    "# savepath = r'/mnt/workdir/DCM/Result/paper/figure3/Value_vmpfc-meidaiton-age2inference.pdf'\n",
    "# plt.savefig(savepath,bbox_inches='tight',pad_inches=0,dpi=300,transparent=True)"
   ],
   "metadata": {
    "collapsed": false,
    "ExecuteTime": {
     "end_time": "2023-07-03T09:44:05.175717894Z",
     "start_time": "2023-07-03T09:44:04.926874088Z"
    }
   }
  }
 ],
 "metadata": {
  "kernelspec": {
   "display_name": "Python 3",
   "language": "python",
   "name": "python3"
  },
  "language_info": {
   "codemirror_mode": {
    "name": "ipython",
    "version": 2
   },
   "file_extension": ".py",
   "mimetype": "text/x-python",
   "name": "python",
   "nbconvert_exporter": "python",
   "pygments_lexer": "ipython2",
   "version": "2.7.6"
  }
 },
 "nbformat": 4,
 "nbformat_minor": 0
}
